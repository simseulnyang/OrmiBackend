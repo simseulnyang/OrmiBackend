{
  "nbformat": 4,
  "nbformat_minor": 0,
  "metadata": {
    "colab": {
      "provenance": []
    },
    "kernelspec": {
      "name": "python3",
      "display_name": "Python 3"
    },
    "language_info": {
      "name": "python"
    }
  },
  "cells": [
    {
      "cell_type": "markdown",
      "source": [
        "# colab 사용법"
      ],
      "metadata": {
        "id": "x__-0LQ_uq4L"
      }
    },
    {
      "cell_type": "markdown",
      "source": [
        "* MAC을 사용하는 경우 Ctrl 대신 Command입니다. Alt 대신 Option입니다.\n",
        "1. **실행 단축키**\n",
        "    1. (필수) `Ctrl(Command)` + `Enter` : 해당 셀 실행\n",
        "    2. `Shift` + `Enter` : 해당 셀 실행 + 커서를 다음 셀로 이동\n",
        "    3. (필수) `Alt(Option)` + `Enter` : 해당 셀 실행 + 코드 불록 하단 추가\n",
        "2. **셀 삽입/삭제 관련 단축키**\n",
        "    1. `Ctrl(Command)` + M A : 코드 셀 위에 삽입\n",
        "    2. `Ctrl(Command)` + M B : 코드 셀 아래 삽입\n",
        "    3. `Ctrl(Command)` + M D : 셀 지우기\n",
        "    4. `Ctrl(Command)` + M Y : 코드 셀로 변경\n",
        "    5. `Ctrl(Command)` + M M : 마크다운 셀로 변경\n",
        "    6. `Ctrl(Command)` + M Z : 실행 취소\n",
        "3. 수정 관련된 단축키\n",
        "    1. `Ctrl(Command)` + `Alt(Option)` + 화살표위아래 : 동시 수정\n",
        "    2. (자주) `Ctrl(Command)` + D : 같은 단어 찾아 동시 수정\n",
        "    3. `Ctrl(Command)` + `Shift` + L : 동일 단어를 전체로 찾아 동시 수정\n",
        "    4. `Alt(Option)` + `Shift` + 화살표위아래 : 해당내용을 위나 아래 복사해서 붙여넣기\n",
        "    5. `Alt(Option)` + 화살표위아래 : 해당 내용을 위나 아래로 보내기\n",
        "    6. (자주) `Ctrl(Command)` + `Alt(Option)` + 화살표위아래 : 위아래 동시 수정\n",
        "    7. (자주) Home, End : 문장의 양 끝\n",
        "    8. (필수) `Ctrl` + `/` : 주석\n",
        "    9. (필수) `Shift` + `Del` : 한 줄 지우기\n",
        "    10. (필수) `Tab`, `Ctrl` + `]` : 들여쓰기\n",
        "    11. (필수) `Shift` + `Tab`, `Ctrl` + `[` : 내어쓰기\n",
        "4. 단축키 보기 및 설정\n",
        "    1. `Ctrl(Command)` + M H : 단축키 모음"
      ],
      "metadata": {
        "id": "FTQTXMTtveWG"
      }
    },
    {
      "cell_type": "markdown",
      "source": [
        "# 마크다운"
      ],
      "metadata": {
        "id": "qkYzsmBLx6XL"
      }
    },
    {
      "cell_type": "markdown",
      "source": [
        "* 필수 마크다운\n",
        "\n",
        "    ```\n",
        "    # hello\n",
        "    ## hello\n",
        "    ### hello\n",
        "\n",
        "    1. hello\n",
        "    2. hello\n",
        "    3. hello\n",
        "\n",
        "    * hello\n",
        "    * hello\n",
        "    * hello\n",
        "    ```\n",
        "\n",
        "* 선택 마크다운(필수가 아니니 부담가지지 마세요.)\n",
        "\n",
        "    ```\n",
        "    # h1\n",
        "    ## h2\n",
        "    ### h3\n",
        "    #### h4\n",
        "    ##### h5\n",
        "    ###### h6\n",
        "\n",
        "    ---\n",
        "\n",
        "    1. hello\n",
        "    2. hello\n",
        "    3. hello\n",
        "\n",
        "    * hello\n",
        "    * hello\n",
        "    * hello\n",
        "\n",
        "    - hello\n",
        "    - hello\n",
        "    - hello\n",
        "\n",
        "    __굵게__\n",
        "    **굵게**\n",
        "    _기울여 쓰기_\n",
        "    *기울여 쓰기*\n",
        "    ~취소선~\n",
        "    ~~취소선~~\n",
        "\n",
        "    > 인용문 작성하기\n",
        "    `인라인 코드는 이렇게 작성해요.`\n",
        "\n",
        "    [인라인 링크](https://velog.io/)\n",
        "\n",
        "    ![이미지 설명](이미지 링크)\n",
        "    \n",
        "    * table은 직접 만들지 마시고 https://www.tablesgenerator.com/markdown_tables 와 같은 서비스를 이용하세요.\n",
        "    \n",
        "    | 1 | 2     | 3 | 4 | 5     |\n",
        "    |---|-------|---|---|-------|\n",
        "    | 1 | hello | 3 | 4 | world |\n",
        "\n",
        "    * [ ] hello\n",
        "    * [X] hello\n",
        "    ```\n"
      ],
      "metadata": {
        "id": "CJgTFSb0yDS0"
      }
    },
    {
      "cell_type": "markdown",
      "source": [
        "# Python"
      ],
      "metadata": {
        "id": "tzaJO6Oh4BA1"
      }
    },
    {
      "cell_type": "code",
      "source": [
        "#행 단위 주석입니다.\n",
        "\n",
        "\"\"\"\n",
        "큰 따옴표로 세번 묶거나\n",
        "작은따옴표로 세번 묶으면\n",
        "열단위 주석이 됩니다.\n",
        "\"\"\"\n",
        "\n",
        "'''\n",
        "큰 따옴표로 세번 묶거나\n",
        "작은따옴표로 세번 묶으면\n",
        "열단위 주석이 됩니다.\n",
        "'''"
      ],
      "metadata": {
        "colab": {
          "base_uri": "https://localhost:8080/",
          "height": 35
        },
        "id": "EiWJQm-Xx0WC",
        "outputId": "e6ef8ce7-700b-490f-f6f2-c69114322198"
      },
      "execution_count": null,
      "outputs": [
        {
          "output_type": "execute_result",
          "data": {
            "text/plain": [
              "'\\n큰 따옴표로 세번 묶거나\\n작은따옴표로 세번 묶으면\\n열단위 주석이 됩니다.\\n'"
            ],
            "application/vnd.google.colaboratory.intrinsic+json": {
              "type": "string"
            }
          },
          "metadata": {},
          "execution_count": 4
        }
      ]
    },
    {
      "cell_type": "code",
      "source": [
        "# 아래와 같이 열단위 주석으로 text를 넣을 수도 있습니다.\n",
        "data = '''\n",
        "큰 따옴표로 세번 묶거나\n",
        "작은따옴표로 세번 묶으면\n",
        "열단위 주석이 됩니다.\n",
        "'''\n",
        "\n",
        "data"
      ],
      "metadata": {
        "id": "O5CvQs-w5oT2"
      },
      "execution_count": null,
      "outputs": []
    },
    {
      "cell_type": "markdown",
      "source": [
        "* Code convention python\n",
        "* https://google.github.io/styleguide/\n",
        "* https://google.github.io/styleguide/pyguide.html"
      ],
      "metadata": {
        "id": "cdB7jRxV47IK"
      }
    },
    {
      "cell_type": "code",
      "source": [
        "def connect_to_next_port(self, minimum: int) -> int:\n",
        "    \"\"\"Connects to the next available port.\n",
        "\n",
        "    Args:\n",
        "      minimum: A port value greater or equal to 1024.\n",
        "\n",
        "    Returns:\n",
        "      The new minimum port.\n",
        "\n",
        "    Raises:\n",
        "      ConnectionError: If no available port is found.\n",
        "    \"\"\"\n",
        "    if minimum < 1024:\n",
        "        # Note that this raising of ValueError is not mentioned in the doc\n",
        "        # string's \"Raises:\" section because it is not appropriate to\n",
        "        # guarantee this specific behavioral reaction to API misuse.\n",
        "        raise ValueError(f'Min. port must be at least 1024, not {minimum}.')\n",
        "    port = self._find_next_open_port(minimum)\n",
        "    if port is None:\n",
        "        raise ConnectionError(\n",
        "            f'Could not connect to service on port {minimum} or higher.')\n",
        "    assert port >= minimum, (\n",
        "        f'Unexpected port {port} when minimum was {minimum}.')\n",
        "    return port"
      ],
      "metadata": {
        "id": "6Sw9kDCJ5tWh"
      },
      "execution_count": null,
      "outputs": []
    },
    {
      "cell_type": "code",
      "source": [
        "connect_to_next_port"
      ],
      "metadata": {
        "id": "gDGpIxHE55hG"
      },
      "execution_count": null,
      "outputs": []
    },
    {
      "cell_type": "code",
      "source": [
        "# 띄어쓰기 4칸 (tab(스페이스 4칸과 다릅니다!), 6칸, 7칸 다 작동합니다.)"
      ],
      "metadata": {
        "id": "y6wQmaW46WJp"
      },
      "execution_count": null,
      "outputs": []
    },
    {
      "cell_type": "code",
      "source": [
        "# 아래와 같이 탭과 띄어쓰기 4번을 혼용하시면 error가 납니다.\n",
        "for i in range(10):\n",
        "    print(i)\n",
        "\tprint('큰 따옴표로 세번 묶거나')"
      ],
      "metadata": {
        "id": "ejRqHMOO7G37"
      },
      "execution_count": null,
      "outputs": []
    },
    {
      "cell_type": "code",
      "source": [
        "a = 10     #int, 정수형\n",
        "b = 10.1   #float, 실수\n",
        "c = -1\n",
        "d = True   #bool, 논리형(부울형, 참거짓형)\n",
        "e = 'good'\n",
        "f = '10'   #str, 문자열\n",
        "g = 'kim'\n",
        "h = 'honggildong'\n",
        "i = 'example'\n",
        "j = 10 + 2j #complex, 복소수\n",
        "k = 0b110   #int, 2진법 \n",
        "l = 0o56    #int, 8진법\n",
        "m = 0xAC    #int, 16진법\n",
        "\n",
        "##########\n",
        "def hello(x):\n",
        "    return x**2\n",
        "\n",
        "class A: # 자동차 공장\n",
        "    pass\n",
        "\n",
        "n = hello # function\n",
        "o = print # bulit-in function (https://docs.python.org/3/library/functions.html)\n",
        "p = lambda x:x**2 # function\n",
        "q = int # type\n",
        "r = A # class\n",
        "s = A() # instance # 자동차\n",
        "##########\n",
        "\n",
        "print(f'type(10) : {type(a)}')\n",
        "print(f'type(10.1) : {type(b)}')\n",
        "print(f'type(-1) : {type(c)}')\n",
        "print(f'type(True) : {type(d)}')\n",
        "print(f'type(\\'good\\') : {type(e)}')\n",
        "print(f'type(\\'good\\'.upper) : {type(e.upper)}')\n",
        "print(f'\\'10\\' + \\'10\\' : {f + f}')\n",
        "print(f'\\'10\\' * 3 : {f * 3}')\n",
        "print(f'\\'hong\\' + \\'gildong\\' : {g + h}')\n",
        "print(f'type(\\'gildong\\') : {type(h)}')\n",
        "print(f'type(\\'gildong100!!\\') : {type(i)}')\n",
        "print(f'type(10 + 2j) : {type(j)}')\n",
        "print(f'type(0b110) : {type(k)}')\n",
        "print(k)\n",
        "print(f'type(0o56) : {type(i)}')\n",
        "print(i)\n",
        "print(f'type(0xAC) : {type(m)}')\n",
        "print(m)\n",
        "print(f'type(def func():...생략...) : {type(n)}')\n",
        "print(f'type(print) : {type(o)}')\n",
        "print(f'type(lambda x:x**2) : {type(p)}')\n",
        "print(f'type(int) : {type(int)}')"
      ],
      "metadata": {
        "colab": {
          "base_uri": "https://localhost:8080/"
        },
        "id": "bmrKWvcv7uSH",
        "outputId": "29b0035b-8e87-47ce-895d-7cdf239b8ebe"
      },
      "execution_count": null,
      "outputs": [
        {
          "output_type": "stream",
          "name": "stdout",
          "text": [
            "type(10) : <class 'int'>\n",
            "type(10.1) : <class 'float'>\n",
            "type(-1) : <class 'int'>\n",
            "type(True) : <class 'bool'>\n",
            "type('good') : <class 'str'>\n",
            "type('good'.upper) : <class 'builtin_function_or_method'>\n",
            "'10' + '10' : 1010\n",
            "'10' * 3 : 101010\n",
            "'hong' + 'gildong' : kimhonggildong\n",
            "type('gildong') : <class 'str'>\n",
            "type('gildong100!!') : <class 'str'>\n",
            "type(10 + 2j) : <class 'complex'>\n",
            "type(0b110) : <class 'int'>\n",
            "6\n",
            "type(0o56) : <class 'str'>\n",
            "example\n",
            "type(0xAC) : <class 'int'>\n",
            "172\n",
            "type(def func():...생략...) : <class 'function'>\n",
            "type(print) : <class 'builtin_function_or_method'>\n",
            "type(lambda x:x**2) : <class 'function'>\n",
            "type(int) : <class 'type'>\n"
          ]
        }
      ]
    },
    {
      "cell_type": "code",
      "source": [
        "# 이스케이프 문자\n",
        "# https://ko.wikipedia.org/wiki/%EC%9D%B4%EC%8A%A4%EC%BC%80%EC%9D%B4%ED%94%84_%EB%AC%B8%EC%9E%90\n",
        "print('hello \\n world')\n",
        "print('hello \\t world')\n",
        "print('hello \\' world')\n",
        "print('hello \\\" world')\n",
        "print('hello \\\\ world')"
      ],
      "metadata": {
        "colab": {
          "base_uri": "https://localhost:8080/"
        },
        "id": "8OqkyWik-Nwb",
        "outputId": "91c3a6ea-894b-4b92-8c76-afbc4114c971"
      },
      "execution_count": null,
      "outputs": [
        {
          "output_type": "stream",
          "name": "stdout",
          "text": [
            "hello \n",
            " world\n",
            "hello \t world\n",
            "hello ' world\n",
            "hello \" world\n",
            "hello \\ world\n"
          ]
        }
      ]
    },
    {
      "cell_type": "code",
      "source": [
        "# type -> string\n",
        "\n",
        "hello = 10\n",
        "\n",
        "print(r'hello \\n world') # str -> raw (Django 2.x까지 url parsing을 이렇게 사용하고 있어요.)\n",
        "print(f'hello \\n world {hello}') # 앞으로 f-string 기법\n",
        "print('hello world {}'.format(hello))"
      ],
      "metadata": {
        "colab": {
          "base_uri": "https://localhost:8080/"
        },
        "id": "FSpV2jdX_th6",
        "outputId": "e875e038-b0a0-4170-c26a-e5ae6afdbc77"
      },
      "execution_count": null,
      "outputs": [
        {
          "output_type": "stream",
          "name": "stdout",
          "text": [
            "hello \\n world\n",
            "hello \n",
            " world 10\n"
          ]
        }
      ]
    },
    {
      "cell_type": "code",
      "source": [
        "# type -> float\n",
        "# 오일러의 수를 모른다 해서, 수학 연산이 약하다 해서 우리 수업에 문제가 되지 않습니다.\n",
        "print(2.3e3) # 무리수, 오일러 수(2.718에 수렴, 파이가 3.14인 것처럼)\n",
        "print(2.3E3)\n",
        "\n",
        "2.3 * (10 ** 3)"
      ],
      "metadata": {
        "id": "oRp5o0jSEYkw"
      },
      "execution_count": null,
      "outputs": []
    },
    {
      "cell_type": "code",
      "source": [
        "print(2.3e-3) # 무리수, 오일러 수(2.718에 수렴, 파이가 3.14인 것처럼)\n",
        "print(2.3E-3)\n",
        "\n",
        "2.3 * (10 ** -3)"
      ],
      "metadata": {
        "colab": {
          "base_uri": "https://localhost:8080/"
        },
        "id": "HElnmgCOE0m-",
        "outputId": "b4353306-5c76-40bf-e591-0ecd75983206"
      },
      "execution_count": null,
      "outputs": [
        {
          "output_type": "stream",
          "name": "stdout",
          "text": [
            "0.0023\n",
            "0.0023\n"
          ]
        },
        {
          "output_type": "execute_result",
          "data": {
            "text/plain": [
              "0.0023"
            ]
          },
          "metadata": {},
          "execution_count": 24
        }
      ]
    },
    {
      "cell_type": "code",
      "source": [
        "type(2.3E-3)"
      ],
      "metadata": {
        "colab": {
          "base_uri": "https://localhost:8080/"
        },
        "id": "Og0AzspPFKvy",
        "outputId": "518a2cf7-cd86-499d-b034-bf4fd5d39970"
      },
      "execution_count": null,
      "outputs": [
        {
          "output_type": "execute_result",
          "data": {
            "text/plain": [
              "float"
            ]
          },
          "metadata": {},
          "execution_count": 25
        }
      ]
    },
    {
      "cell_type": "code",
      "source": [
        "class A: # 자동차 공장\n",
        "    pass\n",
        "\n",
        "a = A # class\n",
        "b = A() # instance # 자동차\n",
        "\n",
        "print(type(a))\n",
        "print(type(b))"
      ],
      "metadata": {
        "colab": {
          "base_uri": "https://localhost:8080/"
        },
        "id": "bA78yQ61-y9g",
        "outputId": "3a6efd70-5492-45e7-c5aa-d6473cdf9fec"
      },
      "execution_count": null,
      "outputs": [
        {
          "output_type": "stream",
          "name": "stdout",
          "text": [
            "<class 'type'>\n",
            "<class '__main__.A'>\n"
          ]
        }
      ]
    },
    {
      "cell_type": "code",
      "source": [
        "# 변수를 처음 만나시면 type, dir을 해봅니다.\n",
        "# type을 찍으면 검색 키워드를 알 수 있습니다.\n",
        "# dir을 찍으면 속성을 알 수 있습니다.\n",
        "type(a)"
      ],
      "metadata": {
        "colab": {
          "base_uri": "https://localhost:8080/"
        },
        "id": "QogcxZW88l2U",
        "outputId": "b0334b10-3504-4f6a-fe1c-8365554fdf1c"
      },
      "execution_count": null,
      "outputs": [
        {
          "output_type": "execute_result",
          "data": {
            "text/plain": [
              "int"
            ]
          },
          "metadata": {},
          "execution_count": 14
        }
      ]
    },
    {
      "cell_type": "code",
      "source": [
        "print(type(a))"
      ],
      "metadata": {
        "colab": {
          "base_uri": "https://localhost:8080/"
        },
        "id": "TPuT1-C68o0H",
        "outputId": "32c86783-5f3f-4d49-db2e-b6c5fe624e45"
      },
      "execution_count": null,
      "outputs": [
        {
          "output_type": "stream",
          "name": "stdout",
          "text": [
            "<class 'int'>\n"
          ]
        }
      ]
    },
    {
      "cell_type": "code",
      "source": [
        "dir(a)"
      ],
      "metadata": {
        "colab": {
          "base_uri": "https://localhost:8080/"
        },
        "id": "auPIyvXH8zUJ",
        "outputId": "9e0cd487-7673-40bd-a521-ce904432b757"
      },
      "execution_count": null,
      "outputs": [
        {
          "output_type": "execute_result",
          "data": {
            "text/plain": [
              "['__abs__',\n",
              " '__add__',\n",
              " '__and__',\n",
              " '__bool__',\n",
              " '__ceil__',\n",
              " '__class__',\n",
              " '__delattr__',\n",
              " '__dir__',\n",
              " '__divmod__',\n",
              " '__doc__',\n",
              " '__eq__',\n",
              " '__float__',\n",
              " '__floor__',\n",
              " '__floordiv__',\n",
              " '__format__',\n",
              " '__ge__',\n",
              " '__getattribute__',\n",
              " '__getnewargs__',\n",
              " '__gt__',\n",
              " '__hash__',\n",
              " '__index__',\n",
              " '__init__',\n",
              " '__init_subclass__',\n",
              " '__int__',\n",
              " '__invert__',\n",
              " '__le__',\n",
              " '__lshift__',\n",
              " '__lt__',\n",
              " '__mod__',\n",
              " '__mul__',\n",
              " '__ne__',\n",
              " '__neg__',\n",
              " '__new__',\n",
              " '__or__',\n",
              " '__pos__',\n",
              " '__pow__',\n",
              " '__radd__',\n",
              " '__rand__',\n",
              " '__rdivmod__',\n",
              " '__reduce__',\n",
              " '__reduce_ex__',\n",
              " '__repr__',\n",
              " '__rfloordiv__',\n",
              " '__rlshift__',\n",
              " '__rmod__',\n",
              " '__rmul__',\n",
              " '__ror__',\n",
              " '__round__',\n",
              " '__rpow__',\n",
              " '__rrshift__',\n",
              " '__rshift__',\n",
              " '__rsub__',\n",
              " '__rtruediv__',\n",
              " '__rxor__',\n",
              " '__setattr__',\n",
              " '__sizeof__',\n",
              " '__str__',\n",
              " '__sub__',\n",
              " '__subclasshook__',\n",
              " '__truediv__',\n",
              " '__trunc__',\n",
              " '__xor__',\n",
              " 'as_integer_ratio',\n",
              " 'bit_count',\n",
              " 'bit_length',\n",
              " 'conjugate',\n",
              " 'denominator',\n",
              " 'from_bytes',\n",
              " 'imag',\n",
              " 'numerator',\n",
              " 'real',\n",
              " 'to_bytes']"
            ]
          },
          "metadata": {},
          "execution_count": 16
        }
      ]
    },
    {
      "cell_type": "code",
      "source": [
        "# 실무에서 자주 사용하는 구문\n",
        "type(10)\n",
        "type(10) == int\n",
        "type(10.1) == float"
      ],
      "metadata": {
        "colab": {
          "base_uri": "https://localhost:8080/"
        },
        "id": "v1qKTnVAFVAe",
        "outputId": "2dc6c5e0-347a-44f7-af68-80b653d61d12"
      },
      "execution_count": null,
      "outputs": [
        {
          "output_type": "execute_result",
          "data": {
            "text/plain": [
              "True"
            ]
          },
          "metadata": {},
          "execution_count": 28
        }
      ]
    },
    {
      "cell_type": "code",
      "source": [
        "# 위만큼 자주사용하진 않지만 타입 확인 코드\n",
        "a = 10\n",
        "isinstance(a, int)\n",
        "isinstance(a, float)"
      ],
      "metadata": {
        "colab": {
          "base_uri": "https://localhost:8080/"
        },
        "id": "Ow6Nj-nsFj8R",
        "outputId": "6c2a9e83-aa7e-46c8-eb57-88040c670ff0"
      },
      "execution_count": null,
      "outputs": [
        {
          "output_type": "execute_result",
          "data": {
            "text/plain": [
              "False"
            ]
          },
          "metadata": {},
          "execution_count": 30
        }
      ]
    },
    {
      "cell_type": "markdown",
      "source": [
        "## 변수"
      ],
      "metadata": {
        "id": "tx-EhIcCF2Kj"
      }
    },
    {
      "cell_type": "code",
      "source": [
        "# CS 변수는 포스트잇\n",
        "# 변수는 메모리 공간을 가리킵니다.\n",
        "\n",
        "# x라는 포스트잇도 붙였지만\n",
        "# y라는 포스트잇도 붙여져 있는 것입니다.\n",
        "x = 10\n",
        "y = 10\n",
        "\n",
        "id(x), id(y) # id는 누굴 가리키고 있는지 그 주소값을 반환합니다."
      ],
      "metadata": {
        "colab": {
          "base_uri": "https://localhost:8080/"
        },
        "id": "IEzjf91BF8dw",
        "outputId": "b4464b82-ac92-4e4c-d65c-b0f1e2a98d60"
      },
      "execution_count": null,
      "outputs": [
        {
          "output_type": "execute_result",
          "data": {
            "text/plain": [
              "(139737727205904, 139737727205904)"
            ]
          },
          "metadata": {},
          "execution_count": 31
        }
      ]
    },
    {
      "cell_type": "code",
      "source": [
        "x is y"
      ],
      "metadata": {
        "colab": {
          "base_uri": "https://localhost:8080/"
        },
        "id": "zGzifr5zHL3I",
        "outputId": "6c00dbef-972c-402f-9c9a-e1d35e640947"
      },
      "execution_count": null,
      "outputs": [
        {
          "output_type": "execute_result",
          "data": {
            "text/plain": [
              "True"
            ]
          },
          "metadata": {},
          "execution_count": 32
        }
      ]
    },
    {
      "cell_type": "code",
      "source": [
        "x = 257\n",
        "y = 257\n",
        "\n",
        "id(x), id(y)"
      ],
      "metadata": {
        "colab": {
          "base_uri": "https://localhost:8080/"
        },
        "id": "kp-DcQw-HOZd",
        "outputId": "a5a8d154-3a30-4807-9db1-f2f2c232e625"
      },
      "execution_count": null,
      "outputs": [
        {
          "output_type": "execute_result",
          "data": {
            "text/plain": [
              "(139736413794128, 139736413797264)"
            ]
          },
          "metadata": {},
          "execution_count": 33
        }
      ]
    },
    {
      "cell_type": "code",
      "source": [
        "x is y"
      ],
      "metadata": {
        "colab": {
          "base_uri": "https://localhost:8080/"
        },
        "id": "HMQhFLC4Hh3N",
        "outputId": "c2657f93-02ad-410b-edfb-b919b071eaa3"
      },
      "execution_count": null,
      "outputs": [
        {
          "output_type": "execute_result",
          "data": {
            "text/plain": [
              "False"
            ]
          },
          "metadata": {},
          "execution_count": 34
        }
      ]
    },
    {
      "cell_type": "code",
      "source": [
        "# Python은 자체적으로 속도를 높이기 위한 \n",
        "# 여러가지 노력들을 해왔습니다.\n",
        "# (아래 언급한 것 말고도 각각의 자료형에서 메모리를 효율적으로 관리하기 위한 노력들을 말씀드리겠습니다.)\n",
        "# 구버전도 말씀을 드릴 것인데 이유는 여러분이 실무에가서 접할 환경이 최신 버전이 아니기 때문입니다.\n",
        "# 야xx의 경우에는 Django 1.x, python 2.x를 사용하고 있어요. \n",
        "# 대부분의 기업들이 한 번 구축해놓은 시스템은 바꾸기가 쉽지 않습니다.\n",
        "\n",
        "# 그래서 -5 ~ 256은 먼저 메모리에 적재를 합니다."
      ],
      "metadata": {
        "id": "D8S8eDgnHj47"
      },
      "execution_count": null,
      "outputs": []
    },
    {
      "cell_type": "code",
      "source": [
        "x = -5\n",
        "y = -5\n",
        "\n",
        "id(x), id(y)"
      ],
      "metadata": {
        "colab": {
          "base_uri": "https://localhost:8080/"
        },
        "id": "DIfulHSCILSa",
        "outputId": "157ae4b1-1d59-43e5-9583-1ea346ab7b93"
      },
      "execution_count": null,
      "outputs": [
        {
          "output_type": "execute_result",
          "data": {
            "text/plain": [
              "(139737727205424, 139737727205424)"
            ]
          },
          "metadata": {},
          "execution_count": 36
        }
      ]
    },
    {
      "cell_type": "markdown",
      "source": [
        "* 변수의 타입이란 무엇인가?\n",
        "* 변수의 타입은 왜 있는 것일까?\n",
        "* 어떤 고민을 통해 변수의 속성을 정했을까?"
      ],
      "metadata": {
        "id": "wk41BPqXIsy0"
      }
    },
    {
      "cell_type": "code",
      "source": [
        "'a' + 'a'"
      ],
      "metadata": {
        "colab": {
          "base_uri": "https://localhost:8080/",
          "height": 35
        },
        "id": "szLg5kCPIjQR",
        "outputId": "43d9b7ce-fdae-4379-e1be-49663c5b3f12"
      },
      "execution_count": null,
      "outputs": [
        {
          "output_type": "execute_result",
          "data": {
            "text/plain": [
              "'aa'"
            ],
            "application/vnd.google.colaboratory.intrinsic+json": {
              "type": "string"
            }
          },
          "metadata": {},
          "execution_count": 37
        }
      ]
    },
    {
      "cell_type": "code",
      "source": [
        "# 왜 이어 붙였지?\n",
        "# 컴퓨터 입장에서 a는 97(인간이 보는 숫자) -> 0x61! 결국 숫자!"
      ],
      "metadata": {
        "id": "s-8AHdjsI-5S"
      },
      "execution_count": null,
      "outputs": []
    },
    {
      "cell_type": "code",
      "source": [
        "# cpython -> 이어 붙이라고 정의가 되어 있어서\n",
        "# 사회 통념적인 약속 -> 코드로 구현\n",
        "# type, dir\n",
        "# 이러한 약속들은 메직메서드(__init__.....)를 통해 구현하게 됩니다."
      ],
      "metadata": {
        "id": "Rah9zwE5JRyu"
      },
      "execution_count": null,
      "outputs": []
    },
    {
      "cell_type": "markdown",
      "source": [
        "## 변수의 속성 변경"
      ],
      "metadata": {
        "id": "1wNSxRe8J5rH"
      }
    },
    {
      "cell_type": "code",
      "source": [
        "'10' + '10'"
      ],
      "metadata": {
        "colab": {
          "base_uri": "https://localhost:8080/",
          "height": 35
        },
        "id": "nvl29tysKEb9",
        "outputId": "3de4d5e4-3eaa-4170-d62f-46bac62d05eb"
      },
      "execution_count": null,
      "outputs": [
        {
          "output_type": "execute_result",
          "data": {
            "text/plain": [
              "'1010'"
            ],
            "application/vnd.google.colaboratory.intrinsic+json": {
              "type": "string"
            }
          },
          "metadata": {},
          "execution_count": 39
        }
      ]
    },
    {
      "cell_type": "code",
      "source": [
        "int('10') + int('10')"
      ],
      "metadata": {
        "colab": {
          "base_uri": "https://localhost:8080/"
        },
        "id": "b0ZDkGHoJ7rU",
        "outputId": "aea0eae0-4276-4eec-a718-fb9ca37a77f1"
      },
      "execution_count": null,
      "outputs": [
        {
          "output_type": "execute_result",
          "data": {
            "text/plain": [
              "20"
            ]
          },
          "metadata": {},
          "execution_count": 40
        }
      ]
    },
    {
      "cell_type": "code",
      "source": [
        "# 지금 배우는 포인트는 class가 중요한 문법이 아니라\n",
        "# 이러한 '약속'을 우리가 변경할 수 있다가 중요한 포인트입니다.\n",
        "class int(int):\n",
        "    def __add__(self, a):\n",
        "        return 'leehojun'\n",
        "\n",
        "int('10') + int('10')"
      ],
      "metadata": {
        "colab": {
          "base_uri": "https://localhost:8080/",
          "height": 35
        },
        "id": "EnqZ3qw-KLxp",
        "outputId": "70a43a10-f64f-4a83-e18c-04a01f25dae7"
      },
      "execution_count": null,
      "outputs": [
        {
          "output_type": "execute_result",
          "data": {
            "text/plain": [
              "'leehojun'"
            ],
            "application/vnd.google.colaboratory.intrinsic+json": {
              "type": "string"
            }
          },
          "metadata": {},
          "execution_count": 41
        }
      ]
    },
    {
      "cell_type": "code",
      "source": [
        "class int(int):\n",
        "    def __add__(self, a):\n",
        "        return self * a\n",
        "\n",
        "int('10') + int('10')"
      ],
      "metadata": {
        "colab": {
          "base_uri": "https://localhost:8080/"
        },
        "id": "YATr2VdoKryj",
        "outputId": "718f7673-b14d-45f4-d80e-2749eb291102"
      },
      "execution_count": null,
      "outputs": [
        {
          "output_type": "execute_result",
          "data": {
            "text/plain": [
              "100"
            ]
          },
          "metadata": {},
          "execution_count": 42
        }
      ]
    },
    {
      "cell_type": "code",
      "source": [
        "dir(10)"
      ],
      "metadata": {
        "colab": {
          "base_uri": "https://localhost:8080/"
        },
        "id": "rJjZ79C8K4BU",
        "outputId": "eb094449-a80f-47d4-facd-958e52394714"
      },
      "execution_count": null,
      "outputs": [
        {
          "output_type": "execute_result",
          "data": {
            "text/plain": [
              "['__abs__',\n",
              " '__add__',\n",
              " '__and__',\n",
              " '__bool__',\n",
              " '__ceil__',\n",
              " '__class__',\n",
              " '__delattr__',\n",
              " '__dir__',\n",
              " '__divmod__',\n",
              " '__doc__',\n",
              " '__eq__',\n",
              " '__float__',\n",
              " '__floor__',\n",
              " '__floordiv__',\n",
              " '__format__',\n",
              " '__ge__',\n",
              " '__getattribute__',\n",
              " '__getnewargs__',\n",
              " '__gt__',\n",
              " '__hash__',\n",
              " '__index__',\n",
              " '__init__',\n",
              " '__init_subclass__',\n",
              " '__int__',\n",
              " '__invert__',\n",
              " '__le__',\n",
              " '__lshift__',\n",
              " '__lt__',\n",
              " '__mod__',\n",
              " '__mul__',\n",
              " '__ne__',\n",
              " '__neg__',\n",
              " '__new__',\n",
              " '__or__',\n",
              " '__pos__',\n",
              " '__pow__',\n",
              " '__radd__',\n",
              " '__rand__',\n",
              " '__rdivmod__',\n",
              " '__reduce__',\n",
              " '__reduce_ex__',\n",
              " '__repr__',\n",
              " '__rfloordiv__',\n",
              " '__rlshift__',\n",
              " '__rmod__',\n",
              " '__rmul__',\n",
              " '__ror__',\n",
              " '__round__',\n",
              " '__rpow__',\n",
              " '__rrshift__',\n",
              " '__rshift__',\n",
              " '__rsub__',\n",
              " '__rtruediv__',\n",
              " '__rxor__',\n",
              " '__setattr__',\n",
              " '__sizeof__',\n",
              " '__str__',\n",
              " '__sub__',\n",
              " '__subclasshook__',\n",
              " '__truediv__',\n",
              " '__trunc__',\n",
              " '__xor__',\n",
              " 'as_integer_ratio',\n",
              " 'bit_count',\n",
              " 'bit_length',\n",
              " 'conjugate',\n",
              " 'denominator',\n",
              " 'from_bytes',\n",
              " 'imag',\n",
              " 'numerator',\n",
              " 'real',\n",
              " 'to_bytes']"
            ]
          },
          "metadata": {},
          "execution_count": 43
        }
      ]
    },
    {
      "cell_type": "code",
      "source": [
        "class int(int):\n",
        "    def 제곱(self, 승수):\n",
        "        return self ** 승수\n",
        "\n",
        "value = int('10')\n",
        "print(dir(value))"
      ],
      "metadata": {
        "colab": {
          "base_uri": "https://localhost:8080/"
        },
        "id": "nznBq77dLcT3",
        "outputId": "2aab8030-ac5e-4b5c-e817-0cb977ad2db6"
      },
      "execution_count": null,
      "outputs": [
        {
          "output_type": "stream",
          "name": "stdout",
          "text": [
            "['__abs__', '__add__', '__and__', '__bool__', '__ceil__', '__class__', '__delattr__', '__dict__', '__dir__', '__divmod__', '__doc__', '__eq__', '__float__', '__floor__', '__floordiv__', '__format__', '__ge__', '__getattribute__', '__getnewargs__', '__gt__', '__hash__', '__index__', '__init__', '__init_subclass__', '__int__', '__invert__', '__le__', '__lshift__', '__lt__', '__mod__', '__module__', '__mul__', '__ne__', '__neg__', '__new__', '__or__', '__pos__', '__pow__', '__radd__', '__rand__', '__rdivmod__', '__reduce__', '__reduce_ex__', '__repr__', '__rfloordiv__', '__rlshift__', '__rmod__', '__rmul__', '__ror__', '__round__', '__rpow__', '__rrshift__', '__rshift__', '__rsub__', '__rtruediv__', '__rxor__', '__setattr__', '__sizeof__', '__str__', '__sub__', '__subclasshook__', '__truediv__', '__trunc__', '__xor__', 'as_integer_ratio', 'bit_count', 'bit_length', 'conjugate', 'denominator', 'from_bytes', 'imag', 'numerator', 'real', 'to_bytes', '제곱']\n"
          ]
        }
      ]
    },
    {
      "cell_type": "code",
      "source": [
        "value.제곱(3)"
      ],
      "metadata": {
        "colab": {
          "base_uri": "https://localhost:8080/"
        },
        "id": "kYsLYq9gLrPX",
        "outputId": "d9ddf270-f241-453d-9623-35ed00a140ed"
      },
      "execution_count": null,
      "outputs": [
        {
          "output_type": "execute_result",
          "data": {
            "text/plain": [
              "1000"
            ]
          },
          "metadata": {},
          "execution_count": 47
        }
      ]
    },
    {
      "cell_type": "code",
      "source": [
        "x = 10\n",
        "y = x\n",
        "z = y\n",
        "\n",
        "print(id(x), id(y), id(z))"
      ],
      "metadata": {
        "colab": {
          "base_uri": "https://localhost:8080/"
        },
        "id": "xVjI6ThsMB9u",
        "outputId": "55cbeeaf-06a7-4dd1-e995-884ad648f16f"
      },
      "execution_count": null,
      "outputs": [
        {
          "output_type": "stream",
          "name": "stdout",
          "text": [
            "139737727205904 139737727205904 139737727205904\n"
          ]
        }
      ]
    },
    {
      "cell_type": "code",
      "source": [
        "x = 10\n",
        "y = x\n",
        "x = 100\n",
        "\n",
        "print(x, y)\n",
        "print(id(x), id(y), id(z))"
      ],
      "metadata": {
        "colab": {
          "base_uri": "https://localhost:8080/"
        },
        "id": "GJKDS68IMmzo",
        "outputId": "a0216648-6f4a-47d4-a57f-aacecc995490"
      },
      "execution_count": null,
      "outputs": [
        {
          "output_type": "stream",
          "name": "stdout",
          "text": [
            "100 10\n",
            "139737727208784 139737727205904 139737727205904\n"
          ]
        }
      ]
    },
    {
      "cell_type": "markdown",
      "source": [
        "## 변수의 속성"
      ],
      "metadata": {
        "id": "FFjeof0zNY0T"
      }
    },
    {
      "cell_type": "markdown",
      "source": [
        "* 변수는 주로 스네이크 표기법을 많이 사용합니다. 물론 회사 컨벤션에 따르셔야 합니다.\n",
        "* 영문과 숫자를 사용할 수 있지만, 숫자로  시작하지는 못합니다.\n",
        "* 특수문자는 사용하지 않아요.(언더바(_)는  사용합니다. 스네이크 표기법, 특수문자나  이미중 사용 가능한 것들이 있기는 합니다.  권하지 않습니다.)\n",
        "* 예약어는 사용하지 않습니다.(if, elif, while, * for, etc)\n",
        "* 대소문자는 구분합니다.\n",
        "* 언더바로만 사용하거나 언더바로 시작할 수 있습니다.\n",
        "* 대문자로 시작하는 변수를 사용할 수 있지만, 관습적으로 대문자로 시작하는 변수는 Class로 만들기 때문에 소문자로 시작하는 변수를 만들기를 권합니다. Class는 보통 파스칼 표기법을 따릅니다. 다만 회사 컨벤션마다 다릅니다."
      ],
      "metadata": {
        "id": "sTV5prN9Nabn"
      }
    },
    {
      "cell_type": "code",
      "source": [
        "# 스네이크 표기법(Python에서 주로)\n",
        "hello_world = 10\n",
        "# 카멜 표기법(JavaScript에서 주로)\n",
        "helloWorldHello = 10\n",
        "# 파스칼 표기법(Class 같은 곳에서 많이 사용합니다.)\n",
        "Hello = 10"
      ],
      "metadata": {
        "id": "-tbrSTZZNtUC"
      },
      "execution_count": null,
      "outputs": []
    },
    {
      "cell_type": "code",
      "source": [
        "# 10hello = 100\n",
        "hello10 = 10\n",
        "\n",
        "π = 3.14 # 권하지 않습니다.\n",
        "print(π)\n",
        "\n",
        "_ = 100 # 언더바는 자주사용되는데 이렇게 사용되진 않습니다.\n",
        "print(_)"
      ],
      "metadata": {
        "colab": {
          "base_uri": "https://localhost:8080/"
        },
        "id": "xKCR8vbLhKiz",
        "outputId": "af958672-d495-4401-c9d9-21942d46db56"
      },
      "execution_count": null,
      "outputs": [
        {
          "output_type": "stream",
          "name": "stdout",
          "text": [
            "3.14\n",
            "100\n"
          ]
        }
      ]
    },
    {
      "cell_type": "code",
      "source": [
        "for _ in range(10): # 언더바를 순회 안에서 변수로 사용하지 않을때\n",
        "    print('hello')"
      ],
      "metadata": {
        "colab": {
          "base_uri": "https://localhost:8080/"
        },
        "id": "B1o_bhW8h8N2",
        "outputId": "2c24e4ea-3c35-44fa-bd2b-4d6aa91b93de"
      },
      "execution_count": null,
      "outputs": [
        {
          "output_type": "stream",
          "name": "stdout",
          "text": [
            "hello\n",
            "hello\n",
            "hello\n",
            "hello\n",
            "hello\n",
            "hello\n",
            "hello\n",
            "hello\n",
            "hello\n",
            "hello\n"
          ]
        }
      ]
    },
    {
      "cell_type": "code",
      "source": [
        "# if = 100\n",
        "# print = 100"
      ],
      "metadata": {
        "id": "Be5nklCtioHp"
      },
      "execution_count": null,
      "outputs": []
    },
    {
      "cell_type": "code",
      "source": [
        "# print('hello')"
      ],
      "metadata": {
        "id": "TdPmwWwEivQr"
      },
      "execution_count": null,
      "outputs": []
    },
    {
      "cell_type": "code",
      "source": [
        "print(a)"
      ],
      "metadata": {
        "id": "epuTd_98ipkE"
      },
      "execution_count": null,
      "outputs": []
    },
    {
      "cell_type": "markdown",
      "source": [
        "## 입력과 출력"
      ],
      "metadata": {
        "id": "C9gIfLKxjgPC"
      }
    },
    {
      "cell_type": "code",
      "source": [
        "x = input()\n",
        "x"
      ],
      "metadata": {
        "colab": {
          "base_uri": "https://localhost:8080/",
          "height": 53
        },
        "id": "OS4t2iv8jmkP",
        "outputId": "5337c5e7-4bd6-4c36-f543-9cafaffdb628"
      },
      "execution_count": null,
      "outputs": [
        {
          "name": "stdout",
          "output_type": "stream",
          "text": [
            "10\n"
          ]
        },
        {
          "output_type": "execute_result",
          "data": {
            "text/plain": [
              "'10'"
            ],
            "application/vnd.google.colaboratory.intrinsic+json": {
              "type": "string"
            }
          },
          "metadata": {},
          "execution_count": 1
        }
      ]
    },
    {
      "cell_type": "code",
      "source": [
        "x + x # 사용자에게 받은 입력은 str"
      ],
      "metadata": {
        "colab": {
          "base_uri": "https://localhost:8080/",
          "height": 35
        },
        "id": "pyfzi-a0jqcJ",
        "outputId": "01acbb47-73d0-4267-fb46-e9fe1a929152"
      },
      "execution_count": null,
      "outputs": [
        {
          "output_type": "execute_result",
          "data": {
            "text/plain": [
              "'1010'"
            ],
            "application/vnd.google.colaboratory.intrinsic+json": {
              "type": "string"
            }
          },
          "metadata": {},
          "execution_count": 2
        }
      ]
    },
    {
      "cell_type": "code",
      "source": [
        "print(10, 10, 10)"
      ],
      "metadata": {
        "colab": {
          "base_uri": "https://localhost:8080/"
        },
        "id": "ZNu_lO_Oj5rb",
        "outputId": "b8847449-a26e-48f2-a79d-bc0a45e932e3"
      },
      "execution_count": null,
      "outputs": [
        {
          "output_type": "stream",
          "name": "stdout",
          "text": [
            "10 10 10\n"
          ]
        }
      ]
    },
    {
      "cell_type": "code",
      "source": [
        "print('hello', 'world', 'hello')"
      ],
      "metadata": {
        "colab": {
          "base_uri": "https://localhost:8080/"
        },
        "id": "kcLLhU-6j_Kt",
        "outputId": "03e22899-74b2-4d2c-f76b-67c7311d8483"
      },
      "execution_count": null,
      "outputs": [
        {
          "output_type": "stream",
          "name": "stdout",
          "text": [
            "hello world hello\n"
          ]
        }
      ]
    },
    {
      "cell_type": "code",
      "source": [
        "print(x, x)"
      ],
      "metadata": {
        "colab": {
          "base_uri": "https://localhost:8080/"
        },
        "id": "OcIAAy_mkCV6",
        "outputId": "0dd6f508-1c1f-4562-fd13-e4dee4443ed2"
      },
      "execution_count": null,
      "outputs": [
        {
          "output_type": "stream",
          "name": "stdout",
          "text": [
            "10 10\n"
          ]
        }
      ]
    },
    {
      "cell_type": "code",
      "source": [
        "print('hello world', end='!')\n",
        "print('hello world', end='!')\n",
        "print('hello world', end='!')"
      ],
      "metadata": {
        "colab": {
          "base_uri": "https://localhost:8080/"
        },
        "id": "1bNLt-0Qkpcc",
        "outputId": "b80b9d3b-0a4b-4585-cb5a-e27981197cac"
      },
      "execution_count": null,
      "outputs": [
        {
          "output_type": "stream",
          "name": "stdout",
          "text": [
            "hello world!hello world!hello world!"
          ]
        }
      ]
    },
    {
      "cell_type": "code",
      "source": [
        "print('hello', 'world', sep='!')\n",
        "print('010', '5044', '2903', sep='-')"
      ],
      "metadata": {
        "colab": {
          "base_uri": "https://localhost:8080/"
        },
        "id": "8CEEGCjSk8d_",
        "outputId": "119e3ac4-e2cb-4fb4-842d-e3c2d2c8c7b7"
      },
      "execution_count": null,
      "outputs": [
        {
          "output_type": "stream",
          "name": "stdout",
          "text": [
            "hello!world\n",
            "010-5044-2903\n"
          ]
        }
      ]
    },
    {
      "cell_type": "code",
      "source": [
        "이름 = '이호준'\n",
        "나이 = 10\n",
        "\n",
        "print('1. 제 이름은 이호준입니다. 제 나이는 10입니다.')\n",
        "print('2. 제 이름은 ', 이름, '입니다. 제 나이는 ', 나이, '입니다.', sep='')\n",
        "print('3. 제 이름은 %s입니다. 제 나이는 %d입니다.'%(이름, 나이))\n",
        "print('4. 제 이름은 {}입니다. 제 나이는 {}입니다.'.format(이름, 나이))\n",
        "print(f'4. 제 이름은 {이름}입니다. 제 나이는 {나이}입니다.')"
      ],
      "metadata": {
        "colab": {
          "base_uri": "https://localhost:8080/"
        },
        "id": "_0vtWPkrlX6l",
        "outputId": "8ce8d5dc-578c-4e47-b68f-18612da486dc"
      },
      "execution_count": null,
      "outputs": [
        {
          "output_type": "stream",
          "name": "stdout",
          "text": [
            "1. 제 이름은 이호준입니다. 제 나이는 10입니다.\n",
            "2. 제 이름은 이호준입니다. 제 나이는 10입니다.\n",
            "3. 제 이름은 이호준입니다. 제 나이는 10입니다.\n",
            "4. 제 이름은 이호준입니다. 제 나이는 10입니다.\n",
            "4. 제 이름은 이호준입니다. 제 나이는 10입니다.\n"
          ]
        }
      ]
    },
    {
      "cell_type": "markdown",
      "source": [
        "[포멧코드](https://www.notion.so/paullabworkspace/9fd33417740f4eba8715f5c4a1ed7c7b?v=e01ecdfe2f9448dcaad68b03a38057a5)"
      ],
      "metadata": {
        "id": "PfuMr8ngmSFp"
      }
    },
    {
      "cell_type": "markdown",
      "source": [
        "## formatting"
      ],
      "metadata": {
        "id": "XR_vDYS-m4Tz"
      }
    },
    {
      "cell_type": "code",
      "source": [
        "print(f'{100 * 10}')"
      ],
      "metadata": {
        "colab": {
          "base_uri": "https://localhost:8080/"
        },
        "id": "omTW7TVTm-fX",
        "outputId": "6b21c3da-3f2c-490f-ba2c-421a3fb6123f"
      },
      "execution_count": null,
      "outputs": [
        {
          "output_type": "stream",
          "name": "stdout",
          "text": [
            "1000\n"
          ]
        }
      ]
    },
    {
      "cell_type": "code",
      "source": [
        "# 중괄호 안에서 복잡한 연산을 하시는 것을 권하지 않습니다.\n",
        "result = 100 * 10\n",
        "print(f'{result}')"
      ],
      "metadata": {
        "id": "bJDOI64PnF99"
      },
      "execution_count": null,
      "outputs": []
    },
    {
      "cell_type": "code",
      "source": [
        "# 이런 문법은 필요에 의해 검색해 보시다 보면 익숙해집니다.\n",
        "print(f'{\"hello\":<10}')\n",
        "print(f'{\"hello\":>10}')\n",
        "print(f'{\"hello\":^10}')"
      ],
      "metadata": {
        "colab": {
          "base_uri": "https://localhost:8080/"
        },
        "id": "8kv6uEcwnYkX",
        "outputId": "2ebe3d5f-d194-470a-de71-13713eb1a70a"
      },
      "execution_count": null,
      "outputs": [
        {
          "output_type": "stream",
          "name": "stdout",
          "text": [
            "hello     \n",
            "     hello\n",
            "  hello   \n"
          ]
        }
      ]
    },
    {
      "cell_type": "code",
      "source": [
        "txt = 'hello'\n",
        "i = 10\n",
        "print(f'{txt:>10}')\n",
        "print(f'{txt:>{i}}')"
      ],
      "metadata": {
        "colab": {
          "base_uri": "https://localhost:8080/"
        },
        "id": "hLkrUPx2ny0Y",
        "outputId": "ea68f2f7-a61a-4a36-b4a9-93235d274ffe"
      },
      "execution_count": null,
      "outputs": [
        {
          "output_type": "stream",
          "name": "stdout",
          "text": [
            "     hello\n",
            "     hello\n"
          ]
        }
      ]
    },
    {
      "cell_type": "code",
      "source": [
        "# 이런 문법은 필요에 의해 검색해 보시다 보면 익숙해집니다.\n",
        "print(f'{\"hello\":!<10}')\n",
        "print(f'{\"hello\":!>10}')\n",
        "print(f'{\"hello\":!^10}')"
      ],
      "metadata": {
        "colab": {
          "base_uri": "https://localhost:8080/"
        },
        "id": "n62hbKeNoTVV",
        "outputId": "c6ed5559-240d-4247-f0bc-60efe903e6d5"
      },
      "execution_count": null,
      "outputs": [
        {
          "output_type": "stream",
          "name": "stdout",
          "text": [
            "hello!!!!!\n",
            "!!!!!hello\n",
            "!!hello!!!\n"
          ]
        }
      ]
    },
    {
      "cell_type": "code",
      "source": [
        "# 이런 문법은 필요에 의해 검색해 보시다 보면 익숙해집니다.\n",
        "print(f'{\"hello\":=<10}')\n",
        "print(f'{\"hello\":=>10}')\n",
        "print(f'{\"hello\":=^10}')"
      ],
      "metadata": {
        "colab": {
          "base_uri": "https://localhost:8080/"
        },
        "id": "axrE4QpioXxM",
        "outputId": "227971e9-0872-41fb-aa7e-a0d93a7d4c3c"
      },
      "execution_count": null,
      "outputs": [
        {
          "output_type": "stream",
          "name": "stdout",
          "text": [
            "hello=====\n",
            "=====hello\n",
            "==hello===\n"
          ]
        }
      ]
    },
    {
      "cell_type": "code",
      "source": [
        "# 둘 다 잊으셔도 됩니다.\n",
        "# 어디에 활용되는지 궁금하다 하신 분이 있으셔서 해드린 것입니다.\n",
        "# https://tech.kakao.com/2017/09/27/kakao-blind-recruitment-round-1/\n",
        "bin(9)\n",
        "print(f'{bin(9)[2:]:0>5}')"
      ],
      "metadata": {
        "colab": {
          "base_uri": "https://localhost:8080/"
        },
        "id": "5TNQyBt_ojF8",
        "outputId": "2bb8e28c-aff0-49b4-dcc3-5029ae51627b"
      },
      "execution_count": null,
      "outputs": [
        {
          "output_type": "stream",
          "name": "stdout",
          "text": [
            "01001\n"
          ]
        }
      ]
    },
    {
      "cell_type": "code",
      "source": [
        "bin(9 | 30)[2:].replace('1', '#').replace('0', ' ')"
      ],
      "metadata": {
        "colab": {
          "base_uri": "https://localhost:8080/",
          "height": 35
        },
        "id": "fyIvpBy9ut_f",
        "outputId": "e249fb79-cb1e-4806-edff-ced6e3867c14"
      },
      "execution_count": null,
      "outputs": [
        {
          "output_type": "execute_result",
          "data": {
            "text/plain": [
              "'#####'"
            ],
            "application/vnd.google.colaboratory.intrinsic+json": {
              "type": "string"
            }
          },
          "metadata": {},
          "execution_count": 32
        }
      ]
    },
    {
      "cell_type": "code",
      "source": [
        "# 요정도 활용을 합니다.\n",
        "print(f'{\"start\":-^20}')"
      ],
      "metadata": {
        "colab": {
          "base_uri": "https://localhost:8080/"
        },
        "id": "T7rYR1VBvC7G",
        "outputId": "8e826cdb-7b28-4d7e-e3d7-6b7e0ac207f6"
      },
      "execution_count": null,
      "outputs": [
        {
          "output_type": "stream",
          "name": "stdout",
          "text": [
            "-------start--------\n"
          ]
        }
      ]
    },
    {
      "cell_type": "code",
      "source": [
        "print(f'{0.12345:0.2f}')"
      ],
      "metadata": {
        "colab": {
          "base_uri": "https://localhost:8080/"
        },
        "id": "K3L31a-cvdwN",
        "outputId": "efd9b7b2-0d27-4b74-ee0a-5190f6f5f9f7"
      },
      "execution_count": null,
      "outputs": [
        {
          "output_type": "stream",
          "name": "stdout",
          "text": [
            "0.12\n"
          ]
        }
      ]
    },
    {
      "cell_type": "markdown",
      "source": [
        "* 이 아래 코드는 필수는 아닙니다. 참고삼아서만 넣어드립니다."
      ],
      "metadata": {
        "id": "uyzkMXZav0so"
      }
    },
    {
      "cell_type": "code",
      "source": [
        "# 이전 방식\n",
        "print('나의 이름은 %s입니다'%('한사람'))\n",
        "print('나의 이름은 \"%s\"입니다. 나이는 %d세이고 성별은 %s입니다.'%('한사람',33,'남성'))\n",
        "print('나이는 %d세이고 성별은 %s입니다. 나의 이름은 %s입니다. '%(33,'남성','한사람'))\n",
        "print('나이는 %03d세이고 신장은 %6.2f입니다. 나의 이름은 %s입니다. '%(33,56.789,'한사람'))\n",
        "print('-' * 40)\n",
        "\n",
        "# 파이썬(Python) 3 포맷팅 방식\n",
        "print('나의 이름은 {}입니다'.format('한사람'))\n",
        "print('나의 이름은 {0}입니다. 나이는 {1}세이고 성별은 {2}입니다.'.format('한사람',33,'남성'))\n",
        "print('나이는 {1}세이고 성별은 {2}입니다. 나의 이름은 {0}입니다. '.format('한사람',33,'남성'))\n",
        "print('나이는 {age}세이고 성별은 {gender}입니다. 나의 이름은 {name}입니다. '\n",
        "         .format(name='한사람',age=33,gender='남성'))\n",
        "print('만세삼창 :  {0}!!! {0}!!! {0}!!! '.format('만세'))\n",
        "print('삼삼칠 박수 :  {0}!!! {0}!!! {1}!!! '.format('짝'*3,'짝'*7))\n",
        "print('-' * 40)\n",
        "\n",
        "# 파이썬(Python) 3.6 f-string 방식\n",
        "something = '볼펜'\n",
        "EA = 2\n",
        "one_length = 5.343\n",
        "scale = 'cm'\n",
        "\n",
        "print(f'{something} {EA}개의 길이는 {one_length*EA}{scale} 입니다.')\n",
        "print(f'{something} {EA}개의 길이는 {one_length*EA:.1f}{scale} 입니다.')"
      ],
      "metadata": {
        "colab": {
          "base_uri": "https://localhost:8080/"
        },
        "id": "d1sO91etvpoy",
        "outputId": "e256b758-a0de-4554-946a-bf4a1c3b14bb"
      },
      "execution_count": null,
      "outputs": [
        {
          "output_type": "stream",
          "name": "stdout",
          "text": [
            "나의 이름은 한사람입니다\n",
            "나의 이름은 \"한사람\"입니다. 나이는 33세이고 성별은 남성입니다.\n",
            "나이는 33세이고 성별은 남성입니다. 나의 이름은 한사람입니다. \n",
            "나이는 033세이고 신장은  56.79입니다. 나의 이름은 한사람입니다. \n",
            "----------------------------------------\n",
            "나의 이름은 한사람입니다\n",
            "나의 이름은 한사람입니다. 나이는 33세이고 성별은 남성입니다.\n",
            "나이는 33세이고 성별은 남성입니다. 나의 이름은 한사람입니다. \n",
            "나이는 33세이고 성별은 남성입니다. 나의 이름은 한사람입니다. \n",
            "만세삼창 :  만세!!! 만세!!! 만세!!! \n",
            "삼삼칠 박수 :  짝짝짝!!! 짝짝짝!!! 짝짝짝짝짝짝짝!!! \n",
            "----------------------------------------\n",
            "볼펜 2개의 길이는 10.686cm 입니다.\n",
            "볼펜 2개의 길이는 10.7cm 입니다.\n"
          ]
        }
      ]
    },
    {
      "cell_type": "code",
      "source": [
        "print('Python is [{:15}]'.format('good'))\n",
        "print('Python is [{:<15}]'.format('good'))\n",
        "print('Python is [{:>15}]'.format('good'))\n",
        "print('Python is [{:^15}]'.format('good'))\n",
        "print('당신의 나이는 [{:15}]세'.format(22))\n",
        "print('당신의 나이는 [{:<15}]세'.format(22))\n",
        "print('당신의 나이는 [{:>15}]세'.format(22))\n",
        "print('당신의 나이는 [{:<15}]세'.format(22))\n",
        "print('-' * 40)"
      ],
      "metadata": {
        "colab": {
          "base_uri": "https://localhost:8080/"
        },
        "id": "Y-ZNxOJdwRuP",
        "outputId": "fa702544-3e34-46af-9837-9286922b499e"
      },
      "execution_count": null,
      "outputs": [
        {
          "output_type": "stream",
          "name": "stdout",
          "text": [
            "Python is [good           ]\n",
            "Python is [good           ]\n",
            "Python is [           good]\n",
            "Python is [     good      ]\n",
            "당신의 나이는 [             22]세\n",
            "당신의 나이는 [22             ]세\n",
            "당신의 나이는 [             22]세\n",
            "당신의 나이는 [22             ]세\n",
            "----------------------------------------\n"
          ]
        }
      ]
    },
    {
      "cell_type": "code",
      "source": [
        "char_a = '5'\n",
        "int_a = 5\n",
        "\n",
        "'''기본적으로 {} 포맷팅의 특성을 그대로 가짐'''\n",
        "print(1234567890)\n",
        "print(f'{char_a:>5}') # >는 오른쪽정렬\n",
        "print(f'{char_a:<5}') # <는 왼쪽정렬\n",
        "print(f'{char_a:^5}') # ^는 가운데정렬\n",
        "print(f'{int_a:0<5}')# <는 왼쪽정렬, 빈자리를 0으로 채울수도 있음\n",
        "print(f'{int_a:^10.2f}') # ^ 가운데 정렬하면서 float 타입지정"
      ],
      "metadata": {
        "colab": {
          "base_uri": "https://localhost:8080/"
        },
        "id": "kFC3UtW_wXLj",
        "outputId": "b669398e-3d1d-4905-8a13-e047d4becf4d"
      },
      "execution_count": null,
      "outputs": [
        {
          "output_type": "stream",
          "name": "stdout",
          "text": [
            "1234567890\n",
            "    5\n",
            "5    \n",
            "  5  \n",
            "50000\n",
            "   5.00   \n"
          ]
        }
      ]
    },
    {
      "cell_type": "markdown",
      "source": [
        "## int (정수)"
      ],
      "metadata": {
        "id": "4FuHS2SOwmjX"
      }
    },
    {
      "cell_type": "markdown",
      "source": [
        "* 파이썬에서는 숫자를 정수, 실수, 복소수로 나눠 표현합니다.\n",
        "* 2진수, 8진수, 16진수는 정수로 표현됩니다."
      ],
      "metadata": {
        "id": "Ko_gJdPCworV"
      }
    },
    {
      "cell_type": "code",
      "source": [
        "a = 1234567899999999999999999999999999999999999999999999999999999\n",
        "print(type(a))\n",
        "# 2.x에서는 int와 long 두 가지가 있었는데 Python3에서는 int만 있습니다! 아무리 큰 수가 담겨도 int!"
      ],
      "metadata": {
        "colab": {
          "base_uri": "https://localhost:8080/"
        },
        "id": "MhK97dTUevn4",
        "outputId": "d033c7ef-8a76-4ce0-cce9-7c621c2c1ab4"
      },
      "execution_count": null,
      "outputs": [
        {
          "output_type": "stream",
          "name": "stdout",
          "text": [
            "<class 'int'>\n"
          ]
        }
      ]
    },
    {
      "cell_type": "code",
      "source": [
        "a = 10**100 # 구골(googol)\n",
        "print(a)\n",
        "print(type(a))"
      ],
      "metadata": {
        "colab": {
          "base_uri": "https://localhost:8080/"
        },
        "id": "OfywK4cngPB1",
        "outputId": "f017b5b9-8509-40db-c1a5-37d6e75d1c5d"
      },
      "execution_count": null,
      "outputs": [
        {
          "output_type": "stream",
          "name": "stdout",
          "text": [
            "10000000000000000000000000000000000000000000000000000000000000000000000000000000000000000000000000000\n",
            "<class 'int'>\n"
          ]
        }
      ]
    },
    {
      "cell_type": "code",
      "source": [
        "10 # 정수\n",
        "-10 # 정수\n",
        "10.1 # 실수\n",
        "\n",
        "a = 10\n",
        "type(a)\n",
        "dir(a)"
      ],
      "metadata": {
        "colab": {
          "base_uri": "https://localhost:8080/"
        },
        "id": "j1lMIQSMwynh",
        "outputId": "d6c12d1f-a670-4391-8dbe-71f59958b537"
      },
      "execution_count": null,
      "outputs": [
        {
          "output_type": "execute_result",
          "data": {
            "text/plain": [
              "['__abs__',\n",
              " '__add__',\n",
              " '__and__',\n",
              " '__bool__',\n",
              " '__ceil__',\n",
              " '__class__',\n",
              " '__delattr__',\n",
              " '__dir__',\n",
              " '__divmod__',\n",
              " '__doc__',\n",
              " '__eq__',\n",
              " '__float__',\n",
              " '__floor__',\n",
              " '__floordiv__',\n",
              " '__format__',\n",
              " '__ge__',\n",
              " '__getattribute__',\n",
              " '__getnewargs__',\n",
              " '__gt__',\n",
              " '__hash__',\n",
              " '__index__',\n",
              " '__init__',\n",
              " '__init_subclass__',\n",
              " '__int__',\n",
              " '__invert__',\n",
              " '__le__',\n",
              " '__lshift__',\n",
              " '__lt__',\n",
              " '__mod__',\n",
              " '__mul__',\n",
              " '__ne__',\n",
              " '__neg__',\n",
              " '__new__',\n",
              " '__or__',\n",
              " '__pos__',\n",
              " '__pow__',\n",
              " '__radd__',\n",
              " '__rand__',\n",
              " '__rdivmod__',\n",
              " '__reduce__',\n",
              " '__reduce_ex__',\n",
              " '__repr__',\n",
              " '__rfloordiv__',\n",
              " '__rlshift__',\n",
              " '__rmod__',\n",
              " '__rmul__',\n",
              " '__ror__',\n",
              " '__round__',\n",
              " '__rpow__',\n",
              " '__rrshift__',\n",
              " '__rshift__',\n",
              " '__rsub__',\n",
              " '__rtruediv__',\n",
              " '__rxor__',\n",
              " '__setattr__',\n",
              " '__sizeof__',\n",
              " '__str__',\n",
              " '__sub__',\n",
              " '__subclasshook__',\n",
              " '__truediv__',\n",
              " '__trunc__',\n",
              " '__xor__',\n",
              " 'as_integer_ratio',\n",
              " 'bit_count',\n",
              " 'bit_length',\n",
              " 'conjugate',\n",
              " 'denominator',\n",
              " 'from_bytes',\n",
              " 'imag',\n",
              " 'numerator',\n",
              " 'real',\n",
              " 'to_bytes']"
            ]
          },
          "metadata": {},
          "execution_count": 39
        }
      ]
    },
    {
      "cell_type": "code",
      "source": [
        "'bit_length' # bit로 바꾸었을 때 비트의 길이\n",
        "'to_bytes' # 컴퓨터에 저장하는 바이트의 형태로 숫자를 표현"
      ],
      "metadata": {
        "id": "I_RKmj4RxBqD"
      },
      "execution_count": null,
      "outputs": []
    },
    {
      "cell_type": "code",
      "source": [
        "# 1Bit, 0 ~ 1 # bit - 1자리\n",
        "# 1Bytes = 8bit, 00000000 ~ 11111111 # 1byte - 8bit\n",
        "# 1KB (키로바이트) = 1024Bytes\n",
        "# 1MB (메가바이트) = 1024KB\n",
        "# 1GB (기가바이트) = 1024MB\n",
        "# 1TB (테라바이트) = 1024GB\n",
        "# 1PB (페타바이트) = 1024TB"
      ],
      "metadata": {
        "id": "5UtZn0RcxvAh"
      },
      "execution_count": null,
      "outputs": []
    },
    {
      "cell_type": "code",
      "source": [
        "(9).bit_length() # 1001"
      ],
      "metadata": {
        "colab": {
          "base_uri": "https://localhost:8080/"
        },
        "id": "Cuc-iV-CzVBJ",
        "outputId": "07676816-b93d-4ca8-b682-5bde0e07dd96"
      },
      "execution_count": null,
      "outputs": [
        {
          "output_type": "execute_result",
          "data": {
            "text/plain": [
              "4"
            ]
          },
          "metadata": {},
          "execution_count": 41
        }
      ]
    },
    {
      "cell_type": "code",
      "source": [
        "# 컴퓨터가 숫자를 어떻게 저장하는가?\n",
        "(2).to_bytes(1, byteorder='little', signed=True)\n",
        "(1).to_bytes(1, byteorder='little', signed=True)\n",
        "(0).to_bytes(1, byteorder='little', signed=True)\n",
        "(-1).to_bytes(1, byteorder='little', signed=True)\n",
        "(-2).to_bytes(1, byteorder='little', signed=True)"
      ],
      "metadata": {
        "colab": {
          "base_uri": "https://localhost:8080/"
        },
        "id": "E5m6x8zGzuGt",
        "outputId": "a67de90d-f5e1-4730-ca29-3ebbc6e52967"
      },
      "execution_count": null,
      "outputs": [
        {
          "output_type": "execute_result",
          "data": {
            "text/plain": [
              "b'\\xfe'"
            ]
          },
          "metadata": {},
          "execution_count": 49
        }
      ]
    },
    {
      "cell_type": "code",
      "source": [
        "# 컴퓨터는 음수를 자체적으로 표현할 수 없기에 2의 보수를 사용합니다. \n",
        "# 1의 보수를 사용하게 되면 +0과 -0이 존재하게 됨으로 비트 하나를 낭비하게 됩니다. \n",
        "# 따라서 2의 보수를 사용합니다."
      ],
      "metadata": {
        "id": "0YYHT-bB0hMN"
      },
      "execution_count": null,
      "outputs": []
    },
    {
      "cell_type": "code",
      "source": [
        "# 0000 0001 # 1\n",
        "# 1111 1110 # 1의 1의 보수\n",
        "# 1111 1111 # 1의 2의 보수 => ff"
      ],
      "metadata": {
        "id": "qL8ZgRC72Up-"
      },
      "execution_count": null,
      "outputs": []
    },
    {
      "cell_type": "code",
      "source": [
        "# 진법 변환 쉽게 하는 법 : 가장 가까운 승수를 찾아 더하거나 뺍니다.\n",
        "# 10진법\n",
        "# 0 1 2 3 4 5 6 7 8 9 -> 10\n",
        "# 1324 = 1*10^3 + 3*10^2 + 2*10^1 + 4*10^0\n",
        "\n",
        "# 2진법\n",
        "# 0 1 -> 10\n",
        "# 1001 = 1*2^3 + 1*2^0 = 9\n",
        "\n",
        "# 8진법\n",
        "# 0 1 2 3 4 5 6 7 -> 10\n",
        "\n",
        "# 16진법\n",
        "# 0 1 2 3 4 5 6 7 8 9 a b c d e f -> 10"
      ],
      "metadata": {
        "id": "pie3v6Ov2uS-"
      },
      "execution_count": null,
      "outputs": []
    },
    {
      "cell_type": "code",
      "source": [
        "# color의 표현\n",
        "# 2596be\n",
        "# 000000 ~ ffffff\n",
        "# ff는 10진수로 무슨 숫자를 의미\n",
        "# 100 - 1 => ff가 됩니다. 그래서 256 - 1"
      ],
      "metadata": {
        "id": "hJ-Qs3MZ7muX"
      },
      "execution_count": null,
      "outputs": []
    },
    {
      "cell_type": "code",
      "source": [
        "a = 10\n",
        "type(a)"
      ],
      "metadata": {
        "colab": {
          "base_uri": "https://localhost:8080/"
        },
        "id": "JQ-C9p_r8FWJ",
        "outputId": "a1d66be7-4e58-48a8-db7c-b5104ac3424d"
      },
      "execution_count": null,
      "outputs": [
        {
          "output_type": "execute_result",
          "data": {
            "text/plain": [
              "int"
            ]
          },
          "metadata": {},
          "execution_count": 50
        }
      ]
    },
    {
      "cell_type": "code",
      "source": [
        "int('10') + int('10')"
      ],
      "metadata": {
        "colab": {
          "base_uri": "https://localhost:8080/"
        },
        "id": "R1c4KnaW8M3F",
        "outputId": "ab98cd94-0b49-4c03-9008-fc091ab4f0c6"
      },
      "execution_count": null,
      "outputs": [
        {
          "output_type": "execute_result",
          "data": {
            "text/plain": [
              "20"
            ]
          },
          "metadata": {},
          "execution_count": 52
        }
      ]
    },
    {
      "cell_type": "code",
      "source": [
        "int('10', 2) # 2진법으로 10은?"
      ],
      "metadata": {
        "colab": {
          "base_uri": "https://localhost:8080/"
        },
        "id": "_UQMFy8K8SbR",
        "outputId": "2dd9f93c-5437-42e4-8dd6-98db58d32d25"
      },
      "execution_count": null,
      "outputs": [
        {
          "output_type": "execute_result",
          "data": {
            "text/plain": [
              "2"
            ]
          },
          "metadata": {},
          "execution_count": 53
        }
      ]
    },
    {
      "cell_type": "code",
      "source": [
        "int('10', 8) # 8진법으로 10은?"
      ],
      "metadata": {
        "colab": {
          "base_uri": "https://localhost:8080/"
        },
        "id": "rKGPnSv58Z2I",
        "outputId": "2c5b1ef6-ff2e-4640-b68e-4bcdd4709c40"
      },
      "execution_count": null,
      "outputs": [
        {
          "output_type": "execute_result",
          "data": {
            "text/plain": [
              "8"
            ]
          },
          "metadata": {},
          "execution_count": 54
        }
      ]
    },
    {
      "cell_type": "code",
      "source": [
        "int('10', 16) # 16진법으로 10은?"
      ],
      "metadata": {
        "colab": {
          "base_uri": "https://localhost:8080/"
        },
        "id": "ukJkUEpF8cVh",
        "outputId": "d2637643-d21f-4a7a-ff69-3978c489cf99"
      },
      "execution_count": null,
      "outputs": [
        {
          "output_type": "execute_result",
          "data": {
            "text/plain": [
              "16"
            ]
          },
          "metadata": {},
          "execution_count": 55
        }
      ]
    },
    {
      "cell_type": "code",
      "source": [
        "print(0b110) # 바이너리 - 2진수\n",
        "print(0o110) # 옥타 - 8진수\n",
        "print(0x110) # 헥사 - 16진수"
      ],
      "metadata": {
        "colab": {
          "base_uri": "https://localhost:8080/"
        },
        "id": "ioMm-g158f-t",
        "outputId": "31abe74b-7786-4e2c-991f-f04718b50331"
      },
      "execution_count": null,
      "outputs": [
        {
          "output_type": "execute_result",
          "data": {
            "text/plain": [
              "6"
            ]
          },
          "metadata": {},
          "execution_count": 56
        }
      ]
    },
    {
      "cell_type": "code",
      "source": [
        "type(0b110)"
      ],
      "metadata": {
        "colab": {
          "base_uri": "https://localhost:8080/"
        },
        "id": "wuiWS5Uo9Fho",
        "outputId": "147ede1c-e202-4e87-97e7-504af24c4269"
      },
      "execution_count": null,
      "outputs": [
        {
          "output_type": "execute_result",
          "data": {
            "text/plain": [
              "int"
            ]
          },
          "metadata": {},
          "execution_count": 58
        }
      ]
    },
    {
      "cell_type": "code",
      "source": [
        "a = 10\n",
        "type(a) == int\n",
        "isinstance(a, int)"
      ],
      "metadata": {
        "colab": {
          "base_uri": "https://localhost:8080/"
        },
        "id": "oFCaE7CZ89hT",
        "outputId": "a30a372c-c144-4df4-ee82-9957b818f66d"
      },
      "execution_count": null,
      "outputs": [
        {
          "output_type": "execute_result",
          "data": {
            "text/plain": [
              "True"
            ]
          },
          "metadata": {},
          "execution_count": 57
        }
      ]
    },
    {
      "cell_type": "markdown",
      "source": [
        "## float (실수)"
      ],
      "metadata": {
        "id": "WHtIN8oG9DTD"
      }
    },
    {
      "cell_type": "code",
      "source": [
        "a = 10.1\n",
        "\n",
        "type(a)"
      ],
      "metadata": {
        "colab": {
          "base_uri": "https://localhost:8080/"
        },
        "id": "49Yqsf7h9Mr9",
        "outputId": "4dfa6e6e-b144-4cc4-ec76-4e0fb3c5acb4"
      },
      "execution_count": null,
      "outputs": [
        {
          "output_type": "execute_result",
          "data": {
            "text/plain": [
              "float"
            ]
          },
          "metadata": {},
          "execution_count": 59
        }
      ]
    },
    {
      "cell_type": "code",
      "source": [
        "dir(a)"
      ],
      "metadata": {
        "colab": {
          "base_uri": "https://localhost:8080/"
        },
        "id": "IFSd_1Vv9QxQ",
        "outputId": "f157b952-f68f-4afb-a904-b62c3fcecaee"
      },
      "execution_count": null,
      "outputs": [
        {
          "output_type": "execute_result",
          "data": {
            "text/plain": [
              "['__abs__',\n",
              " '__add__',\n",
              " '__bool__',\n",
              " '__ceil__',\n",
              " '__class__',\n",
              " '__delattr__',\n",
              " '__dir__',\n",
              " '__divmod__',\n",
              " '__doc__',\n",
              " '__eq__',\n",
              " '__float__',\n",
              " '__floor__',\n",
              " '__floordiv__',\n",
              " '__format__',\n",
              " '__ge__',\n",
              " '__getattribute__',\n",
              " '__getformat__',\n",
              " '__getnewargs__',\n",
              " '__gt__',\n",
              " '__hash__',\n",
              " '__init__',\n",
              " '__init_subclass__',\n",
              " '__int__',\n",
              " '__le__',\n",
              " '__lt__',\n",
              " '__mod__',\n",
              " '__mul__',\n",
              " '__ne__',\n",
              " '__neg__',\n",
              " '__new__',\n",
              " '__pos__',\n",
              " '__pow__',\n",
              " '__radd__',\n",
              " '__rdivmod__',\n",
              " '__reduce__',\n",
              " '__reduce_ex__',\n",
              " '__repr__',\n",
              " '__rfloordiv__',\n",
              " '__rmod__',\n",
              " '__rmul__',\n",
              " '__round__',\n",
              " '__rpow__',\n",
              " '__rsub__',\n",
              " '__rtruediv__',\n",
              " '__setattr__',\n",
              " '__setformat__',\n",
              " '__sizeof__',\n",
              " '__str__',\n",
              " '__sub__',\n",
              " '__subclasshook__',\n",
              " '__truediv__',\n",
              " '__trunc__',\n",
              " 'as_integer_ratio',\n",
              " 'conjugate',\n",
              " 'fromhex',\n",
              " 'hex',\n",
              " 'imag',\n",
              " 'is_integer',\n",
              " 'real']"
            ]
          },
          "metadata": {},
          "execution_count": 60
        }
      ]
    },
    {
      "cell_type": "code",
      "source": [
        "a = 10\n",
        "b = 10.1\n",
        "\n",
        "a + b # 다른 일부 언어에서는 허용되지 않습니다. "
      ],
      "metadata": {
        "colab": {
          "base_uri": "https://localhost:8080/"
        },
        "id": "_xpjzwvH9W0E",
        "outputId": "c750b6b5-b164-4523-bc1e-41cb6fdc585f"
      },
      "execution_count": null,
      "outputs": [
        {
          "output_type": "execute_result",
          "data": {
            "text/plain": [
              "20.1"
            ]
          },
          "metadata": {},
          "execution_count": 61
        }
      ]
    },
    {
      "cell_type": "code",
      "source": [
        "# 부동소수점 오차(2진법으로 변환했을 때 0.1이 무한대수가 발생합니다.)\n",
        "0.1 + 0.2 # 대부분의 언어 공통입니다."
      ],
      "metadata": {
        "colab": {
          "base_uri": "https://localhost:8080/"
        },
        "id": "iPOP5_j09huq",
        "outputId": "8a8c50ce-4f0d-45d2-bb2d-774b8c10515f"
      },
      "execution_count": null,
      "outputs": [
        {
          "output_type": "execute_result",
          "data": {
            "text/plain": [
              "0.30000000000000004"
            ]
          },
          "metadata": {},
          "execution_count": 62
        }
      ]
    },
    {
      "cell_type": "code",
      "source": [
        "a = 0.1"
      ],
      "metadata": {
        "id": "WRmNCo4R93bc"
      },
      "execution_count": null,
      "outputs": []
    },
    {
      "cell_type": "code",
      "source": [
        "# 20번 반복해보세요.\n",
        "a = a + 0.1\n",
        "a"
      ],
      "metadata": {
        "colab": {
          "base_uri": "https://localhost:8080/"
        },
        "id": "5qPsROhP95mk",
        "outputId": "f02fcd5b-8a01-4116-81e4-d48fbde3e5bc"
      },
      "execution_count": null,
      "outputs": [
        {
          "output_type": "execute_result",
          "data": {
            "text/plain": [
              "1.0999999999999999"
            ]
          },
          "metadata": {},
          "execution_count": 73
        }
      ]
    },
    {
      "cell_type": "markdown",
      "source": [
        "* https://docs.python.org/ko/3/tutorial/floatingpoint.html\n",
        "* https://0.30000000000000004.com/ 에서 언어별 해결책을 제시한다.\n",
        "* 컴퓨터에서 부동소수점 숫자는 2진 분수로 표현되기에 무한대수가 발생한다.\n",
        "* [무한수가 발생되는 원리](https://www.notion.so/paullabworkspace/5f34f21bf9a34015b170e7afd7da9593)"
      ],
      "metadata": {
        "id": "qeW-c4rw-lqE"
      }
    },
    {
      "cell_type": "markdown",
      "source": [
        "## 오늘 배운 것 정리\n",
        "1. 단축키\n",
        "    * (필수) Ctrl(Command) + Enter : 해당 셀 실행\n",
        "    * (필수) Alt(Option) + Enter : 해당 셀 실행 + 코드 불록 하단 추가\n",
        "    * (필수) Ctrl + / : 주석\n",
        "    * (필수) Shift + Del : 한 줄 지우기\n",
        "    * (필수) Tab, Ctrl + ] : 들여쓰기\n",
        "    * (필수) Shift + Tab, Ctrl + [ : 내어쓰기\n",
        "\n",
        "2. 마크다운\n",
        "    ```\n",
        "    # hello\n",
        "    ## hello\n",
        "    ### hello\n",
        "\n",
        "    1. hello\n",
        "    2. hello\n",
        "    3. hello\n",
        "\n",
        "    * hello\n",
        "    * hello\n",
        "    * hello\n",
        "    ```\n",
        "\n",
        "3. 주석\n",
        "\n",
        "    ```python\n",
        "    #행 단위 주석입니다.\n",
        "\n",
        "    \"\"\"\n",
        "    큰 따옴표로 세번 묶거나\n",
        "    작은따옴표로 세번 묶으면\n",
        "    열단위 주석이 됩니다.\n",
        "    \"\"\"\n",
        "\n",
        "    '''\n",
        "    큰 따옴표로 세번 묶거나\n",
        "    작은따옴표로 세번 묶으면\n",
        "    열단위 주석이 됩니다.\n",
        "    '''\n",
        "    ```\n",
        "\n",
        "4. PEP8 권고사항\n",
        "    * 띄어쓰기는 4칸\n",
        "    * 한 줄에 79자 이상을 사용하지 않는다.\n",
        "\n",
        "5. 형의 종류(type, dir)\n",
        "    * 컨벤션 자료형(list, tuple, dict, set)은 나중에 진행합니다.\n",
        "    * int\n",
        "    * float\n",
        "    * bool\n",
        "    * str\n",
        "    * function\n",
        "    * bulit-in function\n",
        "\n",
        "6. 이스케이프 문자\n",
        "    * https://ko.wikipedia.org/wiki/%EC%9D%B4%EC%8A%A4%EC%BC%80%EC%9D%B4%ED%94%84_%EB%AC%B8%EC%9E%90\n",
        "    ```python\n",
        "    print('hello \\n world')\n",
        "    print('hello \\t world')\n",
        "    print('hello \\' world')\n",
        "    print('hello \\\" world')\n",
        "    print('hello \\\\ world')\n",
        "    ```\n",
        "\n",
        "7. 실무에서 자주 사용하는 타입확인 구문\n",
        "    ```python\n",
        "    type(10)\n",
        "    type(10) == int\n",
        "    type(10.1) == float\n",
        "\n",
        "    a = 10\n",
        "    isinstance(a, int)\n",
        "    isinstance(a, float)\n",
        "    ```\n",
        "\n",
        "8. 변수의 인사이트\n",
        "    ```\n",
        "    dir을 입력했을 때\n",
        "    1. __hello__와 같은 형태의 메직 메서드는 속성을 표현한다\n",
        "    2.  언더바가 없는 메서드는 해당 자료형의 편의 기능을 제공한다\n",
        "    ```\n",
        "\n",
        "9. 입력과 출력\n",
        "    ```python\n",
        "    x = input() #입력, 숫자를 입력해도 str\n",
        "    print(x) #출력\n",
        "\n",
        "    이름 = '이호준'\n",
        "    나이 = 10\n",
        "    print(f'제 이름은 {이름}입니다. 제 나이는 {나이}입니다.')\n",
        "    print(f'{100 * 10}')\n",
        "    ```\n",
        "\n",
        "\n",
        "10. int 형\n",
        "    * 2진수, 8진수, 16진수는 정수\n",
        "\n",
        "\n",
        "11. float 형\n",
        "    * 부동소수점 오차(2진법으로 변환했을 때 0.1이 무한대수가 발생합니다.)\n",
        "    0.1 + 0.2 # 대부분의 언어 공통입니다.\n",
        "    * https://docs.python.org/ko/3/tutorial/floatingpoint.html\n",
        "    * https://0.30000000000000004.com/ 에서 언어별 해결책을 제시한다."
      ],
      "metadata": {
        "id": "2pnCzgV5DMtw"
      }
    },
    {
      "cell_type": "markdown",
      "source": [
        "## str (문자열)"
      ],
      "metadata": {
        "id": "E1nDm4EOyOxg"
      }
    },
    {
      "cell_type": "markdown",
      "source": [
        "- 순서가 있는 **시퀀스 자료형**입니다.\n",
        "- 작은 따옴표(' ')나 큰 따옴표(\" \"), 삼중따옴표('''str''', \"\"\"str\"\"\")로 감싸는 것도 가능합니다. (삼중따옴표를 사용할 경우에는 줄단위의 문자열을 나타낼 수 있습니다.)\n",
        "- 작은 따옴표 안에 큰 따옴표, 큰 따옴표 안에 작은 따옴표 사용이 가능합니다.\n",
        "- 이스케이프 문자도 사용이 가능합니다.\n",
        "- 리스트, 튜플도 시퀀스 자료형입니다."
      ],
      "metadata": {
        "id": "oiTbcA4ZymFy"
      }
    },
    {
      "cell_type": "code",
      "source": [
        "s = 'paullab CEO leehojun'\n",
        "s[0] # 0은 index입니다. 이렇게 호출하는 것을 indexing이라고 합니다."
      ],
      "metadata": {
        "colab": {
          "base_uri": "https://localhost:8080/",
          "height": 35
        },
        "id": "bWpJ4e7Rymxn",
        "outputId": "5f3f9487-5b8b-4f08-c008-fc18674e793a"
      },
      "execution_count": null,
      "outputs": [
        {
          "output_type": "execute_result",
          "data": {
            "text/plain": [
              "'p'"
            ],
            "application/vnd.google.colaboratory.intrinsic+json": {
              "type": "string"
            }
          },
          "metadata": {},
          "execution_count": 2
        }
      ]
    },
    {
      "cell_type": "code",
      "source": [
        "type(s)"
      ],
      "metadata": {
        "colab": {
          "base_uri": "https://localhost:8080/"
        },
        "id": "b7Qrox7Kzw6l",
        "outputId": "09f4b060-5868-4c81-c093-1717e408796b"
      },
      "execution_count": null,
      "outputs": [
        {
          "output_type": "execute_result",
          "data": {
            "text/plain": [
              "str"
            ]
          },
          "metadata": {},
          "execution_count": 3
        }
      ]
    },
    {
      "cell_type": "code",
      "source": [
        "dir(s)"
      ],
      "metadata": {
        "colab": {
          "base_uri": "https://localhost:8080/"
        },
        "id": "ovEYlXhYz5WO",
        "outputId": "9600648b-1c17-4610-f06e-159723d2755a"
      },
      "execution_count": null,
      "outputs": [
        {
          "output_type": "execute_result",
          "data": {
            "text/plain": [
              "['__add__',\n",
              " '__class__',\n",
              " '__contains__',\n",
              " '__delattr__',\n",
              " '__dir__',\n",
              " '__doc__',\n",
              " '__eq__',\n",
              " '__format__',\n",
              " '__ge__',\n",
              " '__getattribute__',\n",
              " '__getitem__',\n",
              " '__getnewargs__',\n",
              " '__gt__',\n",
              " '__hash__',\n",
              " '__init__',\n",
              " '__init_subclass__',\n",
              " '__iter__',\n",
              " '__le__',\n",
              " '__len__',\n",
              " '__lt__',\n",
              " '__mod__',\n",
              " '__mul__',\n",
              " '__ne__',\n",
              " '__new__',\n",
              " '__reduce__',\n",
              " '__reduce_ex__',\n",
              " '__repr__',\n",
              " '__rmod__',\n",
              " '__rmul__',\n",
              " '__setattr__',\n",
              " '__sizeof__',\n",
              " '__str__',\n",
              " '__subclasshook__',\n",
              " 'capitalize',\n",
              " 'casefold',\n",
              " 'center',\n",
              " 'count',\n",
              " 'encode',\n",
              " 'endswith',\n",
              " 'expandtabs',\n",
              " 'find',\n",
              " 'format',\n",
              " 'format_map',\n",
              " 'index',\n",
              " 'isalnum',\n",
              " 'isalpha',\n",
              " 'isascii',\n",
              " 'isdecimal',\n",
              " 'isdigit',\n",
              " 'isidentifier',\n",
              " 'islower',\n",
              " 'isnumeric',\n",
              " 'isprintable',\n",
              " 'isspace',\n",
              " 'istitle',\n",
              " 'isupper',\n",
              " 'join',\n",
              " 'ljust',\n",
              " 'lower',\n",
              " 'lstrip',\n",
              " 'maketrans',\n",
              " 'partition',\n",
              " 'removeprefix',\n",
              " 'removesuffix',\n",
              " 'replace',\n",
              " 'rfind',\n",
              " 'rindex',\n",
              " 'rjust',\n",
              " 'rpartition',\n",
              " 'rsplit',\n",
              " 'rstrip',\n",
              " 'split',\n",
              " 'splitlines',\n",
              " 'startswith',\n",
              " 'strip',\n",
              " 'swapcase',\n",
              " 'title',\n",
              " 'translate',\n",
              " 'upper',\n",
              " 'zfill']"
            ]
          },
          "metadata": {},
          "execution_count": 4
        }
      ]
    },
    {
      "cell_type": "code",
      "source": [
        "# 문자열의 메서드\n",
        "# 'capitalize','casefold','center','count','encode',\n",
        "# 'endswith','expandtabs','find','format','format_map',\n",
        "# 'index','isalnum','isalpha','isascii','isdecimal','isdigit',\n",
        "# 'isidentifier','islower','isnumeric','isprintable','isspace',\n",
        "# 'istitle','isupper','join','ljust','lower','lstrip',\n",
        "# 'maketrans','partition','removeprefix','removesuffix',\n",
        "# 'replace','rfind','rindex','rjust','rpartition','rsplit',\n",
        "# 'rstrip','split','splitlines','startswith','strip','swapcase',\n",
        "# 'title','translate','upper','zfill'"
      ],
      "metadata": {
        "id": "8v9ORs0wz7M6"
      },
      "execution_count": null,
      "outputs": []
    },
    {
      "cell_type": "code",
      "source": [
        "s = 'paullab CEO leehojun'\n",
        "s.lower(), s.upper() \n",
        "# 특히 사용자에게 입력을 받는 경우 lower도 많이 사용합니다."
      ],
      "metadata": {
        "colab": {
          "base_uri": "https://localhost:8080/"
        },
        "id": "h3rHBF2q0ccP",
        "outputId": "9c2caee2-4622-442d-e30e-47f88321819d"
      },
      "execution_count": null,
      "outputs": [
        {
          "output_type": "execute_result",
          "data": {
            "text/plain": [
              "('paullab ceo leehojun', 'PAULLAB CEO LEEHOJUN')"
            ]
          },
          "metadata": {},
          "execution_count": 6
        }
      ]
    },
    {
      "cell_type": "code",
      "source": [
        "s = 'paullab CEO leehojun'\n",
        "s.find('C'), s.index('C')"
      ],
      "metadata": {
        "colab": {
          "base_uri": "https://localhost:8080/"
        },
        "id": "J1XZeKRq0nyr",
        "outputId": "2a9e09f3-0bc8-412c-98f4-845e8ef0d744"
      },
      "execution_count": null,
      "outputs": [
        {
          "output_type": "execute_result",
          "data": {
            "text/plain": [
              "(8, 8)"
            ]
          },
          "metadata": {},
          "execution_count": 8
        }
      ]
    },
    {
      "cell_type": "code",
      "source": [
        "# 견고한 코드란?\n",
        "# 시간이 지나도 그대로 사용할 수 있고\n",
        "# error가 예측 가능하게 나는 코드\n",
        "# 네이버에 이미지 슬라이딩 코드\n",
        "# bool(s.find('Z')) => -1은 True이기 때문에 주의가 필요합니다.\n",
        "s.find('Z')"
      ],
      "metadata": {
        "colab": {
          "base_uri": "https://localhost:8080/"
        },
        "id": "ZI_2ilR71RrP",
        "outputId": "527cab8b-6de4-49dd-947a-613c379d1aa5"
      },
      "execution_count": null,
      "outputs": [
        {
          "output_type": "execute_result",
          "data": {
            "text/plain": [
              "-1"
            ]
          },
          "metadata": {},
          "execution_count": 12
        }
      ]
    },
    {
      "cell_type": "code",
      "source": [
        "# Error가 나면 Error를 주는 것이 좋을 수 있습니다.\n",
        "# Error를 안주는 언어로 JavaScript\n",
        "s.index('Z')"
      ],
      "metadata": {
        "colab": {
          "base_uri": "https://localhost:8080/",
          "height": 206
        },
        "id": "r-N9BWGI1icv",
        "outputId": "a4087e50-bf59-4788-c464-e08b14d1f605"
      },
      "execution_count": null,
      "outputs": [
        {
          "output_type": "error",
          "ename": "ValueError",
          "evalue": "ignored",
          "traceback": [
            "\u001b[0;31m---------------------------------------------------------------------------\u001b[0m",
            "\u001b[0;31mValueError\u001b[0m                                Traceback (most recent call last)",
            "\u001b[0;32m<ipython-input-13-85c68513f932>\u001b[0m in \u001b[0;36m<cell line: 3>\u001b[0;34m()\u001b[0m\n\u001b[1;32m      1\u001b[0m \u001b[0;31m# Error가 나면 Error를 주는 것이 좋을 수 있습니다.\u001b[0m\u001b[0;34m\u001b[0m\u001b[0;34m\u001b[0m\u001b[0m\n\u001b[1;32m      2\u001b[0m \u001b[0;31m# Error를 안주는 언어로 JavaScript\u001b[0m\u001b[0;34m\u001b[0m\u001b[0;34m\u001b[0m\u001b[0m\n\u001b[0;32m----> 3\u001b[0;31m \u001b[0ms\u001b[0m\u001b[0;34m.\u001b[0m\u001b[0mindex\u001b[0m\u001b[0;34m(\u001b[0m\u001b[0;34m'Z'\u001b[0m\u001b[0;34m)\u001b[0m\u001b[0;34m\u001b[0m\u001b[0;34m\u001b[0m\u001b[0m\n\u001b[0m",
            "\u001b[0;31mValueError\u001b[0m: substring not found"
          ]
        }
      ]
    },
    {
      "cell_type": "code",
      "source": [
        "s = 'paullab CEO leehojun'\n",
        "s.find('CEO')"
      ],
      "metadata": {
        "colab": {
          "base_uri": "https://localhost:8080/"
        },
        "id": "_028fVhM2fcV",
        "outputId": "b6048a07-4f6d-4a9c-f8dc-e201c531aa53"
      },
      "execution_count": null,
      "outputs": [
        {
          "output_type": "execute_result",
          "data": {
            "text/plain": [
              "8"
            ]
          },
          "metadata": {},
          "execution_count": 14
        }
      ]
    },
    {
      "cell_type": "code",
      "source": [
        "# 별 5개\n",
        "s = 'paullab CEO leehojun'\n",
        "s.count('l')"
      ],
      "metadata": {
        "colab": {
          "base_uri": "https://localhost:8080/"
        },
        "id": "tWJfrb6J2wAN",
        "outputId": "b2108642-27a8-43ea-834e-df6fa56152db"
      },
      "execution_count": null,
      "outputs": [
        {
          "output_type": "execute_result",
          "data": {
            "text/plain": [
              "3"
            ]
          },
          "metadata": {},
          "execution_count": 15
        }
      ]
    },
    {
      "cell_type": "code",
      "source": [
        "str([1, 2, 3, 4, 5])"
      ],
      "metadata": {
        "colab": {
          "base_uri": "https://localhost:8080/",
          "height": 35
        },
        "id": "Q5Pdxwt721HM",
        "outputId": "81af1ab2-c4e8-4db7-ac09-ea200d09fd50"
      },
      "execution_count": null,
      "outputs": [
        {
          "output_type": "execute_result",
          "data": {
            "text/plain": [
              "'[1, 2, 3, 4, 5]'"
            ],
            "application/vnd.google.colaboratory.intrinsic+json": {
              "type": "string"
            }
          },
          "metadata": {},
          "execution_count": 16
        }
      ]
    },
    {
      "cell_type": "code",
      "source": [
        "str([1, 2, 3, 4, 5]).count(' ')"
      ],
      "metadata": {
        "colab": {
          "base_uri": "https://localhost:8080/"
        },
        "id": "EccL4X063A7i",
        "outputId": "2bd10bbf-a05c-4ccd-e173-f7ae3048f404"
      },
      "execution_count": null,
      "outputs": [
        {
          "output_type": "execute_result",
          "data": {
            "text/plain": [
              "4"
            ]
          },
          "metadata": {},
          "execution_count": 17
        }
      ]
    },
    {
      "cell_type": "code",
      "source": [
        "str([1, 2, 3, 4, 5]).count(',')"
      ],
      "metadata": {
        "colab": {
          "base_uri": "https://localhost:8080/"
        },
        "id": "o7jBZFYA3E0R",
        "outputId": "a123e4f0-7145-46e7-83c8-5b7946758cf2"
      },
      "execution_count": null,
      "outputs": [
        {
          "output_type": "execute_result",
          "data": {
            "text/plain": [
              "4"
            ]
          },
          "metadata": {},
          "execution_count": 18
        }
      ]
    },
    {
      "cell_type": "code",
      "source": [
        "str([1, 2, 11, 4, 111]).count('1')"
      ],
      "metadata": {
        "colab": {
          "base_uri": "https://localhost:8080/"
        },
        "id": "2sZCJILx3IuQ",
        "outputId": "3c716701-78d7-4cf8-87de-62d83cd1fa78"
      },
      "execution_count": null,
      "outputs": [
        {
          "output_type": "execute_result",
          "data": {
            "text/plain": [
              "6"
            ]
          },
          "metadata": {},
          "execution_count": 19
        }
      ]
    },
    {
      "cell_type": "code",
      "source": [
        "str(list(range(0, 10001))).count('8')"
      ],
      "metadata": {
        "colab": {
          "base_uri": "https://localhost:8080/"
        },
        "id": "06OUri5l5dWV",
        "outputId": "dc89cf7d-31ae-49da-9f07-63a4371198af"
      },
      "execution_count": null,
      "outputs": [
        {
          "output_type": "execute_result",
          "data": {
            "text/plain": [
              "4000"
            ]
          },
          "metadata": {},
          "execution_count": 26
        }
      ]
    },
    {
      "cell_type": "markdown",
      "source": [
        "* https://codingdojang.com/scode/393?answer_mode=hide"
      ],
      "metadata": {
        "id": "TrBrUwOA3mDb"
      }
    },
    {
      "cell_type": "code",
      "source": [
        "str([1,2,3,4,5]).count(' ') \n",
        "# list는 콤마 다음에 공백이 없더라도 공백으로 인식해줍니다."
      ],
      "metadata": {
        "colab": {
          "base_uri": "https://localhost:8080/"
        },
        "id": "zneiE8k43neD",
        "outputId": "344de3ba-8375-4019-b02a-c8ab0e4400c5"
      },
      "execution_count": null,
      "outputs": [
        {
          "output_type": "execute_result",
          "data": {
            "text/plain": [
              "4"
            ]
          },
          "metadata": {},
          "execution_count": 20
        }
      ]
    },
    {
      "cell_type": "code",
      "source": [
        "str([1,\n",
        "     2,\n",
        "     3,\n",
        "     4,\n",
        "     5]).count(' ')\n",
        "# list는 콤마 다음에 공백이 없더라도 공백으로 인식해줍니다."
      ],
      "metadata": {
        "colab": {
          "base_uri": "https://localhost:8080/"
        },
        "id": "bMCFS2KL4pao",
        "outputId": "9ec7aaea-724c-40b5-bd86-69b094d561b7"
      },
      "execution_count": null,
      "outputs": [
        {
          "output_type": "execute_result",
          "data": {
            "text/plain": [
              "4"
            ]
          },
          "metadata": {},
          "execution_count": 25
        }
      ]
    },
    {
      "cell_type": "code",
      "source": [
        "'hello'.count('')"
      ],
      "metadata": {
        "colab": {
          "base_uri": "https://localhost:8080/"
        },
        "id": "PQ9e39Of4HaA",
        "outputId": "4f6cf330-9cdd-4532-abf1-2f51479f91cb"
      },
      "execution_count": null,
      "outputs": [
        {
          "output_type": "execute_result",
          "data": {
            "text/plain": [
              "6"
            ]
          },
          "metadata": {},
          "execution_count": 21
        }
      ]
    },
    {
      "cell_type": "code",
      "source": [
        "'a'.count('')"
      ],
      "metadata": {
        "colab": {
          "base_uri": "https://localhost:8080/"
        },
        "id": "sb3Movhi4alU",
        "outputId": "386f5da3-7f47-4b1e-f0ce-421d85230aac"
      },
      "execution_count": null,
      "outputs": [
        {
          "output_type": "execute_result",
          "data": {
            "text/plain": [
              "2"
            ]
          },
          "metadata": {},
          "execution_count": 23
        }
      ]
    },
    {
      "cell_type": "code",
      "source": [
        "''.count('')"
      ],
      "metadata": {
        "colab": {
          "base_uri": "https://localhost:8080/"
        },
        "id": "F-_Q0q9u4VwR",
        "outputId": "c7c7cd3f-9465-4c47-f490-f1e84b258d76"
      },
      "execution_count": null,
      "outputs": [
        {
          "output_type": "execute_result",
          "data": {
            "text/plain": [
              "1"
            ]
          },
          "metadata": {},
          "execution_count": 22
        }
      ]
    },
    {
      "cell_type": "code",
      "source": [
        "'' + ''"
      ],
      "metadata": {
        "colab": {
          "base_uri": "https://localhost:8080/",
          "height": 35
        },
        "id": "l7wUovyB4fz3",
        "outputId": "ea3589d3-a127-4014-b12b-730ab37e6a52"
      },
      "execution_count": null,
      "outputs": [
        {
          "output_type": "execute_result",
          "data": {
            "text/plain": [
              "''"
            ],
            "application/vnd.google.colaboratory.intrinsic+json": {
              "type": "string"
            }
          },
          "metadata": {},
          "execution_count": 24
        }
      ]
    },
    {
      "cell_type": "code",
      "source": [
        "'   hello   !  '.strip() # 공백제거 메서드"
      ],
      "metadata": {
        "colab": {
          "base_uri": "https://localhost:8080/",
          "height": 35
        },
        "id": "dbd7lYMi6Yqj",
        "outputId": "e11d1fb3-009a-474a-b813-8111098fdf37"
      },
      "execution_count": null,
      "outputs": [
        {
          "output_type": "execute_result",
          "data": {
            "text/plain": [
              "'hello   !'"
            ],
            "application/vnd.google.colaboratory.intrinsic+json": {
              "type": "string"
            }
          },
          "metadata": {},
          "execution_count": 27
        }
      ]
    },
    {
      "cell_type": "code",
      "source": [
        "'   hello   !  '.rstrip()"
      ],
      "metadata": {
        "colab": {
          "base_uri": "https://localhost:8080/",
          "height": 35
        },
        "id": "WVS77H4V6mUE",
        "outputId": "0d666718-3f44-46ca-edb8-4be3523d64c0"
      },
      "execution_count": null,
      "outputs": [
        {
          "output_type": "execute_result",
          "data": {
            "text/plain": [
              "'   hello   !'"
            ],
            "application/vnd.google.colaboratory.intrinsic+json": {
              "type": "string"
            }
          },
          "metadata": {},
          "execution_count": 28
        }
      ]
    },
    {
      "cell_type": "code",
      "source": [
        "'   hello   !  '.lstrip()"
      ],
      "metadata": {
        "colab": {
          "base_uri": "https://localhost:8080/",
          "height": 35
        },
        "id": "CEQN_QWY6qzH",
        "outputId": "96923884-f760-4268-99d8-173698289a96"
      },
      "execution_count": null,
      "outputs": [
        {
          "output_type": "execute_result",
          "data": {
            "text/plain": [
              "'hello   !  '"
            ],
            "application/vnd.google.colaboratory.intrinsic+json": {
              "type": "string"
            }
          },
          "metadata": {},
          "execution_count": 29
        }
      ]
    },
    {
      "cell_type": "code",
      "source": [
        "# 별 5개\n",
        "'hello world hi'.replace(' ', '!')\n",
        "'hello world hi'.replace('world', 'W@O@R@L@D').upper()"
      ],
      "metadata": {
        "colab": {
          "base_uri": "https://localhost:8080/",
          "height": 35
        },
        "id": "5F8ftW7v62_v",
        "outputId": "d85ef3db-a9be-4c22-d732-443654001608"
      },
      "execution_count": null,
      "outputs": [
        {
          "output_type": "execute_result",
          "data": {
            "text/plain": [
              "'HELLO W@O@R@L@D HI'"
            ],
            "application/vnd.google.colaboratory.intrinsic+json": {
              "type": "string"
            }
          },
          "metadata": {},
          "execution_count": 32
        }
      ]
    },
    {
      "cell_type": "code",
      "source": [
        "'hello world hi'.replace('world', 'W@O@R@L@D').upper().split('@')\n",
        "# 반환값이 list이기 때문에 메서드 체이닝을 하려면 \n",
        "# 이후로 list 메서드를 사용해야 합니다."
      ],
      "metadata": {
        "colab": {
          "base_uri": "https://localhost:8080/"
        },
        "id": "LhlU1SoG7UQE",
        "outputId": "f46e358d-1548-420f-b741-512d9d96c974"
      },
      "execution_count": null,
      "outputs": [
        {
          "output_type": "execute_result",
          "data": {
            "text/plain": [
              "['HELLO W', 'O', 'R', 'L', 'D HI']"
            ]
          },
          "metadata": {},
          "execution_count": 34
        }
      ]
    },
    {
      "cell_type": "code",
      "source": [
        "'hello world hi'.replace(' ', '')"
      ],
      "metadata": {
        "colab": {
          "base_uri": "https://localhost:8080/",
          "height": 35
        },
        "id": "HgCloIUj7qE1",
        "outputId": "e0eddfd3-c2b6-4473-bd70-2e801f59147e"
      },
      "execution_count": null,
      "outputs": [
        {
          "output_type": "execute_result",
          "data": {
            "text/plain": [
              "'helloworldhi'"
            ],
            "application/vnd.google.colaboratory.intrinsic+json": {
              "type": "string"
            }
          },
          "metadata": {},
          "execution_count": 35
        }
      ]
    },
    {
      "cell_type": "code",
      "source": [
        "data = '''  \"+ +-+ -+-\"  \n",
        "  \"++ -- +-+\"  \n",
        "  \"++-+ -+ -\"  \n",
        "  \"+ ++-+ -+\"  '''\n",
        "\n",
        "data.split('\\n')[0].replace(' ', '').replace('\"', '')\n",
        "\n",
        "# Pythonic하지 않다!\n",
        "data.split('\\n')[0].replace(' ', \n",
        "                '').replace('\"', \n",
        "                '')\n",
        "\n",
        "# Pythonic하게 하려면\n",
        "data.split('\\n')[0]\\\n",
        "                .replace(' ', '')\\\n",
        "                .replace('\"', '')\\\n",
        "                .replace('\"', '')\\\n",
        "                .replace('\"', '')\\\n",
        "                .replace('\"', '')\\\n",
        "                .replace('\"', '')\\\n",
        "                .replace('\"', '')\\\n",
        "                .replace('\"', '')\n",
        "\n",
        "# 제가 사용하는 기법\n",
        "processed_string = data.split('\\n')[0].replace(' ', '').replace('\"', '')\n",
        "processed_string.replace('\"', '').replace('\"', '')"
      ],
      "metadata": {
        "colab": {
          "base_uri": "https://localhost:8080/",
          "height": 35
        },
        "id": "LOvQCma879mP",
        "outputId": "62e34a11-8229-41f3-9ef5-bbda10b0e29b"
      },
      "execution_count": null,
      "outputs": [
        {
          "output_type": "execute_result",
          "data": {
            "text/plain": [
              "'++-+-+-'"
            ],
            "application/vnd.google.colaboratory.intrinsic+json": {
              "type": "string"
            }
          },
          "metadata": {},
          "execution_count": 45
        }
      ]
    },
    {
      "cell_type": "code",
      "source": [
        "# aaaaaaaaaaaaaaaaaaaaaaaaaaaaaaaaaaaaaaaaaaaaaaaaaaaaaaaaaaaaaaaaaaaaaaaaaaaaaaaa 79자\n",
        "# 아아아아아아아아아아아아아아아아아아아아아아아아아아아아아아아아아아아아아아아아 39자"
      ],
      "metadata": {
        "id": "UzFN4lWq_b0Q"
      },
      "execution_count": null,
      "outputs": []
    },
    {
      "cell_type": "code",
      "source": [
        "data = '''  \"+ +-+ -+-\"  \n",
        "  \"++ -- +-+\"  \n",
        "  \"++-+ -+ -\"  \n",
        "  \"+ ++-+ -+\"  '''\n",
        "\n",
        "data.split('\\n')[0].replace(' ', '').replace('\"', '').replace('+', '1').replace('-', '0')\n",
        "ord('A'), chr(65) # ord는 문자를 가지고 숫자로 변경 chr은 숫자를 가지고 문자로 변경합니다.\n",
        "\n",
        "숫자 = data.split('\\n')[0].replace(' ', '').replace('\"', '').replace('+', '1').replace('-', '0')\n",
        "int(숫자, 2)\n",
        "chr(int(숫자, 2))"
      ],
      "metadata": {
        "colab": {
          "base_uri": "https://localhost:8080/",
          "height": 35
        },
        "id": "OaxoAwFoA3Ou",
        "outputId": "c556f3e4-5ed3-4067-c9f6-22fbf8142432"
      },
      "execution_count": null,
      "outputs": [
        {
          "output_type": "execute_result",
          "data": {
            "text/plain": [
              "'j'"
            ],
            "application/vnd.google.colaboratory.intrinsic+json": {
              "type": "string"
            }
          },
          "metadata": {},
          "execution_count": 50
        }
      ]
    },
    {
      "cell_type": "code",
      "source": [
        "# 별 4.5개\n",
        "'paullab CEO leehojun'.split(' ') #문자열을 쪼개어 줍니다.\n",
        "'paullab!CEO!leehojun'.split('!')\n",
        "'paullab,CEO,leehojun'.split(',')"
      ],
      "metadata": {
        "colab": {
          "base_uri": "https://localhost:8080/"
        },
        "id": "CjjncWxRCDN2",
        "outputId": "9a435c70-6291-4569-fd95-e223d014d4c1"
      },
      "execution_count": null,
      "outputs": [
        {
          "output_type": "execute_result",
          "data": {
            "text/plain": [
              "['paullab', 'CEO', 'leehojun']"
            ]
          },
          "metadata": {},
          "execution_count": 51
        }
      ]
    },
    {
      "cell_type": "code",
      "source": [
        "# 퀴즈\n",
        "'010 5044 2903' # 1번\n",
        "'010-5044-2903' # 2번\n",
        "'010 5044-2903' # 3번"
      ],
      "metadata": {
        "id": "gkhSY2pjCJGC"
      },
      "execution_count": null,
      "outputs": []
    },
    {
      "cell_type": "code",
      "source": [
        "# 원하는 결과값\n",
        "# ['010', '5044', '2903']\n",
        "# [10, 5044, 2903] # 010은 error가 나기 때문에 10으로 저장"
      ],
      "metadata": {
        "colab": {
          "base_uri": "https://localhost:8080/"
        },
        "id": "cR5wOce2CPrm",
        "outputId": "82668af9-13d8-42db-c01d-4dca1160604c"
      },
      "execution_count": null,
      "outputs": [
        {
          "output_type": "execute_result",
          "data": {
            "text/plain": [
              "[10, 5044, 2903]"
            ]
          },
          "metadata": {},
          "execution_count": 53
        }
      ]
    },
    {
      "cell_type": "code",
      "source": [
        "'010 5044 2903'.split(' ')\n",
        "'010-5044-2903'.split('-')\n",
        "'010 5044-2903'.replace(' ', '-').split('-')"
      ],
      "metadata": {
        "colab": {
          "base_uri": "https://localhost:8080/"
        },
        "id": "qQkuKM8dFeRC",
        "outputId": "3d1d0cd8-43f1-4560-df75-2c66f3456407"
      },
      "execution_count": null,
      "outputs": [
        {
          "output_type": "execute_result",
          "data": {
            "text/plain": [
              "['010', '5044', '2903']"
            ]
          },
          "metadata": {},
          "execution_count": 55
        }
      ]
    },
    {
      "cell_type": "code",
      "source": [
        "'010 5044 2903'.split() # 공백단위가 들어가기 됩니다."
      ],
      "metadata": {
        "colab": {
          "base_uri": "https://localhost:8080/"
        },
        "id": "8vKz9b_1Fv0S",
        "outputId": "f9924291-1224-4a37-9385-cf7a80e9ee13"
      },
      "execution_count": null,
      "outputs": [
        {
          "output_type": "execute_result",
          "data": {
            "text/plain": [
              "['010', '5044', '2903']"
            ]
          },
          "metadata": {},
          "execution_count": 56
        }
      ]
    },
    {
      "cell_type": "code",
      "source": [
        "# '01050442903'.split('') # 빈 문자열을 넣지는 못합니다."
      ],
      "metadata": {
        "id": "VchqEmS4F2L9"
      },
      "execution_count": null,
      "outputs": []
    },
    {
      "cell_type": "code",
      "source": [
        "list(map(int,'010 5044 2903'.split(' ')))"
      ],
      "metadata": {
        "id": "OhV1Ll56GAG7"
      },
      "execution_count": null,
      "outputs": []
    },
    {
      "cell_type": "code",
      "source": [
        "int('010')"
      ],
      "metadata": {
        "colab": {
          "base_uri": "https://localhost:8080/"
        },
        "id": "b7k1FI7gMO4G",
        "outputId": "dad839ec-da7d-4bd6-b887-02a6027c94d3"
      },
      "execution_count": null,
      "outputs": [
        {
          "output_type": "execute_result",
          "data": {
            "text/plain": [
              "10"
            ]
          },
          "metadata": {},
          "execution_count": 80
        }
      ]
    },
    {
      "cell_type": "code",
      "source": [
        "# print(010) # error"
      ],
      "metadata": {
        "id": "0xRg5xOPMR8g"
      },
      "execution_count": null,
      "outputs": []
    },
    {
      "cell_type": "code",
      "source": [
        "num ='010 5044-2903'.replace('-',' ').split(' ')\n",
        "[int(i) for i in num] # 리스트 컴프리헨션 사용\n",
        "list(map(int, '010 5044 2903'.split(' ')))\n",
        "\n",
        "# 2개 모두 새로운 리스트를 만드는 것입니다.\n",
        "# 원본을 변경시키지 않습니다."
      ],
      "metadata": {
        "colab": {
          "base_uri": "https://localhost:8080/"
        },
        "id": "aSI-R1PVMcFv",
        "outputId": "0f56cadf-d7aa-4ac7-e15d-889947b91e08"
      },
      "execution_count": null,
      "outputs": [
        {
          "output_type": "execute_result",
          "data": {
            "text/plain": [
              "[10, 5044, 2903]"
            ]
          },
          "metadata": {},
          "execution_count": 82
        }
      ]
    },
    {
      "cell_type": "code",
      "source": [
        "# 이 코드 보다는\n",
        "s = []\n",
        "for i in '010 5044-2903'.replace('-',' ').split(' '):\n",
        "    s.append(int(i))\n",
        "s\n",
        "\n",
        "# 요 코드를 추천합니다.\n",
        "[int(i) for i in num]"
      ],
      "metadata": {
        "colab": {
          "base_uri": "https://localhost:8080/"
        },
        "id": "mTb4latVM_E3",
        "outputId": "4296b99f-c6e8-4e3a-dfb4-e19ffa5963d5"
      },
      "execution_count": null,
      "outputs": [
        {
          "output_type": "execute_result",
          "data": {
            "text/plain": [
              "[10, 5044, 2903]"
            ]
          },
          "metadata": {},
          "execution_count": 83
        }
      ]
    },
    {
      "cell_type": "code",
      "source": [
        "# 지금 진도에서 과하기 때문에 \n",
        "# 지금은 잊으셔도 됩니다.\n",
        "# 뒤에서 상세하게 다룹니다.\n",
        "def 제곱함수(x):\n",
        "    return x ** 2\n",
        "\n",
        "def 정수함수(x):\n",
        "    return int(x)\n",
        "\n",
        "list(map(제곱함수, [1, 2, 3]))\n",
        "list(map(정수함수, ['1', '2', '3']))\n",
        "list(map(int, ['1', '2', '3']))\n",
        "\n",
        "list(map(int, ['010', '5044', '2903']))\n",
        "list(map(int,'010 5044 2903'.split(' ')))"
      ],
      "metadata": {
        "colab": {
          "base_uri": "https://localhost:8080/"
        },
        "id": "HmHlfOQQGKJn",
        "outputId": "478ed352-6e96-48d7-f035-7aeb5605730f"
      },
      "execution_count": null,
      "outputs": [
        {
          "output_type": "execute_result",
          "data": {
            "text/plain": [
              "[10, 5044, 2903]"
            ]
          },
          "metadata": {},
          "execution_count": 62
        }
      ]
    },
    {
      "cell_type": "code",
      "source": [
        "# 별 4.5 개\n",
        "'~'.join(['hello', 'world', 'hello'])\n",
        "'!'.join(['hello', 'world', 'hello'])\n",
        "''.join(['hello', 'world', 'hello'])\n",
        "' '.join(['hello', 'world', 'hello'])"
      ],
      "metadata": {
        "colab": {
          "base_uri": "https://localhost:8080/",
          "height": 35
        },
        "id": "BFFvaHDqHRXF",
        "outputId": "a5f098bd-f4a7-4cc8-bb6c-2c2271292e41"
      },
      "execution_count": null,
      "outputs": [
        {
          "output_type": "execute_result",
          "data": {
            "text/plain": [
              "'hello world hello'"
            ],
            "application/vnd.google.colaboratory.intrinsic+json": {
              "type": "string"
            }
          },
          "metadata": {},
          "execution_count": 66
        }
      ]
    },
    {
      "cell_type": "code",
      "source": [
        "'hello'.isalpha()"
      ],
      "metadata": {
        "colab": {
          "base_uri": "https://localhost:8080/"
        },
        "id": "4Md6KDkQH5AB",
        "outputId": "1d41790a-ba2a-4844-ad24-20ddc8b8eff4"
      },
      "execution_count": null,
      "outputs": [
        {
          "output_type": "execute_result",
          "data": {
            "text/plain": [
              "True"
            ]
          },
          "metadata": {},
          "execution_count": 67
        }
      ]
    },
    {
      "cell_type": "code",
      "source": [
        "'he llo'.isalpha()"
      ],
      "metadata": {
        "colab": {
          "base_uri": "https://localhost:8080/"
        },
        "id": "neHWzABWIAei",
        "outputId": "b44c1b52-834e-4ac7-a083-84a54299a0f4"
      },
      "execution_count": null,
      "outputs": [
        {
          "output_type": "execute_result",
          "data": {
            "text/plain": [
              "False"
            ]
          },
          "metadata": {},
          "execution_count": 68
        }
      ]
    },
    {
      "cell_type": "code",
      "source": [
        "'123'.isdigit()"
      ],
      "metadata": {
        "colab": {
          "base_uri": "https://localhost:8080/"
        },
        "id": "McC_9BWrIGlZ",
        "outputId": "57272877-2134-4fa8-e863-ac469a6679e8"
      },
      "execution_count": null,
      "outputs": [
        {
          "output_type": "execute_result",
          "data": {
            "text/plain": [
              "True"
            ]
          },
          "metadata": {},
          "execution_count": 69
        }
      ]
    },
    {
      "cell_type": "code",
      "source": [
        "'12a3'.isdigit(), '12 3'.isdigit()"
      ],
      "metadata": {
        "colab": {
          "base_uri": "https://localhost:8080/"
        },
        "id": "dhOpP3MfIJaJ",
        "outputId": "676dda5b-f787-4e9e-a484-5c00c007035b"
      },
      "execution_count": null,
      "outputs": [
        {
          "output_type": "execute_result",
          "data": {
            "text/plain": [
              "False"
            ]
          },
          "metadata": {},
          "execution_count": 71
        }
      ]
    },
    {
      "cell_type": "code",
      "source": [
        "'12a3'.isalnum(), '12 3'.isalnum()"
      ],
      "metadata": {
        "colab": {
          "base_uri": "https://localhost:8080/"
        },
        "id": "_sQWXeAFIUHD",
        "outputId": "43b8c785-9e87-4955-b5a0-b6ff7329fc05"
      },
      "execution_count": null,
      "outputs": [
        {
          "output_type": "execute_result",
          "data": {
            "text/plain": [
              "(True, False)"
            ]
          },
          "metadata": {},
          "execution_count": 72
        }
      ]
    },
    {
      "cell_type": "code",
      "source": [
        "'안녕하세요!'.isalpha(), '안녕하세요!'.isalnum()"
      ],
      "metadata": {
        "colab": {
          "base_uri": "https://localhost:8080/"
        },
        "id": "jKjJFISBIb9Q",
        "outputId": "1ea6d47d-6162-4d68-98bf-469449f853aa"
      },
      "execution_count": null,
      "outputs": [
        {
          "output_type": "execute_result",
          "data": {
            "text/plain": [
              "(False, False)"
            ]
          },
          "metadata": {},
          "execution_count": 73
        }
      ]
    },
    {
      "cell_type": "code",
      "source": [
        "# 퀴즈\n",
        "# 숫자를 모두 더하라!\n",
        "result = 0\n",
        "for i in '123abc913sldlf':\n",
        "    # print(i.isdigit())\n",
        "    if i.isdigit():\n",
        "        result += int(i) # result = result + int(i)\n",
        "result"
      ],
      "metadata": {
        "colab": {
          "base_uri": "https://localhost:8080/"
        },
        "id": "-XrpDD93Im_1",
        "outputId": "16b6fd66-e593-455e-e4f2-76e6db35afa1"
      },
      "execution_count": null,
      "outputs": [
        {
          "output_type": "execute_result",
          "data": {
            "text/plain": [
              "19"
            ]
          },
          "metadata": {},
          "execution_count": 78
        }
      ]
    },
    {
      "cell_type": "code",
      "source": [
        "result = 0\n",
        "for i in '123abc913sldlf':\n",
        "    if i.isdigit():\n",
        "        result += int(i)\n",
        "result"
      ],
      "metadata": {
        "id": "QqgISZHCJPQp"
      },
      "execution_count": null,
      "outputs": []
    },
    {
      "cell_type": "code",
      "source": [
        "'paullab CEO leehojun'.isascii()"
      ],
      "metadata": {
        "colab": {
          "base_uri": "https://localhost:8080/"
        },
        "id": "FefJOIHFNbfe",
        "outputId": "8994ec54-d8fe-43eb-bc4d-385ec1144521"
      },
      "execution_count": null,
      "outputs": [
        {
          "output_type": "execute_result",
          "data": {
            "text/plain": [
              "True"
            ]
          },
          "metadata": {},
          "execution_count": 84
        }
      ]
    },
    {
      "cell_type": "code",
      "source": [
        "'paullab CEO leehojun'.rjust(30) #오른쪽 정렬\n",
        "'paullab CEO leehojun'.ljust(30) #왼쪽 정렬\n",
        "'paullab CEO leehojun'.center(30)#가운데 정렬"
      ],
      "metadata": {
        "colab": {
          "base_uri": "https://localhost:8080/",
          "height": 35
        },
        "id": "GSgKmh2EJhxy",
        "outputId": "500562eb-f5bc-4191-8772-27c62f19a893"
      },
      "execution_count": null,
      "outputs": [
        {
          "output_type": "execute_result",
          "data": {
            "text/plain": [
              "'     paullab CEO leehojun     '"
            ],
            "application/vnd.google.colaboratory.intrinsic+json": {
              "type": "string"
            }
          },
          "metadata": {},
          "execution_count": 79
        }
      ]
    },
    {
      "cell_type": "code",
      "source": [
        "'hello'.zfill(20) # 데이터의 빈 공간을 0으로 채워줍니다."
      ],
      "metadata": {
        "colab": {
          "base_uri": "https://localhost:8080/",
          "height": 35
        },
        "id": "bxrZraemN1wc",
        "outputId": "74c7040c-52bc-4e79-dbd6-2db41135f800"
      },
      "execution_count": null,
      "outputs": [
        {
          "output_type": "execute_result",
          "data": {
            "text/plain": [
              "'000000000000000hello'"
            ],
            "application/vnd.google.colaboratory.intrinsic+json": {
              "type": "string"
            }
          },
          "metadata": {},
          "execution_count": 87
        }
      ]
    },
    {
      "cell_type": "code",
      "source": [
        "'1001'.zfill(5)\n",
        "'hello'.zfill(10).replace('0', '-')"
      ],
      "metadata": {
        "colab": {
          "base_uri": "https://localhost:8080/",
          "height": 35
        },
        "id": "tlsh_QNTOH-K",
        "outputId": "ea0c7f3e-41c7-44c3-9376-1a2c321eb35b"
      },
      "execution_count": null,
      "outputs": [
        {
          "output_type": "execute_result",
          "data": {
            "text/plain": [
              "'-----hello'"
            ],
            "application/vnd.google.colaboratory.intrinsic+json": {
              "type": "string"
            }
          },
          "metadata": {},
          "execution_count": 90
        }
      ]
    },
    {
      "cell_type": "code",
      "source": [
        "규칙테이블 = str.maketrans({'\\n':'', '\\t':''})\n",
        "'paullab \\n\\n\\n CEO \\t\\t\\t leehojun'.translate(규칙테이블)"
      ],
      "metadata": {
        "colab": {
          "base_uri": "https://localhost:8080/",
          "height": 35
        },
        "id": "LZWRM2ObOhS8",
        "outputId": "f957204a-de6e-4217-cd09-97a72462f3e4"
      },
      "execution_count": null,
      "outputs": [
        {
          "output_type": "execute_result",
          "data": {
            "text/plain": [
              "'paullab  CEO  leehojun'"
            ],
            "application/vnd.google.colaboratory.intrinsic+json": {
              "type": "string"
            }
          },
          "metadata": {},
          "execution_count": 91
        }
      ]
    },
    {
      "cell_type": "code",
      "source": [
        "'paullab \\n\\n\\n CEO \\t\\t\\t leehojun'.replace('\\n', '').replace('\\t', '')"
      ],
      "metadata": {
        "colab": {
          "base_uri": "https://localhost:8080/",
          "height": 35
        },
        "id": "0-4EXBsROn-R",
        "outputId": "cd29683b-e55f-488b-d2d8-2a4ac0f1fe1f"
      },
      "execution_count": null,
      "outputs": [
        {
          "output_type": "execute_result",
          "data": {
            "text/plain": [
              "'paullab  CEO  leehojun'"
            ],
            "application/vnd.google.colaboratory.intrinsic+json": {
              "type": "string"
            }
          },
          "metadata": {},
          "execution_count": 93
        }
      ]
    },
    {
      "cell_type": "code",
      "source": [
        "규칙테이블 = str.maketrans('\\n\\t', '  ') # 똑같은 길이를 가지고 있어야 함\n",
        "'paullab \\n\\n\\n CEO \\t\\t\\t leehojun'.translate(규칙테이블)"
      ],
      "metadata": {
        "colab": {
          "base_uri": "https://localhost:8080/",
          "height": 35
        },
        "id": "tHgF0nkoO8L6",
        "outputId": "5ba4f590-a87a-4641-9d6b-ae844167b930"
      },
      "execution_count": null,
      "outputs": [
        {
          "output_type": "execute_result",
          "data": {
            "text/plain": [
              "'paullab     CEO     leehojun'"
            ],
            "application/vnd.google.colaboratory.intrinsic+json": {
              "type": "string"
            }
          },
          "metadata": {},
          "execution_count": 94
        }
      ]
    },
    {
      "cell_type": "code",
      "source": [
        "규칙테이블 = str.maketrans('le','12')\n",
        "'paullab CEO leehojun'.translate(규칙테이블) #어떤 규칙을 정하는것"
      ],
      "metadata": {
        "colab": {
          "base_uri": "https://localhost:8080/",
          "height": 35
        },
        "id": "vRO4DK5CPF3C",
        "outputId": "ad355982-2f02-4081-8b9c-2b255da6e4db"
      },
      "execution_count": null,
      "outputs": [
        {
          "output_type": "execute_result",
          "data": {
            "text/plain": [
              "'pau11ab CEO 122hojun'"
            ],
            "application/vnd.google.colaboratory.intrinsic+json": {
              "type": "string"
            }
          },
          "metadata": {},
          "execution_count": 95
        }
      ]
    },
    {
      "cell_type": "markdown",
      "source": [
        "## pep"
      ],
      "metadata": {
        "id": "wqdkfJDfPP1i"
      }
    },
    {
      "cell_type": "code",
      "source": [
        "# aaaaaaaaaaaaaaaaaaaaaaaaaaaaaaaaaaaaaaaaaaaaaaaaaaaaaaaaaaaaaaaaaaaaaaaaaaaaaaaa => 80자\n",
        "# 아아아아아아아아아아아아아아아아아아아아아아아아아아아아아아아아아아아아아아아아아아 => 40자면 한글 넘어갑니다.\n",
        "# line에 딱 맞춰 들어간 것을 볼 수 있습니다. \n",
        "# 강제사항은 아닙니다.\n",
        "# 띄어쓰기 4번도 강제사항은 아닙니다.\n",
        "# pep8, pep20에 기술되어 있습니다. => pep(Python Enhancement Proposal)란 무엇인가요? 8이란 무엇인가요?\n",
        "# pep8 : Style Guide for Python Code (https://peps.python.org/pep-0008/)\n",
        "# pep20 : The Zen of Python(https://peps.python.org/pep-0020/) #이스터애그로 숨겨져 있습니다.\n",
        "# https://peps.python.org/"
      ],
      "metadata": {
        "id": "GuJRXXPsPW0N"
      },
      "execution_count": null,
      "outputs": []
    },
    {
      "cell_type": "markdown",
      "source": [
        "## cpython\n",
        "\n",
        "* 공식홈페이지에서 다운로드 받는 것이 cpython입니다.\n",
        "* https://github.com/python/cpython\n",
        "* list를 구현한 코드 : https://github.com/python/cpython/blob/main/Objects/listobject.c"
      ],
      "metadata": {
        "id": "2xoiw-BTQlRx"
      }
    },
    {
      "cell_type": "markdown",
      "source": [
        "## 인덱싱과 슬라이싱"
      ],
      "metadata": {
        "id": "zxQW-G0ASV5B"
      }
    },
    {
      "cell_type": "code",
      "source": [
        "name = 'Guido van Rossum'\n",
        "print(name[0])\n",
        "print(name[1])\n",
        "print(name[2])"
      ],
      "metadata": {
        "colab": {
          "base_uri": "https://localhost:8080/"
        },
        "id": "fYaI0NEeRWmG",
        "outputId": "eba2a6c3-ec0a-46a5-dbe0-7810e8bb4f11"
      },
      "execution_count": null,
      "outputs": [
        {
          "output_type": "stream",
          "name": "stdout",
          "text": [
            "G\n",
            "u\n",
            "i\n"
          ]
        }
      ]
    },
    {
      "cell_type": "code",
      "source": [
        "# s[start:stop:step]\n",
        "s = 'paullab CEO leehojun'\n",
        "s[5:]\n",
        "s[:5]\n",
        "s[3:10]\n",
        "s[:]\n",
        "s[0:20:2]"
      ],
      "metadata": {
        "colab": {
          "base_uri": "https://localhost:8080/",
          "height": 35
        },
        "id": "YRcJ-FENSdag",
        "outputId": "6ae54a12-9e57-41e5-8bb4-538b1c77392c"
      },
      "execution_count": null,
      "outputs": [
        {
          "output_type": "execute_result",
          "data": {
            "text/plain": [
              "'pulbCOleou'"
            ],
            "application/vnd.google.colaboratory.intrinsic+json": {
              "type": "string"
            }
          },
          "metadata": {},
          "execution_count": 101
        }
      ]
    },
    {
      "cell_type": "code",
      "source": [
        "# 자주 사용되는 코드\n",
        "s = 'paullab CEO leehojun!'\n",
        "s[:] # string에서는 많이 사용하지 않지만 list에서 많이 사용합니다.\n",
        "s[:-1] # 마지막 요소만 제외하고 다 슬라이싱 합니다."
      ],
      "metadata": {
        "colab": {
          "base_uri": "https://localhost:8080/",
          "height": 35
        },
        "id": "dXZU1G-4TJGt",
        "outputId": "6ee20fef-c7c3-4df8-cbee-23d0257fa4e7"
      },
      "execution_count": null,
      "outputs": [
        {
          "output_type": "execute_result",
          "data": {
            "text/plain": [
              "'paullab CEO leehojun'"
            ],
            "application/vnd.google.colaboratory.intrinsic+json": {
              "type": "string"
            }
          },
          "metadata": {},
          "execution_count": 106
        }
      ]
    },
    {
      "cell_type": "code",
      "source": [
        "test = [1, 2, 3, 4]\n",
        "test2 = test\n",
        "test2[0] = 1000\n",
        "test, test2"
      ],
      "metadata": {
        "colab": {
          "base_uri": "https://localhost:8080/"
        },
        "id": "uuvvoUl1TdVM",
        "outputId": "83d410ef-bbee-4b6f-b193-f52957a864bd"
      },
      "execution_count": null,
      "outputs": [
        {
          "output_type": "execute_result",
          "data": {
            "text/plain": [
              "([1000, 2, 3, 4], [1000, 2, 3, 4])"
            ]
          },
          "metadata": {},
          "execution_count": 103
        }
      ]
    },
    {
      "cell_type": "code",
      "source": [
        "test = [1, 2, 3, 4]\n",
        "test2 = test[:] # 새로운 리스트를 만들어서 test2에게 줍니다.\n",
        "test2[0] = 1000\n",
        "test, test2"
      ],
      "metadata": {
        "colab": {
          "base_uri": "https://localhost:8080/"
        },
        "id": "WIMsBsOoTtdu",
        "outputId": "cd51ab95-0363-4d0e-892a-5547f05e8c3e"
      },
      "execution_count": null,
      "outputs": [
        {
          "output_type": "execute_result",
          "data": {
            "text/plain": [
              "([1, 2, 3, 4], [1000, 2, 3, 4])"
            ]
          },
          "metadata": {},
          "execution_count": 104
        }
      ]
    },
    {
      "cell_type": "markdown",
      "source": [
        "## 문자열의 연산"
      ],
      "metadata": {
        "id": "SE9464pnUoRy"
      }
    },
    {
      "cell_type": "code",
      "source": [
        "s = 'hello world'\n",
        "dir(s)\n",
        "s + s\n",
        "s * 3"
      ],
      "metadata": {
        "colab": {
          "base_uri": "https://localhost:8080/",
          "height": 35
        },
        "id": "ESuIHzC8UYtB",
        "outputId": "9e8c31b4-267e-4854-8e96-1401d4c7f0f3"
      },
      "execution_count": null,
      "outputs": [
        {
          "output_type": "execute_result",
          "data": {
            "text/plain": [
              "'hello worldhello worldhello world'"
            ],
            "application/vnd.google.colaboratory.intrinsic+json": {
              "type": "string"
            }
          },
          "metadata": {},
          "execution_count": 108
        }
      ]
    },
    {
      "cell_type": "markdown",
      "source": [
        "## 형변환"
      ],
      "metadata": {
        "id": "wvm0O7jOUuCu"
      }
    },
    {
      "cell_type": "markdown",
      "source": [
        "* 형변환 : type을 변경하는 것입니다."
      ],
      "metadata": {
        "id": "p6cWnOkZWHnr"
      }
    },
    {
      "cell_type": "code",
      "source": [
        "x = int(input())\n",
        "x + x # but 알파벳 입력하면 error!"
      ],
      "metadata": {
        "id": "b8L-GGjmUyGK"
      },
      "execution_count": null,
      "outputs": []
    },
    {
      "cell_type": "code",
      "source": [
        "x = input()\n",
        "if x.isdigit():\n",
        "    x = int(x) # but 알파벳 입력하면 error!\n",
        "x + x"
      ],
      "metadata": {
        "colab": {
          "base_uri": "https://localhost:8080/"
        },
        "id": "hKYuteAhU6mv",
        "outputId": "41218b76-953c-47cf-ee23-06d71ec45c7a"
      },
      "execution_count": null,
      "outputs": [
        {
          "name": "stdout",
          "output_type": "stream",
          "text": [
            "10\n"
          ]
        },
        {
          "output_type": "execute_result",
          "data": {
            "text/plain": [
              "20"
            ]
          },
          "metadata": {},
          "execution_count": 111
        }
      ]
    },
    {
      "cell_type": "code",
      "source": [
        "# int('abc') # error\n",
        "int(10.1) # 버림\n",
        "int('10') # 형변환 가능\n",
        "# int('10.1') # 형변환 불가능"
      ],
      "metadata": {
        "id": "ohS3HFvwVKd8"
      },
      "execution_count": null,
      "outputs": []
    },
    {
      "cell_type": "code",
      "source": [
        "float('10') # 형변환 가능\n",
        "float('10.1') # 형변환 가능"
      ],
      "metadata": {
        "colab": {
          "base_uri": "https://localhost:8080/"
        },
        "id": "K6fUrM16Vqdn",
        "outputId": "78475d0e-9a6d-4847-d599-d49f2b3d0f75"
      },
      "execution_count": null,
      "outputs": [
        {
          "output_type": "execute_result",
          "data": {
            "text/plain": [
              "10.1"
            ]
          },
          "metadata": {},
          "execution_count": 119
        }
      ]
    },
    {
      "cell_type": "code",
      "source": [
        "int('10a') # 되는 언어가 있어서 보여드린 것입니다.\n",
        "# Python에서는 허용하지 않습니다."
      ],
      "metadata": {
        "id": "ZLNfzYkOVyRW"
      },
      "execution_count": null,
      "outputs": []
    },
    {
      "cell_type": "code",
      "source": [
        "def hello():\n",
        "    pass\n",
        "\n",
        "str(type)\n",
        "str(hello)\n",
        "\n",
        "str('123')\n",
        "str(True)\n",
        "str(None)\n",
        "str([1, 2, 3])\n",
        "str({1, 2, 3})\n",
        "str({'one':1, 'two':2})"
      ],
      "metadata": {
        "colab": {
          "base_uri": "https://localhost:8080/",
          "height": 35
        },
        "id": "a9iGS1JFWLx1",
        "outputId": "4da63f84-bf60-43f1-99cc-7440ccc0da1c"
      },
      "execution_count": null,
      "outputs": [
        {
          "output_type": "execute_result",
          "data": {
            "text/plain": [
              "\"{'one': 1, 'two': 2}\""
            ],
            "application/vnd.google.colaboratory.intrinsic+json": {
              "type": "string"
            }
          },
          "metadata": {},
          "execution_count": 130
        }
      ]
    },
    {
      "cell_type": "code",
      "source": [
        "# 별 5개\n",
        "# bool 형으로 형변환 하는 것\n",
        "if True:\n",
        "    print('hi')\n",
        "\n",
        "if 'hello':\n",
        "    print('hi')\n",
        "\n",
        "# 정말 많이 사용하는 코드\n",
        "l = [1, 2, 3]\n",
        "while l:\n",
        "    print(l.pop())\n",
        "\n",
        "bool('') # 빈 문자열을 제외하고 모두 True\n",
        "bool('a')\n",
        "bool('False') # 문자열 False이기 때문에 True\n",
        "bool(0) # 0을 제외하고 모두 True\n",
        "bool(-1)\n",
        "bool(100)\n",
        "bool(None) # None은 비어있음을 명시해주는 키워드, False\n",
        "bool([]) # 컨벤션 자료형은 비어있으면 False입니다.\n",
        "bool({})"
      ],
      "metadata": {
        "colab": {
          "base_uri": "https://localhost:8080/"
        },
        "id": "3V-MyX9KW3qT",
        "outputId": "f9dd2ffb-0d2f-41e1-8b5b-c8f6e6140f63"
      },
      "execution_count": null,
      "outputs": [
        {
          "output_type": "stream",
          "name": "stdout",
          "text": [
            "hi\n",
            "hi\n"
          ]
        },
        {
          "output_type": "execute_result",
          "data": {
            "text/plain": [
              "False"
            ]
          },
          "metadata": {},
          "execution_count": 142
        }
      ]
    },
    {
      "cell_type": "code",
      "source": [
        "# list로 형변환\n",
        "s = '10'\n",
        "l = list(s)\n",
        "l"
      ],
      "metadata": {
        "colab": {
          "base_uri": "https://localhost:8080/"
        },
        "id": "5QL1EB6zphC0",
        "outputId": "68d2ed29-b870-444c-8b1c-4d0c3b456446"
      },
      "execution_count": null,
      "outputs": [
        {
          "output_type": "execute_result",
          "data": {
            "text/plain": [
              "['1', '0']"
            ]
          },
          "metadata": {},
          "execution_count": 145
        }
      ]
    },
    {
      "cell_type": "code",
      "source": [
        "s = 'leehojun'\n",
        "l = list(s)\n",
        "l"
      ],
      "metadata": {
        "colab": {
          "base_uri": "https://localhost:8080/"
        },
        "id": "0BVdlmK_pp3G",
        "outputId": "f57092f3-8269-4e3c-fc81-dff3d82e5ce7"
      },
      "execution_count": null,
      "outputs": [
        {
          "output_type": "execute_result",
          "data": {
            "text/plain": [
              "['l', 'e', 'e', 'h', 'o', 'j', 'u', 'n']"
            ]
          },
          "metadata": {},
          "execution_count": 146
        }
      ]
    },
    {
      "cell_type": "code",
      "source": [
        "# tuple로 형변환\n",
        "s = 'leehojun'\n",
        "l = tuple(s)\n",
        "l"
      ],
      "metadata": {
        "colab": {
          "base_uri": "https://localhost:8080/"
        },
        "id": "pX2dv4E3pvqS",
        "outputId": "ff53b373-bc0e-447d-cd30-ec09bf3aedb4"
      },
      "execution_count": null,
      "outputs": [
        {
          "output_type": "execute_result",
          "data": {
            "text/plain": [
              "('l', 'e', 'e', 'h', 'o', 'j', 'u', 'n')"
            ]
          },
          "metadata": {},
          "execution_count": 147
        }
      ]
    },
    {
      "cell_type": "code",
      "source": [
        "# dict\n",
        "# name = 'leehojun' # error\n",
        "# dict(name)\n",
        "\n",
        "s = [('name','leehojun'), ('age',10)]\n",
        "d = dict(s)\n",
        "d"
      ],
      "metadata": {
        "colab": {
          "base_uri": "https://localhost:8080/"
        },
        "id": "ugVTT0Fmp3cX",
        "outputId": "c9ad4f88-8e99-44af-8072-956fe9e2846f"
      },
      "execution_count": null,
      "outputs": [
        {
          "output_type": "execute_result",
          "data": {
            "text/plain": [
              "{'name': 'leehojun', 'age': 10}"
            ]
          },
          "metadata": {},
          "execution_count": 150
        }
      ]
    },
    {
      "cell_type": "code",
      "source": [
        "# set(집합)으로 형변환\n",
        "name = 'leehojun'\n",
        "set(name)"
      ],
      "metadata": {
        "colab": {
          "base_uri": "https://localhost:8080/"
        },
        "id": "z1TN86-KqNMo",
        "outputId": "ea565eba-1187-4039-eafe-1cb921fecbff"
      },
      "execution_count": null,
      "outputs": [
        {
          "output_type": "execute_result",
          "data": {
            "text/plain": [
              "{'e', 'h', 'j', 'l', 'n', 'o', 'u'}"
            ]
          },
          "metadata": {},
          "execution_count": 151
        }
      ]
    },
    {
      "cell_type": "code",
      "source": [
        "len('hello world') # __len__\n",
        "len([1, 2, 3, 4])"
      ],
      "metadata": {
        "colab": {
          "base_uri": "https://localhost:8080/"
        },
        "id": "cg1IqW9eqcSx",
        "outputId": "a6bf90ce-feec-4d7e-9d4c-8f60b35cf72f"
      },
      "execution_count": null,
      "outputs": [
        {
          "output_type": "execute_result",
          "data": {
            "text/plain": [
              "4"
            ]
          },
          "metadata": {},
          "execution_count": 153
        }
      ]
    },
    {
      "cell_type": "markdown",
      "source": [
        "## 문제풀이"
      ],
      "metadata": {
        "id": "WZMJ_b6lryGx"
      }
    },
    {
      "cell_type": "code",
      "source": [
        "# 1번의 오답(아래처럼 변수를 선언하지 않도록 주의해주세요.)\n",
        "\n",
        "#1번\n",
        "# print = 100\n",
        "\n",
        "#2번\n",
        "# 10 = a\n",
        "\n",
        "#4번\n",
        "# 100k = 10000"
      ],
      "metadata": {
        "id": "F7ZMC2Yorz6T"
      },
      "execution_count": null,
      "outputs": []
    },
    {
      "cell_type": "code",
      "source": [
        "# 2번\n",
        "user_input = input('문자를 입력해주세요!')\n",
        "print(user_input * 2)"
      ],
      "metadata": {
        "colab": {
          "base_uri": "https://localhost:8080/"
        },
        "id": "IVBU1tpnsP45",
        "outputId": "657f3f4a-7f31-45dd-e469-6babcf97c0fe"
      },
      "execution_count": null,
      "outputs": [
        {
          "output_type": "stream",
          "name": "stdout",
          "text": [
            "문자를 입력해주세요!hello\n",
            "hellohello\n"
          ]
        }
      ]
    },
    {
      "cell_type": "code",
      "source": [
        "print(input('문자를 입력해주세요!') * 2)"
      ],
      "metadata": {
        "colab": {
          "base_uri": "https://localhost:8080/"
        },
        "id": "kK1zBFvxs1PX",
        "outputId": "71204142-d6b4-4574-a2aa-dfe7634b272c"
      },
      "execution_count": null,
      "outputs": [
        {
          "output_type": "stream",
          "name": "stdout",
          "text": [
            "문자를 입력해주세요!hello\n",
            "hellohello\n"
          ]
        }
      ]
    },
    {
      "cell_type": "code",
      "source": [
        "# 3번\n",
        "num = 1234567890\n",
        "list(str(num))\n",
        "list(str(num))[3]"
      ],
      "metadata": {
        "colab": {
          "base_uri": "https://localhost:8080/",
          "height": 35
        },
        "id": "NjYn5LEpsY8N",
        "outputId": "43f55227-144d-4737-ffe7-96ed039aa092"
      },
      "execution_count": null,
      "outputs": [
        {
          "output_type": "execute_result",
          "data": {
            "text/plain": [
              "'4'"
            ],
            "application/vnd.google.colaboratory.intrinsic+json": {
              "type": "string"
            }
          },
          "metadata": {},
          "execution_count": 157
        }
      ]
    },
    {
      "cell_type": "markdown",
      "source": [
        "## 산술연산"
      ],
      "metadata": {
        "id": "3fizKaOysxzY"
      }
    },
    {
      "cell_type": "code",
      "source": [
        "a = 10\n",
        "b = 3\n",
        "\n",
        "print(f'10 + 3 == {a + b}')\n",
        "print(f'10 - 3 == {a - b}')\n",
        "print(f'10 / 3 == {a / b}')\n",
        "print(f'10 // 3 == {a // b}') # 몫만 나옵니다.(정수만요!)\n",
        "print(f'10 * 3 == {a * b}')\n",
        "print(f'10 ** 3 == {a ** b}')\n",
        "print(f'10 % 3 == {a % b}') # 나머지"
      ],
      "metadata": {
        "colab": {
          "base_uri": "https://localhost:8080/"
        },
        "id": "GkwfpEO4s9Y1",
        "outputId": "d6475a20-04fd-4751-cf3c-eae7a47f0e0b"
      },
      "execution_count": null,
      "outputs": [
        {
          "output_type": "stream",
          "name": "stdout",
          "text": [
            "10 + 3 == 13\n",
            "10 - 3 == 7\n",
            "10 / 3 == 3.3333333333333335\n",
            "10 // 3 == 3\n",
            "10 * 3 == 30\n",
            "10 ** 3 == 1000\n",
            "10 % 3 == 1\n"
          ]
        }
      ]
    },
    {
      "cell_type": "code",
      "source": [
        "# 연산자 우선순위는 and, or, 4칙연산, 제곱 정도만 아셔도 \n",
        "# 코딩하는데 큰 무리가 없습니다.\n",
        "# (모르시면 읽는데 어려움이 생기기도 합니다.)\n",
        "\n",
        "print(3 ** 2 * 3)\n",
        "print(3 * 3 ** 2) # 왜 81이 아니지?\n",
        "# 곱하기 보다 제곱이 우선순위가 더 높습니다.\n",
        "print(3 + 3 * 2) # 3 + 3부터 먼저 하지 않습니다."
      ],
      "metadata": {
        "colab": {
          "base_uri": "https://localhost:8080/"
        },
        "id": "f_ca-2M3tynC",
        "outputId": "bc0e30d3-3064-47f5-dd09-e648153bcabb"
      },
      "execution_count": null,
      "outputs": [
        {
          "output_type": "stream",
          "name": "stdout",
          "text": [
            "27\n",
            "27\n",
            "9\n"
          ]
        }
      ]
    },
    {
      "cell_type": "code",
      "source": [
        "a = 10\n",
        "b = 3\n",
        "\n",
        "print(f'10 > 3 == {a > b}')\n",
        "print(f'10 >= 3 == {a >= b}')\n",
        "print(f'10 < 3 == {a < b}')\n",
        "print(f'10 <= 3 == {a <= b}')\n",
        "print(f'10 == 3 == {a == b}')\n",
        "print(f'10 != 3 == {a != b}')"
      ],
      "metadata": {
        "colab": {
          "base_uri": "https://localhost:8080/"
        },
        "id": "O4on8PEUu6SI",
        "outputId": "e01b6e66-5c75-47e8-e268-00a6299d852c"
      },
      "execution_count": null,
      "outputs": [
        {
          "output_type": "stream",
          "name": "stdout",
          "text": [
            "10 > 3 == True\n",
            "10 >= 3 == True\n",
            "10 < 3 == False\n",
            "10 <= 3 == False\n",
            "10 == 3 == False\n",
            "10 != 3 == True\n"
          ]
        }
      ]
    },
    {
      "cell_type": "markdown",
      "source": [
        "## 논리연산"
      ],
      "metadata": {
        "id": "0SQhxPJvvQvW"
      }
    },
    {
      "cell_type": "code",
      "source": [
        "# and 는 곱\n",
        "# or 는 합\n",
        "# not은 반대\n",
        "# True 1\n",
        "# False 0\n",
        "# 중요한 포인트는 저렇게 했을 때 언제 True가 되는지 정리하는 것\n",
        "\n",
        "print(True and False)\n",
        "print(True or False)\n",
        "print(True or True)\n",
        "\n",
        "if True and False:\n",
        "    print('hello')\n",
        "\n",
        "if 10 > 3 and 8 % 3 == 0:\n",
        "    print('hello')\n",
        "\n",
        "# and는 언제 True가 되나요?\n",
        "# 모두 True일 때만 True\n",
        "# or는 언제 True가 되나요?\n",
        "# 둘 중에 하나라도 참이라면 True"
      ],
      "metadata": {
        "id": "XODmtx6SvSfW"
      },
      "execution_count": null,
      "outputs": []
    },
    {
      "cell_type": "code",
      "source": [
        "# https://codingdojang.com/scode/350?answer_mode=hide\n",
        "for i in range(101):\n",
        "    if i % 3 == 0 and i % 5 == 0:\n",
        "        print(i)"
      ],
      "metadata": {
        "colab": {
          "base_uri": "https://localhost:8080/"
        },
        "id": "JM5xR3TZwoW3",
        "outputId": "7fcddc3b-b1d5-4bea-bf0c-dc16d0270933"
      },
      "execution_count": null,
      "outputs": [
        {
          "output_type": "stream",
          "name": "stdout",
          "text": [
            "0\n",
            "15\n",
            "30\n",
            "45\n",
            "60\n",
            "75\n",
            "90\n"
          ]
        }
      ]
    },
    {
      "cell_type": "code",
      "source": [
        "for i in range(101):\n",
        "    if i % 3 == 0 or i % 5 == 0:\n",
        "        print(i)"
      ],
      "metadata": {
        "colab": {
          "base_uri": "https://localhost:8080/"
        },
        "id": "ka79qcZ3xO20",
        "outputId": "617d898e-5be4-4d0f-e8d4-a30300a847ad"
      },
      "execution_count": null,
      "outputs": [
        {
          "output_type": "stream",
          "name": "stdout",
          "text": [
            "0\n",
            "3\n",
            "5\n",
            "6\n",
            "9\n",
            "10\n",
            "12\n",
            "15\n",
            "18\n",
            "20\n",
            "21\n",
            "24\n",
            "25\n",
            "27\n",
            "30\n",
            "33\n",
            "35\n",
            "36\n",
            "39\n",
            "40\n",
            "42\n",
            "45\n",
            "48\n",
            "50\n",
            "51\n",
            "54\n",
            "55\n",
            "57\n",
            "60\n",
            "63\n",
            "65\n",
            "66\n",
            "69\n",
            "70\n",
            "72\n",
            "75\n",
            "78\n",
            "80\n",
            "81\n",
            "84\n",
            "85\n",
            "87\n",
            "90\n",
            "93\n",
            "95\n",
            "96\n",
            "99\n",
            "100\n"
          ]
        }
      ]
    },
    {
      "cell_type": "code",
      "source": [
        "result = 0\n",
        "for i in range(101):\n",
        "    if i % 3 == 0:\n",
        "        result += i # result = result + i\n",
        "    if i % 5 == 0:\n",
        "        result += i\n",
        "    if i % 15 == 0:\n",
        "        result -= i\n",
        "print(result)"
      ],
      "metadata": {
        "colab": {
          "base_uri": "https://localhost:8080/"
        },
        "id": "bYAYR-FLxeHo",
        "outputId": "d7cb847a-e764-400c-8ee5-9704dde18971"
      },
      "execution_count": null,
      "outputs": [
        {
          "output_type": "stream",
          "name": "stdout",
          "text": [
            "2418\n"
          ]
        }
      ]
    },
    {
      "cell_type": "code",
      "source": [
        "result = 0\n",
        "for i in range(101):\n",
        "    if i % 3 == 0 or i % 5 == 0:\n",
        "        result += i\n",
        "result"
      ],
      "metadata": {
        "colab": {
          "base_uri": "https://localhost:8080/"
        },
        "id": "YWveReaZyLT9",
        "outputId": "686d9964-f171-4771-9e38-3468aeb26320"
      },
      "execution_count": null,
      "outputs": [
        {
          "output_type": "execute_result",
          "data": {
            "text/plain": [
              "2418"
            ]
          },
          "metadata": {},
          "execution_count": 171
        }
      ]
    },
    {
      "cell_type": "code",
      "source": [
        "not True"
      ],
      "metadata": {
        "colab": {
          "base_uri": "https://localhost:8080/"
        },
        "id": "HgGle7OFyeGC",
        "outputId": "54575373-61cc-41cf-c5a6-8341fad2d773"
      },
      "execution_count": null,
      "outputs": [
        {
          "output_type": "execute_result",
          "data": {
            "text/plain": [
              "False"
            ]
          },
          "metadata": {},
          "execution_count": 172
        }
      ]
    },
    {
      "cell_type": "code",
      "source": [
        "not False"
      ],
      "metadata": {
        "colab": {
          "base_uri": "https://localhost:8080/"
        },
        "id": "hLkwFVkaygQG",
        "outputId": "b41ae455-806d-4d12-9994-19ea6aa55c62"
      },
      "execution_count": null,
      "outputs": [
        {
          "output_type": "execute_result",
          "data": {
            "text/plain": [
              "True"
            ]
          },
          "metadata": {},
          "execution_count": 173
        }
      ]
    },
    {
      "cell_type": "code",
      "source": [
        "# python 입장에서 보는 코드\n",
        "# False and ????? => 물음표에 무엇이 나오든 False\n",
        "# 그래서 Python도 저 물음표를 보지 않습니다.\n",
        "def solution():\n",
        "    1/0\n",
        "\n",
        "if False and solution():\n",
        "    print('hello')"
      ],
      "metadata": {
        "id": "bSXIECNByno-"
      },
      "execution_count": null,
      "outputs": []
    },
    {
      "cell_type": "code",
      "source": [
        "# True or ?????  => 물음표에 무엇이 나오든 True\n",
        "# 그래서 Python도 저 물음표를 보지 않습니다.\n",
        "def solution():\n",
        "    1/0\n",
        "\n",
        "if True or solution():\n",
        "    print('hello')"
      ],
      "metadata": {
        "colab": {
          "base_uri": "https://localhost:8080/"
        },
        "id": "Oc4YaEts1yJS",
        "outputId": "fc5188fa-dfd8-4299-d6b0-2aa5fc9cf405"
      },
      "execution_count": null,
      "outputs": [
        {
          "output_type": "stream",
          "name": "stdout",
          "text": [
            "hello\n"
          ]
        }
      ]
    },
    {
      "cell_type": "code",
      "source": [
        "# 단락 평가(컴퓨터가 어디까지 보는지 판단해서 활용)\n",
        "username = '' # 사용자가 아무것도 입력하지 않았을 경우\n",
        "username = username or 'licat'\n",
        "username"
      ],
      "metadata": {
        "colab": {
          "base_uri": "https://localhost:8080/",
          "height": 35
        },
        "id": "uxV3ZZPU2Alj",
        "outputId": "4a939bc1-9e28-4098-e232-f5fd21605dc2"
      },
      "execution_count": null,
      "outputs": [
        {
          "output_type": "execute_result",
          "data": {
            "text/plain": [
              "'licat'"
            ],
            "application/vnd.google.colaboratory.intrinsic+json": {
              "type": "string"
            }
          },
          "metadata": {},
          "execution_count": 179
        }
      ]
    },
    {
      "cell_type": "code",
      "source": [
        "username = 'leehojun' # 사용자가 이름을 입력했을 경우\n",
        "username = username or 'licat'\n",
        "username"
      ],
      "metadata": {
        "colab": {
          "base_uri": "https://localhost:8080/",
          "height": 35
        },
        "id": "SnTi6bKg2aaL",
        "outputId": "ed918ee2-5340-452e-ec3c-0b476a8080fc"
      },
      "execution_count": null,
      "outputs": [
        {
          "output_type": "execute_result",
          "data": {
            "text/plain": [
              "'leehojun'"
            ],
            "application/vnd.google.colaboratory.intrinsic+json": {
              "type": "string"
            }
          },
          "metadata": {},
          "execution_count": 180
        }
      ]
    },
    {
      "cell_type": "code",
      "source": [
        "# and와 or의 우선순위(and가 더 높습니다.)\n",
        "for i in range(21):\n",
        "    if i % 3 == 0 and i % 5 == 0 or i % 2 == 0:\n",
        "        print(i)\n",
        "\n",
        "for i in range(21):\n",
        "    if (i % 3 == 0 and i % 5 == 0) or i % 2 == 0:\n",
        "        print(i)"
      ],
      "metadata": {
        "colab": {
          "base_uri": "https://localhost:8080/"
        },
        "id": "NV_9iBOI2qd8",
        "outputId": "89d8836e-bd65-4e93-d4ac-f91571d30a97"
      },
      "execution_count": null,
      "outputs": [
        {
          "output_type": "stream",
          "name": "stdout",
          "text": [
            "0\n",
            "2\n",
            "4\n",
            "6\n",
            "8\n",
            "10\n",
            "12\n",
            "14\n",
            "15\n",
            "16\n",
            "18\n",
            "20\n",
            "0\n",
            "2\n",
            "4\n",
            "6\n",
            "8\n",
            "10\n",
            "12\n",
            "14\n",
            "15\n",
            "16\n",
            "18\n",
            "20\n"
          ]
        }
      ]
    },
    {
      "cell_type": "code",
      "source": [
        "# 아래는 출력되는 값이 다릅니다! 우선순위가 낮은 or가 먼저 나왔기 때문입니다.\n",
        "# 결론 : 헷갈리시면 괄호를 사용해주세요!\n",
        "for i in range(21):\n",
        "    if (i % 3 == 0 or i % 5 == 0) and i % 2 == 0:\n",
        "        print(i)\n",
        "\n",
        "for i in range(21):\n",
        "    if i % 3 == 0 or i % 5 == 0 and i % 2 == 0:\n",
        "        print(i)"
      ],
      "metadata": {
        "colab": {
          "base_uri": "https://localhost:8080/"
        },
        "id": "g7YSDp1B3ASE",
        "outputId": "a74791d7-2c1c-4ca0-aca3-57e83366d1e6"
      },
      "execution_count": null,
      "outputs": [
        {
          "output_type": "stream",
          "name": "stdout",
          "text": [
            "0\n",
            "6\n",
            "10\n",
            "12\n",
            "18\n",
            "20\n",
            "0\n",
            "3\n",
            "6\n",
            "9\n",
            "10\n",
            "12\n",
            "15\n",
            "18\n",
            "20\n"
          ]
        }
      ]
    },
    {
      "cell_type": "markdown",
      "source": [
        "## 비트연산 (중요도 하)"
      ],
      "metadata": {
        "id": "u76LB8tS4DmX"
      }
    },
    {
      "cell_type": "code",
      "source": [
        "# and(곱하기)\n",
        "# 1001 == 9\n",
        "# 0010 == 2\n",
        "# ----\n",
        "# 0000"
      ],
      "metadata": {
        "id": "V1huJIf54Fyr"
      },
      "execution_count": null,
      "outputs": []
    },
    {
      "cell_type": "code",
      "source": [
        "9 & 2"
      ],
      "metadata": {
        "colab": {
          "base_uri": "https://localhost:8080/"
        },
        "id": "IsB1qHf54ml4",
        "outputId": "c6f534d0-e18c-4014-80ee-77986358d35c"
      },
      "execution_count": null,
      "outputs": [
        {
          "output_type": "execute_result",
          "data": {
            "text/plain": [
              "0"
            ]
          },
          "metadata": {},
          "execution_count": 189
        }
      ]
    },
    {
      "cell_type": "code",
      "source": [
        "# and(곱하기)\n",
        "# 1001 == 9\n",
        "# 1000 == 8\n",
        "# ----\n",
        "# 1000"
      ],
      "metadata": {
        "id": "sGHH0TFy4ziy"
      },
      "execution_count": null,
      "outputs": []
    },
    {
      "cell_type": "code",
      "source": [
        "9 & 8"
      ],
      "metadata": {
        "colab": {
          "base_uri": "https://localhost:8080/"
        },
        "id": "w-dvlv7x4rak",
        "outputId": "e3db0ac5-e11d-473c-cde4-130069751f74"
      },
      "execution_count": null,
      "outputs": [
        {
          "output_type": "execute_result",
          "data": {
            "text/plain": [
              "8"
            ]
          },
          "metadata": {},
          "execution_count": 190
        }
      ]
    },
    {
      "cell_type": "code",
      "source": [
        "# or(더하기, 대신 자리올림이 되진 않습니다.)\n",
        "# 1001 == 9\n",
        "# 0011 == 3\n",
        "# ----\n",
        "# 1011\n",
        "\n",
        "9 | 3"
      ],
      "metadata": {
        "colab": {
          "base_uri": "https://localhost:8080/"
        },
        "id": "-N8ra5u15f0w",
        "outputId": "b1a126d9-7e66-48e5-9fcb-044fffa74f64"
      },
      "execution_count": null,
      "outputs": [
        {
          "output_type": "execute_result",
          "data": {
            "text/plain": [
              "11"
            ]
          },
          "metadata": {},
          "execution_count": 191
        }
      ]
    },
    {
      "cell_type": "code",
      "source": [
        "# xor(같을 경우 0, 다를경우 1)\n",
        "# 1001 == 9\n",
        "# 0011 == 3\n",
        "# ----\n",
        "# 1010\n",
        "9 ^ 3"
      ],
      "metadata": {
        "colab": {
          "base_uri": "https://localhost:8080/"
        },
        "id": "vlXlPPNO52WZ",
        "outputId": "fc5a1c36-8068-4ee5-bc18-62b85981cc68"
      },
      "execution_count": null,
      "outputs": [
        {
          "output_type": "execute_result",
          "data": {
            "text/plain": [
              "10"
            ]
          },
          "metadata": {},
          "execution_count": 192
        }
      ]
    },
    {
      "cell_type": "code",
      "source": [
        "~9 # 2보수를 취하는 것입니다.(9에게 +1한 다음에 -를 취하시면 됩니다.)\n",
        "~-7 # 2보수를 취하는 것입니다.(7에게 +1한 다음에 -를 취하시면 됩니다.)"
      ],
      "metadata": {
        "colab": {
          "base_uri": "https://localhost:8080/"
        },
        "id": "FyLxf6MO6MQL",
        "outputId": "a73afc25-4464-4dcb-8c65-11a0bde55e6c"
      },
      "execution_count": null,
      "outputs": [
        {
          "output_type": "execute_result",
          "data": {
            "text/plain": [
              "6"
            ]
          },
          "metadata": {},
          "execution_count": 194
        }
      ]
    },
    {
      "cell_type": "code",
      "source": [
        "3 << 2 \n",
        "# 3을 2진수로 표현하면 11인데 2칸을 왼쪽으로 미는 것입니다.\n",
        "# 1100"
      ],
      "metadata": {
        "colab": {
          "base_uri": "https://localhost:8080/"
        },
        "id": "zVnM1Tc76gr7",
        "outputId": "109f4495-4229-4d1c-8794-5f5a8b29d7d1"
      },
      "execution_count": null,
      "outputs": [
        {
          "output_type": "execute_result",
          "data": {
            "text/plain": [
              "12"
            ]
          },
          "metadata": {},
          "execution_count": 195
        }
      ]
    },
    {
      "cell_type": "code",
      "source": [
        "7 >> 2"
      ],
      "metadata": {
        "colab": {
          "base_uri": "https://localhost:8080/"
        },
        "id": "HhcDMOIt7jrm",
        "outputId": "32ccbba3-8a64-4f7c-947e-c05605c9c045"
      },
      "execution_count": null,
      "outputs": [
        {
          "output_type": "execute_result",
          "data": {
            "text/plain": [
              "1"
            ]
          },
          "metadata": {},
          "execution_count": 196
        }
      ]
    },
    {
      "cell_type": "markdown",
      "source": [
        "## 디스코드 단축키"
      ],
      "metadata": {
        "id": "s_Rleu857Ae7"
      }
    },
    {
      "cell_type": "markdown",
      "source": [
        "* `:ok`"
      ],
      "metadata": {
        "id": "cTxtLYkQ7Cmt"
      }
    },
    {
      "cell_type": "markdown",
      "source": [
        "## 할당연산"
      ],
      "metadata": {
        "id": "pby2ogMp72SI"
      }
    },
    {
      "cell_type": "code",
      "source": [
        "# a = 10\n",
        "# a = a + 10\n",
        "a = + 10 # 이렇게 a를 지우면 양수를 표현하는 10만 남아요.\n",
        "a"
      ],
      "metadata": {
        "colab": {
          "base_uri": "https://localhost:8080/"
        },
        "id": "bBFEVmG374Y9",
        "outputId": "e4cefb5c-5439-4838-9c47-c0f486c69dfd"
      },
      "execution_count": null,
      "outputs": [
        {
          "output_type": "execute_result",
          "data": {
            "text/plain": [
              "10"
            ]
          },
          "metadata": {},
          "execution_count": 198
        }
      ]
    },
    {
      "cell_type": "code",
      "source": [
        "a = 10\n",
        "a += 10 # a = a + 10\n",
        "a"
      ],
      "metadata": {
        "colab": {
          "base_uri": "https://localhost:8080/"
        },
        "id": "5IQUOuRz8Q4V",
        "outputId": "fcb1f622-aa36-4e82-9a96-8d9484a1bf65"
      },
      "execution_count": null,
      "outputs": [
        {
          "output_type": "execute_result",
          "data": {
            "text/plain": [
              "20"
            ]
          },
          "metadata": {},
          "execution_count": 199
        }
      ]
    },
    {
      "cell_type": "code",
      "source": [
        "a = 10\n",
        "a //= 10 # 산술연산 모두 됩니다.\n",
        "a"
      ],
      "metadata": {
        "id": "rb3Y9e2F89cY"
      },
      "execution_count": null,
      "outputs": []
    },
    {
      "cell_type": "code",
      "source": [
        "# Python에서 특이하게 ++a, ++b, a++, b++가 없습니다."
      ],
      "metadata": {
        "id": "IUypUATl9QiE"
      },
      "execution_count": null,
      "outputs": []
    },
    {
      "cell_type": "markdown",
      "source": [
        "## 식별연산자"
      ],
      "metadata": {
        "id": "hbJ-LWJE9ikg"
      }
    },
    {
      "cell_type": "code",
      "source": [
        "# 앞으로 아래 2개를 활용해서 Python에 \n",
        "# 컨벤션 자료형이 어떻게 구성이되는지 확인해볼겁니다.\n",
        "# id()\n",
        "# is"
      ],
      "metadata": {
        "id": "5EtyP2zy9akA"
      },
      "execution_count": null,
      "outputs": []
    },
    {
      "cell_type": "code",
      "source": [
        "a = 256\n",
        "b = 256\n",
        "a is b"
      ],
      "metadata": {
        "colab": {
          "base_uri": "https://localhost:8080/"
        },
        "id": "x5aEKYFG90Zl",
        "outputId": "68bcf328-6d2b-46f9-8cbf-33ef12bd778b"
      },
      "execution_count": null,
      "outputs": [
        {
          "output_type": "execute_result",
          "data": {
            "text/plain": [
              "True"
            ]
          },
          "metadata": {},
          "execution_count": 201
        }
      ]
    },
    {
      "cell_type": "code",
      "source": [
        "a = 999\n",
        "b = 999\n",
        "a is b"
      ],
      "metadata": {
        "colab": {
          "base_uri": "https://localhost:8080/"
        },
        "id": "UYYf4Ehd9vSq",
        "outputId": "5e518439-f2b9-4e5c-9090-546153c632d9"
      },
      "execution_count": null,
      "outputs": [
        {
          "output_type": "execute_result",
          "data": {
            "text/plain": [
              "False"
            ]
          },
          "metadata": {},
          "execution_count": 200
        }
      ]
    },
    {
      "cell_type": "code",
      "source": [
        "a = [1, 2, 3]\n",
        "b = [1, 2, 3]\n",
        "a is b"
      ],
      "metadata": {
        "colab": {
          "base_uri": "https://localhost:8080/"
        },
        "id": "IqVa7m7-94hB",
        "outputId": "83c70166-ac97-4f1e-f565-4a187e5e6d60"
      },
      "execution_count": null,
      "outputs": [
        {
          "output_type": "execute_result",
          "data": {
            "text/plain": [
              "False"
            ]
          },
          "metadata": {},
          "execution_count": 205
        }
      ]
    },
    {
      "cell_type": "code",
      "source": [
        "a[0] = 100\n",
        "a, b"
      ],
      "metadata": {
        "colab": {
          "base_uri": "https://localhost:8080/"
        },
        "id": "obOrHsZ2-jj4",
        "outputId": "852d46db-3754-42b3-fe7f-b1326e49660f"
      },
      "execution_count": null,
      "outputs": [
        {
          "output_type": "execute_result",
          "data": {
            "text/plain": [
              "([100, 2, 3], [1, 2, 3])"
            ]
          },
          "metadata": {},
          "execution_count": 206
        }
      ]
    },
    {
      "cell_type": "code",
      "source": [
        "a = [1, 2, 3]\n",
        "b = [1, 2, 3]\n",
        "a == b # Python에 등호는 type과 value를 봅니다."
      ],
      "metadata": {
        "colab": {
          "base_uri": "https://localhost:8080/"
        },
        "id": "EjSHcTyR9__D",
        "outputId": "27c4b9c9-0c30-4584-8355-a632535a32d0"
      },
      "execution_count": null,
      "outputs": [
        {
          "output_type": "execute_result",
          "data": {
            "text/plain": [
              "True"
            ]
          },
          "metadata": {},
          "execution_count": 207
        }
      ]
    },
    {
      "cell_type": "code",
      "source": [
        "# is는 주소값을 비교합니다.\n",
        "id(a) == id(b) # 이게 False면 is도 False입니다."
      ],
      "metadata": {
        "colab": {
          "base_uri": "https://localhost:8080/"
        },
        "id": "2sct10LR_Nw9",
        "outputId": "8ed49dcb-d3fd-42b7-a5db-c2a1b032f4bb"
      },
      "execution_count": null,
      "outputs": [
        {
          "output_type": "execute_result",
          "data": {
            "text/plain": [
              "False"
            ]
          },
          "metadata": {},
          "execution_count": 212
        }
      ]
    },
    {
      "cell_type": "code",
      "source": [
        "a = [1, 2, 3]\n",
        "b = [1, 2, 3]\n",
        "\n",
        "id(a) #5152"
      ],
      "metadata": {
        "colab": {
          "base_uri": "https://localhost:8080/"
        },
        "id": "ZMIKk8pTLtKv",
        "outputId": "ad40fe8d-2ea6-4131-a2a1-784cfa935be6"
      },
      "execution_count": null,
      "outputs": [
        {
          "output_type": "execute_result",
          "data": {
            "text/plain": [
              "139943949385152"
            ]
          },
          "metadata": {},
          "execution_count": 234
        }
      ]
    },
    {
      "cell_type": "code",
      "source": [
        "id(b) #9280"
      ],
      "metadata": {
        "colab": {
          "base_uri": "https://localhost:8080/"
        },
        "id": "WtAjjAeBLyKv",
        "outputId": "2c959cdc-e474-4137-c464-90225fe56920"
      },
      "execution_count": null,
      "outputs": [
        {
          "output_type": "execute_result",
          "data": {
            "text/plain": [
              "139943949529280"
            ]
          },
          "metadata": {},
          "execution_count": 235
        }
      ]
    },
    {
      "cell_type": "code",
      "source": [
        "a == b # 값이 같은 것과 메모리에 같은 공간에 저장되어 있다는 얘기는 다른 얘기입니다!"
      ],
      "metadata": {
        "colab": {
          "base_uri": "https://localhost:8080/"
        },
        "id": "_YAakir3MDZh",
        "outputId": "cfd6deb7-ef95-481d-fa35-044f51dea77e"
      },
      "execution_count": null,
      "outputs": [
        {
          "output_type": "execute_result",
          "data": {
            "text/plain": [
              "True"
            ]
          },
          "metadata": {},
          "execution_count": 236
        }
      ]
    },
    {
      "cell_type": "markdown",
      "source": [
        "## not의 위치"
      ],
      "metadata": {
        "id": "YmXL__Ru-yuP"
      }
    },
    {
      "cell_type": "code",
      "source": [
        "a = 10\n",
        "b = 100\n",
        "a is not b\n",
        "# a not is b # error"
      ],
      "metadata": {
        "id": "Y1DCLQNS-x8b"
      },
      "execution_count": null,
      "outputs": []
    },
    {
      "cell_type": "code",
      "source": [
        "a = 10\n",
        "b = [10, 20, 30]\n",
        "a not in b"
      ],
      "metadata": {
        "colab": {
          "base_uri": "https://localhost:8080/"
        },
        "id": "xC2a1krp-_fw",
        "outputId": "21ccd85f-9cb2-44b9-8ee2-ef788b1eb5a6"
      },
      "execution_count": null,
      "outputs": [
        {
          "output_type": "execute_result",
          "data": {
            "text/plain": [
              "False"
            ]
          },
          "metadata": {},
          "execution_count": 211
        }
      ]
    },
    {
      "cell_type": "markdown",
      "source": [
        "## 멤버연산"
      ],
      "metadata": {
        "id": "pZ6qv8ic_gkV"
      }
    },
    {
      "cell_type": "code",
      "source": [
        "'a' in 'helalo world'\n",
        "'a' in 'hello world'\n",
        "'a' in ['a', 'b']\n",
        "'a' in {'a':10, 'b':20}\n",
        "# 10 in {'a':10, 'b':20} # dict안에있는 value값이 있는지 확인하고 싶으면\n",
        "10 in {'a':10, 'b':20}.values()\n",
        "10 in {10, 20, 30}"
      ],
      "metadata": {
        "colab": {
          "base_uri": "https://localhost:8080/"
        },
        "id": "zK1XBzYg_ig-",
        "outputId": "f479b2d5-f5b4-45d5-f639-440488995ff5"
      },
      "execution_count": null,
      "outputs": [
        {
          "output_type": "execute_result",
          "data": {
            "text/plain": [
              "True"
            ]
          },
          "metadata": {},
          "execution_count": 223
        }
      ]
    },
    {
      "cell_type": "code",
      "source": [
        "'a' not in ['aa', 'bb']"
      ],
      "metadata": {
        "colab": {
          "base_uri": "https://localhost:8080/"
        },
        "id": "Z2PHJzUIAAlJ",
        "outputId": "5ee57fbd-25c1-4231-e3fa-9c4ff4d6c651"
      },
      "execution_count": null,
      "outputs": [
        {
          "output_type": "execute_result",
          "data": {
            "text/plain": [
              "True"
            ]
          },
          "metadata": {},
          "execution_count": 222
        }
      ]
    },
    {
      "cell_type": "code",
      "source": [
        "10 in [10, 20, 30]\n",
        "[10] in [10, 20, 30]\n",
        "[10] in [[10], 20, 30]\n",
        "[10, 20] in [10, 20, 30]\n",
        "[10, 20] in [[10, 20], 30]\n",
        "set([10, 20]).issubset(set([10, 20, 30]))\n",
        "{10, 20}.issubset({10, 20, 30, 40})"
      ],
      "metadata": {
        "colab": {
          "base_uri": "https://localhost:8080/"
        },
        "id": "T9HoZ75bDc9b",
        "outputId": "1e122ccc-e26e-4b53-db8e-08924405f251"
      },
      "execution_count": null,
      "outputs": [
        {
          "output_type": "execute_result",
          "data": {
            "text/plain": [
              "True"
            ]
          },
          "metadata": {},
          "execution_count": 230
        }
      ]
    },
    {
      "cell_type": "markdown",
      "source": [
        "## 연습문제"
      ],
      "metadata": {
        "id": "lm3tKaruD9L7"
      }
    },
    {
      "cell_type": "code",
      "source": [
        "#1번\n",
        "a = 100\n",
        "print((a > 100) and (a < 200))\n",
        "print((a > 100) or (a < 200))\n",
        "print((a >= 100) and (a <= 200))\n",
        "print((a >= 100) or (a <= 200))"
      ],
      "metadata": {
        "colab": {
          "base_uri": "https://localhost:8080/"
        },
        "id": "nGI77iHUD-5x",
        "outputId": "2300d23c-e8df-40d3-c3d8-2cda40fafd87"
      },
      "execution_count": null,
      "outputs": [
        {
          "output_type": "stream",
          "name": "stdout",
          "text": [
            "False\n",
            "True\n",
            "True\n",
            "True\n"
          ]
        }
      ]
    },
    {
      "cell_type": "code",
      "source": [
        "#2번\n",
        "b = 25\n",
        "(b % 2 == 0) and (b % 5 == 0)"
      ],
      "metadata": {
        "id": "Ao3ZteV4EF7I"
      },
      "execution_count": null,
      "outputs": []
    },
    {
      "cell_type": "code",
      "source": [
        "#3번\n",
        "c = 1000\n",
        "c / 100\n",
        "c // 100"
      ],
      "metadata": {
        "colab": {
          "base_uri": "https://localhost:8080/"
        },
        "id": "EmvLHS3vEGdz",
        "outputId": "22648de9-1f4c-4c95-afee-2ecf5b9a203e"
      },
      "execution_count": null,
      "outputs": [
        {
          "output_type": "execute_result",
          "data": {
            "text/plain": [
              "10"
            ]
          },
          "metadata": {},
          "execution_count": 240
        }
      ]
    },
    {
      "cell_type": "code",
      "source": [
        "#4번\n",
        "# 그리디 알고리즘(욕심쟁이 알고리즘)\n",
        "남은금액 = int(input())\n",
        "\n",
        "오천원 = 남은금액 // 5000\n",
        "# 남은금액 = 남은금액 % 5000\n",
        "남은금액 = 남은금액 - (5000 * 오천원)\n",
        "\n",
        "천원 = 남은금액 // 1000\n",
        "남은금액 = 남은금액 % 1000\n",
        "\n",
        "오백원 = 남은금액 // 500\n",
        "남은금액 = 남은금액 % 500\n",
        "\n",
        "백원 = 남은금액 // 100\n",
        "남은금액 = 남은금액 % 100\n",
        "\n",
        "print(오천원, 천원, 오백원, 백원)"
      ],
      "metadata": {
        "colab": {
          "base_uri": "https://localhost:8080/"
        },
        "id": "iyH-8ygWEG30",
        "outputId": "86a64894-5d8b-420b-abef-1827e471d3ae"
      },
      "execution_count": null,
      "outputs": [
        {
          "output_type": "stream",
          "name": "stdout",
          "text": [
            "8800\n",
            "1 3 1 3\n"
          ]
        }
      ]
    }
  ]
}