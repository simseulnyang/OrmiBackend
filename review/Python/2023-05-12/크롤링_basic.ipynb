{
  "nbformat": 4,
  "nbformat_minor": 0,
  "metadata": {
    "colab": {
      "provenance": []
    },
    "kernelspec": {
      "name": "python3",
      "display_name": "Python 3"
    },
    "language_info": {
      "name": "python"
    }
  },
  "cells": [
    {
      "cell_type": "code",
      "source": [
        "# 크롤링, 웹 스크래핑 : 웹에 있는 데이터를 가지고 온다!"
      ],
      "metadata": {
        "id": "tHll9xaQnLHw"
      },
      "execution_count": null,
      "outputs": []
    },
    {
      "cell_type": "code",
      "execution_count": null,
      "metadata": {
        "id": "QNRhIg9rmHw5"
      },
      "outputs": [],
      "source": [
        "# 데이터를 가져오는 라이브러리 : requests\n",
        "# 가져온 데이터를 가공하는 라이브러리 : BeautifulSoup"
      ]
    },
    {
      "cell_type": "code",
      "source": [
        "# 크롤링 대상:https://paullab.co.kr/stock.html"
      ],
      "metadata": {
        "id": "Y6aseMj2n_23"
      },
      "execution_count": null,
      "outputs": []
    },
    {
      "cell_type": "code",
      "source": [
        "import requests\n",
        "from bs4 import BeautifulSoup\n",
        "\n",
        "response = requests.get('http://www.paullab.co.kr/stock.html')\n",
        "\n",
        "response.encoding = 'utf-8'\n",
        "html = response.text\n",
        "\n",
        "soup = BeautifulSoup(html, 'html.parser')"
      ],
      "metadata": {
        "id": "JlF8woY1oKL3"
      },
      "execution_count": null,
      "outputs": []
    },
    {
      "cell_type": "code",
      "source": [
        "soup.title"
      ],
      "metadata": {
        "colab": {
          "base_uri": "https://localhost:8080/"
        },
        "id": "FacFa7b0oyYA",
        "outputId": "2fbdb02e-7d59-455e-e216-c2a063719896"
      },
      "execution_count": null,
      "outputs": [
        {
          "output_type": "execute_result",
          "data": {
            "text/plain": [
              "<title>Document</title>"
            ]
          },
          "metadata": {},
          "execution_count": 4
        }
      ]
    },
    {
      "cell_type": "code",
      "source": [
        "soup.select('.tables')"
      ],
      "metadata": {
        "colab": {
          "base_uri": "https://localhost:8080/"
        },
        "id": "Hr1ZhRtdo5ou",
        "outputId": "0fea0da1-735e-4edc-cd06-a3202760010f"
      },
      "execution_count": null,
      "outputs": [
        {
          "output_type": "execute_result",
          "data": {
            "text/plain": [
              "[<div class=\"tables\">\n",
              " <table class=\"border-style\" summary=\"시가총액 정보\">\n",
              " <tr>\n",
              " <th class=\"strong\" scope=\"row\">시가총액</th>\n",
              " <!-- 공백은 의도적으로 넣은 것입니다. -->\n",
              " <td class=\"strong\"><em id=\"_market_sum\">349조 2,323</em>억원</td>\n",
              " </tr>\n",
              " <tr>\n",
              " <th scope=\"row\">\n",
              " <a class=\"link_site\" href=\"#\">시가총액순위<i class=\"fas fa-caret-right\"></i></a>\n",
              " </th>\n",
              " <!-- 공백은 의도적으로 넣은 것입니다. -->\n",
              " <td>위니브월드 <em id=\"_market_sum\">1</em>위</td>\n",
              " </tr>\n",
              " <tr>\n",
              " <th scope=\"row\">상장주식수</th>\n",
              " <!-- 공백은 의도적으로 넣은 것입니다. -->\n",
              " <td><em id=\"_market_sum\">5,969,782,550</em></td>\n",
              " </tr>\n",
              " </table>\n",
              " <table class=\"border-style\" summary=\"업종상세 정보\">\n",
              " <tr>\n",
              " <th class=\"strong\" scope=\"row\">현재가</th>\n",
              " <td class=\"strong\"><em id=\"_market_sum\">349조 2,323</em>억원</td>\n",
              " </tr>\n",
              " <tr>\n",
              " <th scope=\"row\">52주 최고 <span class=\"bar\">l</span> 최저</th>\n",
              " <td>\n",
              " <em>62,800</em>\n",
              " <span class=\"bar\">l</span>\n",
              " <em>42,300</em>\n",
              " </td>\n",
              " </tr>\n",
              " <tr>\n",
              " <th scope=\"row\">배당수익률 <span class=\"bar\">l</span><span> 2019.12</span>\n",
              " <a alt=\"배당수익률 상세설명\" class=\"help\" href=\"#\"><em>?</em></a>\n",
              " <div class=\"lyr_section\" style=\"display:none\">\n",
              " <div class=\"tooltip_lyr dividend_layer\" id=\"helpPannel5\">\n",
              " <strong>배당수익률 = (배당금 / 현재가) x 100</strong>\n",
              " <p>배당금은 최근 결산연도 기준의 중간배당을 포함한 총 배당금입니다.</p>\n",
              " <span class=\"arrow\"></span>\n",
              " </div>\n",
              " </div>\n",
              " </th>\n",
              " <td>\n",
              " <em id=\"_dvr\">2.42</em>%\n",
              "                 </td>\n",
              " </tr>\n",
              " </table>\n",
              " <table>\n",
              " <tr>\n",
              " <th class=\"strong\" scope=\"row\">매출</th>\n",
              " <!-- <td>22조 1,250억원</td> -->\n",
              " <td class=\"strong\">22,125,034,978,750원</td>\n",
              " </tr>\n",
              " <tr>\n",
              " <th scope=\"row\">비용</th>\n",
              " <!-- <td>19조 2,238억원</td> -->\n",
              " <td>19,223,803,154,781원</td>\n",
              " </tr>\n",
              " <tr>\n",
              " <th scope=\"row\">순익</th>\n",
              " <!-- <td><em id=\"_market_sum\">2조 9,012억원</em></td> -->\n",
              " <td><em id=\"_market_sum\">2,901,231,823,969원</em></td>\n",
              " </tr>\n",
              " </table>\n",
              " </div>]"
            ]
          },
          "metadata": {},
          "execution_count": 5
        }
      ]
    },
    {
      "cell_type": "code",
      "source": [
        "총액정보 = soup.select('.tables')\n",
        "총액정보[0].select('table')[0]"
      ],
      "metadata": {
        "colab": {
          "base_uri": "https://localhost:8080/"
        },
        "id": "i_VdV6pvp-XX",
        "outputId": "099e3e28-4625-4882-fe3b-ea59bfb4c858"
      },
      "execution_count": null,
      "outputs": [
        {
          "output_type": "execute_result",
          "data": {
            "text/plain": [
              "<table class=\"border-style\" summary=\"시가총액 정보\">\n",
              "<tr>\n",
              "<th class=\"strong\" scope=\"row\">시가총액</th>\n",
              "<!-- 공백은 의도적으로 넣은 것입니다. -->\n",
              "<td class=\"strong\"><em id=\"_market_sum\">349조 2,323</em>억원</td>\n",
              "</tr>\n",
              "<tr>\n",
              "<th scope=\"row\">\n",
              "<a class=\"link_site\" href=\"#\">시가총액순위<i class=\"fas fa-caret-right\"></i></a>\n",
              "</th>\n",
              "<!-- 공백은 의도적으로 넣은 것입니다. -->\n",
              "<td>위니브월드 <em id=\"_market_sum\">1</em>위</td>\n",
              "</tr>\n",
              "<tr>\n",
              "<th scope=\"row\">상장주식수</th>\n",
              "<!-- 공백은 의도적으로 넣은 것입니다. -->\n",
              "<td><em id=\"_market_sum\">5,969,782,550</em></td>\n",
              "</tr>\n",
              "</table>"
            ]
          },
          "metadata": {},
          "execution_count": 8
        }
      ]
    },
    {
      "cell_type": "code",
      "source": [
        "총액정보 = soup.select('#_market_sum')\n",
        "총액정보[2].text"
      ],
      "metadata": {
        "colab": {
          "base_uri": "https://localhost:8080/",
          "height": 36
        },
        "id": "Nyg0tIyQqkYH",
        "outputId": "543d37fc-b066-442a-90df-edcf6678f081"
      },
      "execution_count": null,
      "outputs": [
        {
          "output_type": "execute_result",
          "data": {
            "text/plain": [
              "'5,969,782,550'"
            ],
            "application/vnd.google.colaboratory.intrinsic+json": {
              "type": "string"
            }
          },
          "metadata": {},
          "execution_count": 11
        }
      ]
    },
    {
      "cell_type": "code",
      "source": [
        "# advanced 문제 https://paullab.co.kr/stock.html\n",
        "\n",
        "# 연구원의 9월24일부터 10월 23일까지 거래된 거래총량을 구해주세요."
      ],
      "metadata": {
        "id": "U0Eyiaqbxn_e"
      },
      "execution_count": null,
      "outputs": []
    },
    {
      "cell_type": "code",
      "source": [
        "import requests\n",
        "from bs4 import BeautifulSoup\n",
        "\n",
        "response = requests.get('http://www.paullab.co.kr/stock.html')\n",
        "\n",
        "response.encoding = 'utf-8'\n",
        "html = response.text\n",
        "\n",
        "soup = BeautifulSoup(html, 'html.parser')"
      ],
      "metadata": {
        "id": "SYcFEt-dyRtW"
      },
      "execution_count": null,
      "outputs": []
    },
    {
      "cell_type": "code",
      "source": [
        "연구원 = soup.select('.main')[2]\n",
        "print(연구원)"
      ],
      "metadata": {
        "id": "CEzEGVGg4m5t"
      },
      "execution_count": null,
      "outputs": []
    },
    {
      "cell_type": "code",
      "source": [
        "거래량데이터 = 연구원.select('td.num')\n",
        "print(거래량데이터[5])"
      ],
      "metadata": {
        "colab": {
          "base_uri": "https://localhost:8080/"
        },
        "id": "MJO7Z9zl5lIU",
        "outputId": "43fd8629-926c-496b-86c5-2a02e0d35b7e"
      },
      "execution_count": null,
      "outputs": [
        {
          "output_type": "stream",
          "name": "stdout",
          "text": [
            "<td class=\"num\"><span>398,421</span></td>\n"
          ]
        }
      ]
    },
    {
      "cell_type": "code",
      "source": [
        "총거래량합 = 0\n",
        "for i in range(5, len(거래량데이터), 6):\n",
        "    총거래량합 = 총거래량합 + int(거래량데이터[i].text.replace(',',''))\n",
        "\n",
        "print(총거래량합)"
      ],
      "metadata": {
        "colab": {
          "base_uri": "https://localhost:8080/"
        },
        "id": "n27iKhnB7OCT",
        "outputId": "978bd4e4-c2d5-49c5-f2e2-20c488416665"
      },
      "execution_count": null,
      "outputs": [
        {
          "output_type": "stream",
          "name": "stdout",
          "text": [
            "13067306\n"
          ]
        }
      ]
    },
    {
      "cell_type": "code",
      "source": [
        "import requests\n",
        "from bs4 import BeautifulSoup\n",
        "\n",
        "response = requests.get('http://www.paullab.co.kr/stock.html')\n",
        "\n",
        "response.encoding = 'utf-8'\n",
        "html = response.text\n",
        "\n",
        "soup = BeautifulSoup(html, 'html.parser')\n",
        "\n",
        "연구원 = soup.select('.main')[2]\n",
        "거래량데이터 = 연구원.select('td.num')\n",
        "\n",
        "총거래량합 = 0\n",
        "for i in range(5, len(거래량데이터), 6):\n",
        "    총거래량합 = 총거래량합 + int(거래량데이터[i].text.replace(',',''))\n",
        "\n",
        "print(총거래량합)"
      ],
      "metadata": {
        "colab": {
          "base_uri": "https://localhost:8080/"
        },
        "id": "ghKJumobAf3T",
        "outputId": "17882d55-aafa-479a-f749-b874fa2dead5"
      },
      "execution_count": null,
      "outputs": [
        {
          "output_type": "stream",
          "name": "stdout",
          "text": [
            "13067306\n"
          ]
        }
      ]
    },
    {
      "cell_type": "code",
      "source": [
        "# 바름님 코드\n",
        "import requests\n",
        "from bs4 import BeautifulSoup\n",
        "\n",
        "response = requests.get('http://www.paullab.co.kr/stock.html')\n",
        "\n",
        "response.encoding = 'utf-8'\n",
        "html = response.text\n",
        "\n",
        "soup = BeautifulSoup(html, 'html.parser')\n",
        "\n",
        "총액정보 = soup.select('table.table-hover')\n",
        "제코베연구원_일일거래량 = 총액정보[0].select('tr > td.num:nth-child(7)')\n",
        "\n",
        "total = 0\n",
        "for i in 제코베연구원_일일거래량 :\n",
        "    total += int(i.text.replace(',',''))\n",
        "\n",
        "print(total)"
      ],
      "metadata": {
        "colab": {
          "base_uri": "https://localhost:8080/"
        },
        "id": "Px_d_n3gAq8U",
        "outputId": "9d2b9fc7-4118-4c2c-f5c8-ea81d687137e"
      },
      "execution_count": null,
      "outputs": [
        {
          "output_type": "stream",
          "name": "stdout",
          "text": [
            "13067306\n"
          ]
        }
      ]
    },
    {
      "cell_type": "code",
      "source": [
        "# 철우님 코드\n",
        "\n",
        "import requests\n",
        "from bs4 import BeautifulSoup\n",
        "\n",
        "response = requests.get('http://www.paullab.co.kr/stock.html')\n",
        "\n",
        "response.encoding = 'utf-8'\n",
        "html = response.text\n",
        "\n",
        "soup = BeautifulSoup(html, 'html.parser')\n",
        "\n",
        "chart = soup.select('.table-hover')[0].select('td')\n",
        "chart[6::7]\n",
        "l =[]\n",
        "for i in chart[6::7]:\n",
        "    if hasattr(type(i), 'text'):\n",
        "        l.append(i.text)\n",
        "ll = []\n",
        "for j in l:\n",
        "    j = j.replace(',', '')\n",
        "    ll.append(int(j))\n",
        "sum(ll)"
      ],
      "metadata": {
        "id": "PtX9VBe8Byzi"
      },
      "execution_count": null,
      "outputs": []
    },
    {
      "cell_type": "code",
      "source": [
        "# 이도님 코드\n",
        "import re\n",
        "import requests\n",
        "from bs4 import BeautifulSoup\n",
        "\n",
        "def remove_html(sentence):\n",
        "    return re.sub('(<([^>]+)>)', '', str(sentence))\n",
        "\n",
        "response = requests.get('http://www.paullab.co.kr/stock.html')\n",
        "response.encoding = 'utf-8'\n",
        "\n",
        "html = response.text\n",
        "\n",
        "soup = BeautifulSoup(html, 'html.parser')\n",
        "\n",
        "데이터 = soup.select('.table-hover')[0].select('span')[6::7]\n",
        "일일거래량 = remove_html(데이터).replace(',', '').replace('[', '').replace(']', '')\n",
        "\n",
        "sum(map(int, 일일거래량.split()))"
      ],
      "metadata": {
        "id": "sybRKD4vB8rx"
      },
      "execution_count": null,
      "outputs": []
    }
  ]
}