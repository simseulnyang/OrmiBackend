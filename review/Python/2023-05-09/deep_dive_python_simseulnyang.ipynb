{
  "nbformat": 4,
  "nbformat_minor": 0,
  "metadata": {
    "colab": {
      "provenance": [],
      "toc_visible": true
    },
    "kernelspec": {
      "name": "python3",
      "display_name": "Python 3"
    },
    "language_info": {
      "name": "python"
    }
  },
  "cells": [
    {
      "cell_type": "markdown",
      "source": [
        "* MAC을 사용하는 경우 Ctrl 대신 Command입니다. Alt 대신 Option입니다.\n",
        "1. **실행 단축키**\n",
        "    1. (필수) `Ctrl(Command)` + `Enter` : 해당 셀 실행\n",
        "    2. `Shift` + `Enter` : 해당 셀 실행 + 커서를 다음 셀로 이동\n",
        "    3. (필수) `Alt(Option)` + `Enter` : 해당 셀 실행 + 코드 불록 하단 추가\n",
        "2. **셀 삽입/삭제 관련 단축키**\n",
        "    1. `Ctrl(Command)` + M A : 코드 셀 위에 삽입\n",
        "    2. `Ctrl(Command)` + M B : 코드 셀 아래 삽입\n",
        "    3. `Ctrl(Command)` + M D : 셀 지우기\n",
        "    4. `Ctrl(Command)` + M Y : 코드 셀로 변경\n",
        "    5. `Ctrl(Command)` + M M : 마크다운 셀로 변경\n",
        "    6. `Ctrl(Command)` + M Z : 실행 취소\n",
        "3. 수정 관련된 단축키\n",
        "    1. `Ctrl(Command)` + `Alt(Option)` + 화살표위아래 : 동시 수정\n",
        "    2. (자주) `Ctrl(Command)` + D : 같은 단어 찾아 동시 수정\n",
        "    3. `Ctrl(Command)` + `Shift` + L : 동일 단어를 전체로 찾아 동시 수정\n",
        "    4. `Alt(Option)` + `Shift` + 화살표위아래 : 해당내용을 위나 아래 복사해서 붙여넣기\n",
        "    5. `Alt(Option)` + 화살표위아래 : 해당 내용을 위나 아래로 보내기\n",
        "    6. (자주) `Ctrl(Command)` + `Alt(Option)` + 화살표위아래 : 위아래 동시 수정\n",
        "    7. (자주) Home, End : 문장의 양 끝\n",
        "    8. (필수) `Ctrl` + `/` : 주석\n",
        "    9. (필수) `Shift` + `Del` : 한 줄 지우기\n",
        "    10. (필수) `Tab`, `Ctrl` + `]` : 들여쓰기\n",
        "    11. (필수) `Shift` + `Tab`, `Ctrl` + `[` : 내어쓰기\n",
        "4. 단축키 보기 및 설정\n",
        "    1. `Ctrl(Command)` + M H : 단축키 모음"
      ],
      "metadata": {
        "id": "4ObWft5BvfJA"
      }
    },
    {
      "cell_type": "markdown",
      "source": [
        "# colab 사용법"
      ],
      "metadata": {
        "id": "7hYgFqXeuw1Z"
      }
    },
    {
      "cell_type": "markdown",
      "source": [
        "# 마크다운"
      ],
      "metadata": {
        "id": "50QvYvPBx7kp"
      }
    },
    {
      "cell_type": "markdown",
      "source": [
        "* 필수 마크다운\n",
        "  ```\n",
        "  # hello\n",
        "  ## hello\n",
        "  ### hello\n",
        "\n",
        "  1. hello\n",
        "  2. hello\n",
        "  3. hello\n",
        "\n",
        "  * hello\n",
        "  * hello\n",
        "  * hello\n",
        "  ```\n",
        "\n",
        "* 선택 마크다운(필수가 아니니 부담가지지 마세요.)\n",
        "  ```\n",
        "  # h1\n",
        "  ## h2\n",
        "  ### h3\n",
        "  #### h4\n",
        "  ##### h5\n",
        "  ###### h6\n",
        "\n",
        "  ---\n",
        "\n",
        "  1. hello\n",
        "  2. hello\n",
        "  3. hello\n",
        "\n",
        "  * hello\n",
        "  * hello\n",
        "  * hello\n",
        "\n",
        "  - hello\n",
        "  - hello\n",
        "  - hello\n",
        "\n",
        "  __굵게__\n",
        "  **굵게**\n",
        "  _기울여 쓰기_\n",
        "  *기울여 쓰기*\n",
        "  ~취소선~\n",
        "  ~~취소선~~\n",
        "\n",
        "  > 인용문 작성하기\n",
        "  `인라인 코드는 이렇게 작성해요.`\n",
        "\n",
        "  [인라인 링크](https://velog.io/)\n",
        "\n",
        "  ![이미지 설명](이미지 링크)\n",
        "\n",
        "  * table은 직접 만들지 마시고 https://www.tablesgenerator.com/markdown_tables 와 같은 서비스를 이용하세요.\n",
        "  | 1 | 2     | 3 | 4 | 5     |\n",
        "  |---|-------|---|---|-------|\n",
        "  | 1 | hello | 3 | 4 | world |\n",
        "\n",
        "  * [ ] hello\n",
        "  * [X] hello\n",
        "  ```\n"
      ],
      "metadata": {
        "id": "4r9E98cQyGZv"
      }
    },
    {
      "cell_type": "markdown",
      "source": [
        "# Python"
      ],
      "metadata": {
        "id": "onZsco4s4CT3"
      }
    },
    {
      "cell_type": "code",
      "execution_count": null,
      "metadata": {
        "colab": {
          "base_uri": "https://localhost:8080/",
          "height": 36
        },
        "id": "xp-YoTWVtt_o",
        "outputId": "2ec022fb-fdc9-4380-b883-44d9fb225ca8"
      },
      "outputs": [
        {
          "output_type": "execute_result",
          "data": {
            "text/plain": [
              "'\\n큰 따옴표로 세번 묶거나\\n작은따옴표로 세번 묶으면\\n열단위 주석이 됩니다.\\n'"
            ],
            "application/vnd.google.colaboratory.intrinsic+json": {
              "type": "string"
            }
          },
          "metadata": {},
          "execution_count": 208
        }
      ],
      "source": [
        "#행 단위 주석입니다.\n",
        "\n",
        "\"\"\"\n",
        "큰 따옴표로 세번 묶거나\n",
        "작은따옴표로 세번 묶으면\n",
        "열단위 주석이 됩니다.\n",
        "\"\"\"\n",
        "\n",
        "'''\n",
        "큰 따옴표로 세번 묶거나\n",
        "작은따옴표로 세번 묶으면\n",
        "열단위 주석이 됩니다.\n",
        "'''"
      ]
    },
    {
      "cell_type": "code",
      "source": [
        "# 아래와 같이 열단위 주석으로 text를 넣을 수도 있습니다.\n",
        "data = '''\n",
        "큰 따옴표로 세번 묶거나\n",
        "작은따옴표로 세번 묶으면\n",
        "열단위 주석이 됩니다.\n",
        "'''"
      ],
      "metadata": {
        "id": "Q2b0m26_4qlC"
      },
      "execution_count": null,
      "outputs": []
    },
    {
      "cell_type": "markdown",
      "source": [
        "* Code convention python\n",
        "* https://google.github.io/styleguide/\n",
        "* https://google.github.io/styleguide/pyguide.html"
      ],
      "metadata": {
        "id": "nNMySr015Byo"
      }
    },
    {
      "cell_type": "code",
      "source": [
        "def connect_to_next_port(self, minimum: int) -> int:\n",
        "    \"\"\"Connects to the next available port.\n",
        "\n",
        "    Args:\n",
        "      minimum: A port value greater or equal to 1024.\n",
        "\n",
        "    Returns:\n",
        "      The new minimum port.\n",
        "\n",
        "    Raises:\n",
        "      ConnectionError: If no available port is found.\n",
        "    \"\"\"\n",
        "    if minimum < 1024:\n",
        "        # Note that this raising of ValueError is not mentioned in the doc\n",
        "        # string's \"Raises:\" section because it is not appropriate to\n",
        "        # guarantee this specific behavioral reaction to API misuse.\n",
        "        raise ValueError(f'Min. port must be at least 1024, not {minimum}.')\n",
        "    port = self._find_next_open_port(minimum)\n",
        "    if port is None:\n",
        "        raise ConnectionError(\n",
        "            f'Could not connect to service on port {minimum} or higher.')\n",
        "    assert port >= minimum, (\n",
        "        f'Unexpected port {port} when minimum was {minimum}.')\n",
        "    return port"
      ],
      "metadata": {
        "id": "SrrSbnAS5fhW"
      },
      "execution_count": null,
      "outputs": []
    },
    {
      "cell_type": "code",
      "source": [
        "connect_to_next_port"
      ],
      "metadata": {
        "id": "fOq58jRn6G65",
        "colab": {
          "base_uri": "https://localhost:8080/"
        },
        "outputId": "a898b1f8-1d98-4d37-f457-149f06fd2c8e"
      },
      "execution_count": null,
      "outputs": [
        {
          "output_type": "execute_result",
          "data": {
            "text/plain": [
              "<function __main__.connect_to_next_port(self, minimum: int) -> int>"
            ]
          },
          "metadata": {},
          "execution_count": 211
        }
      ]
    },
    {
      "cell_type": "code",
      "source": [
        "# 띄어쓰기 4칸( tab(스페이스 4칸과 다릅니다!), 6칸, 7칸 다 작동합니다.)\n",
        "# 한 줄에 79자 이상을 사용하지 않는다.(권고사항)"
      ],
      "metadata": {
        "id": "jLgPwJWw6hHb"
      },
      "execution_count": null,
      "outputs": []
    },
    {
      "cell_type": "code",
      "source": [
        "# 아래와 같이 탭과 띄어쓰기 4번을 혼용하시면 error가 납니다.\n",
        "for i in range(10):\n",
        "    print(i)\n",
        "    print('큰 따옴표로 세번 묶거나')"
      ],
      "metadata": {
        "id": "qZh9ZDiB6m91",
        "colab": {
          "base_uri": "https://localhost:8080/"
        },
        "outputId": "5a8431ae-6043-48c2-bb2a-156d1b0bf146"
      },
      "execution_count": null,
      "outputs": [
        {
          "output_type": "stream",
          "name": "stdout",
          "text": [
            "0\n",
            "큰 따옴표로 세번 묶거나\n",
            "1\n",
            "큰 따옴표로 세번 묶거나\n",
            "2\n",
            "큰 따옴표로 세번 묶거나\n",
            "3\n",
            "큰 따옴표로 세번 묶거나\n",
            "4\n",
            "큰 따옴표로 세번 묶거나\n",
            "5\n",
            "큰 따옴표로 세번 묶거나\n",
            "6\n",
            "큰 따옴표로 세번 묶거나\n",
            "7\n",
            "큰 따옴표로 세번 묶거나\n",
            "8\n",
            "큰 따옴표로 세번 묶거나\n",
            "9\n",
            "큰 따옴표로 세번 묶거나\n"
          ]
        }
      ]
    },
    {
      "cell_type": "code",
      "source": [
        "a = 10     #int, 정수형\n",
        "b = 10.1   #float, 실수\n",
        "c = -1\n",
        "d = True   #bool, 논리형(부울형, 참거짓형)\n",
        "e = 'good'\n",
        "f = '10'   #str, 문자열\n",
        "g = 'kim'\n",
        "h = 'honggildong'\n",
        "i = 'example'\n",
        "j = 10 + 2j #complex, 복소수\n",
        "k = 0b110   #int, 2진법 \n",
        "l = 0o56    #int, 8진법\n",
        "m = 0xAC    #int, 16진법\n",
        "\n",
        "##########\n",
        "def hello():\n",
        "    return x**2\n",
        "\n",
        "class A: # 자동차 공장장\n",
        "    pass\n",
        "\n",
        "n = hello # function\n",
        "o = print # bulit-in function (https://docs.python.org/3/library/functions.html)\n",
        "p = lambda x:x**2 # function\n",
        "q = int # type\n",
        "r = A # class\n",
        "s = A() # instance # 자동차차\n",
        "##########\n",
        "\n",
        "print(f'type(10) : {type(a)}')\n",
        "print(f'type(10.1) : {type(b)}')\n",
        "print(f'type(-1) : {type(c)}')\n",
        "print(f'type(True) : {type(d)}')\n",
        "print(f'type(\\'good\\') : {type(e)}')\n",
        "print(f'type(\\'good\\'.upper) : {type(e.upper)}')\n",
        "print(f'\\'10\\' + \\'10\\' : {f + f}')\n",
        "print(f'\\'10\\' * 3 : {f * 3}')\n",
        "print(f'\\'hong\\' + \\'gildong\\' : {g + h}')\n",
        "print(f'type(\\'gildong\\') : {type(h)}')\n",
        "print(f'type(\\'gildong100!!\\') : {type(i)}')\n",
        "print(f'type(10 + 2j) : {type(j)}')\n",
        "print(f'type(0b110) : {type(k)}')\n",
        "print(k)\n",
        "print(f'type(0o56) : {type(i)}')\n",
        "print(i)\n",
        "print(f'type(0xAC) : {type(m)}')\n",
        "print(m)\n",
        "print(f'type(def func():...생략...) : {type(n)}')\n",
        "print(f'type(print) : {type(o)}')\n",
        "print(f'type(lambda x:x**2) : {type(p)}')\n",
        "print(f'type(int) : {type(int)}')"
      ],
      "metadata": {
        "id": "ZrCdQ7NO8CrF",
        "colab": {
          "base_uri": "https://localhost:8080/"
        },
        "outputId": "970c9f7d-7fcc-425e-9c78-003da4d5b3ce"
      },
      "execution_count": null,
      "outputs": [
        {
          "output_type": "stream",
          "name": "stdout",
          "text": [
            "type(10) : <class 'int'>\n",
            "type(10.1) : <class 'float'>\n",
            "type(-1) : <class 'int'>\n",
            "type(True) : <class 'bool'>\n",
            "type('good') : <class 'str'>\n",
            "type('good'.upper) : <class 'builtin_function_or_method'>\n",
            "'10' + '10' : 1010\n",
            "'10' * 3 : 101010\n",
            "'hong' + 'gildong' : kimhonggildong\n",
            "type('gildong') : <class 'str'>\n",
            "type('gildong100!!') : <class 'str'>\n",
            "type(10 + 2j) : <class 'complex'>\n",
            "type(0b110) : <class 'int'>\n",
            "6\n",
            "type(0o56) : <class 'str'>\n",
            "example\n",
            "type(0xAC) : <class 'int'>\n",
            "172\n",
            "type(def func():...생략...) : <class 'function'>\n",
            "type(print) : <class 'builtin_function_or_method'>\n",
            "type(lambda x:x**2) : <class 'function'>\n",
            "type(int) : <class 'type'>\n"
          ]
        }
      ]
    },
    {
      "cell_type": "code",
      "source": [
        "# 이스케이프 문자\n",
        "# https://ko.wikipedia.org/wiki/%EC%9D%B4%EC%8A%A4%EC%BC%80%EC%9D%B4%ED%94%84_%EB%AC%B8%EC%9E%90\n",
        "print('hello \\n world')\n",
        "print('hello \\t world')\n",
        "print('hello \\' world')\n",
        "print('hello \\\" world')\n",
        "print('hello \\\\ world')"
      ],
      "metadata": {
        "colab": {
          "base_uri": "https://localhost:8080/"
        },
        "id": "yKIJfJCA-PO9",
        "outputId": "affa5329-f663-44f7-aabc-fc4af70d194a"
      },
      "execution_count": null,
      "outputs": [
        {
          "output_type": "stream",
          "name": "stdout",
          "text": [
            "hello \n",
            " world\n",
            "hello \t world\n",
            "hello ' world\n",
            "hello \" world\n",
            "hello \\ world\n"
          ]
        }
      ]
    },
    {
      "cell_type": "code",
      "source": [
        "#type -> string\n",
        "hello = 10\n",
        "\n",
        "print(r'hello \\n world') # str -> raw (Django 2.x까지 url parsing 을 이렇게 사용하고 있습니다.)\n",
        "print(f'hello \\n world {hello}') # 앞으로 f-string 기법\n",
        "print('hello world {}'.format(hello))"
      ],
      "metadata": {
        "colab": {
          "base_uri": "https://localhost:8080/"
        },
        "id": "lvAXRuEG_3ml",
        "outputId": "d0a8f4e6-8236-45d5-f6b3-e17766f96e77"
      },
      "execution_count": null,
      "outputs": [
        {
          "output_type": "stream",
          "name": "stdout",
          "text": [
            "hello \\n world\n",
            "hello \n",
            " world 10\n",
            "hello world 10\n"
          ]
        }
      ]
    },
    {
      "cell_type": "code",
      "source": [
        "# type -> float\n",
        "# 오일러의 수를 모른다 해서, 수학 연산이 약하다 해서 우리 수업에 문제가 되지 않습니다.\n",
        "print(2.3e3) # 무리수, 오일러 수(2.718에 수렴, 파이가 3.14인 것처럼)\n",
        "print(2.3E3)\n",
        "\n",
        "2.3 * (10 ** 3)"
      ],
      "metadata": {
        "id": "-AY-8wC2Ea59",
        "colab": {
          "base_uri": "https://localhost:8080/"
        },
        "outputId": "0b305fe8-fdd3-443f-8d0f-9337041cc58b"
      },
      "execution_count": null,
      "outputs": [
        {
          "output_type": "stream",
          "name": "stdout",
          "text": [
            "2300.0\n",
            "2300.0\n"
          ]
        },
        {
          "output_type": "execute_result",
          "data": {
            "text/plain": [
              "2300.0"
            ]
          },
          "metadata": {},
          "execution_count": 217
        }
      ]
    },
    {
      "cell_type": "code",
      "source": [
        "print(2.3e3) # 무리수, 오일러 수(2.718에 수렴, 파이가 3.14인 것처럼)\n",
        "print(2.3E3)\n",
        "\n",
        "2.3 * (10 ** -3)"
      ],
      "metadata": {
        "id": "bOX_uZKwE3dF",
        "colab": {
          "base_uri": "https://localhost:8080/"
        },
        "outputId": "963ba668-8a02-4e1f-dd59-eaddb3f17ae3"
      },
      "execution_count": null,
      "outputs": [
        {
          "output_type": "stream",
          "name": "stdout",
          "text": [
            "2300.0\n",
            "2300.0\n"
          ]
        },
        {
          "output_type": "execute_result",
          "data": {
            "text/plain": [
              "0.0023"
            ]
          },
          "metadata": {},
          "execution_count": 218
        }
      ]
    },
    {
      "cell_type": "code",
      "source": [
        "type(2.3e-3)"
      ],
      "metadata": {
        "colab": {
          "base_uri": "https://localhost:8080/"
        },
        "id": "jtEQg8UuFObd",
        "outputId": "fb11c169-e556-400c-95ec-10bbd8996456"
      },
      "execution_count": null,
      "outputs": [
        {
          "output_type": "execute_result",
          "data": {
            "text/plain": [
              "float"
            ]
          },
          "metadata": {},
          "execution_count": 219
        }
      ]
    },
    {
      "cell_type": "code",
      "source": [
        "class A: # 자동차 공장장\n",
        "    pass\n",
        "\n",
        "a = A # class\n",
        "b = A() # instance # 자동차\n",
        "\n",
        "print(type(a))\n",
        "print(type(b))"
      ],
      "metadata": {
        "colab": {
          "base_uri": "https://localhost:8080/"
        },
        "id": "rRYPq_Ta-1wO",
        "outputId": "4b2c2ac2-cb9f-42ef-a865-5e265194c5cd"
      },
      "execution_count": null,
      "outputs": [
        {
          "output_type": "stream",
          "name": "stdout",
          "text": [
            "<class 'type'>\n",
            "<class '__main__.A'>\n"
          ]
        }
      ]
    },
    {
      "cell_type": "code",
      "source": [
        "# 변수를 처음 만나시면 type, dir을 해봅니다.\n",
        "# type을 찍으면 검색 키워드를 알 수 있습니다.\n",
        "# dir을 찍으면 속성을 알 수 있습니다.\n",
        "type(a)"
      ],
      "metadata": {
        "colab": {
          "base_uri": "https://localhost:8080/"
        },
        "id": "7olZgv6E8nGm",
        "outputId": "4808458d-589d-4d1d-8e76-185db1fc9396"
      },
      "execution_count": null,
      "outputs": [
        {
          "output_type": "execute_result",
          "data": {
            "text/plain": [
              "type"
            ]
          },
          "metadata": {},
          "execution_count": 221
        }
      ]
    },
    {
      "cell_type": "code",
      "source": [
        "print(type(a))"
      ],
      "metadata": {
        "colab": {
          "base_uri": "https://localhost:8080/"
        },
        "id": "PACIiFQ58vEN",
        "outputId": "dac3a683-ff00-40cc-ef5e-4e4680af3d7e"
      },
      "execution_count": null,
      "outputs": [
        {
          "output_type": "stream",
          "name": "stdout",
          "text": [
            "<class 'type'>\n"
          ]
        }
      ]
    },
    {
      "cell_type": "code",
      "source": [
        "dir(a)"
      ],
      "metadata": {
        "colab": {
          "base_uri": "https://localhost:8080/"
        },
        "id": "B1qGcpAo89Fi",
        "outputId": "414db5f2-bf59-4f76-b01c-e50b21e8f77f"
      },
      "execution_count": null,
      "outputs": [
        {
          "output_type": "execute_result",
          "data": {
            "text/plain": [
              "['__class__',\n",
              " '__delattr__',\n",
              " '__dict__',\n",
              " '__dir__',\n",
              " '__doc__',\n",
              " '__eq__',\n",
              " '__format__',\n",
              " '__ge__',\n",
              " '__getattribute__',\n",
              " '__gt__',\n",
              " '__hash__',\n",
              " '__init__',\n",
              " '__init_subclass__',\n",
              " '__le__',\n",
              " '__lt__',\n",
              " '__module__',\n",
              " '__ne__',\n",
              " '__new__',\n",
              " '__reduce__',\n",
              " '__reduce_ex__',\n",
              " '__repr__',\n",
              " '__setattr__',\n",
              " '__sizeof__',\n",
              " '__str__',\n",
              " '__subclasshook__',\n",
              " '__weakref__']"
            ]
          },
          "metadata": {},
          "execution_count": 223
        }
      ]
    },
    {
      "cell_type": "code",
      "source": [
        "# 실무에서 자주 사용하는 구문\n",
        "type(10)\n",
        "type(10) == int\n",
        "type(10.1) == float"
      ],
      "metadata": {
        "colab": {
          "base_uri": "https://localhost:8080/"
        },
        "id": "oWR14PrJFWHs",
        "outputId": "1f10efca-f5aa-4440-855c-63fb8476765b"
      },
      "execution_count": null,
      "outputs": [
        {
          "output_type": "execute_result",
          "data": {
            "text/plain": [
              "True"
            ]
          },
          "metadata": {},
          "execution_count": 224
        }
      ]
    },
    {
      "cell_type": "code",
      "source": [
        "# 위만큼 자주 사용하진 않지만 타입 확인 코드\n",
        "a = 10\n",
        "isinstance(a, int)\n",
        "isinstance(a, float)"
      ],
      "metadata": {
        "colab": {
          "base_uri": "https://localhost:8080/"
        },
        "id": "tCIXJzEvFmu8",
        "outputId": "a952dfdd-1e75-4c47-8600-e9d59c63ffcf"
      },
      "execution_count": null,
      "outputs": [
        {
          "output_type": "execute_result",
          "data": {
            "text/plain": [
              "False"
            ]
          },
          "metadata": {},
          "execution_count": 225
        }
      ]
    },
    {
      "cell_type": "markdown",
      "source": [
        "## 변수"
      ],
      "metadata": {
        "id": "5e5eZ8ByF3rM"
      }
    },
    {
      "cell_type": "code",
      "source": [
        "# CS 변수는 포스트잇\n",
        "# 변수는 메모리 공간을 가리킵니다.\n",
        "\n",
        "# x라는 포스트잇도 붙였지만\n",
        "# y라는 포스트잇도 붙여저 있는 것입니다.\n",
        "x = 10\n",
        "y = 10\n",
        "\n",
        "id(x), id(y) #id는 누굴 가리키고 있는지 그 주소값을 반환합니다."
      ],
      "metadata": {
        "colab": {
          "base_uri": "https://localhost:8080/"
        },
        "id": "Qff7NXm0F9vL",
        "outputId": "626582cc-462a-460f-939c-3b39fce777f5"
      },
      "execution_count": null,
      "outputs": [
        {
          "output_type": "execute_result",
          "data": {
            "text/plain": [
              "(139800948277776, 139800948277776)"
            ]
          },
          "metadata": {},
          "execution_count": 226
        }
      ]
    },
    {
      "cell_type": "code",
      "source": [
        "x is y"
      ],
      "metadata": {
        "colab": {
          "base_uri": "https://localhost:8080/"
        },
        "id": "Dnwk-FtPHNP8",
        "outputId": "22d17626-1da9-499e-dbca-a99189dd7042"
      },
      "execution_count": null,
      "outputs": [
        {
          "output_type": "execute_result",
          "data": {
            "text/plain": [
              "True"
            ]
          },
          "metadata": {},
          "execution_count": 227
        }
      ]
    },
    {
      "cell_type": "code",
      "source": [
        "x = 257\n",
        "y = 257\n",
        "\n",
        "id(x), id(y)"
      ],
      "metadata": {
        "colab": {
          "base_uri": "https://localhost:8080/"
        },
        "id": "NXv89DbPHP3c",
        "outputId": "65f3e072-241c-4571-afa0-78a805e65eb1"
      },
      "execution_count": null,
      "outputs": [
        {
          "output_type": "execute_result",
          "data": {
            "text/plain": [
              "(139799698647152, 139799698642544)"
            ]
          },
          "metadata": {},
          "execution_count": 228
        }
      ]
    },
    {
      "cell_type": "code",
      "source": [
        "x is y"
      ],
      "metadata": {
        "colab": {
          "base_uri": "https://localhost:8080/"
        },
        "id": "MXNbJpeFHl8g",
        "outputId": "05879472-ad56-48bf-e63e-7e76c14f95a3"
      },
      "execution_count": null,
      "outputs": [
        {
          "output_type": "execute_result",
          "data": {
            "text/plain": [
              "False"
            ]
          },
          "metadata": {},
          "execution_count": 229
        }
      ]
    },
    {
      "cell_type": "code",
      "source": [
        "# Python은 자체적으로 속도를 높이기 위한 \n",
        "# 여러가지 노력들을 해왔습니다.\n",
        "# (아래 언급한 것 말고도 각각의 자료형에서 메모리를 효율적으로 관리하기 위한 노력들을 말씀드리겠습니다.)\n",
        "# 구버전도 말씀을 드릴 것인데 이유는 여러분이 실무에가서 접할 환경이 최신 버전이 아니기 때문입니다.\n",
        "# 야xx의 경우에는 Django 1.x, python 2.x를 사용하고 있어요. \n",
        "# 대부분의 기업들이 한 번 구축해놓은 시스템은 바꾸기가 쉽지 않습니다.\n",
        "\n",
        "# 그래서 -5 ~ 256은 먼저 메모리에 적재를 합니다."
      ],
      "metadata": {
        "id": "EVBLUkPGIAST"
      },
      "execution_count": null,
      "outputs": []
    },
    {
      "cell_type": "code",
      "source": [
        "x = -5\n",
        "y = -5\n",
        "\n",
        "id(x), id(y)"
      ],
      "metadata": {
        "colab": {
          "base_uri": "https://localhost:8080/"
        },
        "id": "sinSJn-LIMnl",
        "outputId": "46c97638-c4d0-40ae-9e92-09ebe19f207c"
      },
      "execution_count": null,
      "outputs": [
        {
          "output_type": "execute_result",
          "data": {
            "text/plain": [
              "(139800948277296, 139800948277296)"
            ]
          },
          "metadata": {},
          "execution_count": 231
        }
      ]
    },
    {
      "cell_type": "markdown",
      "source": [
        "* 변수의 타입이란 무엇인가?\n",
        "* 변수의 타입은 왜 있는 것일까?\n",
        "* 어떤 고민을 통해 변수의 속성을 정했을까?"
      ],
      "metadata": {
        "id": "XyK-pVNUIrrr"
      }
    },
    {
      "cell_type": "code",
      "source": [
        "'a' + 'a'"
      ],
      "metadata": {
        "colab": {
          "base_uri": "https://localhost:8080/",
          "height": 36
        },
        "id": "QvRdi6nFIk-c",
        "outputId": "ec1158f5-0597-45f4-b632-5c19846fe21e"
      },
      "execution_count": null,
      "outputs": [
        {
          "output_type": "execute_result",
          "data": {
            "text/plain": [
              "'aa'"
            ],
            "application/vnd.google.colaboratory.intrinsic+json": {
              "type": "string"
            }
          },
          "metadata": {},
          "execution_count": 232
        }
      ]
    },
    {
      "cell_type": "code",
      "source": [
        "# 왜 이어 붙였지?\n",
        "# 컴퓨터 입장에서 a는 97(인간이 보는 숫자) -> 0x61! 결국 숫자!\n",
        "\n",
        "# cpython -> 이어 붙이라고 정의가 되어 있어서\n",
        "# 사회 통념적인 약속 -> 코드로 구현\n",
        "# type, dir\n",
        "# 이러한 약속들은 매직메서드(__init__ ......)를 통해 구현하게 됩니다."
      ],
      "metadata": {
        "id": "tX9v2XGmJDnr"
      },
      "execution_count": null,
      "outputs": []
    },
    {
      "cell_type": "markdown",
      "source": [
        "## 변수의 속성 변경"
      ],
      "metadata": {
        "id": "aqijX2NxJ7lb"
      }
    },
    {
      "cell_type": "code",
      "source": [
        "'10' + '10'"
      ],
      "metadata": {
        "colab": {
          "base_uri": "https://localhost:8080/",
          "height": 36
        },
        "id": "5LsL4xpUKFpb",
        "outputId": "68902a47-f113-4be5-bdd5-3d70a9cc180f"
      },
      "execution_count": null,
      "outputs": [
        {
          "output_type": "execute_result",
          "data": {
            "text/plain": [
              "'1010'"
            ],
            "application/vnd.google.colaboratory.intrinsic+json": {
              "type": "string"
            }
          },
          "metadata": {},
          "execution_count": 234
        }
      ]
    },
    {
      "cell_type": "code",
      "source": [
        "int('10') + int('10') "
      ],
      "metadata": {
        "colab": {
          "base_uri": "https://localhost:8080/"
        },
        "id": "yRuZusVkJ_ze",
        "outputId": "e48f42e9-472c-4141-8c11-0964c5eae74d"
      },
      "execution_count": null,
      "outputs": [
        {
          "output_type": "execute_result",
          "data": {
            "text/plain": [
              "20"
            ]
          },
          "metadata": {},
          "execution_count": 235
        }
      ]
    },
    {
      "cell_type": "code",
      "source": [
        "# 지금 배우는 포인트는 class가 주용한 문법이 아니라\n",
        "# 이러한 '약속'을 우리가 변경할 수 있다가 중요한 포인트입니다.\n",
        "class int(int):\n",
        "    def __add__(self, a):\n",
        "        return 'leehojun'\n",
        "\n",
        "int('10') + int('10') "
      ],
      "metadata": {
        "colab": {
          "base_uri": "https://localhost:8080/",
          "height": 36
        },
        "id": "V0cAmhFVKQ_r",
        "outputId": "322cd203-7c68-4b6e-dae5-eee7cfe21e33"
      },
      "execution_count": null,
      "outputs": [
        {
          "output_type": "execute_result",
          "data": {
            "text/plain": [
              "'leehojun'"
            ],
            "application/vnd.google.colaboratory.intrinsic+json": {
              "type": "string"
            }
          },
          "metadata": {},
          "execution_count": 236
        }
      ]
    },
    {
      "cell_type": "code",
      "source": [
        "class int(int):\n",
        "    def __add__(self, a):\n",
        "        return self * a\n",
        "\n",
        "int('10') + int('10') "
      ],
      "metadata": {
        "colab": {
          "base_uri": "https://localhost:8080/"
        },
        "id": "epO53jy-KrYj",
        "outputId": "a898cbdc-bfd8-4274-f5be-4415cf14ef24"
      },
      "execution_count": null,
      "outputs": [
        {
          "output_type": "execute_result",
          "data": {
            "text/plain": [
              "100"
            ]
          },
          "metadata": {},
          "execution_count": 237
        }
      ]
    },
    {
      "cell_type": "code",
      "source": [
        "dir(10)"
      ],
      "metadata": {
        "colab": {
          "base_uri": "https://localhost:8080/"
        },
        "id": "-QkjmbwJK44q",
        "outputId": "2b438bd7-8aa5-4e6e-fa31-2c83ac12aab3"
      },
      "execution_count": null,
      "outputs": [
        {
          "output_type": "execute_result",
          "data": {
            "text/plain": [
              "['__abs__',\n",
              " '__add__',\n",
              " '__and__',\n",
              " '__bool__',\n",
              " '__ceil__',\n",
              " '__class__',\n",
              " '__delattr__',\n",
              " '__dir__',\n",
              " '__divmod__',\n",
              " '__doc__',\n",
              " '__eq__',\n",
              " '__float__',\n",
              " '__floor__',\n",
              " '__floordiv__',\n",
              " '__format__',\n",
              " '__ge__',\n",
              " '__getattribute__',\n",
              " '__getnewargs__',\n",
              " '__gt__',\n",
              " '__hash__',\n",
              " '__index__',\n",
              " '__init__',\n",
              " '__init_subclass__',\n",
              " '__int__',\n",
              " '__invert__',\n",
              " '__le__',\n",
              " '__lshift__',\n",
              " '__lt__',\n",
              " '__mod__',\n",
              " '__mul__',\n",
              " '__ne__',\n",
              " '__neg__',\n",
              " '__new__',\n",
              " '__or__',\n",
              " '__pos__',\n",
              " '__pow__',\n",
              " '__radd__',\n",
              " '__rand__',\n",
              " '__rdivmod__',\n",
              " '__reduce__',\n",
              " '__reduce_ex__',\n",
              " '__repr__',\n",
              " '__rfloordiv__',\n",
              " '__rlshift__',\n",
              " '__rmod__',\n",
              " '__rmul__',\n",
              " '__ror__',\n",
              " '__round__',\n",
              " '__rpow__',\n",
              " '__rrshift__',\n",
              " '__rshift__',\n",
              " '__rsub__',\n",
              " '__rtruediv__',\n",
              " '__rxor__',\n",
              " '__setattr__',\n",
              " '__sizeof__',\n",
              " '__str__',\n",
              " '__sub__',\n",
              " '__subclasshook__',\n",
              " '__truediv__',\n",
              " '__trunc__',\n",
              " '__xor__',\n",
              " 'as_integer_ratio',\n",
              " 'bit_count',\n",
              " 'bit_length',\n",
              " 'conjugate',\n",
              " 'denominator',\n",
              " 'from_bytes',\n",
              " 'imag',\n",
              " 'numerator',\n",
              " 'real',\n",
              " 'to_bytes']"
            ]
          },
          "metadata": {},
          "execution_count": 238
        }
      ]
    },
    {
      "cell_type": "code",
      "source": [
        "class int(int):\n",
        "    def 제곱(self, 승수):\n",
        "        return self ** 승수\n",
        "\n",
        "value = int('10')\n",
        "print(dir(value))"
      ],
      "metadata": {
        "colab": {
          "base_uri": "https://localhost:8080/"
        },
        "id": "fdbXXY1YLdB6",
        "outputId": "c883d5ab-c114-48bb-d4c4-8a16e5a77549"
      },
      "execution_count": null,
      "outputs": [
        {
          "output_type": "stream",
          "name": "stdout",
          "text": [
            "['__abs__', '__add__', '__and__', '__bool__', '__ceil__', '__class__', '__delattr__', '__dict__', '__dir__', '__divmod__', '__doc__', '__eq__', '__float__', '__floor__', '__floordiv__', '__format__', '__ge__', '__getattribute__', '__getnewargs__', '__gt__', '__hash__', '__index__', '__init__', '__init_subclass__', '__int__', '__invert__', '__le__', '__lshift__', '__lt__', '__mod__', '__module__', '__mul__', '__ne__', '__neg__', '__new__', '__or__', '__pos__', '__pow__', '__radd__', '__rand__', '__rdivmod__', '__reduce__', '__reduce_ex__', '__repr__', '__rfloordiv__', '__rlshift__', '__rmod__', '__rmul__', '__ror__', '__round__', '__rpow__', '__rrshift__', '__rshift__', '__rsub__', '__rtruediv__', '__rxor__', '__setattr__', '__sizeof__', '__str__', '__sub__', '__subclasshook__', '__truediv__', '__trunc__', '__xor__', 'as_integer_ratio', 'bit_count', 'bit_length', 'conjugate', 'denominator', 'from_bytes', 'imag', 'numerator', 'real', 'to_bytes', '제곱']\n"
          ]
        }
      ]
    },
    {
      "cell_type": "code",
      "source": [
        "value.제곱(3)"
      ],
      "metadata": {
        "colab": {
          "base_uri": "https://localhost:8080/"
        },
        "id": "mLqYzd7PLwpj",
        "outputId": "d686b14a-3237-4bef-abca-e84ed5e41578"
      },
      "execution_count": null,
      "outputs": [
        {
          "output_type": "execute_result",
          "data": {
            "text/plain": [
              "1000"
            ]
          },
          "metadata": {},
          "execution_count": 240
        }
      ]
    },
    {
      "cell_type": "code",
      "source": [
        "x = 10\n",
        "y = x\n",
        "z = y\n",
        "\n",
        "print(id(x), id(y), id(z))"
      ],
      "metadata": {
        "colab": {
          "base_uri": "https://localhost:8080/"
        },
        "id": "Z6ULiJBVMDdd",
        "outputId": "209ca9bd-c8d9-45fd-d897-8b40731aedef"
      },
      "execution_count": null,
      "outputs": [
        {
          "output_type": "stream",
          "name": "stdout",
          "text": [
            "139800948277776 139800948277776 139800948277776\n"
          ]
        }
      ]
    },
    {
      "cell_type": "code",
      "source": [
        "x = 10\n",
        "y = x\n",
        "x = 100\n",
        "\n",
        "print(x, y)\n",
        "print(id(x), id(y), id(z))"
      ],
      "metadata": {
        "colab": {
          "base_uri": "https://localhost:8080/"
        },
        "id": "XNtcke5ZMoXT",
        "outputId": "80b06793-c6ee-46da-b7d5-c6f6fc0f4bd0"
      },
      "execution_count": null,
      "outputs": [
        {
          "output_type": "stream",
          "name": "stdout",
          "text": [
            "100 10\n",
            "139800948280656 139800948277776 139800948277776\n"
          ]
        }
      ]
    },
    {
      "cell_type": "markdown",
      "source": [
        "## 변수의 속성"
      ],
      "metadata": {
        "id": "0_MMS-2HNaJ6"
      }
    },
    {
      "cell_type": "markdown",
      "source": [
        "* 변수는 주로 스네이크 표기법을 많이 사용합니다. 물론 회사 컨벤션을 따르셔야 합니다.\n",
        "* 영문과 숫자를 사용할 수 있지만, 숫자로  시작하지는 못합니다.\n",
        "* 특수문자는 사용하지 않아요.(언더바(_)는  사용합니다. 스네이크 표기법, 특수문자나  이미중 사용 가능한 것들이 있기는 합니다.  권하지 않습니다.)\n",
        "* 예약어는 사용하지 않습니다.(if, elif, while, * for, etc)\n",
        "* 대소문자는 구분합니다.\n",
        "* 언더바로만 사용하거나 언더바로 시작할 수 있습니다.\n",
        "* 대문자로 시작하는 변수를 사용할 수 있지만, 관습적으로 대문자로 시작하는 변수는 Class로 만들기 때문에 소문자로 시작하는 변수를 만들기를 권합니다. Class는 보통 파스칼 표기법을 따릅니다. 다만 회사 컨벤션마다 다릅니다."
      ],
      "metadata": {
        "id": "yprGEi3GNcES"
      }
    },
    {
      "cell_type": "code",
      "source": [
        "# 스네이크 표기법(Python에서 주로 사용)\n",
        "hello_world = 10\n",
        "# 카멜 표기법(JavaScript 에서 주로 사용)\n",
        "helloWorldHello = 10\n",
        "# 파스칼 표기법(Class 같은 곳에서 많이 사용)\n",
        "Hello = 10\n"
      ],
      "metadata": {
        "id": "jNyQYFXxcP7A"
      },
      "execution_count": null,
      "outputs": []
    },
    {
      "cell_type": "code",
      "source": [
        "# 10hello = 100\n",
        "hello10 = 100\n",
        "\n",
        "π = 3.14 # 권하지 않습니다.\n",
        "print(π)\n",
        "\n",
        "_ = 100 #언더바는 자주 사용되는데 이렇게 사용되진 않습니다.\n",
        "print(_)"
      ],
      "metadata": {
        "colab": {
          "base_uri": "https://localhost:8080/"
        },
        "id": "qFqLFXEXhLuN",
        "outputId": "f289d8df-de8c-4129-d6d2-b877415d9c07"
      },
      "execution_count": null,
      "outputs": [
        {
          "output_type": "stream",
          "name": "stdout",
          "text": [
            "3.14\n",
            "100\n"
          ]
        }
      ]
    },
    {
      "cell_type": "code",
      "source": [
        "for _ in range(10): # 언더바를 순회 안에서 변수로 사용하지 않을 때\n",
        "    print('hello')"
      ],
      "metadata": {
        "colab": {
          "base_uri": "https://localhost:8080/"
        },
        "id": "LQ5WE3F0iUzN",
        "outputId": "684ab004-b6ee-4383-99eb-639684c16b02"
      },
      "execution_count": null,
      "outputs": [
        {
          "output_type": "stream",
          "name": "stdout",
          "text": [
            "hello\n",
            "hello\n",
            "hello\n",
            "hello\n",
            "hello\n",
            "hello\n",
            "hello\n",
            "hello\n",
            "hello\n",
            "hello\n"
          ]
        }
      ]
    },
    {
      "cell_type": "code",
      "source": [
        "# if = 100\n",
        "print = 100"
      ],
      "metadata": {
        "id": "_3_zXigQipje"
      },
      "execution_count": null,
      "outputs": []
    },
    {
      "cell_type": "code",
      "source": [
        "# print('hello')"
      ],
      "metadata": {
        "id": "U4ZQTg1Tix93"
      },
      "execution_count": null,
      "outputs": []
    },
    {
      "cell_type": "markdown",
      "source": [
        "## 입력과 출력"
      ],
      "metadata": {
        "id": "zrnmIU4Rjfyt"
      }
    },
    {
      "cell_type": "code",
      "source": [
        "x = input()\n",
        "x"
      ],
      "metadata": {
        "colab": {
          "base_uri": "https://localhost:8080/",
          "height": 353
        },
        "id": "MGT9jsTajnyN",
        "outputId": "acbbc94c-2038-4fb3-9c8c-5e5a858e7f68"
      },
      "execution_count": null,
      "outputs": [
        {
          "output_type": "error",
          "ename": "KeyboardInterrupt",
          "evalue": "ignored",
          "traceback": [
            "\u001b[0;31m---------------------------------------------------------------------------\u001b[0m",
            "\u001b[0;31mKeyboardInterrupt\u001b[0m                         Traceback (most recent call last)",
            "\u001b[0;32m<ipython-input-248-d404e6eb028d>\u001b[0m in \u001b[0;36m<cell line: 1>\u001b[0;34m()\u001b[0m\n\u001b[0;32m----> 1\u001b[0;31m \u001b[0mx\u001b[0m \u001b[0;34m=\u001b[0m \u001b[0minput\u001b[0m\u001b[0;34m(\u001b[0m\u001b[0;34m)\u001b[0m\u001b[0;34m\u001b[0m\u001b[0;34m\u001b[0m\u001b[0m\n\u001b[0m\u001b[1;32m      2\u001b[0m \u001b[0mx\u001b[0m\u001b[0;34m\u001b[0m\u001b[0;34m\u001b[0m\u001b[0m\n",
            "\u001b[0;32m/usr/local/lib/python3.10/dist-packages/ipykernel/kernelbase.py\u001b[0m in \u001b[0;36mraw_input\u001b[0;34m(self, prompt)\u001b[0m\n\u001b[1;32m    849\u001b[0m                 \u001b[0;34m\"raw_input was called, but this frontend does not support input requests.\"\u001b[0m\u001b[0;34m\u001b[0m\u001b[0;34m\u001b[0m\u001b[0m\n\u001b[1;32m    850\u001b[0m             )\n\u001b[0;32m--> 851\u001b[0;31m         return self._input_request(str(prompt),\n\u001b[0m\u001b[1;32m    852\u001b[0m             \u001b[0mself\u001b[0m\u001b[0;34m.\u001b[0m\u001b[0m_parent_ident\u001b[0m\u001b[0;34m,\u001b[0m\u001b[0;34m\u001b[0m\u001b[0;34m\u001b[0m\u001b[0m\n\u001b[1;32m    853\u001b[0m             \u001b[0mself\u001b[0m\u001b[0;34m.\u001b[0m\u001b[0m_parent_header\u001b[0m\u001b[0;34m,\u001b[0m\u001b[0;34m\u001b[0m\u001b[0;34m\u001b[0m\u001b[0m\n",
            "\u001b[0;32m/usr/local/lib/python3.10/dist-packages/ipykernel/kernelbase.py\u001b[0m in \u001b[0;36m_input_request\u001b[0;34m(self, prompt, ident, parent, password)\u001b[0m\n\u001b[1;32m    893\u001b[0m             \u001b[0;32mexcept\u001b[0m \u001b[0mKeyboardInterrupt\u001b[0m\u001b[0;34m:\u001b[0m\u001b[0;34m\u001b[0m\u001b[0;34m\u001b[0m\u001b[0m\n\u001b[1;32m    894\u001b[0m                 \u001b[0;31m# re-raise KeyboardInterrupt, to truncate traceback\u001b[0m\u001b[0;34m\u001b[0m\u001b[0;34m\u001b[0m\u001b[0m\n\u001b[0;32m--> 895\u001b[0;31m                 \u001b[0;32mraise\u001b[0m \u001b[0mKeyboardInterrupt\u001b[0m\u001b[0;34m(\u001b[0m\u001b[0;34m\"Interrupted by user\"\u001b[0m\u001b[0;34m)\u001b[0m \u001b[0;32mfrom\u001b[0m \u001b[0;32mNone\u001b[0m\u001b[0;34m\u001b[0m\u001b[0;34m\u001b[0m\u001b[0m\n\u001b[0m\u001b[1;32m    896\u001b[0m             \u001b[0;32mexcept\u001b[0m \u001b[0mException\u001b[0m \u001b[0;32mas\u001b[0m \u001b[0me\u001b[0m\u001b[0;34m:\u001b[0m\u001b[0;34m\u001b[0m\u001b[0;34m\u001b[0m\u001b[0m\n\u001b[1;32m    897\u001b[0m                 \u001b[0mself\u001b[0m\u001b[0;34m.\u001b[0m\u001b[0mlog\u001b[0m\u001b[0;34m.\u001b[0m\u001b[0mwarning\u001b[0m\u001b[0;34m(\u001b[0m\u001b[0;34m\"Invalid Message:\"\u001b[0m\u001b[0;34m,\u001b[0m \u001b[0mexc_info\u001b[0m\u001b[0;34m=\u001b[0m\u001b[0;32mTrue\u001b[0m\u001b[0;34m)\u001b[0m\u001b[0;34m\u001b[0m\u001b[0;34m\u001b[0m\u001b[0m\n",
            "\u001b[0;31mKeyboardInterrupt\u001b[0m: Interrupted by user"
          ]
        }
      ]
    },
    {
      "cell_type": "code",
      "source": [
        "x + x # 사용자에게 받은 입력은 str"
      ],
      "metadata": {
        "id": "MHyO9rAVjrT2"
      },
      "execution_count": null,
      "outputs": []
    },
    {
      "cell_type": "code",
      "source": [
        "print(10, 10, 10)"
      ],
      "metadata": {
        "id": "mRPCmRsPj7QA"
      },
      "execution_count": null,
      "outputs": []
    },
    {
      "cell_type": "code",
      "source": [
        "print('hello', 'world', 'hello')"
      ],
      "metadata": {
        "id": "bD9OEiegkBly"
      },
      "execution_count": null,
      "outputs": []
    },
    {
      "cell_type": "code",
      "source": [
        "print(x, x)"
      ],
      "metadata": {
        "id": "X2imHSi1kFbE"
      },
      "execution_count": null,
      "outputs": []
    },
    {
      "cell_type": "code",
      "source": [
        "print('hello world', end='!')\n",
        "print('hello world', end='!')\n",
        "print('hello world', end='!')"
      ],
      "metadata": {
        "id": "zJR6j-qqkHyW"
      },
      "execution_count": null,
      "outputs": []
    },
    {
      "cell_type": "code",
      "source": [
        "print('hello', 'world', sep='!')\n",
        "print('010', '5044','2903', sep='-')"
      ],
      "metadata": {
        "id": "fvyFhFHtk-eP"
      },
      "execution_count": null,
      "outputs": []
    },
    {
      "cell_type": "code",
      "source": [],
      "metadata": {
        "id": "g9C5YcVvlJKz"
      },
      "execution_count": null,
      "outputs": []
    },
    {
      "cell_type": "code",
      "source": [
        "이름 = '이호준'\n",
        "나이 = 10\n",
        "print('1, 제 이름은 이호준 입니다. 제 나이는 10입니다.')\n",
        "print('2, 제 이름은 ',이름, ' 입니다. 제 나이는 ', 나이,'입니다.', sep='')\n",
        "print('3. 제 이름은 %s 입니다. 제 나이는 %d입니다.'%(이름, 나이))\n",
        "print('4. 제 이름은 {} 입니다. 제 나이는 {}입니다.'.format(이름, 나이))\n",
        "print(f'5. 제 이름은 {이름} 입니다. 제 나이는 {나이}입니다.')"
      ],
      "metadata": {
        "id": "_xWptDVzlY0F"
      },
      "execution_count": null,
      "outputs": []
    },
    {
      "cell_type": "markdown",
      "source": [
        "[포멧코드](https://www.notion.so/paullabworkspace/9fd33417740f4eba8715f5c4a1ed7c7b?v=e01ecdfe2f9448dcaad68b03a38057a5)"
      ],
      "metadata": {
        "id": "C1WPoUGemZDt"
      }
    },
    {
      "cell_type": "markdown",
      "source": [
        "## formatting"
      ],
      "metadata": {
        "id": "6u22feGGm5rN"
      }
    },
    {
      "cell_type": "code",
      "source": [
        "print(f'{100 * 10}')"
      ],
      "metadata": {
        "id": "25adaRYAmai7"
      },
      "execution_count": null,
      "outputs": []
    },
    {
      "cell_type": "code",
      "source": [
        "# 중괄호 안에서 복잡한 연산을 하시는 것을 권하지 않습니다.\n",
        "result = 100 * 10\n",
        "print(f'{result}')"
      ],
      "metadata": {
        "id": "JI9ViPMGnHir"
      },
      "execution_count": null,
      "outputs": []
    },
    {
      "cell_type": "code",
      "source": [
        "txt = 'hello'\n",
        "i = 10\n",
        "print(f'{txt:>10}')\n",
        "print(f'{txt:>{i}}')"
      ],
      "metadata": {
        "id": "IUkoVcrVn1y2"
      },
      "execution_count": null,
      "outputs": []
    },
    {
      "cell_type": "code",
      "source": [
        "# 이런 문법은 필요에 의해 검색해 보시다 보면 익숙해집니다.\n",
        "print(f'{\"hello\":<10}') # 왼쪽 정렬\n",
        "print(f'{\"hello\":>10}') # 오른쪽 정렬\n",
        "print(f'{\"hello\":^10}') # 중앙 정렬"
      ],
      "metadata": {
        "id": "0bzm54xlmC2s"
      },
      "execution_count": null,
      "outputs": []
    },
    {
      "cell_type": "code",
      "source": [
        "# 이런 문법은 필요에 의해 검색해 보시다 보면 익숙해집니다.\n",
        "print(f'{\"hello\":!<10}') # 왼쪽 정렬\n",
        "print(f'{\"hello\":!>10}') # 오른쪽 정렬\n",
        "print(f'{\"hello\":!^10}') # 중앙 정렬"
      ],
      "metadata": {
        "id": "DUvIgwU6ojc1"
      },
      "execution_count": null,
      "outputs": []
    },
    {
      "cell_type": "code",
      "source": [
        "# 이런 문법은 필요에 의해 검색해 보시다 보면 익숙해집니다.\n",
        "print(f'{\"hello\":=<10}') # 왼쪽 정렬\n",
        "print(f'{\"hello\":=>10}') # 오른쪽 정렬\n",
        "print(f'{\"hello\":=^10}') # 중앙 정렬"
      ],
      "metadata": {
        "id": "_kiNEGBJoaSc"
      },
      "execution_count": null,
      "outputs": []
    },
    {
      "cell_type": "code",
      "source": [
        "# 둘 다 잊으셔도 됩니다. 어디에 활용되는지 궁금하다 하신 분이 있으셔서 해드린 것입니다.\n",
        "# https://tech.kakao.com/2017/09/27/kakao-blind-recruitment-round-1/\n",
        "bin(9)\n",
        "print(f'{bin(9)[2:]:0>5}')"
      ],
      "metadata": {
        "id": "fwC-1Qx1uWW7"
      },
      "execution_count": null,
      "outputs": []
    },
    {
      "cell_type": "code",
      "source": [
        "bin(9 | 30)[2:].replace('1', '#').replace('0', ' ')"
      ],
      "metadata": {
        "id": "FkSskva5uyPb"
      },
      "execution_count": null,
      "outputs": []
    },
    {
      "cell_type": "code",
      "source": [
        "# 요정도 활용을 합니다.\n",
        "print(f'{\"start\":-^20}')"
      ],
      "metadata": {
        "id": "Ydv0rbuLvS0D"
      },
      "execution_count": null,
      "outputs": []
    },
    {
      "cell_type": "code",
      "source": [
        "print(f'{0.12345:0.2f}')"
      ],
      "metadata": {
        "id": "PlKHE3GMvfni"
      },
      "execution_count": null,
      "outputs": []
    },
    {
      "cell_type": "code",
      "source": [
        "print(f'{0.12345:0.2f}')"
      ],
      "metadata": {
        "id": "vqaD0x93vrZS"
      },
      "execution_count": null,
      "outputs": []
    },
    {
      "cell_type": "markdown",
      "source": [
        "* 이 아래 코드는 필수는 아닙니다. 참고 삼아서만 넣어드립니다."
      ],
      "metadata": {
        "id": "_YafL2Etv2AM"
      }
    },
    {
      "cell_type": "code",
      "source": [
        "# 이전 방식\n",
        "print('나의 이름은 %s입니다'%('한사람'))\n",
        "print('나의 이름은 \"%s\"입니다. 나이는 %d세이고 성별은 %s입니다.'%('한사람',33,'남성'))\n",
        "print('나이는 %d세이고 성별은 %s입니다. 나의 이름은 %s입니다. '%(33,'남성','한사람'))\n",
        "print('나이는 %03d세이고 신장은 %6.2f입니다. 나의 이름은 %s입니다. '%(33,56.789,'한사람'))\n",
        "print('-' * 40)\n",
        "\n",
        "# 파이썬(Python) 3 포맷팅 방식\n",
        "print('나의 이름은 {}입니다'.format('한사람'))\n",
        "print('나의 이름은 {0}입니다. 나이는 {1}세이고 성별은 {2}입니다.'.format('한사람',33,'남성'))\n",
        "print('나이는 {1}세이고 성별은 {2}입니다. 나의 이름은 {0}입니다. '.format('한사람',33,'남성'))\n",
        "print('나이는 {age}세이고 성별은 {gender}입니다. 나의 이름은 {name}입니다. '\n",
        "         .format(name='한사람',age=33,gender='남성'))\n",
        "print('만세삼창 :  {0}!!! {0}!!! {0}!!! '.format('만세'))\n",
        "print('삼삼칠 박수 :  {0}!!! {0}!!! {1}!!! '.format('짝'*3,'짝'*7))\n",
        "print('-' * 40)\n",
        "\n",
        "# 파이썬(Python) 3.6 f-string 방식\n",
        "something = '볼펜'\n",
        "EA = 2\n",
        "one_length = 5.343\n",
        "scale = 'cm'\n",
        "\n",
        "print(f'{something} {EA}개의 길이는 {one_length*EA}{scale} 입니다.')\n",
        "print(f'{something} {EA}개의 길이는 {one_length*EA:.1f}{scale} 입니다.')"
      ],
      "metadata": {
        "id": "kUXpbNOEwIuj"
      },
      "execution_count": null,
      "outputs": []
    },
    {
      "cell_type": "code",
      "source": [
        "print('Python is [{:15}]'.format('good'))\n",
        "print('Python is [{:<15}]'.format('good'))\n",
        "print('Python is [{:>15}]'.format('good'))\n",
        "print('Python is [{:^15}]'.format('good'))\n",
        "print('당신의 나이는 [{:15}]세'.format(22))\n",
        "print('당신의 나이는 [{:<15}]세'.format(22))\n",
        "print('당신의 나이는 [{:>15}]세'.format(22))\n",
        "print('당신의 나이는 [{:<15}]세'.format(22))\n",
        "print('-' * 40)"
      ],
      "metadata": {
        "id": "0mq-fh8twYWm"
      },
      "execution_count": null,
      "outputs": []
    },
    {
      "cell_type": "code",
      "source": [
        "char_a = '5'\n",
        "int_a = 1\n",
        "\n",
        "'''기본적으로 {} 포맷팅의 특성을 그대로 가짐'''\n",
        "print(1234567890)\n",
        "print(f'{char_a:>5}') # >는 오른쪽정렬\n",
        "print(f'{char_a:<5}') # <는 왼쪽정렬\n",
        "print(f'{char_a:^5}') # ^는 가운데정렬\n",
        "print(f'{int_a:0<5}')# <는 왼쪽정렬, 빈자리를 0으로 채울수도 있음\n",
        "print(f'{int_a:^10.2f}') # ^ 가운데 정렬하면서 float 타입지정"
      ],
      "metadata": {
        "id": "IIUnbDC2HuwW"
      },
      "execution_count": null,
      "outputs": []
    },
    {
      "cell_type": "markdown",
      "source": [
        "## int"
      ],
      "metadata": {
        "id": "D7U1X6qxwocj"
      }
    },
    {
      "cell_type": "markdown",
      "source": [
        "* 파이썬에서는 숫자를 정수, 실수, 복소수로 나눠 표현합니다.\n",
        "* 2진수, 8진수, 16진수는 정수로 표현됩니다."
      ],
      "metadata": {
        "id": "RMhCuqqnwpoN"
      }
    },
    {
      "cell_type": "code",
      "source": [
        "10 # 정수\n",
        "-10 # 정수\n",
        "10.1 # 실수\n",
        "\n",
        "a = 10\n",
        "type(a)\n",
        "dir(a)"
      ],
      "metadata": {
        "id": "_qRjxapMw94P"
      },
      "execution_count": null,
      "outputs": []
    },
    {
      "cell_type": "code",
      "source": [
        "'bit_length' # bit로 바꿨을 때 bit의 길이이\n",
        "'to_bytes' # 컴퓨터에 저장하는 바이트의 형태로 숫자를 표현현"
      ],
      "metadata": {
        "id": "L7CVcoD4xD9A"
      },
      "execution_count": null,
      "outputs": []
    },
    {
      "cell_type": "code",
      "source": [
        "# 1Bit, 0 ~ 1 # bit - 1자리\n",
        "# 1Bytes = 8bit, 00000000 ~ 11111111 # 1byte - 8bit\n",
        "# 1KB (키로바이트) = 1024Bytes\n",
        "# 1MB (메가바이트) = 1024KB\n",
        "# 1GB (기가바이트) = 1024MB\n",
        "# 1TB (테라바이트) = 1024GB\n",
        "# 1PB (페타바이트) = 1024TB"
      ],
      "metadata": {
        "id": "0Gtl_EeWxx6u"
      },
      "execution_count": null,
      "outputs": []
    },
    {
      "cell_type": "code",
      "source": [
        "(9).bit_length() # 1001"
      ],
      "metadata": {
        "id": "D108o_HezdXG"
      },
      "execution_count": null,
      "outputs": []
    },
    {
      "cell_type": "code",
      "source": [
        "#컴퓨터가 숫자를 어떻게 저장하는가?\n",
        "(2).to_bytes(1, byteorder='little', signed=True)\n",
        "(1).to_bytes(1, byteorder='little', signed=True)\n",
        "(0).to_bytes(1, byteorder='little', signed=True)\n",
        "(-1).to_bytes(1, byteorder='little', signed=True)\n",
        "(-2).to_bytes(1, byteorder='little', signed=True)"
      ],
      "metadata": {
        "id": "OmReFWZEzwuH"
      },
      "execution_count": null,
      "outputs": []
    },
    {
      "cell_type": "code",
      "source": [
        "# 0000 0001 # 1\n",
        "# 1111 1110 # 1의 1의 보수\n",
        "# 1111 1111 # 1의 2의 보수 => ff"
      ],
      "metadata": {
        "id": "WDgnHbQC0UKO"
      },
      "execution_count": null,
      "outputs": []
    },
    {
      "cell_type": "code",
      "source": [
        "# 진법 변환 쉽게 하는 법 : 가장 가까운 승수를 찾아 더하거나 뺍니다.\n",
        "# 10진법\n",
        "# 0 1 2 3 4 5 6 7 8 9 -> 10\n",
        "# 1324 = 1*10^3 + 3*10^2 + 2*10^1 + 4*10^0\n",
        "\n",
        "# 2진법\n",
        "# 0 1 -> 10\n",
        "# 1001 = 1*2^3 + 1*2^0 = 9\n",
        "\n",
        "# 8진법\n",
        "# 0 1 2 3 4 5 6 7 -> 10\n",
        "\n",
        "# 16진법\n",
        "# 0 1 2 3 4 5 6 7 8 9 a b c d e f -> 10"
      ],
      "metadata": {
        "id": "_VlsbdLV2vzq"
      },
      "execution_count": null,
      "outputs": []
    },
    {
      "cell_type": "code",
      "source": [
        "# color의 표현\n",
        "# #25/96/be\n",
        "# 000000 ~ ffffff\n",
        "# ff는 10진수로 무슨 숫자를 의미\n",
        "# 100 - 1 => ff가 됩니다. 그래서 256 - 1"
      ],
      "metadata": {
        "id": "RcWRV8S97oFw"
      },
      "execution_count": null,
      "outputs": []
    },
    {
      "cell_type": "code",
      "source": [
        "a = 10\n",
        "type(a)"
      ],
      "metadata": {
        "id": "Dz8Xl3xf8JEp"
      },
      "execution_count": null,
      "outputs": []
    },
    {
      "cell_type": "code",
      "source": [
        "int('10') + int('10')"
      ],
      "metadata": {
        "id": "Wa1anxn08OAp"
      },
      "execution_count": null,
      "outputs": []
    },
    {
      "cell_type": "code",
      "source": [
        "int('10', 2) # 2진법으로 10은?"
      ],
      "metadata": {
        "id": "NOmYgtfO8TZ_"
      },
      "execution_count": null,
      "outputs": []
    },
    {
      "cell_type": "code",
      "source": [
        "int('10', 8) # 8진법으로 10은?"
      ],
      "metadata": {
        "id": "f2CLw1FF8bQW"
      },
      "execution_count": null,
      "outputs": []
    },
    {
      "cell_type": "code",
      "source": [
        "int('10', 16) # 16진법으로 10은?"
      ],
      "metadata": {
        "id": "GRf0x4NC8eau"
      },
      "execution_count": null,
      "outputs": []
    },
    {
      "cell_type": "code",
      "source": [
        "print(0b110) # 바이너리 - 2진수\n",
        "print(0o110) # 옥타 - 8진수 \n",
        "print(0x110) # 헥사 - 16진수"
      ],
      "metadata": {
        "id": "I6tdHm9a8hjk"
      },
      "execution_count": null,
      "outputs": []
    },
    {
      "cell_type": "code",
      "source": [
        "type(0b110)"
      ],
      "metadata": {
        "id": "_b6XAF8a9F-p"
      },
      "execution_count": null,
      "outputs": []
    },
    {
      "cell_type": "code",
      "source": [
        "a = 10\n"
      ],
      "metadata": {
        "id": "TpHeMyNE9JVv"
      },
      "execution_count": null,
      "outputs": []
    },
    {
      "cell_type": "markdown",
      "source": [
        "## float (실수)"
      ],
      "metadata": {
        "id": "flYyYYN-9MXY"
      }
    },
    {
      "cell_type": "code",
      "source": [
        "a = 10.1\n",
        "\n",
        "type(a)"
      ],
      "metadata": {
        "id": "FBXC56lh9OlW"
      },
      "execution_count": null,
      "outputs": []
    },
    {
      "cell_type": "code",
      "source": [
        "dir(a)"
      ],
      "metadata": {
        "id": "9dhx6oPn9TeC"
      },
      "execution_count": null,
      "outputs": []
    },
    {
      "cell_type": "code",
      "source": [
        "a = 10\n",
        "b = 10.1\n",
        "\n",
        "a + b # 다른 일부 언어에서는 허용되지 않습니다."
      ],
      "metadata": {
        "id": "AdS5ed_F9YVq"
      },
      "execution_count": null,
      "outputs": []
    },
    {
      "cell_type": "code",
      "source": [
        "# 부동소수점 오차(2진법으로 변환했을 때 0.1이 무한대수가 발생합니다.)\n",
        "0.1 + 0.2 # 대부분의 언어 공통입니다."
      ],
      "metadata": {
        "id": "6eNl7RLV9gmW"
      },
      "execution_count": null,
      "outputs": []
    },
    {
      "cell_type": "code",
      "source": [
        "a = 0.1"
      ],
      "metadata": {
        "id": "qL5MKb0y95wK"
      },
      "execution_count": null,
      "outputs": []
    },
    {
      "cell_type": "code",
      "source": [
        "# 20번 반복해보세요\n",
        "a = a + 0.1\n",
        "a"
      ],
      "metadata": {
        "id": "bf9aEjC497PY"
      },
      "execution_count": null,
      "outputs": []
    },
    {
      "cell_type": "markdown",
      "source": [
        "* https://docs.python.org/ko/3/tutorial/floatingpoint.html\n",
        "* https://0.30000000000000004.com/ 에서 언어별 해결책을 제시한다.\n",
        "* 컴퓨터에서 부동소수점 숫자는 2진 분수로 표현되기에 무한대수가 발생한다.\n",
        "* [무한수가 발생되는 원리](https://www.notion.so/paullabworkspace/5f34f21bf9a34015b170e7afd7da9593)"
      ],
      "metadata": {
        "id": "Ge4pGLe4-mlB"
      }
    },
    {
      "cell_type": "code",
      "source": [
        "'hello'.count('')"
      ],
      "metadata": {
        "id": "EH1kB2gsAUDm"
      },
      "execution_count": null,
      "outputs": []
    },
    {
      "cell_type": "markdown",
      "source": [
        "## 오늘 배운 것 정리\n",
        "1. 단축키\n",
        "    * (필수) Ctrl(Command) + Enter : 해당 셀 실행\n",
        "    * (필수) Alt(Option) + Enter : 해당 셀 실행 + 코드 불록 하단 추가\n",
        "    * (필수) Ctrl + / : 주석\n",
        "    * (필수) Shift + Del : 한 줄 지우기\n",
        "    * (필수) Tab, Ctrl + ] : 들여쓰기\n",
        "    * (필수) Shift + Tab, Ctrl + [ : 내어쓰기\n",
        "\n",
        "2. 마크다운\n",
        "    ```\n",
        "    # hello\n",
        "    ## hello\n",
        "    ### hello\n",
        "\n",
        "    1. hello\n",
        "    2. hello\n",
        "    3. hello\n",
        "\n",
        "    * hello\n",
        "    * hello\n",
        "    * hello\n",
        "    ```\n",
        "\n",
        "3. 주석\n",
        "\n",
        "    ```python\n",
        "    #행 단위 주석입니다.\n",
        "\n",
        "    \"\"\"\n",
        "    큰 따옴표로 세번 묶거나\n",
        "    작은따옴표로 세번 묶으면\n",
        "    열단위 주석이 됩니다.\n",
        "    \"\"\"\n",
        "\n",
        "    '''\n",
        "    큰 따옴표로 세번 묶거나\n",
        "    작은따옴표로 세번 묶으면\n",
        "    열단위 주석이 됩니다.\n",
        "    '''\n",
        "    ```\n",
        "\n",
        "4. PEP8 권고사항\n",
        "    * 띄어쓰기는 4칸\n",
        "    * 한 줄에 79자 이상을 사용하지 않는다.\n",
        "\n",
        "5. 형의 종류(type, dir)\n",
        "    * 컨벤션 자료형(list, tuple, dict, set)은 나중에 진행합니다.\n",
        "    * int\n",
        "    * float\n",
        "    * bool\n",
        "    * str\n",
        "    * function\n",
        "    * bulit-in function\n",
        "\n",
        "6. 이스케이프 문자\n",
        "    * https://ko.wikipedia.org/wiki/%EC%9D%B4%EC%8A%A4%EC%BC%80%EC%9D%B4%ED%94%84_%EB%AC%B8%EC%9E%90\n",
        "    ```python\n",
        "    print('hello \\n world')\n",
        "    print('hello \\t world')\n",
        "    print('hello \\' world')\n",
        "    print('hello \\\" world')\n",
        "    print('hello \\\\ world')\n",
        "    ```\n",
        "\n",
        "7. 실무에서 자주 사용하는 타입확인 구문\n",
        "    ```python\n",
        "    type(10)\n",
        "    type(10) == int\n",
        "    type(10.1) == float\n",
        "\n",
        "    a = 10\n",
        "    isinstance(a, int)\n",
        "    isinstance(a, float)\n",
        "    ```\n",
        "\n",
        "8. 변수의 인사이트\n",
        "    ```\n",
        "    dir을 입력했을 때\n",
        "    1. __hello__와 같은 형태의 메직 메서드는 속성을 표현한다\n",
        "    2.  언더바가 없는 메서드는 해당 자료형의 편의 기능을 제공한다\n",
        "    ```\n",
        "\n",
        "9. 입력과 출력\n",
        "    ```python\n",
        "    x = input() #입력, 숫자를 입력해도 str\n",
        "    print(x) #출력\n",
        "\n",
        "    이름 = '이호준'\n",
        "    나이 = 10\n",
        "    print(f'제 이름은 {이름}입니다. 제 나이는 {나이}입니다.')\n",
        "    print(f'{100 * 10}')\n",
        "    ```\n",
        "\n",
        "\n",
        "10. int 형\n",
        "    * 2진수, 8진수, 16진수는 정수\n",
        "\n",
        "\n",
        "11. float 형\n",
        "    * 부동소수점 오차(2진법으로 변환했을 때 0.1이 무한대수가 발생합니다.)\n",
        "    0.1 + 0.2 # 대부분의 언어 공통입니다.\n",
        "    * https://docs.python.org/ko/3/tutorial/floatingpoint.html\n",
        "    * https://0.30000000000000004.com/ 에서 언어별 해결책을 제시한다.\n"
      ],
      "metadata": {
        "id": "LKAMtvadAfli"
      }
    },
    {
      "cell_type": "markdown",
      "source": [
        "## str (문자열)"
      ],
      "metadata": {
        "id": "CRnxzhO6yMSa"
      }
    },
    {
      "cell_type": "markdown",
      "source": [
        "- 순서가 있는 **시퀀스 자료형**입니다.\n",
        "- 작은 따옴표(' ')나 큰 따옴표(\" \"), 삼중따옴표('''str''', \"\"\"str\"\"\")로 감싸는 것도 가능합니다. (삼중따옴표를 사용할 경우에는 줄단위의 문자열을 나타낼 수 있습니다.)\n",
        "- 작은 따옴표 안에 큰 따옴표, 큰 따옴표 안에 작은 따옴표 사용이 가능합니다.\n",
        "- 이스케이프 문자도 사용이 가능합니다.\n",
        "- 리스트, 튜플도 시퀀스 자료형입니다."
      ],
      "metadata": {
        "id": "uoqtI9HZymj6"
      }
    },
    {
      "cell_type": "code",
      "source": [
        "s = 'paullab CEO leehojun'\n",
        "s[0] #0은 index입니다. 이렇게 호출하는 것을 indexing이라고 합니다.\n",
        "s"
      ],
      "metadata": {
        "id": "oNpPs_nzyoPK"
      },
      "execution_count": null,
      "outputs": []
    },
    {
      "cell_type": "code",
      "source": [
        "type(s)"
      ],
      "metadata": {
        "id": "z5QLg_OYzxix"
      },
      "execution_count": null,
      "outputs": []
    },
    {
      "cell_type": "code",
      "source": [
        "dir(s)"
      ],
      "metadata": {
        "id": "BNyJ6g4hz72x"
      },
      "execution_count": null,
      "outputs": []
    },
    {
      "cell_type": "code",
      "source": [
        "# 문자열의 메서드\n",
        "# 'capitalize','casefold','center','count','encode',\n",
        "# 'endswith','expandtabs','find','format','format_map',\n",
        "# 'index','isalnum','isalpha','isascii','isdecimal','isdigit',\n",
        "# 'isidentifier','islower','isnumeric','isprintable','isspace',\n",
        "# 'istitle','isupper','join','ljust','lower','lstrip',\n",
        "# 'maketrans','partition','removeprefix','removesuffix',\n",
        "# 'replace','rfind','rindex','rjust','rpartition','rsplit',\n",
        "# 'rstrip','split','splitlines','startswith','strip','swapcase',\n",
        "# 'title','translate','upper','zfill'"
      ],
      "metadata": {
        "id": "r0vQWnyA0MH-"
      },
      "execution_count": null,
      "outputs": []
    },
    {
      "cell_type": "code",
      "source": [
        "s = 'paullab CEO leehojun'\n",
        "s.lower(), s.upper() \n",
        "# 특히 사용자에게 입력을 받는 경우 lower도 많이 사용합니다."
      ],
      "metadata": {
        "id": "SnG76Z410Xli"
      },
      "execution_count": null,
      "outputs": []
    },
    {
      "cell_type": "code",
      "source": [
        "s = 'paullab CEO leehojun'\n",
        "s.find('C'), s.index('C')"
      ],
      "metadata": {
        "id": "62YBGYiw0mQ4"
      },
      "execution_count": null,
      "outputs": []
    },
    {
      "cell_type": "code",
      "source": [
        "# 견고한 코드란?\n",
        "# 시간이 지나도 그대로 사용할 수 있고 (유지보수 없이)\n",
        "# error가 예측 가능하게 나는 코드\n",
        "# 네이버에 이미지 슬라이딩 코드드\n",
        "# bool(s.find('Z')) => -1은 True이기 때문에 주의가 필요하다.\n",
        "s.find('Z')"
      ],
      "metadata": {
        "id": "h9oZEVLU1OPU"
      },
      "execution_count": null,
      "outputs": []
    },
    {
      "cell_type": "code",
      "source": [
        "# Error가 나면 Error를 주는 것이 좋을 수 있습니다.\n",
        "# Error를 안주는 언어로 JavaScript\n",
        "s.index('Z')"
      ],
      "metadata": {
        "id": "2BCYiJhT1MhF"
      },
      "execution_count": null,
      "outputs": []
    },
    {
      "cell_type": "code",
      "source": [
        "s = 'paullab CEO leehojun'\n",
        "s.find('CEO')"
      ],
      "metadata": {
        "id": "Epvuc44E2gsx"
      },
      "execution_count": null,
      "outputs": []
    },
    {
      "cell_type": "code",
      "source": [
        "# 별 5개개\n",
        "s = 'paullab CEO leehojun'\n",
        "s.count('l')"
      ],
      "metadata": {
        "id": "GLVdPmpJ2xaK"
      },
      "execution_count": null,
      "outputs": []
    },
    {
      "cell_type": "code",
      "source": [
        "str([1, 2, 3, 4, 5])"
      ],
      "metadata": {
        "id": "l0-BZiZ322D2"
      },
      "execution_count": null,
      "outputs": []
    },
    {
      "cell_type": "code",
      "source": [
        "str([1, 2, 3, 4, 5]).count(' ')"
      ],
      "metadata": {
        "id": "O9-HQAdN3DDn"
      },
      "execution_count": null,
      "outputs": []
    },
    {
      "cell_type": "code",
      "source": [
        "str([1, 2, 3, 4, 5]).count(',')"
      ],
      "metadata": {
        "id": "mA2RsBaO3HOZ"
      },
      "execution_count": null,
      "outputs": []
    },
    {
      "cell_type": "code",
      "source": [
        "# 1의 개수\n",
        "str([1, 2, 11, 4, 111]).count('1')"
      ],
      "metadata": {
        "id": "J-0u_dCT3Mcw"
      },
      "execution_count": null,
      "outputs": []
    },
    {
      "cell_type": "code",
      "source": [
        "str(list(range(0, 10001))).count('8')"
      ],
      "metadata": {
        "id": "jvivVWVV5fFC"
      },
      "execution_count": null,
      "outputs": []
    },
    {
      "cell_type": "markdown",
      "source": [
        "* https://codingdojang.com/scode/393?answer_mode=hide"
      ],
      "metadata": {
        "id": "PXuWOY_n3nMJ"
      }
    },
    {
      "cell_type": "code",
      "source": [
        "str([1,2,3,4,5]).count(' ') # list는 콤마 다음에 공백이 없더라도 공백으로 인식해줍니다."
      ],
      "metadata": {
        "id": "FKtdqD4y3r-R"
      },
      "execution_count": null,
      "outputs": []
    },
    {
      "cell_type": "code",
      "source": [
        "str([1,\n",
        "     2,\n",
        "     3,\n",
        "     4,\n",
        "     5]).count(' ') # list는 콤마 다음에 공백이 없더라도 공백으로 인식해줍니다."
      ],
      "metadata": {
        "id": "EIMhmET14uNp"
      },
      "execution_count": null,
      "outputs": []
    },
    {
      "cell_type": "code",
      "source": [],
      "metadata": {
        "id": "c74H6pVM4x7n"
      },
      "execution_count": null,
      "outputs": []
    },
    {
      "cell_type": "code",
      "source": [
        "str([1,2,3,4,5,6,7,8]).count(' ')"
      ],
      "metadata": {
        "id": "55WN0Vba4G-K"
      },
      "execution_count": null,
      "outputs": []
    },
    {
      "cell_type": "code",
      "source": [
        "'hello'.count('')"
      ],
      "metadata": {
        "id": "q6SHtjQb4IuE"
      },
      "execution_count": null,
      "outputs": []
    },
    {
      "cell_type": "code",
      "source": [
        "'a'.count('')"
      ],
      "metadata": {
        "id": "3_lZbKYs4N1a"
      },
      "execution_count": null,
      "outputs": []
    },
    {
      "cell_type": "code",
      "source": [
        "''.count('')\n"
      ],
      "metadata": {
        "id": "Gn7leAPX4hsW"
      },
      "execution_count": null,
      "outputs": []
    },
    {
      "cell_type": "code",
      "source": [
        "'    hello  !  '.strip() # 공백제거 매서드드"
      ],
      "metadata": {
        "id": "hN7IKkRg4jmS"
      },
      "execution_count": null,
      "outputs": []
    },
    {
      "cell_type": "code",
      "source": [
        "'    hello  !  '.rstrip()\n"
      ],
      "metadata": {
        "id": "HG2h-btu6n-4"
      },
      "execution_count": null,
      "outputs": []
    },
    {
      "cell_type": "code",
      "source": [
        "'    hello  !  '.lstrip()\n"
      ],
      "metadata": {
        "id": "ojRxkAEu6srB"
      },
      "execution_count": null,
      "outputs": []
    },
    {
      "cell_type": "code",
      "source": [
        "# 별 5개\n",
        "'hello world hi'.replace(' ', '!')\n",
        "'hello world hi'.replace('world', 'w@o@r@l@d').upper()"
      ],
      "metadata": {
        "id": "piTOGN1U6-KY"
      },
      "execution_count": null,
      "outputs": []
    },
    {
      "cell_type": "code",
      "source": [
        "'hello world hi'.replace('world', 'w@o@r@l@d').upper().split('@')\n",
        "# 반환값이 list이기 때문에 메서드 체이닝을 하려면\n",
        "# 이후로 list 메서드를 사용해야 한다."
      ],
      "metadata": {
        "id": "nN27N6l27Vng"
      },
      "execution_count": null,
      "outputs": []
    },
    {
      "cell_type": "code",
      "source": [
        "'hello world hi'.replace(' ', '')"
      ],
      "metadata": {
        "id": "T4w6z4df7aHk"
      },
      "execution_count": null,
      "outputs": []
    },
    {
      "cell_type": "code",
      "source": [
        "data = '''  \"+ +-+ -+-\"  \n",
        "  \"++ -- +-+\"  \n",
        "  \"++-+ -+ -\"  \n",
        "  \"+ ++-+ -+\"  '''\n",
        "\n",
        "data.split('\\n')[0].replace(' ', '').replace('\"', '')\n",
        "\n",
        "# Pythonic하지 않다!\n",
        "data.split('\\n')[0].replace(' ', \n",
        "                '').replace('\"', \n",
        "                '')\n",
        "\n",
        "# Pythonic하게 하려면\n",
        "data.split('\\n')[0]\\\n",
        "                .replace(' ', '')\\\n",
        "                .replace('\"', '')\\\n",
        "                .replace('\"', '')\\\n",
        "                .replace('\"', '')\\\n",
        "                .replace('\"', '')\\\n",
        "                .replace('\"', '')\\\n",
        "                .replace('\"', '')\\\n",
        "                .replace('\"', '')\n",
        "\n",
        "# 제가 사용하는 기법\n",
        "processed_string = data.split('\\n')[0].replace(' ', '').replace('\"', '')\n",
        "processed_string.replace('\"', '').replace('\"', '')"
      ],
      "metadata": {
        "id": "Af92eKZD7q-5"
      },
      "execution_count": null,
      "outputs": []
    },
    {
      "cell_type": "code",
      "source": [
        "# aaaaaaaaaaaaaaaaaaaaaaaaaaaaaaaaaaaaaaaaaaaaaaaaaaaaaaaaaaaaaaaaaaaaaaaaaaaaaaaa 79자\n",
        "# 아아아아아아아아아아아아아아아아아아아아아아아아아아아아아아아아아아아아아아아아 39자자"
      ],
      "metadata": {
        "id": "PLTIPaue_qJK"
      },
      "execution_count": null,
      "outputs": []
    },
    {
      "cell_type": "code",
      "source": [
        "data = '''  \"+ +-+ -+-\"  \n",
        "  \"++ -- +-+\"  \n",
        "  \"++-+ -+ -\"  \n",
        "  \"+ ++-+ -+\"  '''\n",
        "\n",
        "data.split('\\n')[0].replace(' ', '').replace('\"', '').replace('+', '1').replace('-', '0')\n",
        "ord('A'), chr(65) # ord는 문자를 가지고 숫자로 변경 chr은 숫자를 가지고 문자로 변경합니다.\n",
        "\n",
        "숫자 = data.split('\\n')[0].replace(' ', '').replace('\"', '').replace('+', '1').replace('-', '0')\n",
        "int(숫자, 2)\n",
        "chr(int(숫자, 2))"
      ],
      "metadata": {
        "id": "d27D87gZA85f"
      },
      "execution_count": null,
      "outputs": []
    },
    {
      "cell_type": "code",
      "source": [
        "# 별 4.5개\n",
        "'paullab CEO leehojun'.split(' ') #문자열을 쪼개어 줍니다.\n",
        "'paullab!CEO!leehojun'.split('!')\n",
        "'paullab,CEO,leehojun'.split(',')"
      ],
      "metadata": {
        "id": "ZhiayRLwCCTR"
      },
      "execution_count": null,
      "outputs": []
    },
    {
      "cell_type": "code",
      "source": [
        "'010 5044 2903'.split(' ')"
      ],
      "metadata": {
        "id": "8BScqir_CJNS"
      },
      "execution_count": null,
      "outputs": []
    },
    {
      "cell_type": "code",
      "source": [
        "'010 5044 2903'.split(' ')"
      ],
      "metadata": {
        "id": "PaKHysZ7CV2_"
      },
      "execution_count": null,
      "outputs": []
    },
    {
      "cell_type": "code",
      "source": [
        "'010-5044-2903'.split('-')"
      ],
      "metadata": {
        "id": "z8QRTXafCjnm"
      },
      "execution_count": null,
      "outputs": []
    },
    {
      "cell_type": "code",
      "source": [
        "번호 = '010 5044-2903'.replace('-', ' ')\n",
        "번호.split(' ')"
      ],
      "metadata": {
        "id": "pqPEYGJ6Ckk1"
      },
      "execution_count": null,
      "outputs": []
    },
    {
      "cell_type": "code",
      "source": [
        "'010 5044 2903'.split(' ')\n",
        "'010-5044-2903'.split('-')\n",
        "'010 5044-2903'.replace('-',' ').split(' ')\n",
        "\n",
        "list(map(int, '010 5044 2903'.split(' ')))\n",
        "list(map(int, '010-5044-2903'.split('-')))\n",
        "list(map(int, '010 5044-2903'.replace('-',' ').split(' ')))"
      ],
      "metadata": {
        "id": "3I6I2ppAFfSo"
      },
      "execution_count": null,
      "outputs": []
    },
    {
      "cell_type": "code",
      "source": [
        "'010 5044 2903'.split() # 공백단위가 들어가게 됩니다."
      ],
      "metadata": {
        "id": "0axDo_pmGA1f"
      },
      "execution_count": null,
      "outputs": []
    },
    {
      "cell_type": "code",
      "source": [
        "#'01050442903'.split('') # 빈 문자열을 넣지는 못합니다."
      ],
      "metadata": {
        "id": "U0T83D4PGILD"
      },
      "execution_count": null,
      "outputs": []
    },
    {
      "cell_type": "code",
      "source": [
        "list(map(int, '010 5044 2903'.split(' ')))"
      ],
      "metadata": {
        "id": "Mz8bIPF4GR_g"
      },
      "execution_count": null,
      "outputs": []
    },
    {
      "cell_type": "code",
      "source": [
        "int('010')"
      ],
      "metadata": {
        "id": "4vM-YurVMR2m"
      },
      "execution_count": null,
      "outputs": []
    },
    {
      "cell_type": "code",
      "source": [
        "#print(010) #Error"
      ],
      "metadata": {
        "id": "Dkqj_d-5MUnM"
      },
      "execution_count": null,
      "outputs": []
    },
    {
      "cell_type": "code",
      "source": [
        "num ='010 5044-2903'.replace('-',' ').split(' ')\n",
        "[int(i) for i in num] # 리스트 컴프리헨션 사용\n",
        "list(map(int, '010 5044 2903'.split(' ')))\n",
        "\n",
        "# 2개 모두 새로운 리스트를 만드는 것입니다.\n",
        "# 원본을 변경시키지 않습니다."
      ],
      "metadata": {
        "id": "n-Uytl0qMc10"
      },
      "execution_count": null,
      "outputs": []
    },
    {
      "cell_type": "code",
      "source": [
        "s = []\n",
        "for i in '010 5044-2903'.replace('-',' ').split(' '):\n",
        "    s.append(int(i))\n",
        "s\n",
        "\n",
        "#요 코드를 추천합니다.\n",
        "[int(i) for i in num]"
      ],
      "metadata": {
        "id": "zBuqUxEiMwI1"
      },
      "execution_count": null,
      "outputs": []
    },
    {
      "cell_type": "code",
      "source": [
        "# 지금 진도에서 과하기 때문에\n",
        "# 지금은 잊으셔도 됩니다.\n",
        "# 뒤에서 상세하게 다룹니다.\n",
        "def 제곱함수(x):\n",
        "    return x ** 2\n",
        "\n",
        "def 정수함수(x):\n",
        "    return int(x)\n",
        "\n",
        "list(map(제곱함수, [1, 2, 3]))\n",
        "list(map(정수함수, ['1', '2', '3']))\n",
        "list(map(int, ['1', '2', '3']))\n",
        "\n",
        "list(map(int, ['010', '5044', '2903']))\n",
        "list(map(int,'010 5044 2903'.split(' ')))"
      ],
      "metadata": {
        "id": "80Y_qS6TGW_2"
      },
      "execution_count": null,
      "outputs": []
    },
    {
      "cell_type": "code",
      "source": [
        "# 별 4.5개\n",
        "'~'.join(['hello', 'world', 'hello'])\n",
        "'!'.join(['hello', 'world', 'hello'])\n",
        "''.join(['hello', 'world', 'hello'])\n",
        "' '.join(['hello', 'world', 'hello'])"
      ],
      "metadata": {
        "id": "64RebYjXHTW-"
      },
      "execution_count": null,
      "outputs": []
    },
    {
      "cell_type": "code",
      "source": [
        "'hello'.isalpha()"
      ],
      "metadata": {
        "id": "lmBOfJKEHEZz"
      },
      "execution_count": null,
      "outputs": []
    },
    {
      "cell_type": "code",
      "source": [
        "'he llo'.isalpha()"
      ],
      "metadata": {
        "id": "I0byYOsTIBhH"
      },
      "execution_count": null,
      "outputs": []
    },
    {
      "cell_type": "code",
      "source": [
        "'123'.isdigit()"
      ],
      "metadata": {
        "id": "jQvWLdwoIHMF"
      },
      "execution_count": null,
      "outputs": []
    },
    {
      "cell_type": "code",
      "source": [
        "'12a3'.isdigit(), '12 3'.isdigit()"
      ],
      "metadata": {
        "id": "ywWnHEeoILZd"
      },
      "execution_count": null,
      "outputs": []
    },
    {
      "cell_type": "code",
      "source": [
        "'12a3'.isalnum(), '12 3'.isalnum()"
      ],
      "metadata": {
        "id": "Xj0sT-TWIVC2"
      },
      "execution_count": null,
      "outputs": []
    },
    {
      "cell_type": "code",
      "source": [
        "'안녕하세요!'.isalpha(), '안녕하세요!'.isalnum()"
      ],
      "metadata": {
        "id": "IX3Jwvd5IePG"
      },
      "execution_count": null,
      "outputs": []
    },
    {
      "cell_type": "code",
      "source": [
        "# 퀴즈\n",
        "# 숫자를 모두 더하라!\n",
        "result = 0\n",
        "\n",
        "for i in '123abc913sldlf':\n",
        "    # print(i.isdigit())\n",
        "    if i.isdigit():\n",
        "        result += int(i) # result = result + int(i)\n",
        "result"
      ],
      "metadata": {
        "id": "bdOSj9wnIof-"
      },
      "execution_count": null,
      "outputs": []
    },
    {
      "cell_type": "code",
      "source": [
        "result = 0\n",
        "\n",
        "for i in '123abc913sldlf':\n",
        "    if i.isdigit():\n",
        "        result += int(i)\n",
        "result"
      ],
      "metadata": {
        "id": "Gt-tXgjhJRQ1"
      },
      "execution_count": null,
      "outputs": []
    },
    {
      "cell_type": "code",
      "source": [
        "'paullab CEO leehojun'.isascii()"
      ],
      "metadata": {
        "id": "FOe4_BwnNzfD"
      },
      "execution_count": null,
      "outputs": []
    },
    {
      "cell_type": "code",
      "source": [
        "'paullab CEO leehojun'.rjust(30) #오른쪽 정렬\n",
        "'paullab CEO leehojun'.ljust(30) #왼쪽 정렬\n",
        "'paullab CEO leehojun'.center(30)#가운데 정렬"
      ],
      "metadata": {
        "id": "lXzsY669Jim-"
      },
      "execution_count": null,
      "outputs": []
    },
    {
      "cell_type": "code",
      "source": [
        "'hello'.zfill(20) # 데이터의 빈 공간을 0으로 채워줍니다."
      ],
      "metadata": {
        "id": "DDupTLPBNjAW"
      },
      "execution_count": null,
      "outputs": []
    },
    {
      "cell_type": "code",
      "source": [
        "'1001'.zfill(5)\n",
        "'hello'.zfill(10).replace('0','-')"
      ],
      "metadata": {
        "id": "LGq7a0Q4OIvr"
      },
      "execution_count": null,
      "outputs": []
    },
    {
      "cell_type": "code",
      "source": [
        "규칙테이블 = str.maketrans({'\\n':'', '\\t':''}) #\\n : 줄바꿈     \\t:탭(tab)\n",
        "'paullab \\n\\n\\n CEO \\t\\t\\t leehojun'.translate(규칙테이블)"
      ],
      "metadata": {
        "id": "I90sBQZGOeG1"
      },
      "execution_count": null,
      "outputs": []
    },
    {
      "cell_type": "code",
      "source": [
        "'paullab \\n\\n\\n CEO \\t\\t\\t leehojun'.replace('\\n', '').replace('\\t', '')"
      ],
      "metadata": {
        "id": "zs4WbDN5Ozh7"
      },
      "execution_count": null,
      "outputs": []
    },
    {
      "cell_type": "code",
      "source": [
        "규칙테이블 = str.maketrans('le', '12')\n",
        "'paullab CEO leehojun'.translate(규칙테이블)"
      ],
      "metadata": {
        "id": "iF7mi0FeO24n"
      },
      "execution_count": null,
      "outputs": []
    },
    {
      "cell_type": "markdown",
      "source": [
        "## pep"
      ],
      "metadata": {
        "id": "m1F_umz8PXXd"
      }
    },
    {
      "cell_type": "code",
      "source": [
        "# aaaaaaaaaaaaaaaaaaaaaaaaaaaaaaaaaaaaaaaaaaaaaaaaaaaaaaaaaaaaaaaaaaaaaaaaaaaaaaaa => 80자\n",
        "# 아아아아아아아아아아아아아아아아아아아아아아아아아아아아아아아아아아아아아아아아아아 => 40자면 한글 넘어갑니다.\n",
        "# line에 딱 맞춰 들어간 것을 볼 수 있습니다. \n",
        "# 강제사항은 아닙니다.\n",
        "# 띄어쓰기 4번도 강제사항은 아닙니다.\n",
        "# pep8, pep 20에 기술되어 있습니다. => pep(Python Enhancement Proposal)란 무엇인가요? 8이란 무엇인가요?\n",
        "# pep8 : Style Guide for Python Code (https://peps.python.org/pep-0008/)\n",
        "# pep20 : The Zen of Python(https://peps.python.org/pep-0020/)  #이스터에그로 숨겨져 있습니다.\n",
        "# https://peps.python.org/"
      ],
      "metadata": {
        "id": "ajvw6H3BPaLL"
      },
      "execution_count": null,
      "outputs": []
    },
    {
      "cell_type": "code",
      "source": [
        "# pep20 : The Zen of Python  #이스터에그로 숨겨져 있습니다.\n",
        "\n",
        "# Beautiful is better than ugly.\n",
        "# Explicit is better than implicit.\n",
        "# Simple is better than complex.\n",
        "# Complex is better than complicated.\n",
        "# Flat is better than nested.\n",
        "# Sparse is better than dense.\n",
        "# Readability counts.\n",
        "# Special cases aren't special enough to break the rules.\n",
        "# Although practicality beats purity.\n",
        "# Errors should never pass silently.\n",
        "# Unless explicitly silenced.\n",
        "# In the face of ambiguity, refuse the temptation to guess.\n",
        "# There should be one-- and preferably only one --obvious way to do it.\n",
        "# Although that way may not be obvious at first unless you're Dutch.\n",
        "# Now is better than never.\n",
        "# Although never is often better than *right* now.\n",
        "# If the implementation is hard to explain, it's a bad idea.\n",
        "# If the implementation is easy to explain, it may be a good idea.\n",
        "# Namespaces are one honking great idea -- let's do more of those!"
      ],
      "metadata": {
        "id": "Npb1kiVlQUET"
      },
      "execution_count": null,
      "outputs": []
    },
    {
      "cell_type": "markdown",
      "source": [
        "## cpython\n",
        "\n",
        "* 공식홈페이지에서 다운로드 받는 것이 cpython입니다.\n",
        "* https://github.com/python/cpython\n",
        "* list를 구현한 코드 : https://github.com/python/cpython/blob/main/Objects/listobject.c"
      ],
      "metadata": {
        "id": "37asMtvyQmYM"
      }
    },
    {
      "cell_type": "markdown",
      "source": [
        "## 인덱싱과 슬라이싱"
      ],
      "metadata": {
        "id": "7KGbvdnESW38"
      }
    },
    {
      "cell_type": "code",
      "source": [
        "name = 'Guido van Rossum'\n",
        "print(name[0])\n",
        "print(name[1])\n",
        "print(name[2])"
      ],
      "metadata": {
        "id": "MnD-yHxCQtN2"
      },
      "execution_count": null,
      "outputs": []
    },
    {
      "cell_type": "code",
      "source": [
        "# s[start:stop:step] #step은 생략 시 자동으로 1로 반응응\n",
        "s = 'paullab CEO leehojun'\n",
        "s[:] # 얕은 복사\n",
        "s[5:]\n",
        "s[:5]\n",
        "s[3:10]\n",
        "s[:]\n",
        "s[0:20:2]"
      ],
      "metadata": {
        "id": "yJ3rOFbRSqP7"
      },
      "execution_count": null,
      "outputs": []
    },
    {
      "cell_type": "code",
      "source": [
        "# 자주 사용되는 코드\n",
        "s = 'paullab CEO leehojun!'\n",
        "s[:] # sting에서는 많이 사용하지 않지만 list에서 많이 사용합니다.\n",
        "s[:-1] # 마지막 요소만 제외하고 다 슬라이싱"
      ],
      "metadata": {
        "id": "rX56qsn6TPR8"
      },
      "execution_count": null,
      "outputs": []
    },
    {
      "cell_type": "code",
      "source": [
        "test = [1, 2, 3, 4]\n",
        "test2 = test\n",
        "test[0] = 1000\n",
        "test, test2"
      ],
      "metadata": {
        "id": "KJamykgxTd_b"
      },
      "execution_count": null,
      "outputs": []
    },
    {
      "cell_type": "code",
      "source": [
        "test = [1, 2, 3, 4]\n",
        "test2 = test[:] # 새로운 리스트를 만들어서 test2에게 줍니다.\n",
        "test[0] = 1000\n",
        "test, test2"
      ],
      "metadata": {
        "id": "6OT1klmyTu3E"
      },
      "execution_count": null,
      "outputs": []
    },
    {
      "cell_type": "markdown",
      "source": [
        "## 문자열의 연산"
      ],
      "metadata": {
        "id": "siO6CT8UUoqC"
      }
    },
    {
      "cell_type": "code",
      "source": [
        "s = 'hello world'\n",
        "dir(s)\n",
        "s + s\n",
        "s * 3"
      ],
      "metadata": {
        "id": "lbUdtSZhUX98"
      },
      "execution_count": null,
      "outputs": []
    },
    {
      "cell_type": "markdown",
      "source": [
        "## 형 변환"
      ],
      "metadata": {
        "id": "heXN2z5-Uucr"
      }
    },
    {
      "cell_type": "markdown",
      "source": [
        "* 형변환 : type을 변경하는 것입니다."
      ],
      "metadata": {
        "id": "YvoMwPddWIob"
      }
    },
    {
      "cell_type": "code",
      "source": [
        "# x = int(input())\n",
        "x + x # but 알파벳 입력하면 error!\n"
      ],
      "metadata": {
        "id": "IcrTz5BVUwUz"
      },
      "execution_count": null,
      "outputs": []
    },
    {
      "cell_type": "code",
      "source": [
        "x = input()\n",
        "if x.isdigit():\n",
        "    x = int(x) # but 알파벳 입력하면 error!\n",
        "\n",
        "x + x"
      ],
      "metadata": {
        "id": "CptNpMTkVCsW"
      },
      "execution_count": null,
      "outputs": []
    },
    {
      "cell_type": "code",
      "source": [
        "# int('abc') # error\n",
        "int(10.1) # 버림\n",
        "int('10') # 형 변환 가능\n",
        "# int('10.1') #형 변환 불가능"
      ],
      "metadata": {
        "id": "r-VNDoN4VTi6"
      },
      "execution_count": null,
      "outputs": []
    },
    {
      "cell_type": "code",
      "source": [
        "float('10') # 형 변환 가능\n",
        "float('10.1') #형 변환 가능"
      ],
      "metadata": {
        "id": "x-lCdD3wVtAq"
      },
      "execution_count": null,
      "outputs": []
    },
    {
      "cell_type": "code",
      "source": [
        "int('10a') # 되는 언어가 있어서 보여드린 것입니다.\n",
        "# Python에서는 허용하지 않습니다."
      ],
      "metadata": {
        "id": "Hi73vLbRV0ca"
      },
      "execution_count": null,
      "outputs": []
    },
    {
      "cell_type": "code",
      "source": [
        "def hello():\n",
        "    pass\n",
        "    \n",
        "str('123')\n",
        "str(True)\n",
        "str(None)\n",
        "str(type)\n",
        "str(hello)\n",
        "str([1, 2, 3])\n",
        "str({1, 2, 3})\n",
        "str({'one':1, 'two':2})"
      ],
      "metadata": {
        "id": "ZQB-rdebWDSN"
      },
      "execution_count": null,
      "outputs": []
    },
    {
      "cell_type": "code",
      "source": [
        "# 별 5개\n",
        "if True:\n",
        "    print('hi')\n",
        "\n",
        "if 'hello':\n",
        "    print('hi')\n",
        "\n",
        "# 정말 많이 사용하는 코드드\n",
        "l = [1, 2, 3]\n",
        "while l:\n",
        "    print(l.pop())\n",
        "\n",
        "bool('') # 빈 문자열을 제외하고 모두 True\n",
        "bool('a') \n",
        "bool('False') # 문자열 False이기 때문에  True\n",
        "bool(0) # 0을 제외하고 모두 True\n",
        "bool(-1)\n",
        "bool(100)\n",
        "bool(None) # 비어있음을 명시해주는 키워드 -> False\n",
        "bool([]) # 컨벤션 자료형은 비어있으면 False\n",
        "bool({})"
      ],
      "metadata": {
        "id": "dqfH1szZWwFU"
      },
      "execution_count": null,
      "outputs": []
    },
    {
      "cell_type": "code",
      "source": [
        "# list로 형변환\n",
        "s = '10'\n",
        "l = list(s)\n",
        "l"
      ],
      "metadata": {
        "id": "PilDnd5Io8Ye"
      },
      "execution_count": null,
      "outputs": []
    },
    {
      "cell_type": "code",
      "source": [
        "s = 'leehojun'\n",
        "l = list(s)\n",
        "l"
      ],
      "metadata": {
        "id": "zlkPcdc2prDX"
      },
      "execution_count": null,
      "outputs": []
    },
    {
      "cell_type": "code",
      "source": [
        "# tuple로 형변환\n",
        "s = 'leehojun'\n",
        "l = tuple(s)\n",
        "l"
      ],
      "metadata": {
        "id": "XPVITAUXpwcv"
      },
      "execution_count": null,
      "outputs": []
    },
    {
      "cell_type": "code",
      "source": [
        "# dict로 형변환\n",
        "# name = 'leehojun' #error\n",
        "# dict(name)\n",
        "\n",
        "s = [{('name', 'leehojun'), ('age', 10)}]\n",
        "d = dict(s)\n",
        "d"
      ],
      "metadata": {
        "id": "lkHVQJQKp3TO"
      },
      "execution_count": null,
      "outputs": []
    },
    {
      "cell_type": "code",
      "source": [
        "# set(집합)으로 형변환\n",
        "name = 'leehojun'\n",
        "set(name) # 순서를 보장하지 않음음"
      ],
      "metadata": {
        "id": "a7-qgyXQqR-e"
      },
      "execution_count": null,
      "outputs": []
    },
    {
      "cell_type": "code",
      "source": [
        "len('hello world') # __len__\n",
        "len([1, 2, 3, 4])"
      ],
      "metadata": {
        "id": "l1vt1fSjqeu9"
      },
      "execution_count": null,
      "outputs": []
    },
    {
      "cell_type": "markdown",
      "source": [
        "## 문제풀이"
      ],
      "metadata": {
        "id": "tTOF6bAIr3fu"
      }
    },
    {
      "cell_type": "code",
      "source": [
        "# 연습문제 2\n",
        "x = input()\n",
        "print(x * 2)"
      ],
      "metadata": {
        "id": "Giud3nsrrSUP"
      },
      "execution_count": null,
      "outputs": []
    },
    {
      "cell_type": "code",
      "source": [
        "# 연습문제 3\n",
        "num = 123456789\n",
        "a = list(str(num))\n",
        "print(a[3])"
      ],
      "metadata": {
        "id": "dtO8tXd3rbKe"
      },
      "execution_count": null,
      "outputs": []
    },
    {
      "cell_type": "code",
      "source": [
        "# 강사님 풀이\n",
        "# 2번\n",
        "user_input = input('문자를 입력해주세요!')\n",
        "print(user_input * 2)\n",
        "\n",
        "# 3번\n",
        "num = 123456789\n",
        "list(str(num))\n",
        "list(str(num))[3]"
      ],
      "metadata": {
        "id": "Aps7Wdd7sWBt"
      },
      "execution_count": null,
      "outputs": []
    },
    {
      "cell_type": "markdown",
      "source": [
        "## 산술연산"
      ],
      "metadata": {
        "id": "kAGAZM3NsXm7"
      }
    },
    {
      "cell_type": "code",
      "source": [
        "a = 10\n",
        "b = 3\n",
        "\n",
        "print(f'10 + 3 == {a + b}')\n",
        "print(f'10 - 3 == {a - b}')\n",
        "print(f'10 / 3 == {a / b}')\n",
        "print(f'10 // 3 == {a // b}') # 몫만 나옴(정수만!)\n",
        "print(f'10 * 3 == {a * b}')\n",
        "print(f'10 ** 3 == {a ** b}') # 10의 3승\n",
        "print(f'10 % 3 == {a % b}') # 나머지"
      ],
      "metadata": {
        "id": "kqri_bq5s9MV"
      },
      "execution_count": null,
      "outputs": []
    },
    {
      "cell_type": "code",
      "source": [
        "# 연산자 우선순위는 and, or, 4칙연산, 제곱 정도만 아셔도\n",
        "# 코딩하는데 큰 무리가 없습니다.\n",
        "# (모르시면 읽는데 어려움이 생기기도 합니다.)\n",
        "\n",
        "print(3 ** 2 * 3) #연산자 우선순위에서 거듭제곱이 곱하기보다 높다.\n",
        "print(3 * 3 ** 2) \n",
        "print(3 + 3 * 2) #c 3+3부터 먼저 하지 않음\n",
        "# 우선순위 (and > or)"
      ],
      "metadata": {
        "id": "Wd8DXGTkt7Km"
      },
      "execution_count": null,
      "outputs": []
    },
    {
      "cell_type": "code",
      "source": [
        "a = 10\n",
        "b = 3\n",
        "\n",
        "print(f'10 > 3 == {a > b}')\n",
        "print(f'10 >= 3 == {a >= b}')\n",
        "print(f'10 < 3 == {a < b}')\n",
        "print(f'10 <= 3 == {a <= b}')\n",
        "print(f'10 == 3 == {a == b}')\n",
        "print(f'10 != 3 == {a != b}')"
      ],
      "metadata": {
        "id": "qf0Fg6Uhu6uM"
      },
      "execution_count": null,
      "outputs": []
    },
    {
      "cell_type": "markdown",
      "source": [
        "## 논리연산"
      ],
      "metadata": {
        "id": "sTepgPXzvRXO"
      }
    },
    {
      "cell_type": "code",
      "source": [
        "# and는 곱\n",
        "# or는 합\n",
        "# not은 반대\n",
        "# True 1\n",
        "# False 0\n",
        "# 중요한 포인트는 저렇게 했을 때 언제 True가 되는지 정리하는 것\n",
        "\n",
        "print(True and False)\n",
        "print(True or False)\n",
        "print(True or True)\n",
        "if True and False:\n",
        "    print('hello')\n",
        "\n",
        "if 10 > 3 and 8 % 3 == 0:\n",
        "    print('hello')\n",
        "\n",
        "# and는 언제 True가 되나요?\n",
        "# 모두 True일 때\n",
        "# or는 언제 True가 되나요?\n",
        "# 둘 중에 하나라도 참이라면 True"
      ],
      "metadata": {
        "id": "NHLXKlxcvTIt"
      },
      "execution_count": null,
      "outputs": []
    },
    {
      "cell_type": "code",
      "source": [
        "# https://codingdojang.com/scode/350?answer_mode=hide\n",
        "for i in range(101):\n",
        "    if i % 3 == 0 and i % 5 == 0:\n",
        "        print(i)"
      ],
      "metadata": {
        "id": "zOe1aP6nwpPm"
      },
      "execution_count": null,
      "outputs": []
    },
    {
      "cell_type": "code",
      "source": [
        "for i in range(101):\n",
        "    if i % 3 == 0 or i % 5 == 0:\n",
        "        print(i)"
      ],
      "metadata": {
        "id": "uo3HnvxdxRsX"
      },
      "execution_count": null,
      "outputs": []
    },
    {
      "cell_type": "code",
      "source": [
        "result = 0\n",
        "for i in range(101):\n",
        "    if i % 3 == 0:\n",
        "        result += i # result = result + i\n",
        "    if i % 5 == 0:\n",
        "        result += i\n",
        "    if i % 15 == 0:\n",
        "        result -= i\n",
        "print(result)"
      ],
      "metadata": {
        "id": "K5y4isyexef9"
      },
      "execution_count": null,
      "outputs": []
    },
    {
      "cell_type": "code",
      "source": [
        "not True"
      ],
      "metadata": {
        "id": "Oyrx3nvwye8M"
      },
      "execution_count": null,
      "outputs": []
    },
    {
      "cell_type": "code",
      "source": [
        "not False"
      ],
      "metadata": {
        "id": "BlGkEHyhyha8"
      },
      "execution_count": null,
      "outputs": []
    },
    {
      "cell_type": "code",
      "source": [
        "# Python 입장에서 보는 코드\n",
        "# False and ????? => 물음표에 무엇이 나오든 false\n",
        "# 그래서 Python도 저 물음표를 보지 않습니다.\n",
        "\n",
        "# 1/0 # ZeroDivisionError\n",
        "\n",
        "def solution():\n",
        "    1/0\n",
        "\n",
        "if False and solution():\n",
        "    print('hello')\n",
        "\n"
      ],
      "metadata": {
        "id": "ydY6ZExPyog0"
      },
      "execution_count": null,
      "outputs": []
    },
    {
      "cell_type": "code",
      "source": [
        "# True or ???? => 물음표에 무엇이 나오든 True\n",
        "# 그래서 Python도 저 물음표를 보지 않습니다.\n",
        "def solution():\n",
        "    1/0\n",
        "\n",
        "if True or solution():\n",
        "    print('hello')"
      ],
      "metadata": {
        "id": "2D0xRWW71zGu"
      },
      "execution_count": null,
      "outputs": []
    },
    {
      "cell_type": "code",
      "source": [
        "# 단락 평가(컴퓨터가 어디까지 보는지 판단해서 활용)\n",
        "username = '' # 사용자가 아무것도 입력하지 않았을 경우\n",
        "username = username or 'licat'\n",
        "username"
      ],
      "metadata": {
        "id": "O9T1FVX62BO7"
      },
      "execution_count": null,
      "outputs": []
    },
    {
      "cell_type": "code",
      "source": [
        "username = 'leehojun' # 사용자가 이름을 입력했을 경우\n",
        "username = username or 'licat'\n",
        "username"
      ],
      "metadata": {
        "id": "LajHPJyd2cGM"
      },
      "execution_count": null,
      "outputs": []
    },
    {
      "cell_type": "code",
      "source": [
        "# and와 or의 우선순위(and가 더 높습니다.)\n",
        "for i in range(21):\n",
        "    if i % 3 == 0 and i % 5 == 0 or i % 2 == 0:\n",
        "        print(i)\n",
        "\n",
        "for i in range(21):\n",
        "    if (i % 3 == 0 and i % 5 == 0) or i % 2 == 0:\n",
        "        print(i)"
      ],
      "metadata": {
        "id": "rMOlqE752qxe"
      },
      "execution_count": null,
      "outputs": []
    },
    {
      "cell_type": "code",
      "source": [
        "# 아래는 출력되는 값이 다릅니다! 우선순위가 낮은 or가 먼저 나왔기 때문입니다.\n",
        "# 결론 : 헷갈리시면 괄호를 사용해주세요!\n",
        "for i in range(21):\n",
        "    if (i % 3 == 0 or i % 5 == 0) and i % 2 == 0:\n",
        "        print(i)\n",
        "\n",
        "for i in range(21):\n",
        "    if i % 3 == 0 or i % 5 == 0 and i % 2 == 0:\n",
        "        print(i)"
      ],
      "metadata": {
        "id": "ggIkpYVO3Bu6"
      },
      "execution_count": null,
      "outputs": []
    },
    {
      "cell_type": "markdown",
      "source": [
        "## 비트연산(중요도 하)"
      ],
      "metadata": {
        "id": "GFL68l7_4EsL"
      }
    },
    {
      "cell_type": "code",
      "source": [
        "# and\n",
        "# 1001 == 9\n",
        "# 0010 == 2\n",
        "# ----\n",
        "# 0000 == 0"
      ],
      "metadata": {
        "id": "Yf74_L_v4Hm7"
      },
      "execution_count": null,
      "outputs": []
    },
    {
      "cell_type": "code",
      "source": [
        "9 & 2"
      ],
      "metadata": {
        "id": "wBP_kzx04nyt"
      },
      "execution_count": null,
      "outputs": []
    },
    {
      "cell_type": "code",
      "source": [
        "# 1001 == 9\n",
        "# 1000 == 8\n",
        "# ------\n",
        "# 1000 == 8\n",
        "9 & 8"
      ],
      "metadata": {
        "id": "2aUpIj054sM7"
      },
      "execution_count": null,
      "outputs": []
    },
    {
      "cell_type": "code",
      "source": [
        "# or(더하기, 대신 자리올림이 되진 않습니다.)\n",
        "# 1001 == 9\n",
        "# 0011 == 3\n",
        "# ----\n",
        "# 1011 == 11\n",
        "\n",
        "9 | 3"
      ],
      "metadata": {
        "id": "YdzC64ED5iHD"
      },
      "execution_count": null,
      "outputs": []
    },
    {
      "cell_type": "code",
      "source": [
        "# xor(같을 경우 0, 다를 경우 1)\n",
        "# 1001 == 9\n",
        "# 0011 == 3\n",
        "# ----\n",
        "# 1010 == 10\n",
        "\n",
        "9 ^ 3"
      ],
      "metadata": {
        "id": "MIm7eeKH5ocL"
      },
      "execution_count": null,
      "outputs": []
    },
    {
      "cell_type": "code",
      "source": [
        "~9 # 2의 보수를 취하는 것 (9에게 +1한 다음 -를 취하시면 됨)\n",
        "~-7 # 2의 보수를 취하는 것 (-7에게 +1한 다음 -를 취하시면 됨)"
      ],
      "metadata": {
        "id": "0mYILtvY6KPr"
      },
      "execution_count": null,
      "outputs": []
    },
    {
      "cell_type": "code",
      "source": [
        "3 << 2 # 3을 2진수로 표현하면 0011인데 2칸을 왼쪽으로 미는 것입니다.\n",
        "#1100"
      ],
      "metadata": {
        "id": "yaPrDq8R6iAz"
      },
      "execution_count": null,
      "outputs": []
    },
    {
      "cell_type": "code",
      "source": [
        "7 >> 2"
      ],
      "metadata": {
        "id": "U_PPaDXb7k6k"
      },
      "execution_count": null,
      "outputs": []
    },
    {
      "cell_type": "markdown",
      "source": [
        "## 할당연산"
      ],
      "metadata": {
        "id": "OtGoTn-s73Jf"
      }
    },
    {
      "cell_type": "code",
      "source": [
        "# a = 10\n",
        "# a = a + 10\n",
        "a =  + 10 # 이렇게 a를 지우면 양수를 표현하는 10만 남아요.\n",
        "a"
      ],
      "metadata": {
        "id": "eVeW624y75b3"
      },
      "execution_count": null,
      "outputs": []
    },
    {
      "cell_type": "code",
      "source": [
        "a = 10\n",
        "a += 10 # a = a + 10\n",
        "a"
      ],
      "metadata": {
        "id": "Miav1_gf8S9i"
      },
      "execution_count": null,
      "outputs": []
    },
    {
      "cell_type": "code",
      "source": [
        "a = 10\n",
        "a //= 10 # 산술 연산 모두 됩니다.\n",
        "a"
      ],
      "metadata": {
        "id": "wbu5R0VF8-ar"
      },
      "execution_count": null,
      "outputs": []
    },
    {
      "cell_type": "code",
      "source": [
        "#Python에서 특이하게 ++a, ++b, a++, b++가 없습니다."
      ],
      "metadata": {
        "id": "3EQMZfed9SYD"
      },
      "execution_count": null,
      "outputs": []
    },
    {
      "cell_type": "markdown",
      "source": [
        "## 식별연산자"
      ],
      "metadata": {
        "id": "uvCUADYt9ktS"
      }
    },
    {
      "cell_type": "code",
      "source": [
        "# 앞으로 아래 2개를 활용해서 Python에\n",
        "# 컨벤션 자료형이 어떻게 구성이 되는지 확인해볼겁니다.\n",
        "# id()\n",
        "# is"
      ],
      "metadata": {
        "id": "R-epTiU39mOh"
      },
      "execution_count": null,
      "outputs": []
    },
    {
      "cell_type": "code",
      "source": [
        "a = 256\n",
        "b = 256\n",
        "a is b"
      ],
      "metadata": {
        "id": "MYT9cv1r9y6T"
      },
      "execution_count": null,
      "outputs": []
    },
    {
      "cell_type": "code",
      "source": [
        "a = 999\n",
        "b = 999\n",
        "a is b"
      ],
      "metadata": {
        "id": "6FAElRWh93mK"
      },
      "execution_count": null,
      "outputs": []
    },
    {
      "cell_type": "code",
      "source": [
        "a = [1, 2, 3]\n",
        "b = [1, 2, 3]\n",
        "a is b"
      ],
      "metadata": {
        "id": "l_obGi9g96ia"
      },
      "execution_count": null,
      "outputs": []
    },
    {
      "cell_type": "code",
      "source": [
        "a[0] = 100\n",
        "a, b"
      ],
      "metadata": {
        "id": "PHEROp-Y-k9j"
      },
      "execution_count": null,
      "outputs": []
    },
    {
      "cell_type": "code",
      "source": [
        "a = [1, 2, 3]\n",
        "b = [1, 2, 3]\n",
        "a == b # Python에 등호는 type과 value를 봅니다."
      ],
      "metadata": {
        "id": "W4oIn416-CvC"
      },
      "execution_count": null,
      "outputs": []
    },
    {
      "cell_type": "code",
      "source": [
        "# is는 주소값을 비교합니다.\n",
        "id(a) == id(b) #이게 False면 is도 False다."
      ],
      "metadata": {
        "id": "3yfAYlxL_QaS"
      },
      "execution_count": null,
      "outputs": []
    },
    {
      "cell_type": "code",
      "source": [
        "a = [1, 2, 3]\n",
        "b = [1, 2, 3]\n",
        "id(a), id(b)"
      ],
      "metadata": {
        "id": "zWja1NeqLuTf"
      },
      "execution_count": null,
      "outputs": []
    },
    {
      "cell_type": "code",
      "source": [
        "a == b # 값이 같은 것과 메모리에 같은 공간에 저장되어 있다는 얘기는 다른 이야기 입니다."
      ],
      "metadata": {
        "id": "hzIcz_rLMKx_"
      },
      "execution_count": null,
      "outputs": []
    },
    {
      "cell_type": "markdown",
      "source": [
        "## not의 위치"
      ],
      "metadata": {
        "id": "EStL-_cc-zuK"
      }
    },
    {
      "cell_type": "code",
      "source": [
        "a = 10\n",
        "b = 100\n",
        "a is not b # not의 위치\n",
        "# a not is b #error"
      ],
      "metadata": {
        "id": "v0lR5c9q-ysC"
      },
      "execution_count": null,
      "outputs": []
    },
    {
      "cell_type": "code",
      "source": [
        "a = 10\n",
        "b = [10, 20, 30]\n",
        "a not in b # not의 위치"
      ],
      "metadata": {
        "id": "gyDQm4po-ymq"
      },
      "execution_count": null,
      "outputs": []
    },
    {
      "cell_type": "markdown",
      "source": [
        "## 멤버 연산"
      ],
      "metadata": {
        "id": "lRQA77_7_gsp"
      }
    },
    {
      "cell_type": "code",
      "source": [
        "'a' in 'helalo world'\n",
        "'a' in 'hello world'\n",
        "'a' in ['a', 'b']\n",
        "'a' in {'a':10, 'b':20}\n",
        "# '10' in {'a':10, 'b':20} dict안에 있는 value 값이 있는지 확인하고 싶으면\n",
        "10 in {'a':10, 'b':20}.values()\n",
        "10 in {10, 20, 30}"
      ],
      "metadata": {
        "id": "arv8o99U_jgI"
      },
      "execution_count": null,
      "outputs": []
    },
    {
      "cell_type": "code",
      "source": [
        "'a' not in ['aa', 'bb']"
      ],
      "metadata": {
        "id": "Q-koh_PLAQQa"
      },
      "execution_count": null,
      "outputs": []
    },
    {
      "cell_type": "code",
      "source": [
        "10 in [10, 20, 30]\n",
        "[10] in [10, 20, 30]\n",
        "[10] in [[10], [20], [30]]\n",
        "[10, 20] in [10, 20, 30]\n",
        "[10, 20] in [[10, 20], 30]\n",
        "set([10, 20]).issubset(set([10, 20, 30]))\n",
        "{10, 20}.issubset({10, 20, 30, 40})"
      ],
      "metadata": {
        "id": "CV1R3rCQDdpS"
      },
      "execution_count": null,
      "outputs": []
    },
    {
      "cell_type": "markdown",
      "source": [
        "## 연습문제"
      ],
      "metadata": {
        "id": "jR1zZIUED-OZ"
      }
    },
    {
      "cell_type": "code",
      "source": [
        "# 1번\n",
        "a = 100\n",
        "(a > 100) and (a < 200) # False\n",
        "(a > 100) or (a < 200) # True\n",
        "(a >= 100) and (a <= 200) # True\n",
        "(a >= 100) or (a <= 200) # True"
      ],
      "metadata": {
        "id": "j7sibSN5EBpH"
      },
      "execution_count": null,
      "outputs": []
    },
    {
      "cell_type": "code",
      "source": [
        "# 2번\n",
        "b = 25\n",
        "(b % 2 == 0) and (b % 5 == 0)"
      ],
      "metadata": {
        "id": "eyg8wRLDEMRC"
      },
      "execution_count": null,
      "outputs": []
    },
    {
      "cell_type": "code",
      "source": [
        "# 3번\n",
        "c = 1000\n",
        "c / 100\n",
        "# 결과값은 10입니다.\n",
        "\n",
        "#강사님께서 원하신 답\n",
        "c//100"
      ],
      "metadata": {
        "id": "z3DeEocKEMZS"
      },
      "execution_count": null,
      "outputs": []
    },
    {
      "cell_type": "code",
      "source": [
        "# 4번 (심화문제) 입력한 금액을 5000원, 1000원, 500원, 100원으로 교환하는 프로그램을 만들어주세요.\n",
        "# 그리디 알고리즘 (욕심쟁이 알고리즘)\n",
        "\n",
        "# 내가 푼 공식... 이게 맞냐.. ㅠㅠ\n",
        "money = int(input())\n",
        "x = money // 5000\n",
        "y = (money - (5000 * x)) // 1000\n",
        "z = (money - (5000 * x) - (1000 * y)) // 500\n",
        "f = (money - (5000 * x) - (1000 * y) - (500 * z)) // 100\n",
        "print (f'5000원의 수:{x}, 1000원의 수:{y}, 500원의 수:{z}, 100원의 수:{f}')\n",
        "\n",
        "# 강사님 풀이법\n",
        "남은금액 = int(input())\n",
        "\n",
        "오천원 = 남은금액 // 5000\n",
        "남은금액 = 남은금액 % 5000\n",
        "\n",
        "천원 = 남은금액 // 1000\n",
        "남은금액 = 남은금액 % 1000\n",
        "\n",
        "오백원 = 남은금액 // 500\n",
        "남은금액 = 남은금액 % 500\n",
        "\n",
        "백원 = 남은금액 // 100\n",
        "남은금액 = 남은금액 % 100\n",
        "\n",
        "print(오천원, 천원, 오백원, 백원)"
      ],
      "metadata": {
        "id": "QjHzajCJEMfu"
      },
      "execution_count": null,
      "outputs": []
    },
    {
      "cell_type": "code",
      "source": [
        "#4번\n",
        "# 그리디 알고리즘(욕심쟁이 알고리즘)\n",
        "남은금액 = int(input())\n",
        "\n",
        "오천원 = 남은금액 // 5000\n",
        "# 남은금액 = 남은금액 % 5000\n",
        "남은금액 = 남은금액 - (5000 * 오천원)\n",
        "\n",
        "천원 = 남은금액 // 1000\n",
        "남은금액 = 남은금액 % 1000\n",
        "\n",
        "오백원 = 남은금액 // 500\n",
        "남은금액 = 남은금액 % 500\n",
        "\n",
        "백원 = 남은금액 // 100\n",
        "남은금액 = 남은금액 % 100\n",
        "\n",
        "print(오천원, 천원, 오백원, 백원)"
      ],
      "metadata": {
        "id": "lfb2aOw2OTA3"
      },
      "execution_count": null,
      "outputs": []
    },
    {
      "cell_type": "code",
      "source": [
        "a = 40\n",
        "b = 14\n",
        "~a\n",
        "~b"
      ],
      "metadata": {
        "id": "Jort-QATovNJ"
      },
      "execution_count": null,
      "outputs": []
    },
    {
      "cell_type": "markdown",
      "source": [
        "## 함수\n",
        "\n",
        "1. 코드 덩어리(정말 쉽게 설명하자면...)\n",
        "2. 코드를 재사용 할 수 있으며, 실수를 줄일 수 있습니다.\n",
        "3. 코드의 구조(아키텍처)를 한 눈에 파악할 수 있습니다."
      ],
      "metadata": {
        "id": "LJeZM7XL2BG9"
      }
    },
    {
      "cell_type": "code",
      "source": [
        "# def 은 함수의 이름만 읽는다. 함수 정의된 값을 읽는 것은 아니다.\n",
        "def 부지매입():\n",
        "    pass\n",
        "\n",
        "def 설계도면작성():\n",
        "    pass\n",
        "\n",
        "def 인력모집():\n",
        "    pass\n",
        "\n",
        "def 벽돌쌓기():\n",
        "    pass\n",
        "\n",
        "def 지붕올리기():\n",
        "    pass\n",
        "\n",
        "# 건축 또는 집짓기?\n",
        "# 신입사원이 왔을 때\n",
        "# 3년에 한 번 이직\n",
        "# 7년에 한 번 이직\n",
        "# 오래 있으신 분들\n",
        "부지매입()\n",
        "설계도면작성()\n",
        "인력모집()\n",
        "벽돌쌓기()\n",
        "지붕올리기()"
      ],
      "metadata": {
        "id": "svvpe6rc8avu"
      },
      "execution_count": null,
      "outputs": []
    },
    {
      "cell_type": "code",
      "source": [
        "# 파선아실 (파라미터는 선언할 때 , 아규먼트는 실제)\n",
        "def function(x, y):\n",
        "    z = x + y\n",
        "    return z\n",
        "print(f'function(5, 7) = {function(5, 7)}')"
      ],
      "metadata": {
        "id": "zHQKzFyG-nHk"
      },
      "execution_count": null,
      "outputs": []
    },
    {
      "cell_type": "code",
      "source": [
        "# 같은 코드 1 (return값이 없으면 자동으로 None이 들어간다.)\n",
        "def function(x, y):\n",
        "    z = x + y\n",
        "print(f'function(5, 7) = {function(5, 7)}')"
      ],
      "metadata": {
        "id": "rSJmBTAQ_jLr"
      },
      "execution_count": null,
      "outputs": []
    },
    {
      "cell_type": "code",
      "source": [
        "# 같은 코드 2\n",
        "def function(x, y):\n",
        "    z = x + y\n",
        "    return None\n",
        "print(f'function(5, 7) = {function(5, 7)}')"
      ],
      "metadata": {
        "id": "77GD31ZU_ns6"
      },
      "execution_count": null,
      "outputs": []
    },
    {
      "cell_type": "code",
      "source": [
        "# 같은 코드 3 (return에 값이 없으면 자동으로 None이 출력된다.)\n",
        "def function(x, y):\n",
        "    z = x + y\n",
        "    return\n",
        "print(f'function(5, 7) = {function(5, 7)}')"
      ],
      "metadata": {
        "id": "R3pxf5I3_xH7"
      },
      "execution_count": null,
      "outputs": []
    },
    {
      "cell_type": "code",
      "source": [
        "def hello():\n",
        "    print('1')\n",
        "    print('2')\n",
        "    print('3')\n",
        "\n",
        "print(hello())"
      ],
      "metadata": {
        "id": "8JUF758z-NZ8"
      },
      "execution_count": null,
      "outputs": []
    },
    {
      "cell_type": "code",
      "source": [
        "# 연습문제 1\n",
        "def one():\n",
        "    print('one1')\n",
        "    print('one2')\n",
        "    print('one3')\n",
        "    return 100\n",
        "\n",
        "def two():\n",
        "    print('two1')\n",
        "    print('two2')\n",
        "    one()\n",
        "    return\n",
        "\n",
        "print(two())"
      ],
      "metadata": {
        "id": "_QfBZzFu-kO8"
      },
      "execution_count": null,
      "outputs": []
    },
    {
      "cell_type": "code",
      "source": [
        "# 연습문제 2\n",
        "def one():\n",
        "    print('one1')\n",
        "    print('one2')\n",
        "    print('one3')\n",
        "    return 100\n",
        "\n",
        "def two():\n",
        "    print('two1')\n",
        "    print('two2')\n",
        "    x = one()\n",
        "    return x + x\n",
        "\n",
        "print(two())"
      ],
      "metadata": {
        "id": "eYLdmujjBcVc"
      },
      "execution_count": null,
      "outputs": []
    },
    {
      "cell_type": "code",
      "source": [
        "# 연습문제 3\n",
        "def one(a, b):\n",
        "    print('one1')\n",
        "    print('one2')\n",
        "    print('one3')\n",
        "    return a + b\n",
        "\n",
        "def two(x):\n",
        "    y = 100\n",
        "    print('two1')\n",
        "    print('two2')\n",
        "    x = one(x, y)\n",
        "    return x + x\n",
        "\n",
        "print(two(10))"
      ],
      "metadata": {
        "id": "rHe6SLf6CRKz"
      },
      "execution_count": null,
      "outputs": []
    },
    {
      "cell_type": "code",
      "source": [
        "# 연습문제 4\n",
        "def one():\n",
        "    print('one')\n",
        "    return 10\n",
        "\n",
        "def two():\n",
        "    print('two')\n",
        "    return 10\n",
        "\n",
        "def three():\n",
        "    print('three')\n",
        "    return 10\n",
        "\n",
        "a = one()\n",
        "b = two()\n",
        "c = three()\n",
        "\n",
        "print(a + b)\n",
        "print(a + b + c)"
      ],
      "metadata": {
        "id": "wOR84NrGDw3t"
      },
      "execution_count": null,
      "outputs": []
    },
    {
      "cell_type": "code",
      "source": [
        "# 함수란 무엇일까요?\n",
        "# 함수의 이름은 메모리 상에  코드 블럭을 가리키는 변수입니다\n",
        "leehojun = print\n",
        "leehojun('hello') # 소괄호는 그 함수 블록을 실행시키는 명령어가 됩니다."
      ],
      "metadata": {
        "id": "7G2Dik5OIynE"
      },
      "execution_count": null,
      "outputs": []
    },
    {
      "cell_type": "code",
      "source": [
        "id(leehojun), id(print)"
      ],
      "metadata": {
        "id": "GpRrDks7JdVZ"
      },
      "execution_count": null,
      "outputs": []
    },
    {
      "cell_type": "code",
      "source": [
        "l = [leehojun, print, leehojun, print]\n",
        "leehojun('hello world')\n",
        "l[0]('hello world')"
      ],
      "metadata": {
        "id": "LS5JnpTuJj6Z"
      },
      "execution_count": null,
      "outputs": []
    },
    {
      "cell_type": "code",
      "source": [
        "def hello():\n",
        "    def custom_sum(a, b):\n",
        "        return a + b\n",
        "    return custom_sum\n",
        "\n",
        "c = hello()\n",
        "c(10, 100)"
      ],
      "metadata": {
        "id": "1UuHRapeJ5oK"
      },
      "execution_count": null,
      "outputs": []
    },
    {
      "cell_type": "markdown",
      "source": [
        "## 함수의 기본 기능"
      ],
      "metadata": {
        "id": "AMVDbOp_McQc"
      }
    },
    {
      "cell_type": "code",
      "source": [
        "# 파선아실 (파라미터는 선언할 때 , 아규먼트는 실제)\n",
        "def function(x, y):\n",
        "    z = x + y\n",
        "    return z\n",
        "print(f'function(5, 7) = {function(5, 7)}')"
      ],
      "metadata": {
        "id": "R7w-qo1CMf7o"
      },
      "execution_count": null,
      "outputs": []
    },
    {
      "cell_type": "code",
      "source": [
        "# return을 만나게 되면 함수는 종료가 됩니다.\n",
        "def function(x, y):\n",
        "    z = x + y\n",
        "    return z\n",
        "    print('hello')\n",
        "    print('hello')\n",
        "print(function(5, 7))"
      ],
      "metadata": {
        "id": "hJTtbcqcMsN4"
      },
      "execution_count": null,
      "outputs": []
    },
    {
      "cell_type": "code",
      "source": [
        "# return을 빨리 만나게 해주세요.\n",
        "# early return\n",
        "# 조건이 부합하지 않으면 바로 return을 하도록 하는 코딩 패턴\n",
        "# 이렇게 작성함으로써, 가독성이 좋은 코드\n",
        "def custom_sum(x, y):\n",
        "    if(type(x) != int and type(x) != float) or (type(y) != int and type(y) != float):\n",
        "        return '연산할 수 없습니다.'\n",
        "    z = x + y # 100줄이라 가정\n",
        "    return z\n",
        "print(custom_sum(5, 7.25))"
      ],
      "metadata": {
        "id": "upHVuhveNAUx"
      },
      "execution_count": null,
      "outputs": []
    },
    {
      "cell_type": "code",
      "source": [
        "# 한글코딩에 장점\n",
        "# 1. 고유명사(한라산, 새싹멤버)\n",
        "# 2. 알고리즘 가독성은 괜찮습니다. 프로젝트는 조금 힘들 수 있어요. 일부 모듈에서는 사용할 수 있습니다.\n",
        "\n",
        "# 한글코딩에 단점\n",
        "# 1. 싫어하시는 분도 많습니다.\n",
        "# 2. 한영키 바꾸는 것"
      ],
      "metadata": {
        "id": "pWhAj9MAO14y"
      },
      "execution_count": null,
      "outputs": []
    },
    {
      "cell_type": "code",
      "source": [
        "# 함수 안에 함수\n",
        "def one():\n",
        "    def two():\n",
        "        print('hello1')\n",
        "    def three():\n",
        "        print('hello2')\n",
        "    return 100\n",
        "\n",
        "print(one())"
      ],
      "metadata": {
        "id": "nSIniZDvQVET"
      },
      "execution_count": null,
      "outputs": []
    },
    {
      "cell_type": "code",
      "source": [
        "# 함수 안에 함수\n",
        "def one():\n",
        "    def two():\n",
        "        print('hello1')\n",
        "    def three():\n",
        "        print('hello2')\n",
        "    two()\n",
        "    three()\n",
        "    return 100\n",
        "\n",
        "print(one())"
      ],
      "metadata": {
        "id": "yN6vsIWuQzA6"
      },
      "execution_count": null,
      "outputs": []
    },
    {
      "cell_type": "code",
      "source": [
        "# 함수 안에 함수와 함수 안에 변수는 밖에서 호출이 안됩니다.\n",
        "# 아래 것이 만약 실행되었다면 위 어딘가에서 two와 x가 정의되어 있는 것입니다.\n",
        "def one():\n",
        "    def two():\n",
        "        print('hello1')\n",
        "    def three():\n",
        "        print('hello2')\n",
        "    two()\n",
        "    three()\n",
        "    x = 1000\n",
        "    return 100\n",
        "\n",
        "one()\n",
        "print(x)\n",
        "two()"
      ],
      "metadata": {
        "id": "wyq4R1X6Q1Lp"
      },
      "execution_count": null,
      "outputs": []
    },
    {
      "cell_type": "code",
      "source": [
        "# 함수 안에 함수와 함수 안에 변수를 해봤으니\n",
        "# 이번에는 함수 밖에 함수와 함수 밖에 변수를 해보도록 하겠습니다.\n",
        "\n",
        "def test():\n",
        "    print('test')\n",
        "\n",
        "def one():\n",
        "    test()\n",
        "\n",
        "def two():\n",
        "    test()\n",
        "\n",
        "one()\n",
        "two()\n",
        "test()"
      ],
      "metadata": {
        "id": "yOdj9VF9RtvS"
      },
      "execution_count": null,
      "outputs": []
    },
    {
      "cell_type": "code",
      "source": [
        "# 위 원리와 마찬가지로 밖에 있는 변수를 '가져오는 것만' 가능합니다.\n",
        "# 수정은 안됩니다.\n",
        "test = 10\n",
        "\n",
        "def one():\n",
        "    print(test)\n",
        "\n",
        "def two():\n",
        "    print(test)\n",
        "\n",
        "one()\n",
        "two()\n",
        "test()"
      ],
      "metadata": {
        "id": "VOsM8wngSbuY"
      },
      "execution_count": null,
      "outputs": []
    },
    {
      "cell_type": "code",
      "source": [
        "# 이렇게 하시면 error가 납니다! 밖에 있는 변수는 수정이 안됩니다.\n",
        "\n",
        "test = 10\n",
        "\n",
        "def one():\n",
        "    test = test + 10\n",
        "\n",
        "one()"
      ],
      "metadata": {
        "id": "wfZrwfRkSvoh"
      },
      "execution_count": null,
      "outputs": []
    },
    {
      "cell_type": "markdown",
      "source": [
        "## 지역 변수와 전역 변수"
      ],
      "metadata": {
        "id": "B67-QsPOS9rv"
      }
    },
    {
      "cell_type": "code",
      "source": [
        "# 전역변수 접근은 가능하지만 수정이 되진 않습니다.\n",
        "a = 100\n",
        "def f():\n",
        "    a = a + 1\n",
        "f()"
      ],
      "metadata": {
        "id": "M8OfjG2uS_V8"
      },
      "execution_count": null,
      "outputs": []
    },
    {
      "cell_type": "code",
      "source": [
        "# 전역변수를 함수 내부에서 수정이 되게 하는 코드입니다.\n",
        "# 권하지 않습니다.\n",
        "a = 100\n",
        "def f():\n",
        "    global a  # 실무에서 사용 안합니다.\n",
        "    a = a + 1\n",
        "f()"
      ],
      "metadata": {
        "id": "aJgXWpznXbGm"
      },
      "execution_count": null,
      "outputs": []
    },
    {
      "cell_type": "code",
      "source": [
        "a = 100\n",
        "def f(x):\n",
        "    x = x + 1\n",
        "    return x\n",
        "a = f(a)\n",
        "print(a)"
      ],
      "metadata": {
        "id": "MV3VXTHfXtZX"
      },
      "execution_count": null,
      "outputs": []
    },
    {
      "cell_type": "code",
      "source": [
        "# 순수 함수\n",
        "def f(x):\n",
        "    return x + x + 1000\n",
        "f(10)\n",
        "f(20) \n",
        "# 아규먼트 값에 따라 다르지만 \n",
        "# 20에 2배에서 100이 더해진다는 사실은 변하지 않죠?"
      ],
      "metadata": {
        "id": "mf0JlfflX66O"
      },
      "execution_count": null,
      "outputs": []
    },
    {
      "cell_type": "code",
      "source": [
        "test = 100\n",
        "def f(x):\n",
        "    return x + x + 1000 + test\n",
        "f(10)\n",
        "# 아규먼트 값에 따라 다르지만 \n",
        "# 아규먼트에 2배에서 200이 더해진다는 사실은 변하지 않죠?\n",
        "# 그렇지 않습니다. test 값이 다른 곳에서 조작이 되면\n",
        "# 더해지는 값이 200이 안될 수도 있죠.\n",
        "# 예측이 불가하게 되는 것!"
      ],
      "metadata": {
        "id": "914D8Os1YStn"
      },
      "execution_count": null,
      "outputs": []
    },
    {
      "cell_type": "code",
      "source": [
        "# 지역변수와 전역변수 이어서\n",
        "# 전역변수 : 전역에서 접근할 수 있는 변수\n",
        "# 지역변수 : 함수 내에서만 접근할 수 있는 변수"
      ],
      "metadata": {
        "id": "VkpfmYklY2be"
      },
      "execution_count": null,
      "outputs": []
    },
    {
      "cell_type": "code",
      "source": [
        "a = 100\n",
        "def one():\n",
        "    a = 10\n",
        "    print(a)\n",
        "\n",
        "one()\n",
        "print(a)"
      ],
      "metadata": {
        "id": "uSzbEw_tZKje"
      },
      "execution_count": null,
      "outputs": []
    },
    {
      "cell_type": "code",
      "source": [
        "# 어려우신 분들은 pass!\n",
        "# 조금 있다가 요약정리에서도 써드리지 않을 예정입니다.\n",
        "# 자신의 공간에 변수가 선언되어 있지 않으면\n",
        "# 전역까지 찾아 올라갑니다. 전역에도 없으면 error\n",
        "\n",
        "a = 100\n",
        "def one():\n",
        "    a = 10\n",
        "    def two():\n",
        "        def three():\n",
        "            a = 1000\n",
        "            print(a)\n",
        "        three()\n",
        "        print(a)\n",
        "    two()\n",
        "    print(a)\n",
        "\n",
        "one()\n",
        "print(a)"
      ],
      "metadata": {
        "id": "WUsKclgPZ4C9"
      },
      "execution_count": null,
      "outputs": []
    },
    {
      "cell_type": "code",
      "source": [
        "# inner가 outer에 변수를 건드리고 싶은데\n",
        "# inner 안에서는 x에 수정권한이 전혀 없습니다.\n",
        "# 간혹 사용하지만 중요도는 낮음\n",
        "x = 100\n",
        "def outer():\n",
        "    x = 1\n",
        "    def inner():\n",
        "        nonlocal x\n",
        "        x += 1\n",
        "        print(x)\n",
        "    inner()\n",
        "    print(x)\n",
        "\n",
        "outer()\n",
        "print(x)"
      ],
      "metadata": {
        "id": "0yCCZh28bRWY"
      },
      "execution_count": null,
      "outputs": []
    },
    {
      "cell_type": "code",
      "source": [
        "# error가 나는 코드\n",
        "x = 100\n",
        "def outer():\n",
        "    x = 1\n",
        "    def inner():\n",
        "        x += 1\n",
        "        print(x)\n",
        "    inner()\n",
        "    print(x)\n",
        "\n",
        "outer()\n",
        "print(x)"
      ],
      "metadata": {
        "id": "WotKRh0gcA9s"
      },
      "execution_count": null,
      "outputs": []
    },
    {
      "cell_type": "code",
      "source": [
        "x = 100\n",
        "def outer():\n",
        "    x = 1\n",
        "    def inner():\n",
        "        global x\n",
        "        x += 1\n",
        "        print(x)\n",
        "    inner()\n",
        "    print(x)\n",
        "\n",
        "outer()\n",
        "print(x)"
      ],
      "metadata": {
        "id": "kDimTrbSbs7W"
      },
      "execution_count": null,
      "outputs": []
    },
    {
      "cell_type": "code",
      "source": [
        "## 재귀함수"
      ],
      "metadata": {
        "id": "LglDPJpLb9Pc"
      },
      "execution_count": null,
      "outputs": []
    },
    {
      "cell_type": "markdown",
      "source": [
        "* 내가 나를 호출하는 것입니다.\n",
        "* 재귀 <-> for문은 대부분 호환이 가능합니다.\n",
        "* 반복문 사용하시기를 권합니다!\n",
        "* 어렵고 효율도 안좋아요! (얼마나 효율이 안좋은지도 확인해보겠습니다.)\n",
        "* 필수적으로 사용하는 곳이 있습니다. (분할 정복, 다이나믹 프로그래밍, 닥익스트라 etc.)\n"
      ],
      "metadata": {
        "id": "KmfN_zm_cblV"
      }
    },
    {
      "cell_type": "code",
      "source": [
        "# sys.setrecursionlimit -> 제한을 늘릴 수 있음\n",
        "# 실행시키지 마세요.\n",
        "def 숫자출력():\n",
        "    print(1)\n",
        "    return 숫자출력()\n",
        "숫자출력()"
      ],
      "metadata": {
        "id": "luRbt2H_c7h_"
      },
      "execution_count": null,
      "outputs": []
    },
    {
      "cell_type": "code",
      "source": [
        "# for로 펙토리얼\n",
        "# 5! = 5 * 4 * 3 * 2 * 1\n",
        "\n",
        "result = 1\n",
        "\n",
        "# 1 * 2 * 3 * 4 * 5\n",
        "for i in range(1, 6):\n",
        "    result *= i\n",
        "    \n",
        "result"
      ],
      "metadata": {
        "id": "yeXiCeDwetvc"
      },
      "execution_count": null,
      "outputs": []
    },
    {
      "cell_type": "code",
      "source": [
        "# 재귀로 펙토리얼\n",
        "\n",
        "def f(n):\n",
        "    if n <= 1:\n",
        "        return 1\n",
        "    else:\n",
        "        return n * f(n-1)\n",
        "\n",
        "f(5)\n",
        "\n",
        "'''\n",
        "f(n)\n",
        "f(5)    5 * f(4) == 5 * 24\n",
        "f(4)    4 * f(3) == 4 * 6\n",
        "f(3)    3 * f(2) == 3 * 2\n",
        "f(2)    2 * f(1) == 2 * 1\n",
        "f(1)    1\n",
        "'''"
      ],
      "metadata": {
        "id": "LeO1TXjfe7fL"
      },
      "execution_count": null,
      "outputs": []
    },
    {
      "cell_type": "code",
      "source": [
        "# for로 문자열 거꾸로 출력하기\n",
        "s = 'hello'\n",
        "result = ''\n",
        "\n",
        "for i in s:\n",
        "    result = i + result\n",
        "\n",
        "result\n",
        "\n",
        "'''\n",
        "result = 'h' + ''\n",
        "result = 'e' + 'h'\n",
        "result = 'l' + 'eh'\n",
        "result = 'l' + 'leh'\n",
        "result = 'o' + 'lleh'\n",
        "'''\n",
        "\n",
        "# 실무에서는 이렇게 거꾸로 만들지 않습니다.\n",
        "# 슬라이싱이 일반 for문보다 8배 빠릅니다.\n",
        "# s[::-1] 이렇게 쓰시면 됩니다."
      ],
      "metadata": {
        "id": "Z35nNxVPfgC9"
      },
      "execution_count": null,
      "outputs": []
    },
    {
      "cell_type": "code",
      "source": [
        "def reverse(s):\n",
        "    if len(s) == 1:\n",
        "        return s\n",
        "    else:\n",
        "        return reverse(s[1:]) + s[0]\n",
        "\n",
        "reverse('hello')\n",
        "\n",
        "'''\n",
        "reverse('hello') reverse('ello) + 'h'\n",
        "\n",
        "'''"
      ],
      "metadata": {
        "id": "UaJR8YB5gYTE"
      },
      "execution_count": null,
      "outputs": []
    },
    {
      "cell_type": "code",
      "source": [
        "# 피보나치 수열\n",
        "# 재귀가 얼마나 비효율적인지 보여드리기 위해서 진행\n",
        "# 1 1 2 3 5 8 13 21\n",
        "\n",
        "curr = 1\n",
        "next = 1\n",
        "for i in range(1, 6):\n",
        "    curr, next = next, curr + next\n",
        "    \n",
        "next"
      ],
      "metadata": {
        "id": "0U80AnARz645"
      },
      "execution_count": null,
      "outputs": []
    },
    {
      "cell_type": "code",
      "source": [
        "# 피보나치 재귀\n",
        "\n",
        "def f(n):\n",
        "    if n == 1 or n == 2:\n",
        "        return 1\n",
        "    return f(n-1) + f(n-2)\n",
        "\n",
        "f(1), f(2), f(3), f(4), f(5)"
      ],
      "metadata": {
        "id": "NsQAubbf1a5Y"
      },
      "execution_count": null,
      "outputs": []
    },
    {
      "cell_type": "code",
      "source": [
        "f(35)"
      ],
      "metadata": {
        "id": "XK8tXzcw2IGQ"
      },
      "execution_count": null,
      "outputs": []
    },
    {
      "cell_type": "code",
      "source": [
        "# 재구의 비효율을 이렇게 해결할 수 있다는 것을 보여드리기 위함\n",
        "# but 가능 하면 for를 이용해주세요.\n",
        "from functools import lru_cache\n",
        "\n",
        "@lru_cache(maxsize=None)\n",
        "def fib(num):\n",
        "    if num == 0:\n",
        "        return 0\n",
        "    if num == 1 or num == 2:\n",
        "        return 1\n",
        "    else:\n",
        "        return fib(num-1) + fib(num-2)\n",
        "\n",
        "fib(40)"
      ],
      "metadata": {
        "id": "YjbOgQ_C3Jrg"
      },
      "execution_count": null,
      "outputs": []
    },
    {
      "cell_type": "markdown",
      "source": [
        " ## !! 연습문제"
      ],
      "metadata": {
        "id": "GyU_DE6f7zpA"
      }
    },
    {
      "cell_type": "code",
      "source": [
        "# 연습문제 1번\n",
        "a = 'pithon'\n",
        "\n",
        "def 함수1():\n",
        "    def 함수2():\n",
        "        print('love')\n",
        "        \n",
        "    print('I')\n",
        "    함수2()\n",
        "    return \"python\"\n",
        "\t\n",
        "\n",
        "a = 함수1()\n",
        "print(a)"
      ],
      "metadata": {
        "id": "kTxZc5Qj3wD_"
      },
      "execution_count": null,
      "outputs": []
    },
    {
      "cell_type": "code",
      "source": [
        "# 연습문제 2번\n",
        "def plus(num1, num2):\n",
        "\treturn num1 + num2\n",
        "\n",
        "def minus(num1, num2):\n",
        "\treturn num1 - num2\n",
        "\n",
        "def multiply(num1, num2):\n",
        "\treturn num1 * num2\n",
        "\n",
        "def divide(num1, num2):\n",
        "\treturn num1 / num2\n",
        "\n",
        "print(f'plus : {plus(10, 5)}')\n",
        "print(f'minus : {minus(10, 5)}')\n",
        "print(f'multiply : {multiply(10, 5)}')\n",
        "print(f'divide : {divide(10, 5)}')"
      ],
      "metadata": {
        "id": "cZ_cD9OR4eYf"
      },
      "execution_count": null,
      "outputs": []
    },
    {
      "cell_type": "code",
      "source": [
        "plus = lambda num1, num2 : num1 + num2\n",
        "minus = lambda num1, num2 : num1 - num2\n",
        "multiply = lambda num1, num2 : num1 / num2\n",
        "divide = lambda num1, num2 : num1 * num2\n",
        "\n",
        "print(f'plus : {plus(10, 5)}')\n",
        "print(f'minus : {minus(10, 5)}')\n",
        "print(f'multiply : {multiply(10, 5)}')\n",
        "print(f'divide : {divide(10, 5)}')"
      ],
      "metadata": {
        "id": "56oZwHE88ZCu"
      },
      "execution_count": null,
      "outputs": []
    },
    {
      "cell_type": "code",
      "source": [
        "# 실력이 있으신 분은 견고한 코드가 될 수 있도록 해주셔야 합니다.\n",
        "# 연습문제 2번\n",
        "def plus(num1, num2):\n",
        "    if type(num1) == int and type(num2) == int:\n",
        "        return num1 + num2\n",
        "    return '정수가 아니기에 연산할 수 없습니다.'\n",
        "\n",
        "print(f\"plus : {plus(10, 5)}\")\n",
        "print(f\"plus : {plus(10, '5')}\")\n",
        "print(f\"plus : {plus('10', 5)}\")\n",
        "print(f\"plus : {plus('10', '5')}\")\n",
        "print(f\"plus : {plus(10, 'a')}\")\n",
        "print(f\"plus : {plus(10, True)}\")\n",
        "print(f\"plus : {plus(False, 5)}\")\n",
        "print(f\"plus : {plus(10, 10.1)}\")\n",
        "print(f\"plus : {plus(10, 15)}\")"
      ],
      "metadata": {
        "id": "wWCdKUFu_ZeB"
      },
      "execution_count": null,
      "outputs": []
    },
    {
      "cell_type": "code",
      "source": [
        "# 실력이 있으신 분은 견고한 코드가 될 수 있도록 해주셔야 합니다.\n",
        "# 연습문제 2번\n",
        "def plus(num1, num2):\n",
        "    if type(num1) == int and type(num2) == int:\n",
        "        return num1 + num2\n",
        "    return float('inf')\n",
        "\n",
        "print(f\"plus : {plus(10, 5)}\")\n",
        "print(f\"plus : {plus(10, '5')}\")\n",
        "print(f\"plus : {plus('10', 5)}\")\n",
        "print(f\"plus : {plus('10', '5')}\")\n",
        "print(f\"plus : {plus(10, 'a')}\")\n",
        "print(f\"plus : {plus(10, True)}\")\n",
        "print(f\"plus : {plus(False, 5)}\")\n",
        "print(f\"plus : {plus(10, 10.1)}\")\n",
        "print(f\"plus : {plus(10, 15)}\")"
      ],
      "metadata": {
        "id": "2zlds_IzANFn"
      },
      "execution_count": null,
      "outputs": []
    },
    {
      "cell_type": "code",
      "source": [
        "# 실력이 있으신 분은 견고한 코드가 될 수 있도록 해주셔야 합니다.\n",
        "# 연습문제 2번\n",
        "def plus(num1, num2):\n",
        "    try:\n",
        "        return num1 + num2\n",
        "    except:\n",
        "        return float('inf')\n",
        "\n",
        "print(f\"plus : {plus(10, 5)}\")\n",
        "print(f\"plus : {plus(10, '5')}\")\n",
        "print(f\"plus : {plus('10', 5)}\")\n",
        "print(f\"plus : {plus('10', '5')}\")\n",
        "print(f\"plus : {plus(10, 'a')}\")\n",
        "print(f\"plus : {plus(10, True)}\")\n",
        "print(f\"plus : {plus(False, 5)}\")\n",
        "print(f\"plus : {plus(10, 10.1)}\")\n",
        "print(f\"plus : {plus(10, 15)}\")"
      ],
      "metadata": {
        "id": "zPIyVd0OAjSW"
      },
      "execution_count": null,
      "outputs": []
    },
    {
      "cell_type": "code",
      "source": [
        "float('inf') > 1000000000000000000000000"
      ],
      "metadata": {
        "id": "Hkq2d-kaA4AO"
      },
      "execution_count": null,
      "outputs": []
    },
    {
      "cell_type": "code",
      "source": [
        "# # 연습문제 3번\n",
        "# 3. x의 n제곱을 구하는 함수를 만들어주세요.\n",
        "# 재귀함수를 이용하여 만들어야하며, x은 0이 아닙니다. (x, n > 1)\n",
        "\n",
        "def 제곱(x, n):\n",
        "    if n == 0:\n",
        "        return 1\n",
        "    return x * 제곱(x, n-1)\n",
        "\n",
        "제곱(3, 3)\n",
        "제곱(3, 4)    "
      ],
      "metadata": {
        "id": "yUxS2YOu5haY"
      },
      "execution_count": null,
      "outputs": []
    },
    {
      "cell_type": "code",
      "source": [
        "# 재귀함수를 사용해서 푼 것은 아니고\n",
        "# 팩토리 함수라고도 하고, 클로져라고도 합니다.\n",
        "def 제곱(x):\n",
        "    def 승수(y):\n",
        "        return x ** y\n",
        "    return 승수\n",
        "\n",
        "제곱3 = 제곱(3)\n",
        "제곱3(4)"
      ],
      "metadata": {
        "id": "pKaQ4D3iDT5-"
      },
      "execution_count": null,
      "outputs": []
    },
    {
      "cell_type": "markdown",
      "source": [
        "## list (리스트)\n"
      ],
      "metadata": {
        "id": "zPSbV52bEgi2"
      }
    },
    {
      "cell_type": "markdown",
      "source": [
        "* 순서를 가진 데이터들의 집합(Sequence)\n",
        "* 리스트는 값의 변경 가능\n",
        "* 리스트 안에 리스트로 다차원의 리스트를 만드는 것도 가능\n",
        "* 리스트 안에 다른 set, dict, tuple 등을 넣는 것이 가능합니다."
      ],
      "metadata": {
        "id": "8RO6edIDFTO8"
      }
    },
    {
      "cell_type": "code",
      "source": [
        "l = [1000, 2000, 3000, 1000, 20000, 30000]\n",
        "id(l[0]), id(l[3])"
      ],
      "metadata": {
        "id": "4Yq8VgoKFlrF"
      },
      "execution_count": null,
      "outputs": []
    },
    {
      "cell_type": "code",
      "source": [
        "# 컨벤션 자료형(딕셔너리, 튜플, 셋, 리스트)에서는\n",
        "# 메모리 효율을 위해\n",
        "# 같은 값이 있을 경우 같은 곳을 가리키게 설계되어 있습니다."
      ],
      "metadata": {
        "id": "qccA9o-9F1jE"
      },
      "execution_count": null,
      "outputs": []
    },
    {
      "cell_type": "code",
      "source": [
        "l = [10, 20, 30, 40]\n",
        "l[0] = 1000\n",
        "l"
      ],
      "metadata": {
        "id": "RL3pPH9bGGIk"
      },
      "execution_count": null,
      "outputs": []
    },
    {
      "cell_type": "code",
      "source": [
        "s = 'hello world'\n",
        "s[0] = 'k' #error\n",
        "s"
      ],
      "metadata": {
        "id": "3or5DaBeGN_H"
      },
      "execution_count": null,
      "outputs": []
    },
    {
      "cell_type": "code",
      "source": [
        "data = [[1, 2, 3],\n",
        "        [4, 5, 6],\n",
        "        [7, 8, 9]]\n",
        "\n",
        "data"
      ],
      "metadata": {
        "id": "sJQy3S6xGcyc"
      },
      "execution_count": null,
      "outputs": []
    },
    {
      "cell_type": "code",
      "source": [
        "data[0]"
      ],
      "metadata": {
        "id": "qbYrADOWGv4H"
      },
      "execution_count": null,
      "outputs": []
    },
    {
      "cell_type": "code",
      "source": [
        "data[0][0]"
      ],
      "metadata": {
        "id": "oOrefjVpG3Yi"
      },
      "execution_count": null,
      "outputs": []
    },
    {
      "cell_type": "code",
      "source": [
        "data = [[1, 2, 3],\n",
        "        [4, 5, 6],\n",
        "        [7, 8, 9]]\n",
        "\n",
        "data[0][0] *= 2\n",
        "data[0][1] *= 2\n",
        "data[0][2] *= 2\n",
        "data"
      ],
      "metadata": {
        "id": "crfaoBp5G85D"
      },
      "execution_count": null,
      "outputs": []
    },
    {
      "cell_type": "code",
      "source": [
        "data = [[1, 2, 3],\n",
        "        [4, 5, 6],\n",
        "        [7, 8, 9]]\n",
        "\n",
        "data[0][0] *= 2\n",
        "data[0][1] *= 2\n",
        "data[0][2] *= 2\n",
        "data[1][0] *= 2\n",
        "data[1][1] *= 2\n",
        "data[1][2] *= 2\n",
        "data[2][0] *= 2\n",
        "data[2][1] *= 2\n",
        "data[2][2] *= 2\n",
        "data"
      ],
      "metadata": {
        "id": "s98wJ4_7HPWk"
      },
      "execution_count": null,
      "outputs": []
    },
    {
      "cell_type": "code",
      "source": [
        "data = [[1, 2, 3],\n",
        "        [4, 5, 6],\n",
        "        [7, 8, 9]]\n",
        "\n",
        "for i in range(3):\n",
        "    for j in range(3):\n",
        "        data[i][j] *= 2\n",
        "\n",
        "data"
      ],
      "metadata": {
        "id": "BBepxerpHZ_3"
      },
      "execution_count": null,
      "outputs": []
    },
    {
      "cell_type": "markdown",
      "source": [
        "```\n",
        "   3                    == 스칼라\n",
        "  [3, 4]                == 백터\n",
        " [[1, 2, 3],            == 매트릭스(행렬)\n",
        "  [4, 5, 6],\n",
        "  [7, 8, 9]]\n",
        "[[[1], [2], [3]],       == 텐서(다차원, 3차원 이상)\n",
        " [[4], [5], [6]],\n",
        " [[7], [8], [9]]]\n",
        "\n",
        " 텐서플로우 : 인공지능 중 유명한 라이브러리\n",
        "```"
      ],
      "metadata": {
        "id": "N5nIVbubH1tl"
      }
    },
    {
      "cell_type": "code",
      "source": [
        "# 리스트에서 주의해야 하는 연산!\n",
        "x = [10] * 3\n",
        "x"
      ],
      "metadata": {
        "id": "Wny9y7UEIqZs"
      },
      "execution_count": null,
      "outputs": []
    },
    {
      "cell_type": "code",
      "source": [
        "x[0] = 100\n",
        "x"
      ],
      "metadata": {
        "id": "-0zs1y5GI2Cd"
      },
      "execution_count": null,
      "outputs": []
    },
    {
      "cell_type": "code",
      "source": [
        "x = [[10] * 2] * 3\n",
        "x"
      ],
      "metadata": {
        "id": "mzHeOJfBI45l"
      },
      "execution_count": null,
      "outputs": []
    },
    {
      "cell_type": "code",
      "source": [
        "x[0][0] = 100\n",
        "x"
      ],
      "metadata": {
        "id": "R9AOxa_yJBnA"
      },
      "execution_count": null,
      "outputs": []
    },
    {
      "cell_type": "code",
      "source": [
        "x = [[[10] * 3] * 3] * 4\n",
        "x[0][0][0] = 1000\n",
        "x"
      ],
      "metadata": {
        "id": "TxOstyDzJ5kt"
      },
      "execution_count": null,
      "outputs": []
    },
    {
      "cell_type": "code",
      "source": [
        "[1, 2, 3] + [1, 2, 3] # 많이 사용합니다!"
      ],
      "metadata": {
        "id": "i4WkyEuvM87k"
      },
      "execution_count": null,
      "outputs": []
    },
    {
      "cell_type": "code",
      "source": [
        "[1, 2, 3] + 1"
      ],
      "metadata": {
        "id": "Sb4qQ5_fNCJU"
      },
      "execution_count": null,
      "outputs": []
    },
    {
      "cell_type": "code",
      "source": [
        "id(x[0][0]), id(x[0][1])"
      ],
      "metadata": {
        "id": "KG_8DE09Jusr"
      },
      "execution_count": null,
      "outputs": []
    },
    {
      "cell_type": "code",
      "source": [
        "l = [10, 20, 30]\n",
        "type(l), dir(l), help(l)"
      ],
      "metadata": {
        "id": "tPEA6x1FJ9XE"
      },
      "execution_count": null,
      "outputs": []
    },
    {
      "cell_type": "markdown",
      "source": [
        "## 리스트의 메서드"
      ],
      "metadata": {
        "id": "aRGFzHAWNQhr"
      }
    },
    {
      "cell_type": "code",
      "source": [
        "# 'append', 'clear', 'copy', 'count', 'extend', 'index'\n",
        "# 'insert', 'pop', 'remove', 'reverse', 'sort'"
      ],
      "metadata": {
        "id": "aeq8u1jeNOG7"
      },
      "execution_count": null,
      "outputs": []
    },
    {
      "cell_type": "code",
      "source": [
        "# 요소 1개를 추가할 때\n",
        "l = [1, 2, 3]\n",
        "l.append(4)\n",
        "l"
      ],
      "metadata": {
        "id": "8ELZk69-J9S8"
      },
      "execution_count": null,
      "outputs": []
    },
    {
      "cell_type": "code",
      "source": [
        "l = [1, 2, 3]\n",
        "l.append([1, 2, 3])\n",
        "l"
      ],
      "metadata": {
        "id": "YqTXdS36NqyD"
      },
      "execution_count": null,
      "outputs": []
    },
    {
      "cell_type": "code",
      "source": [
        "# 요소 여러 개를 추가할 때\n",
        "l = [1, 2, 3]\n",
        "l.extend(4) #error\n",
        "l"
      ],
      "metadata": {
        "id": "LJ9cZw6hNuqz"
      },
      "execution_count": null,
      "outputs": []
    },
    {
      "cell_type": "code",
      "source": [
        "l = [1, 2, 3]\n",
        "l.extend('hello')\n",
        "l"
      ],
      "metadata": {
        "id": "2NC8W1esOCGi"
      },
      "execution_count": null,
      "outputs": []
    },
    {
      "cell_type": "code",
      "source": [
        "l = [1, 2, 3]\n",
        "l.extend({'one':10, 'two':20})\n",
        "l"
      ],
      "metadata": {
        "id": "ukGwfQrGOPeE"
      },
      "execution_count": null,
      "outputs": []
    },
    {
      "cell_type": "code",
      "source": [
        "l = [1, 2, 3]\n",
        "l.extend({10, 20, 30})\n",
        "l"
      ],
      "metadata": {
        "id": "JJvdcBseOWfz"
      },
      "execution_count": null,
      "outputs": []
    },
    {
      "cell_type": "code",
      "source": [
        "l = [1, 2, 3]\n",
        "l.extend([1, 2, 3])\n",
        "l"
      ],
      "metadata": {
        "id": "76cS4OviN5tL"
      },
      "execution_count": null,
      "outputs": []
    },
    {
      "cell_type": "code",
      "source": [
        "l = [10, 20, 30]\n",
        "l.clear()\n",
        "l"
      ],
      "metadata": {
        "id": "8o0cZrR2Owkr"
      },
      "execution_count": null,
      "outputs": []
    },
    {
      "cell_type": "code",
      "source": [
        "제주과일가게 = [['바나나', 1000],['수박', 2000],['딸기', 3000]]\n",
        "서울과일가게 = 제주과일가게\n",
        "서울과일가게[0] = ['바나나', 2000]\n",
        "서울과일가게, 제주과일가게"
      ],
      "metadata": {
        "id": "-63MrPf8O3nb"
      },
      "execution_count": null,
      "outputs": []
    },
    {
      "cell_type": "code",
      "source": [
        "제주과일가게 = [['바나나', 1000],['수박', 2000],['딸기', 3000]]\n",
        "서울과일가게 = 제주과일가게.copy() # 얕은 복사\n",
        "서울과일가게[0] = ['바나나', 2000]\n",
        "서울과일가게, 제주과일가게"
      ],
      "metadata": {
        "id": "7NnbZw-qPpo7"
      },
      "execution_count": null,
      "outputs": []
    },
    {
      "cell_type": "code",
      "source": [
        "제주과일가게 = [['바나나', 1000],['수박', 2000],['딸기', 3000]]\n",
        "서울과일가게 = 제주과일가게[:] # 슬라이싱 사용하여 새로운 객체 생성 (얕은 복사)\n",
        "서울과일가게[0] = ['바나나', 2000]\n",
        "서울과일가게, 제주과일가게"
      ],
      "metadata": {
        "id": "tvi_NvbNP_Ty"
      },
      "execution_count": null,
      "outputs": []
    },
    {
      "cell_type": "code",
      "source": [
        "s = 'hello world'\n",
        "s[:5]\n",
        "\n",
        "id(s), id(s[:5])"
      ],
      "metadata": {
        "id": "4gSQabUSQLwq"
      },
      "execution_count": null,
      "outputs": []
    },
    {
      "cell_type": "code",
      "source": [
        "l = [10, 20, 30, 40, 50]\n",
        "l[:3]\n",
        "ll = l[:]\n",
        "ll\n",
        "\n",
        "id(l), id(ll)"
      ],
      "metadata": {
        "id": "HBQ0FgJkQVZi"
      },
      "execution_count": null,
      "outputs": []
    },
    {
      "cell_type": "code",
      "source": [
        "# 이 이상의 내용은 뒤에 얕은 복사와 깊은 복사에서 알아봅니다.\n",
        "제주과일가게 = [['바나나', 1000],['수박', 2000],['딸기', 3000]]\n",
        "# 서울과일가게 = 제주과일가게[:] # 얕은 복사\n",
        "서울과일가게 = 제주과일가게.copy() # 얕은 복사\n",
        "id(서울과일가게[0]), id(제주과일가게[0])\n",
        "id(서울과일가게[0][0]), id(제주과일가게[0][0])\n",
        "서울과일가게[0][1] = 3000\n",
        "서울과일가게, 제주과일가게"
      ],
      "metadata": {
        "id": "NnOvI7xkQrKq"
      },
      "execution_count": null,
      "outputs": []
    },
    {
      "cell_type": "code",
      "source": [
        "l = [1, 2, 3]\n",
        "ll = l[:]\n",
        "l[0] = 1000\n",
        "l, ll"
      ],
      "metadata": {
        "id": "J0PTuwkNRZwC"
      },
      "execution_count": null,
      "outputs": []
    },
    {
      "cell_type": "code",
      "source": [
        "l = [1, 2, 3]\n",
        "ll = l.copy()\n",
        "l[0] = 1000\n",
        "l, ll"
      ],
      "metadata": {
        "id": "fTWVPZTyRgvC"
      },
      "execution_count": null,
      "outputs": []
    },
    {
      "cell_type": "code",
      "source": [
        "l = [1, 2, 3, 1, 1, 1, 2, 3, 2, 3, 1, 1]\n",
        "l.count(1)"
      ],
      "metadata": {
        "id": "2T-oM4clRz6y"
      },
      "execution_count": null,
      "outputs": []
    },
    {
      "cell_type": "code",
      "source": [
        "a = [10, 1, 1, 11, 2, 23, 12]\n",
        "a.index(11) # find는 없음"
      ],
      "metadata": {
        "id": "m0lG7IRZS285"
      },
      "execution_count": null,
      "outputs": []
    },
    {
      "cell_type": "code",
      "source": [
        "a = [10, 1, 1, 11, 2, 23, 12, 11]\n",
        "a.index(11) # 맨 처음 찾은 index 값만 출력됨"
      ],
      "metadata": {
        "id": "BArsRQxYTH-D"
      },
      "execution_count": null,
      "outputs": []
    },
    {
      "cell_type": "code",
      "source": [
        "a = [10, 1, 1, 11, 2, 23, 12]\n",
        "a.index(11)\n",
        "a[:a.index(11)]"
      ],
      "metadata": {
        "id": "hC42tFrqTNwZ"
      },
      "execution_count": null,
      "outputs": []
    },
    {
      "cell_type": "code",
      "source": [
        "a = [10, 20, 30]\n",
        "a.insert(2, 1000) # insert는 값을 지우지는 않습니다.\n",
        "a"
      ],
      "metadata": {
        "id": "xGxBfSmMTWDC"
      },
      "execution_count": null,
      "outputs": []
    },
    {
      "cell_type": "code",
      "source": [
        "l = [10, 20, 30, 40, 50]\n",
        "l.pop()"
      ],
      "metadata": {
        "id": "FaH6AQVzTqOa"
      },
      "execution_count": null,
      "outputs": []
    },
    {
      "cell_type": "code",
      "source": [
        "l = [10, 20, 30, 40, 50]\n",
        "l.pop(0) # 많이 사용합니다.\n",
        "l"
      ],
      "metadata": {
        "id": "YFW5BdzbTzC7"
      },
      "execution_count": null,
      "outputs": []
    },
    {
      "cell_type": "code",
      "source": [
        "# append : 맨 뒤에 추가\n",
        "# pop : 맨 뒤에서 값을 뽑아내고, index 가 들어갈 경우 index에서 뽑습니다.\n",
        "# insert : index에 값을 삽입하고, 원래 있던 값을 뒤로 밀어버립니다."
      ],
      "metadata": {
        "id": "znrc7UkKTV-K"
      },
      "execution_count": null,
      "outputs": []
    },
    {
      "cell_type": "code",
      "source": [
        "l = [10, 20, 30, 40, 50]\n",
        "l.remove(20) # 예를 들어 for를 돌면서 remove를 하지 않기 바랍니다.\n",
        "l"
      ],
      "metadata": {
        "id": "Cxs4AcuPUPoS"
      },
      "execution_count": null,
      "outputs": []
    },
    {
      "cell_type": "code",
      "source": [
        "l = [20, 20, 20, 20]\n",
        "for i in range(len(l)):\n",
        "    print(len(l)) # len가 계속 변하기 때문에 의도치 않은 에러가 날 수 있어요.\n",
        "    l.remove(20)"
      ],
      "metadata": {
        "id": "AyAuyj-VU7fb"
      },
      "execution_count": null,
      "outputs": []
    },
    {
      "cell_type": "code",
      "source": [
        "l = [20, 20, 20, 20]\n",
        "for i in l:\n",
        "    print(len(l))\n",
        "    l.append(20) #무한 반복 #실행하지 말자!"
      ],
      "metadata": {
        "id": "eaGu5Qj5VX1p"
      },
      "execution_count": null,
      "outputs": []
    },
    {
      "cell_type": "code",
      "source": [
        "l = [10, 20, 30, 40, 50, 20, 20, 20]\n",
        "for i in range(l.count(20)):\n",
        "    l.remove(20)\n",
        "l"
      ],
      "metadata": {
        "id": "t0Cl7uAjF-I_"
      },
      "execution_count": null,
      "outputs": []
    },
    {
      "cell_type": "code",
      "source": [
        "# 실무에서\n",
        "# 어떤 값을 전부 없애거나\n",
        "# 어떤 값을 전부 찾는 것\n",
        "def f(x):\n",
        "    return x != 20\n",
        "\n",
        "# True인 것만 반환해줍니다.\n",
        "list(filter(f, [10, 20, 30, 40, 50 , 20, 20, 20]))"
      ],
      "metadata": {
        "id": "1rE7HurFGGq3"
      },
      "execution_count": null,
      "outputs": []
    },
    {
      "cell_type": "code",
      "source": [
        "filter(f, [10, 20, 30, 40, 50 , 20, 20, 20])"
      ],
      "metadata": {
        "id": "GSLrqpVwGyTP"
      },
      "execution_count": null,
      "outputs": []
    },
    {
      "cell_type": "code",
      "source": [
        "range(100)"
      ],
      "metadata": {
        "id": "TaMZAOziG5vE"
      },
      "execution_count": null,
      "outputs": []
    },
    {
      "cell_type": "code",
      "source": [
        "for i in filter(f, [10, 20, 30, 40, 50 , 20, 20, 20]):\n",
        "    print(i)"
      ],
      "metadata": {
        "id": "5YymhmQBHCYv"
      },
      "execution_count": null,
      "outputs": []
    },
    {
      "cell_type": "code",
      "source": [
        "list(filter(lambda x: x!=20, [10, 20, 30, 40, 50 , 20, 20, 20]))"
      ],
      "metadata": {
        "id": "2DMCCkbJHX6f"
      },
      "execution_count": null,
      "outputs": []
    },
    {
      "cell_type": "code",
      "source": [
        "l = [5, 6, 4, 3, 8, 9, 1]\n",
        "l.reverse() # 역 정렬이 아니고 역순이며, 원본을 만집니다.\n",
        "l"
      ],
      "metadata": {
        "id": "A3WvKpokVhvJ"
      },
      "execution_count": null,
      "outputs": []
    },
    {
      "cell_type": "code",
      "source": [
        "l = [5, 6, 4, 3, 8, 9, 1]\n",
        "print(list(reversed(l))) # 역 정렬이 아니고 역순이며, 원본을 만지지 않습니다.\n",
        "print(l)"
      ],
      "metadata": {
        "id": "OOGINhr6WEYR"
      },
      "execution_count": null,
      "outputs": []
    },
    {
      "cell_type": "code",
      "source": [
        "# l.reverse() : 리스트의 매서드이며, return None입니다! 원본이 역순, 원본을 만집니다.\n",
        "# reversed(l) : 빌트 인 펑션이며, return 역순 입니다! 원본을 만지지 않습니다."
      ],
      "metadata": {
        "id": "8EubOBy8WYqB"
      },
      "execution_count": null,
      "outputs": []
    },
    {
      "cell_type": "code",
      "source": [
        "l = [5, 6, 4, 3, 8, 9, 1]\n",
        "print(l.reverse())\n",
        "l"
      ],
      "metadata": {
        "id": "MiFLH_d0WuCB"
      },
      "execution_count": null,
      "outputs": []
    },
    {
      "cell_type": "code",
      "source": [
        "l = [5, 6, 4, 3, 8, 9, 1]\n",
        "\n",
        "\n",
        "print(list(reversed(l)))\n",
        "print(l)"
      ],
      "metadata": {
        "id": "Urm0P09TW4MI"
      },
      "execution_count": null,
      "outputs": []
    },
    {
      "cell_type": "code",
      "source": [
        "reversed(l)"
      ],
      "metadata": {
        "id": "yoT6ZQBwXFIo"
      },
      "execution_count": null,
      "outputs": []
    },
    {
      "cell_type": "code",
      "source": [
        "print(type(range(10)))\n",
        "\n",
        "# 메서드는 대상.메서드종류()\n",
        "# 빌트인함수는 함수명()"
      ],
      "metadata": {
        "id": "NwiM1p9RXP_B"
      },
      "execution_count": null,
      "outputs": []
    },
    {
      "cell_type": "code",
      "source": [
        "# 함수내에서 사용되는 로컬 변수들의 변수 이름 및 현재 값 등을 알고 싶을 때\n",
        "# locals 빌트인 함수를 사용할 수 있습니다.\n",
        "def one():\n",
        "    x = 1\n",
        "    def two():\n",
        "        print(x)\n",
        "        print(locals())\n",
        "    print(locals())\n",
        "    two()\n",
        "one()"
      ],
      "metadata": {
        "id": "-mlmF80_qpB0"
      },
      "execution_count": null,
      "outputs": []
    },
    {
      "cell_type": "markdown",
      "source": [
        "## sort\n",
        "* 별 6개"
      ],
      "metadata": {
        "id": "gXWrh8CKHypT"
      }
    },
    {
      "cell_type": "code",
      "source": [
        "l = [1, 5, 4, 2, 8, 5, 10, 9, 2, 3]\n",
        "l.sort() # 원본을 만지고, 반환값은 None\n",
        "l"
      ],
      "metadata": {
        "id": "yV7Q4p_qH3Nl"
      },
      "execution_count": null,
      "outputs": []
    },
    {
      "cell_type": "code",
      "source": [
        "l = [1, 5, 4, 2, 8, 5, 10, 9, 2, 3]\n",
        "print(sorted([1, 5, 4, 2, 8, 5, 10, 9, 2, 3]))\n",
        " # 원본을 만지지 않고, 반환값은 정렬된 값\n",
        "print(l)"
      ],
      "metadata": {
        "id": "L377thTBIdTv"
      },
      "execution_count": null,
      "outputs": []
    },
    {
      "cell_type": "code",
      "source": [
        "l = [1, 5, 4, 2, 8, 5, 10, 9, 2, 3]\n",
        "l.sort()\n",
        "l.reverse()\n",
        "l"
      ],
      "metadata": {
        "id": "HRRpa0H1I_UX"
      },
      "execution_count": null,
      "outputs": []
    },
    {
      "cell_type": "code",
      "source": [
        "# 이렇게 많이 사용합니다.\n",
        "l = [1, 5, 4, 2, 8, 5, 10, 9, 2, 3]\n",
        "l.sort(reverse=True) # 내림차순\n",
        "l"
      ],
      "metadata": {
        "id": "vJ9g3vLKJC42"
      },
      "execution_count": null,
      "outputs": []
    },
    {
      "cell_type": "code",
      "source": [
        "l = [1, 5, 4, 2, 8, 5, 10, 9, 2, 3]\n",
        "sorted(l, reverse=True) # 내림차순"
      ],
      "metadata": {
        "id": "L8rc618dJJIe"
      },
      "execution_count": null,
      "outputs": []
    },
    {
      "cell_type": "code",
      "source": [
        "l = [[1, 10, 'leehojun'], \n",
        "     [20, 30, 'hojun'], \n",
        "     [10, 20, 'weniv!'], \n",
        "     [1, 2, 'hello world'], \n",
        "     [55, 11, 'sun']]\n",
        "\n",
        "# 1. 글자 수 대로 정렬해주세요.\n",
        "def f(x):\n",
        "    return len(x[2])\n",
        "\n",
        "print(sorted(l, key=f, reverse=False))\n",
        "print(sorted(l, key=lambda x:len(x[2]), reverse=False))\n",
        "\n",
        "# 2. 맨 앞에 위치한 숫자대로 정렬해주세요.\n",
        "def f2(x):\n",
        "    return x[0]\n",
        "\n",
        "print(sorted(l))\n",
        "print(sorted(l, key=f2))\n",
        "print(sorted(l, key=lambda x:x[0]))\n",
        "\n",
        "# 3. 중앙에 위치한 값대로 정렬해주세요.\n",
        "\n",
        "def f3(x):\n",
        "    return x[1]\n",
        "\n",
        "print(sorted(l))\n",
        "print(sorted(l, key=f3))\n",
        "print(sorted(l, key=lambda x:x[1]))\n",
        "\n",
        "l = [[1, 10, 32], \n",
        "     [20, 30, 11], \n",
        "     [10, 20, 22], \n",
        "     [1, 2, 13], \n",
        "     [55, 11, 44]]\n",
        "\n",
        "\n",
        "# 4. 3개의 전체 합이 작은 순서대로 출력해주세요.\n",
        "\n",
        "def f4(x):\n",
        "    return x[0] + x[1] + x[2]\n",
        "\n",
        "def f5(x):\n",
        "    return sum(x)\n",
        "\n",
        "print(sorted(l, key=f4))\n",
        "print(sorted(l, key=f5))\n",
        "print(sorted(l, key=lambda x: sum(x)))\n",
        "print(sorted(l, key=sum))"
      ],
      "metadata": {
        "id": "fVlm6xAjJa_D"
      },
      "execution_count": null,
      "outputs": []
    },
    {
      "cell_type": "code",
      "source": [
        "# https://codingdojang.com/scode/408?answer_mode=hide\n",
        "# 좌표 평면 문제가 나오면 차원 축소나 차원 확대가 가능한 문제인지 확인\n",
        "\n",
        "point = [1, 3, 4, 8, 13, 17, 20]\n",
        "point[1:]\n",
        "\n",
        "[1, 3, 4, 8, 13, 17, 20]\n",
        "[3, 4, 8, 13, 17, 20]"
      ],
      "metadata": {
        "id": "rJb_kkoqNiT_"
      },
      "execution_count": null,
      "outputs": []
    },
    {
      "cell_type": "code",
      "source": [
        "list(zip('hello', 'world'))"
      ],
      "metadata": {
        "id": "lEoEY9LVPC-h"
      },
      "execution_count": null,
      "outputs": []
    },
    {
      "cell_type": "code",
      "source": [
        "list(zip(point, point[1:]))"
      ],
      "metadata": {
        "id": "3Bk-u5rLPE_2"
      },
      "execution_count": null,
      "outputs": []
    },
    {
      "cell_type": "code",
      "source": [
        "def f(x):\n",
        "    return x[1] - x[0]\n",
        "\n",
        "sorted(zip(point, point[1:]), key=f)"
      ],
      "metadata": {
        "id": "_95w1vPtPGZW"
      },
      "execution_count": null,
      "outputs": []
    },
    {
      "cell_type": "code",
      "source": [
        "def f(x):\n",
        "    return x[1] - x[0]\n",
        "\n",
        "sorted(zip(point, point[1:]), key=f)[0]"
      ],
      "metadata": {
        "id": "QXSTd3gGR48d"
      },
      "execution_count": null,
      "outputs": []
    },
    {
      "cell_type": "code",
      "source": [
        "sorted(zip(point, point[1:]), key=lambda x: x[1]-x[0])[0]"
      ],
      "metadata": {
        "id": "yXMHzI2UR9xO"
      },
      "execution_count": null,
      "outputs": []
    },
    {
      "cell_type": "code",
      "source": [
        "# https://school.programmers.co.kr/learn/courses/30/lessons/120835\n",
        "# 응급도\n",
        "# [3, 76, 24]\n",
        "# 우선순위\n",
        "# [3, 1, 2]\n",
        "\n",
        "l = [3, 76, 24]\n",
        "정렬된값 = sorted(l, reverse=True)\n",
        "정렬된값 # [76, 24, 3]\n",
        "# 우리가 원하는 값 [2, 0, 1]\n",
        "\n",
        "결과값 = [\n",
        "            정렬된값.index(l[0]), \n",
        "            정렬된값.index(l[1]), \n",
        "            정렬된값.index(l[2])\n",
        "        ]\n",
        "결과값"
      ],
      "metadata": {
        "id": "k8yDIGtKTyAU"
      },
      "execution_count": null,
      "outputs": []
    },
    {
      "cell_type": "markdown",
      "source": [
        "## 깊은 복사와 얕은 복사"
      ],
      "metadata": {
        "id": "53o_Z9trP8Zk"
      }
    },
    {
      "cell_type": "code",
      "source": [
        "# 아무런 복사도 이뤄지지 않은 상태\n",
        "l = [[1, 2, 3], [4, 5, 6]]\n",
        "ll = l\n",
        "ll[0][0] = 10\n",
        "l, ll "
      ],
      "metadata": {
        "id": "-x5yPk1FWN6D"
      },
      "execution_count": null,
      "outputs": []
    },
    {
      "cell_type": "code",
      "source": [
        "# 얕은 복사\n",
        "l = [1000, 2000, 3000, 4000, 5000, 6000]\n",
        "ll = l.copy()\n",
        "ll[0] = 10\n",
        "l, ll "
      ],
      "metadata": {
        "id": "SUfZyex4Wz7l"
      },
      "execution_count": null,
      "outputs": []
    },
    {
      "cell_type": "code",
      "source": [
        "l = [100, 2000, 3000, 1000, 100, 100]\n",
        "id(l[0]), id(l[1]), id(l[2]), id(l[3]), id(l[4]), id(l[5]) "
      ],
      "metadata": {
        "id": "lGwWlz_cX6fr"
      },
      "execution_count": null,
      "outputs": []
    },
    {
      "cell_type": "code",
      "source": [
        "# 얕은 복사\n",
        "l = [1000, 2000, 3000, 4000, 5000, 6000]\n",
        "ll = l.copy()\n",
        "id(l[0]), id(ll[0]) # 같은 값이 나오니까 같은 객체를 가리키고 있다?"
      ],
      "metadata": {
        "id": "Lf0gh7q1W9OT"
      },
      "execution_count": null,
      "outputs": []
    },
    {
      "cell_type": "code",
      "source": [
        "# 얕은 복사\n",
        "l = [1000, 2000, 3000, 4000, 5000, 6000]\n",
        "ll = l.copy()\n",
        "id(l), id(ll)"
      ],
      "metadata": {
        "id": "Ye9_24jNXRPj"
      },
      "execution_count": null,
      "outputs": []
    },
    {
      "cell_type": "code",
      "source": [
        "# 얕은 복사 (1depth만 복사한다)\n",
        "l = [[1, 2, 3], [4, 5, 6]]\n",
        "ll = l.copy()\n",
        "ll[0] = 100\n",
        "l, ll "
      ],
      "metadata": {
        "id": "4c-sPTUEWmtC"
      },
      "execution_count": null,
      "outputs": []
    },
    {
      "cell_type": "code",
      "source": [
        "# 깊은 복사\n",
        "import copy\n",
        "\n",
        "l = [[1, 2, 3], [4, 5, 6]]\n",
        "ll = copy.deepcopy(l)\n",
        "ll[0][0] = 10\n",
        "id(l), id(ll)\n",
        "id(l[0]), id(ll[0])\n",
        "id(l[0][0]), id(ll[0][0])"
      ],
      "metadata": {
        "id": "RfgXbYxMZB6b"
      },
      "execution_count": null,
      "outputs": []
    },
    {
      "cell_type": "code",
      "source": [
        "# 깊은 복사\n",
        "import copy\n",
        "\n",
        "l = [[1, 2, 3], [4, 5, 6]]\n",
        "ll = copy.deepcopy(l)\n",
        "ll[0][0] = 10"
      ],
      "metadata": {
        "id": "jhcWfHhIZcgk"
      },
      "execution_count": null,
      "outputs": []
    },
    {
      "cell_type": "markdown",
      "source": [
        "* 얕은 복사는 1 계층만 복사합니다. \n",
        "* 깊은 복사는 n 계층까지 모두 복사합니다."
      ],
      "metadata": {
        "id": "m6VH41ybaJJS"
      }
    },
    {
      "cell_type": "markdown",
      "source": [
        "* 나를 이해시키는 단 하나의 코드는 반드시 존재합니다."
      ],
      "metadata": {
        "id": "0miYkzBRahui"
      }
    },
    {
      "cell_type": "code",
      "source": [
        "# 얕은 복사\n",
        "l = [[1, 2, 3], [4, 5, 6]]\n",
        "ll = l[:]\n",
        "l[0] = 100\n",
        "l, ll"
      ],
      "metadata": {
        "id": "jO24e8_Laxat"
      },
      "execution_count": null,
      "outputs": []
    },
    {
      "cell_type": "code",
      "source": [
        "# 얕은 복사\n",
        "l = [[1, 2, 3], [4, 5, 6]]\n",
        "ll = l[:] # l에 copy를 써도 마찬가지입니다.\n",
        "l[0][0] = 100\n",
        "l, ll"
      ],
      "metadata": {
        "id": "YU98UZXybTHc"
      },
      "execution_count": null,
      "outputs": []
    },
    {
      "cell_type": "code",
      "source": [
        "# sorted도 얕은 복사!\n",
        "l = [[1, 2], [3, 4], [5, 6]]\n",
        "ll = sorted(l)\n",
        "l[0][0] = 100\n",
        "l, ll"
      ],
      "metadata": {
        "id": "_PWjKRbKfb_7"
      },
      "execution_count": null,
      "outputs": []
    },
    {
      "cell_type": "code",
      "source": [
        "# 얕은 복사\n",
        "# 리스트 컴프리헨션은 안배운 내용이니 keep해두시고\n",
        "# for문 배운다음 다시 오셔서 복습하시기를 권해드립니다.\n",
        "\n",
        "l = [[1, 2, 3], [4, 5, 6]]\n",
        "ll = [i for i in l]\n",
        "l[0][0] = 100\n",
        "l, ll"
      ],
      "metadata": {
        "id": "NmktVKEjbcdL"
      },
      "execution_count": null,
      "outputs": []
    },
    {
      "cell_type": "code",
      "source": [
        "# 1단계 깊은 복사\n",
        "# 리스트 컴프리헨션은 안배운 내용이니 keep해두시고\n",
        "# for문 배운다음 다시 오셔서 복습하시기를 권해드립니다.\n",
        "\n",
        "l = [[1, 2, 3], [4, 5, 6]]\n",
        "ll = [i[:] for i in l]\n",
        "l[0][0] = 100\n",
        "l, ll"
      ],
      "metadata": {
        "id": "QR12kkTWbvsz"
      },
      "execution_count": null,
      "outputs": []
    },
    {
      "cell_type": "markdown",
      "source": [
        "##다차원 리스트"
      ],
      "metadata": {
        "id": "o0LNMVDYcb0T"
      }
    },
    {
      "cell_type": "code",
      "source": [
        "a = [[1, 2, 3],\n",
        "     [11, 22, 33],\n",
        "     ['leehojun', 20, 30]]\n",
        "\n",
        "# 문제 : jun만 뽑아주세요!\n",
        "print(a[2][0][-3:])\n",
        "print(a[2][0][5:])\n",
        "print(a[2][0][5], a[2][0][6], a[2][0][7], sep='')"
      ],
      "metadata": {
        "id": "t_qdrLOJcfG2"
      },
      "execution_count": null,
      "outputs": []
    },
    {
      "cell_type": "markdown",
      "source": [
        "## 리스트에서 built-in function을 활용"
      ],
      "metadata": {
        "id": "ri4g8ZhfgOtR"
      }
    },
    {
      "cell_type": "markdown",
      "source": [
        "* 알아야 하는 built-in function\n",
        "\n",
        "A\n",
        "abs()\n",
        "all()\n",
        "any()\n",
        "\n",
        "B\n",
        "bin()\n",
        "bool()\n",
        "\n",
        "C\n",
        "chr()\n",
        "\n",
        "D\n",
        "dict()\n",
        "dir()\n",
        "\n",
        "E\n",
        "enumerate()\n",
        "eval()\n",
        "\n",
        "F\n",
        "filter()\n",
        "float()\n",
        "\n",
        "G\n",
        "globals()\n",
        "\n",
        "H\n",
        "help()\n",
        "hex()\n",
        "\n",
        "I\n",
        "id()\n",
        "input()\n",
        "int()\n",
        "isinstance()\n",
        "issubclass()\n",
        "iter()\n",
        "\n",
        "L\n",
        "len()\n",
        "list()\n",
        "locals()\n",
        "\n",
        "M\n",
        "map()\n",
        "max()\n",
        "min()\n",
        "\n",
        "N\n",
        "next()\n",
        "\n",
        "O\n",
        "object()\n",
        "oct()\n",
        "open()\n",
        "ord()\n",
        "\n",
        "P\n",
        "pow()\n",
        "print()\n",
        "property()\n",
        "\n",
        "R\n",
        "range()\n",
        "repr()\n",
        "reversed()\n",
        "round()\n",
        "\n",
        "S\n",
        "set()\n",
        "setattr()\n",
        "slice()\n",
        "sorted()\n",
        "staticmethod()\n",
        "str()\n",
        "sum()\n",
        "super()\n",
        "\n",
        "T\n",
        "tuple()\n",
        "type()\n",
        "\n",
        "V\n",
        "vars()\n",
        "\n",
        "Z\n",
        "zip()\n",
        "\n"
      ],
      "metadata": {
        "id": "p0asu3gIhAlZ"
      }
    },
    {
      "cell_type": "code",
      "source": [
        "a = [1, 2, 3, 4, 5, 6, 7, 8]\n",
        "print(max(a)) # 최댓값\n",
        "print(min(a)) # 최솟값\n",
        "print(sum(a)) # 전체값의 합"
      ],
      "metadata": {
        "id": "NDuQdjZlgLi6"
      },
      "execution_count": null,
      "outputs": []
    },
    {
      "cell_type": "code",
      "source": [
        "#2차원\n",
        "a = [[1, 2, 3, 'a'],\n",
        "     [11, 22, 33, 'aaa'],\n",
        "     [10, 2000, 30, 'aa']]\n",
        "\n",
        "max(a, key=lambda x:x[1])\n",
        "max(a, key=lambda x:len(x[3]))"
      ],
      "metadata": {
        "id": "BRUCbtgRh1E7"
      },
      "execution_count": null,
      "outputs": []
    },
    {
      "cell_type": "code",
      "source": [
        "# 이름, 별점, 객실수, 가격\n",
        "\n",
        "호텔 = [\n",
        "    ['이스트소프트 호텔', 5, 100, 155000],\n",
        "    ['삼스트소프트 호텔', 4, 80, 145000],\n",
        "    ['사스트소프트 호텔', 4, 70, 135000], \n",
        "    #마지막에 콤마를 허락하는 언어는 제한적 (특히 JSON에서는 엄격해서 허락하지 않습니다.)\n",
        "]\n",
        "\n",
        "max(호텔, key=lambda x:x[3]) # 가장 가격이 높은 것을 뽑아낼 수 있음\n",
        "min(호텔, key=lambda x:x[3]) # 가장 가격이 낮은 것을 뽑아낼 수 있음"
      ],
      "metadata": {
        "id": "hBOEEmuwiW6J"
      },
      "execution_count": null,
      "outputs": []
    },
    {
      "cell_type": "markdown",
      "source": [
        "## 리스트의 순"
      ],
      "metadata": {
        "id": "uJnQCrl0kYlE"
      }
    },
    {
      "cell_type": "code",
      "source": [
        "# 1차원\n",
        "a = [1, 2, 3, 4, 5, 6, 7, 8]\n",
        "\n",
        "# for 변수 in 순회가능한객체\n",
        "for i in a: \n",
        "     print(i)"
      ],
      "metadata": {
        "id": "bZQHwDr5kbCc"
      },
      "execution_count": null,
      "outputs": []
    },
    {
      "cell_type": "code",
      "source": [
        "# 2차원\n",
        "a=[[1, 2, 3], [11, 22, 33], [13, 20000, 300000]]\n",
        "\n",
        "for i in a:\n",
        "    print(i)\n",
        "    print('---')\n",
        "print('end')"
      ],
      "metadata": {
        "id": "1FWjgT8Mkuax"
      },
      "execution_count": null,
      "outputs": []
    },
    {
      "cell_type": "code",
      "source": [
        "# 2차원\n",
        "a=[[1, 2, 3], \n",
        "   [11, 22, 33], \n",
        "   [13, 20000, 300000]]\n",
        "\n",
        "for i in a:\n",
        "    for j in i:\n",
        "        print(j)\n",
        "        print('---')\n",
        "print('end')"
      ],
      "metadata": {
        "id": "wXikZePulYAq"
      },
      "execution_count": null,
      "outputs": []
    },
    {
      "cell_type": "code",
      "source": [
        "#2차원\n",
        "a = [[1, 2, 3],\n",
        "     [11, 22, 33],\n",
        "     [10, 2000, 30]]\n",
        "\n",
        "max(a, key=lambda x:x[1])\n",
        "min(a, key=lambda x:x[1])\n",
        "# sum(a) error\n",
        "sum(a, [])"
      ],
      "metadata": {
        "id": "05OIHIaJh_ch"
      },
      "execution_count": null,
      "outputs": []
    },
    {
      "cell_type": "markdown",
      "source": [
        "실무에서 쓰는 data\n",
        "* https://json-generator.com/"
      ],
      "metadata": {
        "id": "IoR5i66LkLpu"
      }
    },
    {
      "cell_type": "markdown",
      "source": [
        "## range"
      ],
      "metadata": {
        "id": "szJ4_JZSmwfw"
      }
    },
    {
      "cell_type": "code",
      "source": [
        "# range(start, stop, step)\n",
        "# 슬라이싱과 같은 규칙\n",
        "# 슬라이싱은 ':'(콜론)으로 연결되어 있고\n",
        "# range는 ','(콤마)로 연결되어 있습니다.\n",
        "\n",
        "print(list(range(10))) \n",
        "#python 2.x에서 python 3.x에 range 사용하고 싶다면 xrange(10)\n",
        "print(list(range(5, 10)))\n",
        "\n",
        "print(list(range(0, 101, 2))) #짝수\n",
        "print(list(range(1, 101, 2))) #홀수\n",
        "print(list(range(100, 1, -2))) #홀수\n",
        "print(sum(list(range(0, 101)))) # 리소스 낭비\n",
        "print(sum(range(0, 101))) # 이렇게 형 변환을 하지 않고 sum 하시길 권합니다."
      ],
      "metadata": {
        "id": "M5f6HFwOm435"
      },
      "execution_count": null,
      "outputs": []
    },
    {
      "cell_type": "markdown",
      "source": [
        "## list comprehension(리스트 표현식)"
      ],
      "metadata": {
        "id": "H4OVDF9BpSuh"
      }
    },
    {
      "cell_type": "code",
      "source": [
        "# l = [1, 2, 3, 4, ...]\n",
        "# list(range(1, 101))\n",
        "l = []\n",
        "for i in range(1, 101):\n",
        "    l.append(i)\n",
        "l"
      ],
      "metadata": {
        "id": "R9YKh9F4nWXh"
      },
      "execution_count": null,
      "outputs": []
    },
    {
      "cell_type": "code",
      "source": [
        "# l = []\n",
        "# for i in range(1, 11):\n",
        "#     l.append(i ** i)\n",
        "# l\n",
        "\n",
        "l = [i ** i for i in range(1, 11)]\n",
        "l\n",
        "\n",
        "l = [i for i in range(1, 11)]\n",
        "l"
      ],
      "metadata": {
        "id": "t6TtbVR-pnmi"
      },
      "execution_count": null,
      "outputs": []
    },
    {
      "cell_type": "code",
      "source": [
        "l = []\n",
        "for i in range(1, 100):\n",
        "    if i %3 == 0 or i %5 == 0:\n",
        "        l.append(i)\n",
        "\n",
        "[i for i in range(1, 100) if i %3 == 0 or i %5 == 0]"
      ],
      "metadata": {
        "id": "F-aUn_pIqmZh"
      },
      "execution_count": null,
      "outputs": []
    },
    {
      "cell_type": "markdown",
      "source": [
        "## tuple (튜플)"
      ],
      "metadata": {
        "id": "600Gtnuz6oIl"
      }
    },
    {
      "cell_type": "markdown",
      "source": [
        "- 튜플은 순서가 있는 시퀀스형 자료형입니다.\n",
        "- 참조값은 변경이 불가능(immutable) 합니다. (값이 변경 불가능하다 x)\n",
        "- 다른 자료형을 입력할 수 있으며, 튜플 안에 튜플로 다차원의 튜플을 만드는 것도 가능합니다.\n",
        "- 값의 중복을 허락합니다."
      ],
      "metadata": {
        "id": "kWkoZTBp9eHs"
      }
    },
    {
      "cell_type": "code",
      "source": [
        "t = (10, 20, 30)\n",
        "t[1] = 1000"
      ],
      "metadata": {
        "id": "jO3H_pQ39bbx"
      },
      "execution_count": null,
      "outputs": []
    },
    {
      "cell_type": "code",
      "source": [
        "l = [1, 2, 3] \n",
        "t = (l, 20, 30) # 불변인 것은 t가 l을 참조하고 있다는 것.\n",
        "l[0] = 1000\n",
        "t"
      ],
      "metadata": {
        "id": "ftuev0T992hE"
      },
      "execution_count": null,
      "outputs": []
    },
    {
      "cell_type": "code",
      "source": [
        "t = (10, 20, 30, 40, 50)\n",
        "t[:3] # 슬라이싱하면 다른 객체가 됨"
      ],
      "metadata": {
        "id": "V9QISSuh-faL"
      },
      "execution_count": null,
      "outputs": []
    },
    {
      "cell_type": "code",
      "source": [
        "type(t), dir(t)"
      ],
      "metadata": {
        "id": "GoN3Rrau-aah"
      },
      "execution_count": null,
      "outputs": []
    },
    {
      "cell_type": "code",
      "source": [
        "t = (10, 20, 30, 40, 20)\n",
        "t.index(20), t.count(20)"
      ],
      "metadata": {
        "id": "ELD-R1on-qHr"
      },
      "execution_count": null,
      "outputs": []
    },
    {
      "cell_type": "code",
      "source": [
        "t = tuple('leehojun')\n",
        "t\n",
        "t = tuple()\n",
        "t\n",
        "t = tuple(range(10))\n",
        "t\n",
        "t = (1) \n",
        "t\n",
        "t = (1,) #원소를 하나씩 넣고 싶을 때는 콤마(,)를 사용해줍니다.\n",
        "t"
      ],
      "metadata": {
        "id": "fnp3HE3_-1aU"
      },
      "execution_count": null,
      "outputs": []
    },
    {
      "cell_type": "markdown",
      "source": [
        "## dict (딕셔너리, tkwjsgud)"
      ],
      "metadata": {
        "id": "yAhbCsv5_dEm"
      }
    },
    {
      "cell_type": "markdown",
      "source": [
        "- 딕셔너리는 순서가 없는 자료형입니다. (Python 3.6 버전부터 순서를 저장하는 구조로 변경되었음)\n",
        "- 사전형은 Key와 Value 가 하나의 묶음으로 이루어진 자료 체계입니다.\n",
        "- 값의 변경이 가능합니다.\n",
        "- 다른 자료형을 입력할 수 있습니다.\n",
        "- 키의 중복은 허락하지 않고, 값의 중복을 허락합니다."
      ],
      "metadata": {
        "id": "v_pGcAf2_gED"
      }
    },
    {
      "cell_type": "code",
      "source": [
        "# JSon 형식\n",
        "data = [{\n",
        "    '게시물번호' : 1,\n",
        "    '게시자' : '이호준',\n",
        "    '게시물 내용' : '.........'\n",
        "},{\n",
        "    '게시물번호' : 2,\n",
        "    '게시자' : '삼호준',\n",
        "    '게시물 내용' : '.........'\n",
        "},{\n",
        "    '게시물번호' : 3,\n",
        "    '게시자' : '사호준',\n",
        "    '게시물 내용' : '.........'\n",
        "},{\n",
        "    '게시물번호' : 4,\n",
        "    '게시자' : '오호준',\n",
        "    '게시물 내용' : '.........'\n",
        "}]\n",
        "\n",
        "data[1]['게시자']"
      ],
      "metadata": {
        "id": "HoiQPOkH_nwM"
      },
      "execution_count": null,
      "outputs": []
    },
    {
      "cell_type": "code",
      "source": [
        "{\n",
        "    '게시물번호' : 1,\n",
        "    '게시자' : '이호준',\n",
        "    '게시물 내용' : '.........'\n",
        "}"
      ],
      "metadata": {
        "id": "WNA8Xqf6AqbU"
      },
      "execution_count": null,
      "outputs": []
    },
    {
      "cell_type": "code",
      "source": [
        "d = {'one' : '하나', 'two' : '둘', 'three' : '셋'}\n",
        "d['one']"
      ],
      "metadata": {
        "id": "kKHz_CxPAtRC"
      },
      "execution_count": null,
      "outputs": []
    },
    {
      "cell_type": "code",
      "source": [
        "d = {'one' : '하나', 'two' : '둘', 'three' : '셋'}\n",
        "d['two'] ='투'\n",
        "d"
      ],
      "metadata": {
        "id": "pOmm5BuNAzjN"
      },
      "execution_count": null,
      "outputs": []
    },
    {
      "cell_type": "code",
      "source": [
        "d = {}\n",
        "type(d) # dict\n",
        "\n",
        "d = {10}\n",
        "type(d) # set\n",
        "\n",
        "d = dict()\n",
        "type(d) # dict\n",
        "\n",
        "d = {'one' : 1}\n",
        "type(d) # dict"
      ],
      "metadata": {
        "id": "K7qUPjnoA8KP"
      },
      "execution_count": null,
      "outputs": []
    },
    {
      "cell_type": "code",
      "source": [
        "d = {'one' : '하나', 'two' : '둘', 'three' : '셋'}\n",
        "d.items()"
      ],
      "metadata": {
        "id": "OlSeRPMcBhdE"
      },
      "execution_count": null,
      "outputs": []
    },
    {
      "cell_type": "code",
      "source": [
        "dict([('one', '하나'), ('two', '둘'), ('three', '셋')])"
      ],
      "metadata": {
        "id": "TvfXphENBodP"
      },
      "execution_count": null,
      "outputs": []
    },
    {
      "cell_type": "code",
      "source": [
        "dict([['one', '하나'], ['two', '둘'], ['three', '셋']])"
      ],
      "metadata": {
        "id": "BwfJmhehBzEa"
      },
      "execution_count": null,
      "outputs": []
    },
    {
      "cell_type": "code",
      "source": [
        "dict(name='leehojun', age=10)"
      ],
      "metadata": {
        "id": "TngXBJFcB846"
      },
      "execution_count": null,
      "outputs": []
    },
    {
      "cell_type": "code",
      "source": [
        "list(zip('ABC', '123', 'abc'))\n",
        "\n",
        "dict(zip('ABC', '123')) # 형변환"
      ],
      "metadata": {
        "id": "8M6BTXECCOmm"
      },
      "execution_count": null,
      "outputs": []
    },
    {
      "cell_type": "code",
      "source": [
        "# dict와 zip을 사용해서 아래와 같은 형태로 데이터를 만들어주세요.\n",
        "\n",
        "# 원하는 형태 {'A': [10, 20], 'B': [20, 30], 'C': [34, 40]}\n",
        "\n",
        "dict(zip('ABC',[[10, 20],[20,30],[34, 40]]))\n",
        "\n",
        "l = [10, 20, 30, 40]\n",
        "dict(zip('ABC', zip(l, l[1:])))\n",
        "\n",
        "dict(zip('ABC', [list(elem) for elem in zip([10, 20, 30], [20, 30, 40])]))\n"
      ],
      "metadata": {
        "id": "eKYvMtxzCa_L"
      },
      "execution_count": null,
      "outputs": []
    },
    {
      "cell_type": "code",
      "source": [
        "# Key찾기(value는 in 연산자로 못찾음)\n",
        "'B' in {'A': [10, 20], 'B': [20, 30], 'C': [30, 40]}"
      ],
      "metadata": {
        "id": "WbQGIosGEjMh"
      },
      "execution_count": null,
      "outputs": []
    },
    {
      "cell_type": "code",
      "source": [
        "len({'A': [10, 20], 'B': [20, 30], 'C': [30, 40]})"
      ],
      "metadata": {
        "id": "R01lTnshI41K"
      },
      "execution_count": null,
      "outputs": []
    },
    {
      "cell_type": "code",
      "source": [
        "# 공부해두시면 좋습니다!\n",
        "def switch(day):\n",
        "    return {\n",
        "        1 : '월요일',\n",
        "        2 : '화요일',\n",
        "        3 : '수요일',\n",
        "        4 : '목요일',\n",
        "        5 : '금요일',\n",
        "        6 : '토요일',\n",
        "        7 : '일요일',\n",
        "    }[day]\n",
        "\n",
        "switch(7)\n",
        "# switch(8) -> error"
      ],
      "metadata": {
        "id": "aU8lLAvJJATJ"
      },
      "execution_count": null,
      "outputs": []
    },
    {
      "cell_type": "code",
      "source": [
        "def switch(day):\n",
        "    return {\n",
        "        1 : '월요일',\n",
        "        2 : '화요일',\n",
        "        3 : '수요일',\n",
        "        4 : '목요일',\n",
        "        5 : '금요일',\n",
        "        6 : '토요일',\n",
        "        7 : '일요일',\n",
        "    }.get(day)\n",
        "\n",
        "switch(7)\n",
        "switch(8) # get을 사용하면 못찾는 값을 넣었을 때 None을 줍니다."
      ],
      "metadata": {
        "id": "aO2kEgOwKnkY"
      },
      "execution_count": null,
      "outputs": []
    },
    {
      "cell_type": "code",
      "source": [
        "def switch(day):\n",
        "    return {\n",
        "        1 : '월요일',\n",
        "        2 : '화요일',\n",
        "        3 : '수요일',\n",
        "        4 : '목요일',\n",
        "        5 : '금요일',\n",
        "        6 : '토요일',\n",
        "        7 : '일요일',\n",
        "    }.get(day, '요일을 찾지 못했습니다.')\n",
        "\n",
        "switch(7)\n",
        "switch(8) # get을 사용하면 못찾는 값을 넣었을 때 default 값을 줍니다."
      ],
      "metadata": {
        "id": "g7f7fBGTK7Pg"
      },
      "execution_count": null,
      "outputs": []
    },
    {
      "cell_type": "code",
      "source": [
        "!python --version"
      ],
      "metadata": {
        "id": "6inlo-5GKAXO"
      },
      "execution_count": null,
      "outputs": []
    },
    {
      "cell_type": "code",
      "source": [
        "# Python 3.10 부터 도입된 match case\n",
        "\n",
        "def number_to_string(agrument):\n",
        "    match agrument:\n",
        "        case 0:\n",
        "            return \"zero\"\n",
        "        case 1:\n",
        "            return \"one\"\n",
        "        case 2:\n",
        "            return \"two\"\n",
        "        case default:\n",
        "            return \"nothing\"\n",
        "\n",
        "\n",
        "print(number_to_string(0))"
      ],
      "metadata": {
        "id": "Yq6j9udqJtnh"
      },
      "execution_count": null,
      "outputs": []
    },
    {
      "cell_type": "code",
      "source": [
        "# %%timeit -> for문에서 시간 측정할 예정\n",
        "\n",
        "%%timeit\n",
        "s = 0\n",
        "for i in range(10000):\n",
        "    s += i"
      ],
      "metadata": {
        "id": "Ww8ZM2dJEtYx"
      },
      "execution_count": null,
      "outputs": []
    },
    {
      "cell_type": "code",
      "source": [
        "%%timeit\n",
        "\n",
        "sum([i for i in range(10000)])"
      ],
      "metadata": {
        "id": "uhrOYMOmFUjy"
      },
      "execution_count": null,
      "outputs": []
    },
    {
      "cell_type": "code",
      "source": [
        "%%timeit\n",
        "\n",
        "sum(range(10000))"
      ],
      "metadata": {
        "id": "AsGxLz_OFoJ0"
      },
      "execution_count": null,
      "outputs": []
    },
    {
      "cell_type": "code",
      "source": [
        "{'A': [10, 20], 'B': [20, 30], 'C': [30, 40]}.keys()"
      ],
      "metadata": {
        "id": "bSFmT993LVro"
      },
      "execution_count": null,
      "outputs": []
    },
    {
      "cell_type": "code",
      "source": [
        "{'A': [10, 20], 'B': [20, 30], 'C': [30, 40]}.values()"
      ],
      "metadata": {
        "id": "CW2pJGqHLd-w"
      },
      "execution_count": null,
      "outputs": []
    },
    {
      "cell_type": "code",
      "source": [
        "{'A': [10, 20], 'B': [20, 30], 'C': [30, 40]}.items()"
      ],
      "metadata": {
        "id": "V4cntofhLfwx"
      },
      "execution_count": null,
      "outputs": []
    },
    {
      "cell_type": "code",
      "source": [
        "dict.fromkeys('leehojun')"
      ],
      "metadata": {
        "id": "bha9mZ7HLrKW"
      },
      "execution_count": null,
      "outputs": []
    },
    {
      "cell_type": "code",
      "source": [
        "dict.fromkeys('leeohojun', 100)"
      ],
      "metadata": {
        "id": "j8M3mz6zLwDQ"
      },
      "execution_count": null,
      "outputs": []
    },
    {
      "cell_type": "code",
      "source": [
        "keys = ('name', 'age', 'grade')\n",
        "values = ('leehojun', '10', '수')\n",
        "\n",
        "dict.fromkeys(keys, values)"
      ],
      "metadata": {
        "id": "8ER_CDjsMAPP"
      },
      "execution_count": null,
      "outputs": []
    },
    {
      "cell_type": "code",
      "source": [
        "d = {'one': '하나', 'two': '둘', 'three': '셋'}\n",
        "d.update({'one': 1, 'two':2})\n",
        "d"
      ],
      "metadata": {
        "id": "IdwAM3-UMfDi"
      },
      "execution_count": null,
      "outputs": []
    },
    {
      "cell_type": "markdown",
      "source": [
        "## 딕셔너리의 순회"
      ],
      "metadata": {
        "id": "XsAFe33RM10O"
      }
    },
    {
      "cell_type": "code",
      "source": [
        "# key만 순회합니다.\n",
        "d = {'two' : 2, 'three' : '셋'}\n",
        "for i in d:\n",
        "    print(i)"
      ],
      "metadata": {
        "id": "abYjTFgQM3bu"
      },
      "execution_count": null,
      "outputs": []
    },
    {
      "cell_type": "code",
      "source": [
        "# value만 순회합니다.\n",
        "d = {'two' : 2, 'three' : '셋'}\n",
        "for i in d:\n",
        "    print(d[i])"
      ],
      "metadata": {
        "id": "v1n-vJD0M8mI"
      },
      "execution_count": null,
      "outputs": []
    },
    {
      "cell_type": "markdown",
      "source": [
        "## 언패킹"
      ],
      "metadata": {
        "id": "dSF7-9EmNOIX"
      }
    },
    {
      "cell_type": "code",
      "source": [
        "# 패킹 : 1, 2, 3 => [1, 2, 3]\n",
        "# 언패킹 : [1, 2, 3] => 1, 2, 3"
      ],
      "metadata": {
        "id": "Hkubg1x_NPpk"
      },
      "execution_count": null,
      "outputs": []
    },
    {
      "cell_type": "code",
      "source": [
        "a, b, c = 10, 20, 30\n",
        "\n",
        "a"
      ],
      "metadata": {
        "id": "v485Ga2aNYbd"
      },
      "execution_count": null,
      "outputs": []
    },
    {
      "cell_type": "code",
      "source": [
        "a, b, c = (10, 20, 30) # 소괄호든 대괄호든 상관 없습니다.\n",
        "\n",
        "a"
      ],
      "metadata": {
        "id": "KRcXvyRwNjpZ"
      },
      "execution_count": null,
      "outputs": []
    },
    {
      "cell_type": "code",
      "source": [
        "i, j = [10, 20]\n",
        "i"
      ],
      "metadata": {
        "id": "YZmE2OFzNzd3"
      },
      "execution_count": null,
      "outputs": []
    },
    {
      "cell_type": "code",
      "source": [
        "for i, j in [[10, 20], [30, 40], [50,60]]:\n",
        "    print(i, j)"
      ],
      "metadata": {
        "id": "n1EQQFqXN-E_"
      },
      "execution_count": null,
      "outputs": []
    },
    {
      "cell_type": "code",
      "source": [
        "for i, j, k in [[10, 20, [1, 2]], [30, 40, [3, 4]], [50, 60, [5, 6]]]:\n",
        "    print(i, j, k)"
      ],
      "metadata": {
        "id": "A9cKEZDsOJpt"
      },
      "execution_count": null,
      "outputs": []
    },
    {
      "cell_type": "code",
      "source": [
        "for i, j, k in [[10, 20, [1, 2]], [30, 40, [3, 4]], [50, 60, []]]:\n",
        "    print(i, j, k)"
      ],
      "metadata": {
        "id": "QLZalXUQOaF4"
      },
      "execution_count": null,
      "outputs": []
    },
    {
      "cell_type": "code",
      "source": [
        "# swap\n",
        "a = 10\n",
        "b = 15\n",
        "a, b = b, a\n",
        "a, b"
      ],
      "metadata": {
        "id": "pm6VWdAeOkuC"
      },
      "execution_count": null,
      "outputs": []
    },
    {
      "cell_type": "code",
      "source": [
        "# swap in C (신발끈 코드)\n",
        "a = 10\n",
        "b = 15\n",
        "temp = a\n",
        "a = b\n",
        "b = temp\n",
        "a, b"
      ],
      "metadata": {
        "id": "wJCQrzQKOzqn"
      },
      "execution_count": null,
      "outputs": []
    },
    {
      "cell_type": "code",
      "source": [
        "for i, j in d.items():\n",
        "     print(i, j)"
      ],
      "metadata": {
        "id": "u5hjT3-FNH75"
      },
      "execution_count": null,
      "outputs": []
    },
    {
      "cell_type": "markdown",
      "source": [
        "## max를 이용한 dict 최대 value의 key값 가져오기"
      ],
      "metadata": {
        "id": "2DlHfV2bNqaY"
      }
    },
    {
      "cell_type": "code",
      "source": [
        "d = {\n",
        "    'test1' : 10,\n",
        "    'test2' : 20,\n",
        "    'test3' : 31,\n",
        "    'test4' : 11,\n",
        "}\n",
        "\n",
        "max(d.values()) # 이걸로는 먼가 찾아내기 힘듭니다.\n",
        "max(d, key=lambda X: d[x])\n",
        "max(d, key=d.get) # 많이 사용하는 코드입니다."
      ],
      "metadata": {
        "id": "4GNPnkw9PT8h"
      },
      "execution_count": null,
      "outputs": []
    },
    {
      "cell_type": "markdown",
      "source": [
        "## set (셋, 집합)"
      ],
      "metadata": {
        "id": "FU51_ME4QZhH"
      }
    },
    {
      "cell_type": "markdown",
      "source": [
        "* 집합 자료형은 중복을 허용하지 않으며\n",
        "* 순서가 없는 자료형"
      ],
      "metadata": {
        "id": "BNpENiaNRCcZ"
      }
    },
    {
      "cell_type": "code",
      "source": [
        "n = set([1, 1, 2, 2, 3, 3, 4])\n",
        "print(n)"
      ],
      "metadata": {
        "id": "MkePEWp0QvhR"
      },
      "execution_count": null,
      "outputs": []
    },
    {
      "cell_type": "code",
      "source": [
        "s = set('hello world')\n",
        "print(s)"
      ],
      "metadata": {
        "id": "ch75FxuaQ1Fg"
      },
      "execution_count": null,
      "outputs": []
    },
    {
      "cell_type": "code",
      "source": [
        "n = set([1, 1, 2, 2, 3, 3, 4])\n",
        "n.add(1000)\n",
        "print(n)"
      ],
      "metadata": {
        "id": "fX3fKy5VTp2I"
      },
      "execution_count": null,
      "outputs": []
    },
    {
      "cell_type": "code",
      "source": [
        "n = set([1, 1, 2, 2, 3, 3, 4])\n",
        "n.update({10, 20})\n",
        "print(n)"
      ],
      "metadata": {
        "id": "tQRmQVZbT3pK"
      },
      "execution_count": null,
      "outputs": []
    },
    {
      "cell_type": "code",
      "source": [
        "n = set([1, 1, 2, 2, 3, 3, 4])\n",
        "n.remove(1)\n",
        "print(n)"
      ],
      "metadata": {
        "id": "CcM5joN-WZnO"
      },
      "execution_count": null,
      "outputs": []
    },
    {
      "cell_type": "markdown",
      "source": [
        "* pop은 실무에서 잘 사용하지 않습니다. 값을 랜덤하게 뽑아내기 때문입니다. "
      ],
      "metadata": {
        "id": "RTnZZd4EW-OC"
      }
    },
    {
      "cell_type": "code",
      "source": [
        "# 교집합 별 3개\n",
        "a = {1, 2, 3}\n",
        "b = {3, 4, 5}\n",
        "\n",
        "a & b\n",
        "a.intersection(b)"
      ],
      "metadata": {
        "id": "1tfbFFu_XdoS"
      },
      "execution_count": null,
      "outputs": []
    },
    {
      "cell_type": "code",
      "source": [
        "# 합집합\n",
        "a = {1, 2, 3}\n",
        "b = {3, 4, 5}\n",
        "\n",
        "a | b\n",
        "a.union(b)\n",
        "# a + b -> error set은 덧셈안됨"
      ],
      "metadata": {
        "id": "R8wL_0lGXvsW"
      },
      "execution_count": null,
      "outputs": []
    },
    {
      "cell_type": "code",
      "source": [
        "# 차집합\n",
        "a = {1, 2, 3}\n",
        "b = {3, 4, 5}\n",
        "a - b\n",
        "a.difference(b)"
      ],
      "metadata": {
        "id": "61uVtAZRYDX-"
      },
      "execution_count": null,
      "outputs": []
    },
    {
      "cell_type": "code",
      "source": [
        "s ={1, 2, 3, 4}\n",
        "ss = {3, 4, 5, 6}\n",
        "s.issubset({1, 2})\n",
        "s.issubset({1, 2, 3, 4, 5, 6, 7, 8})"
      ],
      "metadata": {
        "id": "EaXaJcIYX2_X"
      },
      "execution_count": null,
      "outputs": []
    },
    {
      "cell_type": "code",
      "source": [
        "# https://school.programmers.co.kr/learn/courses/30/lessons/120903?language=python3\n",
        "def solution(s1, s2):\n",
        "    return len(set(s1) & set(s2))"
      ],
      "metadata": {
        "id": "7yLnY53rheEU"
      },
      "execution_count": null,
      "outputs": []
    },
    {
      "cell_type": "code",
      "source": [
        "# https://school.programmers.co.kr/learn/courses/30/lessons/120888\n",
        "# my_string  \tresult\n",
        "# \"people\"\t    \"peol\""
      ],
      "metadata": {
        "id": "lg1tRYkaQ9zP"
      },
      "execution_count": null,
      "outputs": []
    },
    {
      "cell_type": "code",
      "source": [
        "# my_string  \tresult\n",
        "# \"people\"\t    \"peol\"\n",
        "\n",
        "result = ''\n",
        "for i in 'people':\n",
        "    if i not in result:\n",
        "        result += i\n",
        "result"
      ],
      "metadata": {
        "id": "fB0r7-B9YrYG"
      },
      "execution_count": null,
      "outputs": []
    },
    {
      "cell_type": "code",
      "source": [
        "def solution(my_string):\n",
        "    return set(my_string)\n",
        "\n",
        "solution('people')"
      ],
      "metadata": {
        "id": "FGN1yg7yS0w_"
      },
      "execution_count": null,
      "outputs": []
    },
    {
      "cell_type": "code",
      "source": [
        "def solution(my_string):\n",
        "    return ''.join(set(my_string))\n",
        "\n",
        "solution('people')"
      ],
      "metadata": {
        "id": "mJTczdG8SDre"
      },
      "execution_count": null,
      "outputs": []
    },
    {
      "cell_type": "code",
      "source": [
        "def solution(my_string):\n",
        "    집합 = set(my_string)\n",
        "    result = ''\n",
        "    for i in my_string:\n",
        "        if i in 집합:\n",
        "            result +=i\n",
        "            집합.remove(i)\n",
        "    return result\n",
        "\n",
        "solution('people')"
      ],
      "metadata": {
        "id": "IbTqd9NQTNVA"
      },
      "execution_count": null,
      "outputs": []
    },
    {
      "cell_type": "markdown",
      "source": [
        "## !! 연습문제"
      ],
      "metadata": {
        "id": "RT56uJVgaad3"
      }
    },
    {
      "cell_type": "code",
      "source": [
        "student_score = {\n",
        "        '홍의': 97,\n",
        "        '원희': 60,\n",
        "        '동해': 77,\n",
        "        '변수': 79,\n",
        "        '창현': 89,\n",
        "}\n",
        "\n",
        "총합 = sum(student_score.values())\n",
        "총합\n",
        "\n",
        "평균 = 총합 / len(student_score)\n",
        "평균\n",
        "\n",
        "학생이름 = max(student_score, key=student_score.get)\n",
        "높은점수 = (학생이름, student_score[학생이름])\n",
        "높은점수\n",
        "\n",
        "학생이름2 = min(student_score, key=student_score.get)\n",
        "낮은점수 = (학생이름2, student_score[학생이름2])\n",
        "낮은점수"
      ],
      "metadata": {
        "id": "YjZ_ryLOhZyU"
      },
      "execution_count": null,
      "outputs": []
    },
    {
      "cell_type": "code",
      "source": [
        "like = ['볶음밥', '라면', '국수', '파스타', '치킨', '짜장면', '국밥']\n",
        "dislike = ['국밥', '짬뽕', '찜닭', '파스타', '국수', '카레', '덮밥']\n",
        "\n",
        "a = set(like).difference(set(dislike))\n",
        "list(a)"
      ],
      "metadata": {
        "id": "f-sYXNNwcajk"
      },
      "execution_count": null,
      "outputs": []
    },
    {
      "cell_type": "markdown",
      "source": [
        "## (질의응답) max(student_score, key=student_score.get)"
      ],
      "metadata": {
        "id": "QBjKQpy3iikf"
      }
    },
    {
      "cell_type": "code",
      "source": [
        "def 함수(x):\n",
        "    print(x, ll[x])\n",
        "    return ll[x]\n",
        "\n",
        "l = [2, 4, 5, 3, 6, 0, 7, 1]\n",
        "ll = [10, 20, 30, 40, 50, 60, 70, 80]\n",
        "max(l, key=함수)"
      ],
      "metadata": {
        "id": "ES9h8FcGjP_F"
      },
      "execution_count": null,
      "outputs": []
    },
    {
      "cell_type": "code",
      "source": [
        "def 함수(x):\n",
        "    print(x, len(ll[x]))\n",
        "    return len(ll[x])\n",
        "\n",
        "l = [2, 4, 5, 3, 6, 0, 7, 1]\n",
        "ll = ['hello', 'a', 'bb', 'ccc', 'a', 'bbbb', 'hello world', 'cc']\n",
        "\n",
        "max(l, key=함수)"
      ],
      "metadata": {
        "id": "rl5eu8O_k3gt"
      },
      "execution_count": null,
      "outputs": []
    },
    {
      "cell_type": "code",
      "source": [
        "# return에 초첨을 맞추세요.\n",
        "def 함수(x):\n",
        "    return d.get(x)\n",
        "\n",
        "d = {\n",
        "      'test1': 10,\n",
        "      'test2': 20,\n",
        "      'test3': 31,\n",
        "      'test4': 11,\n",
        "}\n",
        "\n",
        "# max(d, key=함수)\n",
        "# max(d, key=d.get)\n",
        "# max(d, key=lambda x: d[x])"
      ],
      "metadata": {
        "id": "jUtryQHrlasZ"
      },
      "execution_count": null,
      "outputs": []
    },
    {
      "cell_type": "code",
      "source": [
        "# return에 초점을 맞춰주세요.\n",
        "def 함수(x):\n",
        "    return len(x)\n",
        "l = ['a', 'bb', 'ccc', 'dd']\n",
        "\n",
        "max(l, key=함수)\n",
        "max(l, key=len)"
      ],
      "metadata": {
        "id": "JvQAuo4MmmI2"
      },
      "execution_count": null,
      "outputs": []
    },
    {
      "cell_type": "code",
      "source": [
        "def 함수(x):\n",
        "    return d.get(x)\n",
        "\n",
        "수학 = {\n",
        "    '학생1': 10,\n",
        "    '학생2': 20,\n",
        "    '학생3': 31,\n",
        "    '학생4': 11,\n",
        "}\n",
        "\n",
        "과학 = {\n",
        "    '학생1': 11,\n",
        "    '학생2': 17,\n",
        "    '학생3': 13,\n",
        "    '학생4': 11,\n",
        "    '학생5': 25,\n",
        "    '학생6': 100,\n",
        "}\n",
        "\n",
        "수학점수가가장큰사람 = max(수학, key=수학.get)\n",
        "과학점수가가장큰사람 = max(과학, key=과학.get)\n",
        "max(수학, key=과학.get)"
      ],
      "metadata": {
        "id": "ozLfxt-2nfLd"
      },
      "execution_count": null,
      "outputs": []
    },
    {
      "cell_type": "code",
      "source": [
        "max(student_score, key=student_score.get)"
      ],
      "metadata": {
        "id": "vrPQKDidjcrl"
      },
      "execution_count": null,
      "outputs": []
    },
    {
      "cell_type": "markdown",
      "source": [
        "## (질의응답) 함수의 아규먼트 순서"
      ],
      "metadata": {
        "id": "_-4ER_kKi7Z9"
      }
    },
    {
      "cell_type": "code",
      "source": [
        "def f(a, b, c):\n",
        "    print(a, b, c)\n",
        "\n",
        "# f() # error\n",
        "# f(100, 10) # error\n",
        "f(a=100, b=200, c=300)\n",
        "f(c=300, a=100, b=200) #실무에서 이렇게 순서를 바꿔서 넣지 않고 보통 순서를 지켜줍니다.\n",
        "\n",
        "# 실무에서 언제 사용이 될까요?\n",
        "# 파라미터, 아규먼츠가 매우 많을 때\n",
        "# 이런 함수가 나오면 이 함수가 무엇을 뜻하는 것일까요?\n",
        "# addNewControl(\"Title\", 20, 50, 100, 50, 200, 300, 150)\n",
        "# addNewControl(title=\"Title\", height=20, width=50, textlen = 100, ...)\n",
        "# 어? 컨트롤 박스를 만드는 구나..."
      ],
      "metadata": {
        "id": "3z7EGAGrpgs1"
      },
      "execution_count": null,
      "outputs": []
    },
    {
      "cell_type": "code",
      "source": [
        "def f(a=10, b=20, c=30):\n",
        "    print(a, b, c)\n",
        "\n",
        "f()\n",
        "f(100, 10)\n",
        "f(a=100, b=200, c=300)\n",
        "f(c=300, a=100, b=200)"
      ],
      "metadata": {
        "id": "-qcLeN7OrGVd"
      },
      "execution_count": null,
      "outputs": []
    },
    {
      "cell_type": "code",
      "source": [
        "def f(a=10, b=20, c): # c만 default value를 안주게 되면 error, 순서대로 안주어야 합니다.\n",
        "    print(a, b, c)\n",
        "\n",
        "# f() # error\n",
        "# f(100, 10) # error\n",
        "# f(a=100, b=200, c=300) # error\n",
        "# f(c=300, a=100, b=200) # error\n",
        "# f(c=300) # error"
      ],
      "metadata": {
        "id": "-AvsGamhreiE"
      },
      "execution_count": null,
      "outputs": []
    },
    {
      "cell_type": "code",
      "source": [
        "def f(a, b=20, c=10): # 순서대로 안주어야 하기 때문에 a에 값을 넣지 않았습니다.\n",
        "    print(a, b, c)\n",
        "\n",
        "# f() # error\n",
        "f(100, 10)\n",
        "f(a=100, b=200, c=300)\n",
        "f(c=300, a=100, b=200)"
      ],
      "metadata": {
        "id": "Sxdvu8mqr5SU"
      },
      "execution_count": null,
      "outputs": []
    },
    {
      "cell_type": "markdown",
      "source": [
        "## (질의응답) zip, map 등 한 번 순회가 되면 순회가 안되는 이유"
      ],
      "metadata": {
        "id": "lene-oxPi2H9"
      }
    },
    {
      "cell_type": "code",
      "source": [
        "a = [1, 2, 3]\n",
        "b = ['a', 'b', 'c']\n",
        "\n",
        "z = zip(a, b)\n",
        "print(list(z)) # [(1, 'a'), (2, 'b'), (3, 'c')]\n",
        "\n",
        "# zip 객체는 한 번 사용되었으므로 빈 리스트가 반환됩니다.\n",
        "print(list(z)) # []"
      ],
      "metadata": {
        "id": "lCNmp7F0vNoj"
      },
      "execution_count": null,
      "outputs": []
    },
    {
      "cell_type": "code",
      "source": [
        "li = [1, 2, 3]\n",
        "st = ['a', 'b', 'c']\n",
        "z = zip(li, st)\n",
        "\n",
        "for i in z:\n",
        "    print(i)\n",
        "\n",
        "for i in z:\n",
        "    print(i)"
      ],
      "metadata": {
        "id": "gFDEOgb6vyjT"
      },
      "execution_count": null,
      "outputs": []
    },
    {
      "cell_type": "code",
      "source": [
        "li = [1, 2, 3]\n",
        "st = ['a', 'b', 'c']\n",
        "i = iter(zip(li, st))\n",
        "next(i)\n",
        "# next(i)\n",
        "# next(i)\n",
        "# next(i) # StopIteration"
      ],
      "metadata": {
        "id": "PE_jwSx5v3iV"
      },
      "execution_count": null,
      "outputs": []
    },
    {
      "cell_type": "code",
      "source": [
        "next(i)"
      ],
      "metadata": {
        "id": "wUOBwZOlwLsT"
      },
      "execution_count": null,
      "outputs": []
    },
    {
      "cell_type": "code",
      "source": [
        "next(i)"
      ],
      "metadata": {
        "id": "0-whiMrLwNJz"
      },
      "execution_count": null,
      "outputs": []
    },
    {
      "cell_type": "code",
      "source": [
        "next(i) # error -> StopIteration 발생 (반복문 탈출)"
      ],
      "metadata": {
        "id": "vp7sQ0sKwO8q"
      },
      "execution_count": null,
      "outputs": []
    },
    {
      "cell_type": "code",
      "source": [
        "# zip 처럼 한번 순회하면 끝임 - map, reversed, filter\n",
        "li = [1, 2, 3]\n",
        "z = map(lambda x:x**2, li)\n",
        "\n",
        "for i in z:\n",
        "    print(i)\n",
        "\n",
        "for i in z:\n",
        "    print(i)"
      ],
      "metadata": {
        "id": "FwZXvQjnwiEb"
      },
      "execution_count": null,
      "outputs": []
    },
    {
      "cell_type": "code",
      "source": [
        "li = [1, 2, 3]\n",
        "z = reversed(li)\n",
        "\n",
        "for i in z:\n",
        "    print(i)\n",
        "\n",
        "for i in z:\n",
        "    print(i)"
      ],
      "metadata": {
        "id": "zNnnCmRPwjU8"
      },
      "execution_count": null,
      "outputs": []
    },
    {
      "cell_type": "code",
      "source": [
        "li = [1, 2, 3]\n",
        "z = filter(lambda x:x>1, li)\n",
        "\n",
        "for i in z:\n",
        "    print(i)\n",
        "\n",
        "for i in z:\n",
        "    print(i)"
      ],
      "metadata": {
        "id": "OdWbci43wthy"
      },
      "execution_count": null,
      "outputs": []
    },
    {
      "cell_type": "code",
      "source": [
        "# 계속 순회가 가능하게 설계가 되어 있습니다.\n",
        "# 이런 설계를 뒤에서 우리가 직접 해보게 될 것입니다.\n",
        "li = [1, 2, 3]\n",
        "z = sorted(li)\n",
        "\n",
        "for i in z:\n",
        "    print(i)\n",
        "\n",
        "for i in z:\n",
        "    print(i)"
      ],
      "metadata": {
        "id": "QFfwu8t2wxXx"
      },
      "execution_count": null,
      "outputs": []
    },
    {
      "cell_type": "markdown",
      "source": [
        "## 조건문"
      ],
      "metadata": {
        "id": "4Acmpf4Exa_k"
      }
    },
    {
      "cell_type": "markdown",
      "source": [
        "* if, elif, else, continue, break"
      ],
      "metadata": {
        "id": "7bQ6sSydxfb6"
      }
    },
    {
      "cell_type": "code",
      "source": [
        "x = 2\n",
        "if x > 1 and x < 10:\n",
        "    print('Hello')"
      ],
      "metadata": {
        "id": "_RkjLANszE5j"
      },
      "execution_count": null,
      "outputs": []
    },
    {
      "cell_type": "code",
      "source": [
        "if True:\n",
        "    print('Hello')"
      ],
      "metadata": {
        "id": "E5c2yjX2zYWq"
      },
      "execution_count": null,
      "outputs": []
    },
    {
      "cell_type": "code",
      "source": [
        "if 12309:\n",
        "    print('Hello')"
      ],
      "metadata": {
        "id": "uHu2fHO9zb_0"
      },
      "execution_count": null,
      "outputs": []
    },
    {
      "cell_type": "code",
      "source": [
        "def f():\n",
        "    return False # True 와 False로 바꿔보세요.\n",
        "\n",
        "if f():\n",
        "    print('hello')\n",
        "    print('one')\n",
        "print('two')"
      ],
      "metadata": {
        "id": "qRC_Cdxpzf7B"
      },
      "execution_count": null,
      "outputs": []
    },
    {
      "cell_type": "code",
      "source": [
        "if '': # [], {}, '' 는 모두 False 취급합니다.\n",
        "    print('hello')\n",
        "    print('one')\n",
        "print('two')"
      ],
      "metadata": {
        "id": "EpcKUF5Oz44c"
      },
      "execution_count": null,
      "outputs": []
    },
    {
      "cell_type": "code",
      "source": [
        "if ' ': # 공백이 있는 겁니다.\n",
        "    print('hello')\n",
        "    print('one')\n",
        "print('two')"
      ],
      "metadata": {
        "id": "EY1szqjS0J3p"
      },
      "execution_count": null,
      "outputs": []
    },
    {
      "cell_type": "code",
      "source": [
        "if [                ]:\n",
        "    print('hello')\n",
        "    print('one')\n",
        "print('two')"
      ],
      "metadata": {
        "id": "QxVUTpkI0M4p"
      },
      "execution_count": null,
      "outputs": []
    },
    {
      "cell_type": "code",
      "source": [
        "if [,]: # error -> SyntaxError\n",
        "    print('hello')\n",
        "    print('one')\n",
        "print('two')"
      ],
      "metadata": {
        "id": "9ikANUHU0Ydr"
      },
      "execution_count": null,
      "outputs": []
    },
    {
      "cell_type": "code",
      "source": [
        "if [10,\n",
        "    20,\n",
        "    30,\n",
        "    ]: # 마지막에 콤마는 허락합니다.! 소괄호, 중괄호, 대괄호에 콤마 뒤에 오는 공백은 병합합니다.\n",
        "    print('hello')\n",
        "    print('one')\n",
        "print('two')"
      ],
      "metadata": {
        "id": "ErLzdnsO0hpK"
      },
      "execution_count": null,
      "outputs": []
    },
    {
      "cell_type": "code",
      "source": [
        "if None:\n",
        "    print('false')"
      ],
      "metadata": {
        "id": "jreNOuMi2ajL"
      },
      "execution_count": null,
      "outputs": []
    },
    {
      "cell_type": "code",
      "source": [
        "class int(int):\n",
        "    def __eq__(self, next): # 등호(==)같이 true로 출력하겠다는 것\n",
        "        return True\n",
        "\n",
        "if int('11') == int('10'):\n",
        "    print('hello')"
      ],
      "metadata": {
        "id": "utxUIB7D1XDC"
      },
      "execution_count": null,
      "outputs": []
    },
    {
      "cell_type": "code",
      "source": [
        "if 10 > 11:\n",
        "    print('one')\n",
        "    print('two')\n",
        "print('three')\n",
        "else: #error\n",
        "    print('four')"
      ],
      "metadata": {
        "id": "AHZqxpjj1aVe"
      },
      "execution_count": null,
      "outputs": []
    },
    {
      "cell_type": "code",
      "source": [
        "if 10 > 11:\n",
        "    print('one')\n",
        "    print('two')\n",
        "else: \n",
        "    print('three')"
      ],
      "metadata": {
        "id": "E5vVLfDk2xRH"
      },
      "execution_count": null,
      "outputs": []
    },
    {
      "cell_type": "code",
      "source": [
        "# else가 없어도 되는 경우\n",
        "def f():\n",
        "    if 10 > 11:\n",
        "        return 'one'\n",
        "    return 'two'\n",
        "\n",
        "print(f())\n"
      ],
      "metadata": {
        "id": "mDhDr7hH3NQr"
      },
      "execution_count": null,
      "outputs": []
    },
    {
      "cell_type": "code",
      "source": [
        "# if문을 단축할 수 있는 방법 =>\n",
        "# 가독성이 좋아지는 것을 선택하세요! 정답은 없습니다.\n",
        "# and 구문으로 if문 합칠 수 있습니다.\n",
        "x = 10\n",
        "if x > 5:\n",
        "    if type(x) == int:\n",
        "        print('one')\n",
        "\n",
        "if x > 5 and type(x) == int:\n",
        "    print('one')"
      ],
      "metadata": {
        "id": "W45oNElr3dmx"
      },
      "execution_count": null,
      "outputs": []
    },
    {
      "cell_type": "code",
      "source": [
        "# if문을 단축할 수 있는 방법 =>\n",
        "# 가독성이 좋아지는 것을 선택하세요! 정답은 없습니다.\n",
        "# and 구문으로 if문 합칠 수 있습니다.\n",
        "x = 10\n",
        "if x > 5:\n",
        "    if type(x) == int:\n",
        "        if x % 2 == 0:\n",
        "            print('one')\n",
        "\n",
        "if x > 5 and type(x) == int and x % 2 == 0:\n",
        "    print('one')"
      ],
      "metadata": {
        "id": "xZOhzxzl4PB5"
      },
      "execution_count": null,
      "outputs": []
    },
    {
      "cell_type": "code",
      "source": [
        "if True:\n",
        "    print('Hello')\n",
        "else:\n",
        "    print('Hello')\n",
        "else: # error\n",
        "    print('Hello')\n",
        "else:\n",
        "    print('Hello')"
      ],
      "metadata": {
        "id": "JWXWFjic5OxB"
      },
      "execution_count": null,
      "outputs": []
    },
    {
      "cell_type": "code",
      "source": [
        "if True:\n",
        "    print('Hello')\n",
        "if True:\n",
        "    print('Hello')\n",
        "if True:\n",
        "    print('Hello')\n",
        "if True:\n",
        "    print('Hello')\n",
        "else:\n",
        "    print('hello')"
      ],
      "metadata": {
        "id": "-iRHvpOu5cta"
      },
      "execution_count": null,
      "outputs": []
    },
    {
      "cell_type": "code",
      "source": [
        "if True:\n",
        "    print('hello')\n",
        "elif True:\n",
        "    print('hello')\n",
        "elif True:\n",
        "    print('hello')\n",
        "else:\n",
        "    print('hello')"
      ],
      "metadata": {
        "id": "FRVuUOJY5oJx"
      },
      "execution_count": null,
      "outputs": []
    },
    {
      "cell_type": "code",
      "source": [
        "elif True: # error -> 위에 구문이 있어야 합니다.\n",
        "    print('hello')\n",
        "elif True:\n",
        "    print('hello')\n",
        "else:\n",
        "    print('hello')"
      ],
      "metadata": {
        "id": "7cO3zU5u5q2A"
      },
      "execution_count": null,
      "outputs": []
    },
    {
      "cell_type": "markdown",
      "source": [
        "## if문 심화"
      ],
      "metadata": {
        "id": "rpfzLrA65vMQ"
      }
    },
    {
      "cell_type": "code",
      "source": [
        "# 저는 개인적으로 해당 문법이 가독성을 떨어트린다고 생각해\n",
        "# 권장하진 않습니다.\n",
        "if 10 > 5: print('hello') # 1줄에 사용하는 것이 가능합니다."
      ],
      "metadata": {
        "id": "0ruVBFXQ6Hno"
      },
      "execution_count": null,
      "outputs": []
    },
    {
      "cell_type": "code",
      "source": [
        "if 1 > 5: print('hello')\n",
        "elif 5 > 1: print('world')"
      ],
      "metadata": {
        "id": "1u7AEfZ18wMZ"
      },
      "execution_count": null,
      "outputs": []
    },
    {
      "cell_type": "code",
      "source": [
        "if 1 > 5: print('hello')\n",
        "elif 1 > 5: print('world')\n",
        "else: print('hello world')"
      ],
      "metadata": {
        "id": "zljZbTgX9BaX"
      },
      "execution_count": null,
      "outputs": []
    },
    {
      "cell_type": "code",
      "source": [
        "# 3항 연산자는 가독성을 해치지 않는 선에서 많이 사용합니다.\n",
        "print('one') if 5 > 1 else print('two')"
      ],
      "metadata": {
        "id": "ZM17jqZ79OeJ"
      },
      "execution_count": null,
      "outputs": []
    },
    {
      "cell_type": "code",
      "source": [
        "(print('one') if 5 > 1 else print('two'))"
      ],
      "metadata": {
        "id": "d1WXhjsi9e5x"
      },
      "execution_count": null,
      "outputs": []
    },
    {
      "cell_type": "code",
      "source": [
        "# error -> 이렇게 사용하지 않습니다!\n",
        "if 5 > 1 print('one') else print('two') "
      ],
      "metadata": {
        "id": "FRtlN75s90YQ"
      },
      "execution_count": null,
      "outputs": []
    },
    {
      "cell_type": "code",
      "source": [
        "if 5 > 1:\n",
        "    print('one')\n",
        "else:\n",
        "    print('two')"
      ],
      "metadata": {
        "id": "TM3MNv7T993Z"
      },
      "execution_count": null,
      "outputs": []
    },
    {
      "cell_type": "code",
      "source": [
        "# 할당이나 return에서 많이 사용합니다.\n",
        "# 할당이나 return을 할 때 어떤 조건을 달고 싶을 때\n",
        "# 그런데 일반 if문과 else문이 거창하다고 생각이 되었을 때\n",
        "\n",
        "y = 100\n",
        "x = 'one' if y > 80 else None"
      ],
      "metadata": {
        "id": "1zZ7KjPJ-HO0"
      },
      "execution_count": null,
      "outputs": []
    },
    {
      "cell_type": "code",
      "source": [
        "x"
      ],
      "metadata": {
        "id": "XxZdEDZA-XSv"
      },
      "execution_count": null,
      "outputs": []
    },
    {
      "cell_type": "code",
      "source": [
        "def f(y):\n",
        "    if y > 80:\n",
        "        x = 'one'\n",
        "    else:\n",
        "        x = None\n",
        "    return x\n",
        "\n",
        "print(f(100))\n",
        "print(f(30))"
      ],
      "metadata": {
        "id": "SKv3TaxS-kdX"
      },
      "execution_count": null,
      "outputs": []
    },
    {
      "cell_type": "code",
      "source": [
        "def f(y):\n",
        "    return 'one' if y > 80 else None\n",
        "\n",
        "print(f(100))\n",
        "print(f(30))"
      ],
      "metadata": {
        "id": "WPZERH6k_Klj"
      },
      "execution_count": null,
      "outputs": []
    },
    {
      "cell_type": "code",
      "source": [
        "def f(y):\n",
        "    if y > 80:\n",
        "        return 'one'\n",
        "    return None\n",
        "\n",
        "print(f(100))\n",
        "print(f(30))"
      ],
      "metadata": {
        "id": "G-0v4T1q_ga_"
      },
      "execution_count": null,
      "outputs": []
    },
    {
      "cell_type": "code",
      "source": [
        "score = 81\n",
        "money = 0\n",
        "\n",
        "if score >= 90: # 만약에 조건이 참이라면\n",
        "    print('mom : i\\'m so happy!')\n",
        "    money += 1000000\n",
        "elif score >= 80: # 그렇지 않고 만약에 조건이 참이라면\n",
        "    print('mom : i\\'m happy!')\n",
        "    money += 100000\n",
        "elif score >= 70: # '그렇지 않고 만약에' '그렇지 않고'가 만족이 안되기 때문에 실행 x (조건 조차 안읽음)\n",
        "    print('mom : i\\'m so...!')\n",
        "    money += 10000\n",
        "elif score >= 60:\n",
        "    print('mom : i\\'m so...!')\n",
        "    money += 1000\n",
        "else:\n",
        "    print('mom : i\\'m...!')\n",
        "print(money)\n",
        "\n",
        "# if, elif, else 구문은 함께 썼다면 한 덩어리 입니다.\n",
        "# 하나만 실행이 되고 나머지는 실행이 되지 않습니다."
      ],
      "metadata": {
        "id": "yYc0L5Lexdia"
      },
      "execution_count": null,
      "outputs": []
    },
    {
      "cell_type": "code",
      "source": [
        "def custom_sum(x):\n",
        "    return sum(x)\n",
        "\n",
        "custom_sum([1, 2, 3, 4, 5, 6]) # 21\n",
        "custom_sum([1, 2, 3, 4, '5', 6]) # float('inf')"
      ],
      "metadata": {
        "id": "GLVKLI48zAlC"
      },
      "execution_count": null,
      "outputs": []
    },
    {
      "cell_type": "code",
      "source": [
        "# 이해를 위해 만든 예제이지 효율적이진 않습니다.\n",
        "def custom_sum(x):\n",
        "    return sum(x) if len(list(filter(lambda x:type(x)==int, x))) == len(x) else float('inf')\n",
        "\n",
        "custom_sum([1, 2, 3, 4, 5, 6]) # 21\n",
        "custom_sum([1, 2, 3, 4, '5', 6]) # float('inf')"
      ],
      "metadata": {
        "id": "MXfEMKHBAVFH"
      },
      "execution_count": null,
      "outputs": []
    },
    {
      "cell_type": "code",
      "source": [
        "l = [1, 2, 3, '4', '5']\n",
        "list(filter(lambda x:type(x)==int, l))\n",
        "len(list(filter(lambda x:type(x)==int, l)))\n",
        "\n",
        "len(l)"
      ],
      "metadata": {
        "id": "B4ZkUOX-Az9m"
      },
      "execution_count": null,
      "outputs": []
    },
    {
      "cell_type": "code",
      "source": [
        "# 문제 : 다음 if문을 3항 연산자로 표현해주세요.\n",
        "# if x % 2 == 0:\n",
        "#     홀짝여부 = '짝수'\n",
        "# else:\n",
        "#     홀짝여부 = '홀수'\n",
        "\n",
        "x = 10\n",
        "홀짝여부 = '짝수' if x % 2 == 0 else '홀수'\n",
        "\n",
        "print(홀짝여부)"
      ],
      "metadata": {
        "id": "lMAlz8IOCT8X"
      },
      "execution_count": null,
      "outputs": []
    },
    {
      "cell_type": "code",
      "source": [
        "# 지금하는 것은 위 보다 빈도도 거의 없습니다.\n",
        "# 3항 연산자의 중첩\n",
        "# '조건1이 True일 때' if '조건1' else '조건2가 True일 때' if '조건 2' else '조건 1, 조건2가 False 일 때'\n",
        "\n"
      ],
      "metadata": {
        "id": "excFdsCpD5Nm"
      },
      "execution_count": null,
      "outputs": []
    },
    {
      "cell_type": "code",
      "source": [
        "# '조건1이 True일 때' \n",
        "# if '조건1' \n",
        "# else '조건1이 false이고 조건2가 True일 때' \n",
        "#     if '조건 2' \n",
        "#     else '조건 1, 조건2가 False 일 때'"
      ],
      "metadata": {
        "id": "M-dRwzZNESvg"
      },
      "execution_count": null,
      "outputs": []
    },
    {
      "cell_type": "code",
      "source": [
        "x = 15\n",
        "if x % 2 == 0:\n",
        "    배수 = '2x' # 2의 배수\n",
        "elif x % 3 == 0:\n",
        "    배수 = '3x' # 3의 배수\n",
        "else:\n",
        "    배수 = '?' # 2의 배수도 아니고 3의 배수도 아니다"
      ],
      "metadata": {
        "id": "4SnrLZ2AEodm"
      },
      "execution_count": null,
      "outputs": []
    },
    {
      "cell_type": "code",
      "source": [
        "x = 15\n",
        "배수 = '2x' if x % 2 == 0 else '3x' if x % 3 == 0 else '?'\n",
        "배수"
      ],
      "metadata": {
        "id": "19qPuZ6lFH9f"
      },
      "execution_count": null,
      "outputs": []
    },
    {
      "cell_type": "markdown",
      "source": [
        "## 반복문"
      ],
      "metadata": {
        "id": "GMeTp-lUFyX_"
      }
    },
    {
      "cell_type": "code",
      "source": [
        "# for 변수 in 순회가능한객체:\n",
        "#     code"
      ],
      "metadata": {
        "id": "5yoX6JlFF0Xd"
      },
      "execution_count": null,
      "outputs": []
    },
    {
      "cell_type": "code",
      "source": [
        "# 순회가능한 객체 != 시퀀스형자료형 => 순서가 없어도 순회가 가능하기 때문 시퀀스형 자료형은 순회가능한 객체에 포함"
      ],
      "metadata": {
        "id": "TFdgdsaOGamm"
      },
      "execution_count": null,
      "outputs": []
    },
    {
      "cell_type": "code",
      "source": [
        "for i in 'hello world':\n",
        "    print(i)"
      ],
      "metadata": {
        "id": "fh2Xy3jNGfIW"
      },
      "execution_count": null,
      "outputs": []
    },
    {
      "cell_type": "code",
      "source": [
        "for i in 10: # error\n",
        "    print(i)"
      ],
      "metadata": {
        "id": "WYP2OUDEGvM_"
      },
      "execution_count": null,
      "outputs": []
    },
    {
      "cell_type": "code",
      "source": [
        "for i in 10.1: # error\n",
        "    print(i)"
      ],
      "metadata": {
        "id": "FQx7DOynG2J9"
      },
      "execution_count": null,
      "outputs": []
    },
    {
      "cell_type": "code",
      "source": [
        "for i in [1, 2, 3]:\n",
        "    print(i)"
      ],
      "metadata": {
        "id": "NUa9npNGG6H-"
      },
      "execution_count": null,
      "outputs": []
    },
    {
      "cell_type": "code",
      "source": [
        "for i in (1, 2, 3):\n",
        "    print(i)"
      ],
      "metadata": {
        "id": "Fbshi6bcG96Y"
      },
      "execution_count": null,
      "outputs": []
    },
    {
      "cell_type": "code",
      "source": [
        "for i in {1, 2, 3}:\n",
        "    print(i)"
      ],
      "metadata": {
        "id": "P_k9L4RSG_3U"
      },
      "execution_count": null,
      "outputs": []
    },
    {
      "cell_type": "code",
      "source": [
        "for i in {'one': 1, 'two':2, 'three':3}:\n",
        "    print(i)"
      ],
      "metadata": {
        "id": "_Jh5eOimHD-V"
      },
      "execution_count": null,
      "outputs": []
    },
    {
      "cell_type": "code",
      "source": [
        "# 변수에는 range, enumerate, zip, map, sorted, reversed...\n",
        "for i in range(10):\n",
        "    print(i)"
      ],
      "metadata": {
        "id": "jYbB1g7THLuO"
      },
      "execution_count": null,
      "outputs": []
    },
    {
      "cell_type": "code",
      "source": [
        "언어순위 = ['Python', 'JavaScript', 'JAVA', 'Ruby']\n",
        "for i in 언어순위:\n",
        "    print(i)"
      ],
      "metadata": {
        "id": "F9_Eyz5THe9V"
      },
      "execution_count": null,
      "outputs": []
    },
    {
      "cell_type": "code",
      "source": [
        "언어순위 = ['Python', 'JavaScript', 'JAVA', 'Ruby']\n",
        "for i in enumerate(언어순위):\n",
        "    print(i)"
      ],
      "metadata": {
        "id": "X7QDwAZeHwP1"
      },
      "execution_count": null,
      "outputs": []
    },
    {
      "cell_type": "code",
      "source": [
        "언어순위 = ['Python', 'JavaScript', 'JAVA', 'Ruby']\n",
        "for i in enumerate(언어순위, 1):\n",
        "    print(i)"
      ],
      "metadata": {
        "id": "Fjez8fCOH4TX"
      },
      "execution_count": null,
      "outputs": []
    },
    {
      "cell_type": "code",
      "source": [
        "언어순위 = ['Python', 'JavaScript', 'JAVA', 'Ruby']\n",
        "for i in enumerate(언어순위, 101):\n",
        "    print(i)"
      ],
      "metadata": {
        "id": "DWph7wv3H8N_"
      },
      "execution_count": null,
      "outputs": []
    },
    {
      "cell_type": "code",
      "source": [
        "언어순위 = ['Python', 'JavaScript', 'JAVA', 'Ruby']\n",
        "for i, j in enumerate(언어순위, 1):\n",
        "    print(i, j)"
      ],
      "metadata": {
        "id": "TQI5G_ebIBCv"
      },
      "execution_count": null,
      "outputs": []
    },
    {
      "cell_type": "code",
      "source": [
        "for _ in 순화가능한객체:\n",
        "    print(_)"
      ],
      "metadata": {
        "id": "PhFVe1kK1EbR"
      },
      "execution_count": null,
      "outputs": []
    },
    {
      "cell_type": "code",
      "source": [
        "for _ in range(3): # 언더바(_)는 해당 코드 내에서 변수를 사용하지 않겠다는 의미이기도 함\n",
        "    print('hello world')"
      ],
      "metadata": {
        "id": "vbYZoPCW1LgR"
      },
      "execution_count": null,
      "outputs": []
    },
    {
      "cell_type": "code",
      "source": [
        "for _, i in [[1, 2], [3, 4], [5, 6]]: \n",
        "    print('hello world')\n",
        "    print(i)"
      ],
      "metadata": {
        "id": "5gu6WNPL1U7H"
      },
      "execution_count": null,
      "outputs": []
    },
    {
      "cell_type": "code",
      "source": [
        "s = 0\n",
        "for i in range(0, 101, 2):\n",
        "    s += i\n",
        "\n",
        "s"
      ],
      "metadata": {
        "id": "CpZW8QvU10xl"
      },
      "execution_count": null,
      "outputs": []
    },
    {
      "cell_type": "code",
      "source": [
        "listx= [100,200,300,400]\n",
        "strx= 'abcd'\n",
        "dictx = {'one':1, 'two':2}\n",
        "\n",
        "listxlter = iter(listx)\n",
        "strxlter= iter(strx)\n",
        "dictxlter= iter(dictx)\n",
        "\n",
        "# 시퀀스형 자료형에만 next가 되는 것이 아니고 \n",
        "# next 다음 순회 값을 지정할 뿐입니다.\n",
        "print(next(listxlter), next(listxlter), next(listxlter), next(listxlter))\n",
        "print(next(strxlter), next(strxlter), next(strxlter), next(strxlter))\n",
        "print(next(dictxlter), next(dictxlter))"
      ],
      "metadata": {
        "id": "wcxh1jML2HeK"
      },
      "execution_count": null,
      "outputs": []
    },
    {
      "cell_type": "code",
      "source": [
        "# for True : # 이렇게 사용하지는 못합니다.\n",
        "#     print('Hello')"
      ],
      "metadata": {
        "id": "qRI3C47Z2LPf"
      },
      "execution_count": null,
      "outputs": []
    },
    {
      "cell_type": "markdown",
      "source": [
        "## break과 continue"
      ],
      "metadata": {
        "id": "NsPLdSoN3Tgt"
      }
    },
    {
      "cell_type": "code",
      "source": [
        "for i in range(10):\n",
        "    print(i)\n",
        "    if i == 5:\n",
        "        break"
      ],
      "metadata": {
        "id": "NQWYZgJX3SpZ"
      },
      "execution_count": null,
      "outputs": []
    },
    {
      "cell_type": "code",
      "source": [
        "# 모든 for가 중단이 되는 것은 아니다!\n",
        "# 자신을 감싸고 있는 단일 반복문만 탈출합니다.\n",
        "for i in range(10):\n",
        "    print('-----------')\n",
        "    print(i)\n",
        "    for j in range(10):\n",
        "        print(i, j)\n",
        "        if i == 5:\n",
        "            break"
      ],
      "metadata": {
        "id": "9ID0XqJX3xHo"
      },
      "execution_count": null,
      "outputs": []
    },
    {
      "cell_type": "code",
      "source": [
        "# continue는 다음 루프로 갑니다.\n",
        "# 아래 코드에서 continue는 의미가 업습니다.\n",
        "for i in range(10):\n",
        "    print(i)\n",
        "    if i == 5:\n",
        "        continue"
      ],
      "metadata": {
        "id": "7jiHa9lz5BSe"
      },
      "execution_count": null,
      "outputs": []
    },
    {
      "cell_type": "code",
      "source": [
        "# continue는 다음 루프로 갑니다.\n",
        "# 아래 코드에서 continue는 아래 print를 실행시키지 않고\n",
        "for i in range(10):\n",
        "    if i == 5:\n",
        "        continue\n",
        "    print(i)"
      ],
      "metadata": {
        "id": "4fi_Tmrr5Z_O"
      },
      "execution_count": null,
      "outputs": []
    },
    {
      "cell_type": "code",
      "source": [
        "# 실행과 동시에 정지를 눌러주세요.\n",
        "# 무한반복입니다.\n",
        "# 아래 코드는 효율적이지 못하니\n",
        "# 뒤에서 배울 generator로 무한 반복을 구현해주세요.\n",
        "l = [1]\n",
        "for i in l:\n",
        "    l.append(i+1)\n",
        "    print(i)"
      ],
      "metadata": {
        "id": "PHFDK38374jG"
      },
      "execution_count": null,
      "outputs": []
    },
    {
      "cell_type": "markdown",
      "source": [
        "## for와 else구문\n"
      ],
      "metadata": {
        "id": "YRrplYrN6SMP"
      }
    },
    {
      "cell_type": "code",
      "source": [
        "# 다른 언어에서는 이 구문이 작동되지 않습니다.\n",
        "for i in range(10):\n",
        "    if i == 5:\n",
        "        break\n",
        "else:\n",
        "    print('정상종료!')"
      ],
      "metadata": {
        "id": "jW0raXvU6UL9"
      },
      "execution_count": null,
      "outputs": []
    },
    {
      "cell_type": "code",
      "source": [
        "# 반복문 + else구문은\n",
        "# 반복문이 break를 쓰지 않고 정상 종료되었을 때\n",
        "# else 구문이 실행됩니다.\n",
        "for i in range(10):\n",
        "    if i == 5:\n",
        "        pass\n",
        "else:\n",
        "    print('정상종료!')"
      ],
      "metadata": {
        "id": "43l5YX626uOG"
      },
      "execution_count": null,
      "outputs": []
    },
    {
      "cell_type": "code",
      "source": [
        "# JAVA와 다르게 증감식 구조가 다름!\n",
        "# 조건에 의해 i 증가시키고 싶으면 그냥 while문 사용\n",
        "for i in range(0, 10, 2):\n",
        "    print(i)"
      ],
      "metadata": {
        "id": "19nGatRc7T9o"
      },
      "execution_count": null,
      "outputs": []
    },
    {
      "cell_type": "markdown",
      "source": [
        "## 리스트 표현식(list conprehension)"
      ],
      "metadata": {
        "id": "xSzAlyBF5kNI"
      }
    },
    {
      "cell_type": "code",
      "source": [
        "# 별 3.5개\n",
        "# 리스트 안에 반복문이나 조건문을 넣어 한 번에 리스트를 생성하는 기법\n",
        "# 리스트 표현식은 for문보다 빠릅니다! (가독성 + 속도우위)\n",
        "l = []\n",
        "for i in range(10):\n",
        "    l.append(i)\n",
        "l"
      ],
      "metadata": {
        "id": "loAbjSx05oZv"
      },
      "execution_count": null,
      "outputs": []
    },
    {
      "cell_type": "code",
      "source": [
        "[i for i in range(10)]"
      ],
      "metadata": {
        "id": "t_AY4sch9hWe"
      },
      "execution_count": null,
      "outputs": []
    },
    {
      "cell_type": "code",
      "source": [
        "# 이정도만 하실 수 있으면 우리 수업에서는 문제 없습니다.\n",
        "l = []\n",
        "for i in range(10):\n",
        "    if i % 2 == 0:\n",
        "        l.append(i)\n",
        "l"
      ],
      "metadata": {
        "id": "HeU4C13Y98d_"
      },
      "execution_count": null,
      "outputs": []
    },
    {
      "cell_type": "code",
      "source": [
        "[i for i in range(10) if i % 2 == 0]"
      ],
      "metadata": {
        "id": "wc7rGIW1-JO1"
      },
      "execution_count": null,
      "outputs": []
    },
    {
      "cell_type": "code",
      "source": [
        "l = ['aa', 'abc', 'bbb', 'ccc', 'aba']\n",
        "[i for i in l if 'a' in i]"
      ],
      "metadata": {
        "id": "2wG_Fkvz-2IN"
      },
      "execution_count": null,
      "outputs": []
    },
    {
      "cell_type": "code",
      "source": [
        "l = []\n",
        "for i in range(10):\n",
        "    if i % 2 == 0:\n",
        "        l.append(i)\n",
        "    elif i % 3 == 0:\n",
        "        l.append(i)\n",
        "l"
      ],
      "metadata": {
        "id": "AKDP7rQM_FAd"
      },
      "execution_count": null,
      "outputs": []
    },
    {
      "cell_type": "code",
      "source": [
        "l = []\n",
        "for i in range(10):\n",
        "    if i % 2 == 0 or i % 3 == 0:\n",
        "        l.append(i)\n",
        "l"
      ],
      "metadata": {
        "id": "n2CAXpxFCCPF"
      },
      "execution_count": null,
      "outputs": []
    },
    {
      "cell_type": "code",
      "source": [
        "[i for i in range(10) if i % 2 == 0 or i % 3 == 0]"
      ],
      "metadata": {
        "id": "lSBr4w5P_pot"
      },
      "execution_count": null,
      "outputs": []
    },
    {
      "cell_type": "code",
      "source": [
        "# [i for i in range(10) if i % 2 == 0 elif i % 3 == 0] => error"
      ],
      "metadata": {
        "id": "_af8nMuyB-R_"
      },
      "execution_count": null,
      "outputs": []
    },
    {
      "cell_type": "code",
      "source": [
        "# 구구단\n",
        "# 손으로 꼭 순회 1번씩 돌아보셔야 합니다.\n",
        "for i in range(2, 10):\n",
        "    for j in range(1, 10):\n",
        "        print(i, j, i*j)\n",
        "\n",
        "'''\n",
        "# step 0\n",
        "# 이렇게 손이나 문자열로 늘여트려놓고 \n",
        "#내가 무엇을 줄일 수 있을까?를 고민하세요.\n",
        "2 1 2\n",
        "2 2 4\n",
        "2 3 6\n",
        "2 4 8\n",
        "2 5 10\n",
        "2 6 12\n",
        "2 7 14\n",
        "2 8 16\n",
        "2 9 18\n",
        "3 1 3\n",
        "3 2 6\n",
        "3 3 9\n",
        "3 4 12\n",
        "3 5 15\n",
        "3 6 18\n",
        "3 7 21\n",
        "3 8 24\n",
        "3 9 27\n",
        "'''\n",
        "\n",
        "# step 1 ~ 100 이렇게 하나씩 줄여가면 됩니다.\n",
        "# for i in range(1, 10):\n",
        "#     print(2, i, 2*i)\n",
        "\n",
        "# 이렇게 하나씩 줄여가면 됩니다.\n",
        "# for i in range(1, 10):\n",
        "#     print(2, i, 2*i)\n",
        "\n",
        "# for 단 in range(2, 10):\n",
        "#     for i  in range(1, 10):\n",
        "#         print(단, i, 단*i)"
      ],
      "metadata": {
        "id": "WikFlkfkCPjE"
      },
      "execution_count": null,
      "outputs": []
    },
    {
      "cell_type": "code",
      "source": [
        "# 별찍기\n",
        "# 트리 만드는 문제, 원 만드는 문제 등....\n",
        "\n",
        "'''\n",
        "*\n",
        "**\n",
        "***\n",
        "****\n",
        "*****\n",
        "'''"
      ],
      "metadata": {
        "id": "-Dwl4bmJDFGd"
      },
      "execution_count": null,
      "outputs": []
    },
    {
      "cell_type": "code",
      "source": [
        "user_input = int(input('찍을 별의 층수?'))\n",
        "for i in range(1, user_input+1):\n",
        "    print('*' * i)"
      ],
      "metadata": {
        "id": "DqBt4ELLEgLO"
      },
      "execution_count": null,
      "outputs": []
    },
    {
      "cell_type": "code",
      "source": [
        "l = []\n",
        "for i in range(2, 10):\n",
        "    for j in range(1, 10):\n",
        "        l.append([i, j, i*j])\n",
        "l"
      ],
      "metadata": {
        "id": "qdfTQpQkE87s"
      },
      "execution_count": null,
      "outputs": []
    },
    {
      "cell_type": "code",
      "source": [
        "[[i, j, i*j] for i in range(2, 10) for j in range(1, 10)]"
      ],
      "metadata": {
        "id": "FdlMGTX7FKnE"
      },
      "execution_count": null,
      "outputs": []
    },
    {
      "cell_type": "markdown",
      "source": [
        "## 다중 리스트 순회"
      ],
      "metadata": {
        "id": "aX6ezyt3FdGr"
      }
    },
    {
      "cell_type": "code",
      "source": [
        "skill = [\n",
        "        ('고기잡이', 100),\n",
        "        ('고기팔기', 120),\n",
        "        ('낚시', 5),\n",
        "        ('통발', 5),\n",
        "        ('큰그물', 5)\n",
        "]\n",
        "\n",
        "for i, j in skill:\n",
        "    print(i,j)"
      ],
      "metadata": {
        "id": "IpcIdFDIFfPd"
      },
      "execution_count": null,
      "outputs": []
    },
    {
      "cell_type": "code",
      "source": [
        "skill_name = ['고기잡이', '고기팔기', '낚시']\n",
        "skill_point = [100, 120, 5]\n",
        "\n",
        "for i, j in zip(skill_name, skill_point):\n",
        "    print(i,j)"
      ],
      "metadata": {
        "id": "NG-gksMsGFxs"
      },
      "execution_count": null,
      "outputs": []
    },
    {
      "cell_type": "code",
      "source": [
        "# 이정도 코드만 아셔도 실무하는 것에는 무리가 없습니다.\n",
        "skill = [\n",
        "        ('고기잡이', [1, 100]),\n",
        "        ('고기팔기', [1, 100]),\n",
        "        ('낚시', [2, 100]),\n",
        "        ('통발', [2, 100]),\n",
        "        ('큰그물', [2, 100])\n",
        "]\n",
        "\n",
        "for i, [x, y] in skill:\n",
        "    print(i, x, y)"
      ],
      "metadata": {
        "id": "lMFpgyr0Gn1G"
      },
      "execution_count": null,
      "outputs": []
    },
    {
      "cell_type": "code",
      "source": [
        "skill = [\n",
        "        ('고기잡이', (1, 100)),\n",
        "        ('고기팔기', (1, 100)),\n",
        "        ('낚시', (2, 100)),\n",
        "        ('통발', (2, 100)),\n",
        "        ('큰그물', (2, 100))\n",
        "]\n",
        "\n",
        "for i, [x, y] in skill:\n",
        "    print(i, x, y)"
      ],
      "metadata": {
        "id": "DVbgGx8_HHum"
      },
      "execution_count": null,
      "outputs": []
    },
    {
      "cell_type": "code",
      "source": [
        "skill = [\n",
        "        ('고기잡이', 'ab'), #('고기잡이', 'abds') 이런 형태는 error\n",
        "        ('고기팔기', 'cd'),\n",
        "        ('낚시', 'aa'),\n",
        "        ('통발', 'cc'),\n",
        "        ('큰그물', 'dd')\n",
        "]\n",
        "\n",
        "for i, [x, y] in skill:\n",
        "    print(i, x, y)"
      ],
      "metadata": {
        "id": "Bs7VAywQHlpF"
      },
      "execution_count": null,
      "outputs": []
    },
    {
      "cell_type": "code",
      "source": [
        "# 문제\n",
        "# data는 다음과 같은 데이터가 있습니다.\n",
        "# 각각 skill이름, skill제한레벨, skill 포인트, skill 등급입니다.\n",
        "# 아래와 같이 출력해주세요.\n",
        "data = [\n",
        "        ('고기잡이', 1, 100, 'S'),\n",
        "        ('고기팔기', 1, 100, 'A'),\n",
        "        ('낚시', 2, 100, 'A'),\n",
        "        ('통발', 2, 100, 'B'),\n",
        "        ('큰그물', 2, 100, 'S')\n",
        "]\n",
        "\n",
        "# 출력값\n",
        "# 아래와 같은 형식으로 총 5개 출력해야 합니다.\n",
        "# '축하합니다. S등급 skill 고기잡이를 습득하셨습니다! \n",
        "# 해당 스킬은 레벨 제한 1에 스킬 포인트 100입니다.'\n",
        "\n",
        "for i, j, k, l in data:\n",
        "    print(f'축하합니다. {l}등급에 skill {i}를 습득하셨습니다! 해당 스킬은 레벨 제한 {j}에 스킬 포인트 {k}입니다.')"
      ],
      "metadata": {
        "id": "XsVUorItH3Gb"
      },
      "execution_count": null,
      "outputs": []
    },
    {
      "cell_type": "code",
      "source": [
        "# 문제\n",
        "# data는 다음과 같은 데이터가 있습니다.\n",
        "# 각각 skill 이름, skill 제한 레벨, skill 포인트, skill 등급입니다.\n",
        "# 아래와 같이 출력해주세요.\n",
        "data = [\n",
        "        ('고기잡이', (1, 100, 'S')),\n",
        "        ('고기팔기', (1, 100, 'A')),\n",
        "        ('낚시', (2, 100, 'A')),\n",
        "        ('통발', (2, 100, 'B')),\n",
        "        ('큰그물', (2, 100, 'S'))\n",
        "]\n",
        "\n",
        "# 출력값\n",
        "# 아래와 같은 형식으로 총 5개 출력해야 합니다.\n",
        "# '축하합니다. S등급에 skill 고기잡이를 습득하셨습니다! \n",
        "#  해당 스킬은 레벨 제한 1에 스필 포인트 100입니다.'\n",
        "\n",
        "for i, [j, k, l] in data:\n",
        "    print(f'축하합니다. {l}등급에 skill {i}를 습득하셨습니다! 해당 스킬은 레벨 제한 {j}에 스킬 포인트 {k}입니다.')"
      ],
      "metadata": {
        "id": "sgb2n3P3JOG1"
      },
      "execution_count": null,
      "outputs": []
    },
    {
      "cell_type": "code",
      "source": [
        "# 언패킹하는 경우 변수가 많으면 어디서 어떻게 사용되는지 파악하기 어려움\n",
        "# 그래서 변수명을 잘 작성해서 사용하면 더 편하게 코드 해독이 가능함\n",
        "# 출력값을 줄바꿈 하려면 print는 큰 부하가 생기기 때문에 적게 사용하고 '\\n' 사용하면 좋음.\n",
        "data = [\n",
        "        ('고기잡이', (1, 100, 'S')),\n",
        "        ('고기팔기', (1, 100, 'A')),\n",
        "        ('낚시', (2, 100, 'A')),\n",
        "        ('통발', (2, 100, 'B')),\n",
        "        ('큰그물', (2, 100, 'S'))\n",
        "]\n",
        "for skill_name, [skill_limit, skill_point, level] in data:\n",
        "    print(f'축하합니다. {level}등급에 skill {skill_name}를 습득하셨습니다!'\"\\n\"'해당 스킬은 레벨 제한 {skill_limit}에 스킬 포인트 {skill_point}입니다.')"
      ],
      "metadata": {
        "id": "oTfMRwlZKF_0"
      },
      "execution_count": null,
      "outputs": []
    },
    {
      "cell_type": "markdown",
      "source": [
        "## while"
      ],
      "metadata": {
        "id": "b4wSnzkPMNFL"
      }
    },
    {
      "cell_type": "code",
      "source": [
        "# 반복문 : for, while\n",
        "a = 1\n",
        "while a < 10 : # True인 동안에\n",
        "    print(a)\n",
        "    a += 1 "
      ],
      "metadata": {
        "id": "nftdyceQMO8R"
      },
      "execution_count": null,
      "outputs": []
    },
    {
      "cell_type": "code",
      "source": [
        "# while 특정요소:\n",
        "#     특정요소값 꺼내는 문법\n",
        "#     특정요소가 모두 없어질 때 까지\n",
        "\n",
        "l = [1, 2, 3]\n",
        "while l: #[]\n",
        "    print(l.pop())"
      ],
      "metadata": {
        "id": "rJ47dWucMrHi"
      },
      "execution_count": null,
      "outputs": []
    },
    {
      "cell_type": "code",
      "source": [
        "l = {1, 2, 3}\n",
        "while l:\n",
        "    print(l.pop())"
      ],
      "metadata": {
        "id": "iBwXZwXNPQPS"
      },
      "execution_count": null,
      "outputs": []
    },
    {
      "cell_type": "code",
      "source": [
        "# 중복되는 문자열 중 가장 첫번째 나온\n",
        "# 문자의 index를 반환하라!\n",
        "s = 'abkkkbnbbbccdennnneefefj'\n",
        "ss = set(s)\n",
        "while ss:\n",
        "    string = ss.pop()\n",
        "    print(string, s.index(string))"
      ],
      "metadata": {
        "id": "2m7MOyQzPjOi"
      },
      "execution_count": null,
      "outputs": []
    },
    {
      "cell_type": "code",
      "source": [
        "# 폴더 생성하도록 하는\n",
        "# import os\n",
        "\n",
        "# path = './dir/tmp'\n",
        "\n",
        "# os.mkdir(path)"
      ],
      "metadata": {
        "id": "myvbb3AuRHiW"
      },
      "execution_count": null,
      "outputs": []
    },
    {
      "cell_type": "code",
      "source": [
        "# 이러한 무한반복은 메모리를 모두 소진합니다.\n",
        "# 서버가 뻗을 수도 있습니다.\n",
        "# mkdir : directory 생성하는 명령어\n",
        "# rmdir : directory 삭제하는 명령어\n",
        "while True:\n",
        "    user_input = input('$')\n",
        "    if user_input == 'mkdir':\n",
        "        print('폴더가 생성되었습니다!')\n",
        "    elif user_input == 'rmdir':\n",
        "        print('폴더가 삭제되었습니다!')"
      ],
      "metadata": {
        "id": "rdJYWd-zQQom"
      },
      "execution_count": null,
      "outputs": []
    },
    {
      "cell_type": "code",
      "source": [
        "# 이러한 무한반복은 메모리를 모두 소진합니다.\n",
        "# 서버가 뻗을 수도 있습니다.\n",
        "while True:\n",
        "    user_input = input('$')\n",
        "    split_data = user_input.split(' ')\n",
        "    if split_data[0] == 'mkdir':\n",
        "        print(f'{split_data[1]} 폴더가 생성되었습니다!')\n",
        "    elif split_data[0] == 'rmdir':\n",
        "        print(f'{split_data[1]} 폴더가 삭제되었습니다!')\n",
        "    elif split_data[0] == 'exit':\n",
        "        print('프로그램을 종료합니다.')\n",
        "        break"
      ],
      "metadata": {
        "id": "nAzPvgijRzRa"
      },
      "execution_count": null,
      "outputs": []
    },
    {
      "cell_type": "code",
      "source": [
        "# random 난수에 가깝게 수를 생성해주는 모듈..?\n",
        "\n",
        "import random\n",
        "\n",
        "random.randint(1, 100)"
      ],
      "metadata": {
        "id": "UDIAGAQ2S-AS"
      },
      "execution_count": null,
      "outputs": []
    },
    {
      "cell_type": "code",
      "source": [
        "# up down game\n",
        "\n",
        "result = random.randint(1, 100)\n",
        "\n",
        "while True:\n",
        "    user_input = int(input())\n",
        "    if user_input > result:\n",
        "        print('down')\n",
        "    elif user_input < result:\n",
        "        print('up')\n",
        "    else:\n",
        "        print('맞췄습니다!')\n",
        "        print('프로그램을 종료합니다.')\n",
        "        break"
      ],
      "metadata": {
        "id": "Ny5mIlIXSSDZ"
      },
      "execution_count": null,
      "outputs": []
    },
    {
      "cell_type": "code",
      "source": [
        "# 구구단이 출력되지 않는 코드\n",
        "# 한땀 한땀 따라가면서 왜 출력이 되지 않는지 체크해보기\n",
        "x = 2\n",
        "y = 1\n",
        "while x <10:\n",
        "    while y <10:\n",
        "        print(x, y, x * y)\n",
        "        y += 1\n",
        "    x += 1"
      ],
      "metadata": {
        "id": "7ZvoRg-cS0Sp"
      },
      "execution_count": null,
      "outputs": []
    },
    {
      "cell_type": "code",
      "source": [
        "x = 2\n",
        "y = 1\n",
        "while x <10:\n",
        "    while y <10:\n",
        "        print(x, y, x * y)\n",
        "        y += 1\n",
        "    y = 1 # 초기화를 해주어야 다음 while문에서 y < 10에 들어갈 수 있다.\n",
        "    x += 1"
      ],
      "metadata": {
        "id": "koW-XqE9UXmx"
      },
      "execution_count": null,
      "outputs": []
    },
    {
      "cell_type": "code",
      "source": [
        "count = 0\n",
        "while True:\n",
        "    print(count)\n",
        "    if count == 5:\n",
        "        break\n",
        "    count += 1\n",
        "print('end')"
      ],
      "metadata": {
        "id": "4TvfwgYXUia5"
      },
      "execution_count": null,
      "outputs": []
    },
    {
      "cell_type": "code",
      "source": [
        "# 무한 루프\n",
        "count = 0.0\n",
        "while True:\n",
        "    print(count)\n",
        "    if count == 0.3: # 부동소수점 문제가 발생할 수 있습니다.\n",
        "        break\n",
        "    count += 0.1\n",
        "print('end')"
      ],
      "metadata": {
        "id": "X_ehafTAVGrY"
      },
      "execution_count": null,
      "outputs": []
    },
    {
      "cell_type": "code",
      "source": [
        "# 무한 루프 해결방법 (0.30000000000000004)\n",
        "count = 0.0\n",
        "while True:\n",
        "    print(count)\n",
        "    if count >= 0.3:\n",
        "        break\n",
        "    count += 0.1\n",
        "print('end')"
      ],
      "metadata": {
        "id": "ecNgkJLgVPsh"
      },
      "execution_count": null,
      "outputs": []
    },
    {
      "cell_type": "code",
      "source": [
        "# 다른 언어에서는 이 구문이 작동되지 않습니다.\n",
        "i = 0\n",
        "while i < 10:\n",
        "    if i == 5:\n",
        "        break\n",
        "    i += 1\n",
        "else:\n",
        "    print('정상종료!')"
      ],
      "metadata": {
        "id": "Z8nCCosgVao4"
      },
      "execution_count": null,
      "outputs": []
    },
    {
      "cell_type": "code",
      "source": [
        "i = 0\n",
        "while i < 10:\n",
        "    i += 1\n",
        "else:\n",
        "    print('정상종료!')"
      ],
      "metadata": {
        "id": "XAfzBmJrVrhD"
      },
      "execution_count": null,
      "outputs": []
    },
    {
      "cell_type": "markdown",
      "source": [
        "* https://school.programmers.co.kr/learn/courses/30/lessons/120871"
      ],
      "metadata": {
        "id": "nZajN9x0X8bX"
      }
    },
    {
      "cell_type": "code",
      "source": [
        "# step 1\n",
        "count10 = 0\n",
        "n = 15\n",
        "while count10 < n + 1:\n",
        "    print(count10)\n",
        "    count10 += 1"
      ],
      "metadata": {
        "id": "j_ep7T0aX7ZX"
      },
      "execution_count": null,
      "outputs": []
    },
    {
      "cell_type": "code",
      "source": [
        "# step 2 조건만 간단히 구현\n",
        "count10 = 0\n",
        "count3 = 0 # 3x 마을에서 쓰는 숫자\n",
        "n = 15\n",
        "while count10 < n + 1:\n",
        "    count10 += 1\n",
        "    count3 += 1\n",
        "    if count3 % 3 == 0 or '3' in str(count3):\n",
        "        count3 += 1\n",
        "    # 저주의 숫자를 지나가도 다시 저주의 숫자 일 수 있습니다.\n",
        "    # 체크를 계속 해야하는데 한 번만 합니다.\n",
        "    print(count10, count3)\n",
        "\n",
        "count3"
      ],
      "metadata": {
        "id": "qiotiTVnYzvi"
      },
      "execution_count": null,
      "outputs": []
    },
    {
      "cell_type": "code",
      "source": [
        "# step 3 조건만 간단히 구현 => 조건이 계속 반복되도록\n",
        "count10 = 0\n",
        "count3 = 0 # 3x 마을에서 쓰는 숫자\n",
        "n = 10\n",
        "while count10 < n:\n",
        "    count10 += 1\n",
        "    count3 += 1\n",
        "    while count3 % 3 == 0 or '3' in str(count3):\n",
        "        count3 += 1\n",
        "    # 저주의 숫자를 지나가도 다시 저주의 숫자 일 수 있습니다.\n",
        "    # 체크를 계속 해야하는데 한 번만 합니다.\n",
        "    print(count10, count3)"
      ],
      "metadata": {
        "id": "V6vcQ2AmtAEc"
      },
      "execution_count": null,
      "outputs": []
    },
    {
      "cell_type": "code",
      "source": [
        "# step 3 조건만 간단히 구현 => 조건이 계속 반복되도록\n",
        "count10 = 0\n",
        "count3 = 0 # 3x 마을에서 쓰는 숫자\n",
        "n = 10\n",
        "while count10 < n:\n",
        "    count10 += 1\n",
        "    count3 += 1\n",
        "    while count3 % 3 == 0 or '3' in str(count3):\n",
        "        count3 += 1\n",
        "    print(count10, count3)"
      ],
      "metadata": {
        "id": "HYOEpBust8nL"
      },
      "execution_count": null,
      "outputs": []
    },
    {
      "cell_type": "code",
      "source": [
        "def solution(n):\n",
        "    count10 = 0\n",
        "    count3 = 0\n",
        "    while count10 < n:\n",
        "        count10 += 1\n",
        "        count3 += 1\n",
        "        while count3 % 3 == 0 or '3' in str(count3):\n",
        "            count3 += 1\n",
        "    return count3"
      ],
      "metadata": {
        "id": "aWve3Jm2uGIU"
      },
      "execution_count": null,
      "outputs": []
    },
    {
      "cell_type": "code",
      "source": [
        "[i for i in range(1, 31) if i % 3 != 0 and not('3' in str(i))][n-1]"
      ],
      "metadata": {
        "id": "CkDLWI_5ugc9"
      },
      "execution_count": null,
      "outputs": []
    },
    {
      "cell_type": "code",
      "source": [
        "def solution(n):\n",
        "    return [i for i in range(1, 1001) if i % 3 != 0 and not('3' in str(i))][n-1]"
      ],
      "metadata": {
        "id": "sMvQtTPQuZPD"
      },
      "execution_count": null,
      "outputs": []
    },
    {
      "cell_type": "markdown",
      "source": [
        "## try-except-else"
      ],
      "metadata": {
        "id": "CoRWHiNOV3sR"
      }
    },
    {
      "cell_type": "code",
      "source": [],
      "metadata": {
        "id": "65R26LLkWZTA"
      },
      "execution_count": null,
      "outputs": []
    },
    {
      "cell_type": "code",
      "source": [
        "try:\n",
        "    i = 1\n",
        "    j = 0\n",
        "    x = i/j\n",
        "except:\n",
        "    print('error')\n",
        "else:\n",
        "    print(x)"
      ],
      "metadata": {
        "id": "_LDXlVmuWKhQ"
      },
      "execution_count": null,
      "outputs": []
    },
    {
      "cell_type": "code",
      "source": [],
      "metadata": {
        "id": "etxBUAPcWKbq"
      },
      "execution_count": null,
      "outputs": []
    },
    {
      "cell_type": "markdown",
      "source": [
        "## 실제 데이터를 가지고 연습 (json gen)"
      ],
      "metadata": {
        "id": "MRgwqNKyvCno"
      }
    },
    {
      "cell_type": "code",
      "source": [
        "data = [\n",
        "  {\n",
        "    \"_id\": \"6459ca18be13a43c320accba\",\n",
        "    \"age\": 21,\n",
        "    \"eyeColor\": \"blue\",\n",
        "    \"name\": \"Cynthia Bradley\",\n",
        "    \"gender\": \"female\"\n",
        "  },\n",
        "  {\n",
        "    \"_id\": \"6459ca18ec23fbbd90230b58\",\n",
        "    \"age\": 27,\n",
        "    \"eyeColor\": \"blue\",\n",
        "    \"name\": \"Vonda Gross\",\n",
        "    \"gender\": \"female\"\n",
        "  },\n",
        "  {\n",
        "    \"_id\": \"6459ca18632d24ad2e63b39c\",\n",
        "    \"age\": 27,\n",
        "    \"eyeColor\": \"blue\",\n",
        "    \"name\": \"Lowery Berg\",\n",
        "    \"gender\": \"male\"\n",
        "  },\n",
        "  {\n",
        "    \"_id\": \"6459ca18737072bd2fdcb616\",\n",
        "    \"age\": 31,\n",
        "    \"eyeColor\": \"green\",\n",
        "    \"name\": \"Farrell Keith\",\n",
        "    \"gender\": \"male\"\n",
        "  },\n",
        "  {\n",
        "    \"_id\": \"6459ca1852d0a98e035f1d17\",\n",
        "    \"age\": 29,\n",
        "    \"eyeColor\": \"green\",\n",
        "    \"name\": \"Anderson Humphrey\",\n",
        "    \"gender\": \"male\"\n",
        "  }\n",
        "]\n",
        "\n",
        "# 반복문을 사용해도 좋지만,\n",
        "# 반복문을 사용하실 수 없다면 index로만 계산하셔도 좋습니다.\n",
        "\n",
        "for i in range(len(data)):\n",
        "    "
      ],
      "metadata": {
        "id": "EjWJml1DvI69"
      },
      "execution_count": null,
      "outputs": []
    },
    {
      "cell_type": "code",
      "source": [
        "age = 0\n",
        "fm = 0\n",
        "ml = 0\n",
        "for i in range(len(data)):\n",
        "    age = age + data[i]['age']\n",
        "    if data[i]['gender'] == 'female':\n",
        "        fm = fm + 1\n",
        "    else:\n",
        "        ml = ml + 1\n",
        "print(f'data의 평균 연령은{age / i}세 이고, 남녀 성비는 {ml} : {fm} 이다.')"
      ],
      "metadata": {
        "id": "vPaipg-xxoFk"
      },
      "execution_count": null,
      "outputs": []
    },
    {
      "cell_type": "code",
      "source": [
        "# Lv0\n",
        "print((data[0]['age'] + data[1]['age'] + data[2]['age'] + data[3]['age'] + data[4]['age']) / 5)\n",
        "\n",
        "성별 =[]\n",
        "성별.append(data[0]['gender'])\n",
        "성별.append(data[1]['gender'])\n",
        "성별.append(data[2]['gender'])\n",
        "성별.append(data[3]['gender'])\n",
        "성별.append(data[4]['gender'])\n",
        "print(성별)\n",
        "print(성별.count('male') / len(data) * 100)\n",
        "print(성별.count('female') / len(data) * 100)"
      ],
      "metadata": {
        "id": "X9kZFr2bzxfb"
      },
      "execution_count": null,
      "outputs": []
    },
    {
      "cell_type": "code",
      "source": [
        "# Lv1\n",
        "age_sum = 0\n",
        "for i in range(5): # 좋은 코드는 아닙니다.\n",
        "    age_sum += data[i]['age']\n",
        "print(age_sum/5)\n",
        "\n",
        "성별 = []\n",
        "for i in range(5):\n",
        "    성별.append(data[i]['gender'])\n",
        "print(성별.count('male') / len(data) * 100)\n",
        "print(성별.count('female') / len(data) * 100)"
      ],
      "metadata": {
        "id": "FXFaUtgq0pBs"
      },
      "execution_count": null,
      "outputs": []
    },
    {
      "cell_type": "code",
      "source": [
        "# Lv1\n",
        "age_sum = 0\n",
        "for i in range(len(data)):\n",
        "    age_sum += data[i]['age']\n",
        "print(age_sum/5)\n",
        "\n",
        "성별 = []\n",
        "for i in range(len(data)):\n",
        "    성별.append(data[i]['gender'])\n",
        "print(성별.count('male') / len(data) * 100)\n",
        "print(성별.count('female') / len(data) * 100)"
      ],
      "metadata": {
        "id": "d4giwlZA1Z7y"
      },
      "execution_count": null,
      "outputs": []
    },
    {
      "cell_type": "code",
      "source": [
        "# Lv2\n",
        "\n",
        "# 평균 (1줄)\n",
        "# list(map(lambda x:x['age'], data))\n",
        "sum(map(lambda x:x['age'], data)) / len(data)\n",
        "\n",
        "# 성별 (1줄)\n",
        "# map(lambda x:x['gender'] == 'male', data)\n",
        "len(list(filter(lambda x:x['gender'] == 'male', data))) / len(data) * 100\n",
        "len(list(filter(lambda x:x['gender'] == 'female', data))) / len(data) * 100"
      ],
      "metadata": {
        "id": "hWpkU22E1dSC"
      },
      "execution_count": null,
      "outputs": []
    },
    {
      "cell_type": "markdown",
      "source": [
        "## 알아야 하는 built-in-function"
      ],
      "metadata": {
        "id": "WFPgmJn07olq"
      }
    },
    {
      "cell_type": "markdown",
      "source": [
        "### 수학적 통계에 활용되는 함수"
      ],
      "metadata": {
        "id": "RB1oy0ob-VCg"
      }
    },
    {
      "cell_type": "markdown",
      "source": [
        "- abs( ) : 괄호 안에 있는 값을 절대값으로 출력해줍니다.\n",
        "- all( ) : 괄호 안에 있는 값들이 모두 True(False)일 때 True(False)를 출력합니다.\n",
        "- any( ) : 괄호안에 있는 값이 하나라고 True이면 True로 출력합니다.\n",
        "- pow( ) : 제곱을 출력합니다.\n",
        "- max( ) : 값의 최댓값을 출력합니다.\n",
        "- min( ) : 값의 최솟값을 출력합니다.\n",
        "- sum( ) : 값의 합계를 출력합니다.\n",
        "- len( ) : 문자열의 길이를 출력합니다.\n",
        "- sorted( ) : 데이터를 정렬해줍니다.\n",
        "- reversed( ) : 정렬되지 않은 상태에서 값을 역순으로 출력합니다."
      ],
      "metadata": {
        "id": "RqBK1Zsh7uRU"
      }
    },
    {
      "cell_type": "code",
      "source": [
        "abs(-1)\n",
        "all([True, True, True])\n",
        "all([True, False, True])\n",
        "all(['a', 'b', 'ccc'])\n",
        "all(['a', '', 'CCC'])\n",
        "if all([3 > 5, 12 % 2 == 0, 15 % 5 == 0]):\n",
        "    print('hello')\n",
        "\n",
        "if all([3 > 5, \n",
        "        12 % 2 == 0, \n",
        "        15 % 5 == 0]):\n",
        "    print('hello')\n",
        "\n",
        "if 3 > 5 and 12 % 2 == 0 and 15 % 5 == 0:\n",
        "    print('hello')\n",
        "\n",
        "# if all([one(), two(), three()]):\n",
        "#     print('hello')\n",
        "\n",
        "# all(True, True, True) # all() takes exactly one argument (3 given)\n",
        "\n",
        "pow(2, 3) # 2 ** 3"
      ],
      "metadata": {
        "id": "HleGst8I7r6y"
      },
      "execution_count": null,
      "outputs": []
    },
    {
      "cell_type": "code",
      "source": [
        "sum([[1, 2], [3, 4], [5, 6]], [])\n",
        "sum([1, 2, 3, 4, 5], 100)\n",
        "# sum([1, 2, 3, 4, 5], {1, 2, 3}) # error"
      ],
      "metadata": {
        "id": "rm3v9yQV9Hto"
      },
      "execution_count": null,
      "outputs": []
    },
    {
      "cell_type": "code",
      "source": [
        "# __len__가 없는 것들: map, zip, filter...\n",
        "class str(str):\n",
        "    def __len__(self):\n",
        "        return 1000\n",
        "\n",
        "len(str('hello world'))"
      ],
      "metadata": {
        "id": "OaCvdxLQ9p3q"
      },
      "execution_count": null,
      "outputs": []
    },
    {
      "cell_type": "code",
      "source": [
        "# len(zip([1, 2, 3], 'abc')) #error -> object of type 'zip' has no len()"
      ],
      "metadata": {
        "id": "CTqLkKna-ANi"
      },
      "execution_count": null,
      "outputs": []
    },
    {
      "cell_type": "markdown",
      "source": [
        "### 형변환 함수"
      ],
      "metadata": {
        "id": "mY49PcMU-OXI"
      }
    },
    {
      "cell_type": "markdown",
      "source": [
        "- set( )\n",
        "- dict( )\n",
        "- hex( ) : 16진법\n",
        "- bin( ) : 2진법\n",
        "- oct( ) : 8진법\n",
        "- bool( )\n",
        "- str( )\n",
        "- ord( ) : 각각의 문자에 대한 숫자값을 출력해줍니다.(아스키코드표를 참고하세요.)\n",
        "- float( )\n",
        "- tuple( )\n",
        "- chr( ) : 숫자값을 통해서 문자를 출력합니다.\n",
        "- list( )\n",
        "- range( )\n",
        "- complex( )"
      ],
      "metadata": {
        "id": "FsJJ5KU2-dto"
      }
    },
    {
      "cell_type": "code",
      "source": [
        "l = [1, 2, 3]\n",
        "type(l)"
      ],
      "metadata": {
        "id": "B18EwkGb-eaw"
      },
      "execution_count": null,
      "outputs": []
    },
    {
      "cell_type": "code",
      "source": [
        "# 아래 3개는 int형\n",
        "# bin( ) : 2진법\n",
        "# oct( ) : 8진법\n",
        "# hex( ) : 16진법\n",
        "\n",
        "# type(bin(7)) -> str형\n",
        "bin(7)\n",
        "# type(0b111) -> int형\n",
        "# int('111', 2) -> 2진수를 10진수로 바꾸려면 int() 사용하고 2진수인 것을 표기해주면 됨\n",
        "int('0b111', 2)\n",
        "# int(0b111, 2) ->int() can't convert non-string with explicit base"
      ],
      "metadata": {
        "id": "TjHeB8OT-0iS"
      },
      "execution_count": null,
      "outputs": []
    },
    {
      "cell_type": "code",
      "source": [
        "hex(65)"
      ],
      "metadata": {
        "id": "X2mLZ_kD_2mw"
      },
      "execution_count": null,
      "outputs": []
    },
    {
      "cell_type": "code",
      "source": [
        "chr(65)\n",
        "ord('A')"
      ],
      "metadata": {
        "id": "guLGRCRQAKLh"
      },
      "execution_count": null,
      "outputs": []
    },
    {
      "cell_type": "code",
      "source": [
        "# list(range(start, stop, step))\n",
        "list(range(0, 10, 2))\n",
        "list(range(0, 10))\n",
        "list(range(10))\n",
        "list(range(-10, 10, 2))\n",
        "list(range(0, -10, -2))"
      ],
      "metadata": {
        "id": "D9fjNKohASe3"
      },
      "execution_count": null,
      "outputs": []
    },
    {
      "cell_type": "markdown",
      "source": [
        "### 도움말"
      ],
      "metadata": {
        "id": "p7CsYC1ZAmFh"
      }
    },
    {
      "cell_type": "code",
      "source": [
        "def hojun():\n",
        "    '''\n",
        "    이호준이 작성한 함수\n",
        "    '''\n",
        "    pass\n",
        "\n",
        "help(hojun)"
      ],
      "metadata": {
        "id": "DQzHaBvtAn7W"
      },
      "execution_count": null,
      "outputs": []
    },
    {
      "cell_type": "markdown",
      "source": [
        "### object 관련 함수"
      ],
      "metadata": {
        "id": "Sh0rr3sHAv-h"
      }
    },
    {
      "cell_type": "markdown",
      "source": [
        "- dir( )\n",
        "- id( )\n",
        "- type( )"
      ],
      "metadata": {
        "id": "2OnCeeqBAyVZ"
      }
    },
    {
      "cell_type": "code",
      "source": [
        "# dir() # directory의 약자로 대상이 가진 attribute를 모두 출력합니다.\n",
        "# attribute가 무엇인가? class에서 배울 member + method"
      ],
      "metadata": {
        "id": "CnO4PXX_AjNX"
      },
      "execution_count": null,
      "outputs": []
    },
    {
      "cell_type": "code",
      "source": [
        "def f():\n",
        "    return 100\n",
        "\n",
        "f.name = 'leehojun'\n",
        "dir(f)\n",
        "print(f.name)"
      ],
      "metadata": {
        "id": "vV5flYY1BEz6"
      },
      "execution_count": null,
      "outputs": []
    },
    {
      "cell_type": "code",
      "source": [
        "l = 10\n",
        "\n",
        "# 복사가 제대로 이뤄졌나?\n",
        "\n",
        "id(l) # 깊은복사, 얕은복사"
      ],
      "metadata": {
        "id": "CL922l2MB-Ut"
      },
      "execution_count": null,
      "outputs": []
    },
    {
      "cell_type": "code",
      "source": [
        "type('abc') # str\n",
        "print(type('abc')) # <class 'str'>\n",
        "print(type(f)) # <class 'function'> class가 전체 Python을 관통하고 있습니다."
      ],
      "metadata": {
        "id": "rwAHKV0uCUI_"
      },
      "execution_count": null,
      "outputs": []
    },
    {
      "cell_type": "markdown",
      "source": [
        "### 유용한 순회 가능 객체"
      ],
      "metadata": {
        "id": "d3nVqdsfCuIW"
      }
    },
    {
      "cell_type": "markdown",
      "source": [
        "- enumerate( ) : 값에 순위를 매기고 싶을 때 사용합니다.\n",
        "- range( )\n",
        "- filter( )\n",
        "- zip( )\n",
        "- map( )\n",
        "- range()"
      ],
      "metadata": {
        "id": "YUeguURDDE9W"
      }
    },
    {
      "cell_type": "code",
      "source": [
        "print(type(range(3)))"
      ],
      "metadata": {
        "id": "YbRU9JsIC1TS"
      },
      "execution_count": null,
      "outputs": []
    },
    {
      "cell_type": "code",
      "source": [
        "list(enumerate([10, 20, 30]))"
      ],
      "metadata": {
        "id": "OYUpnafbDOvu"
      },
      "execution_count": null,
      "outputs": []
    },
    {
      "cell_type": "code",
      "source": [
        "list(enumerate([10, 20, 30], 100))\n",
        "# list(enumerate([10, 20, 30], 'abc')) -> error 뒤에 숫자를 입력해야 합니다."
      ],
      "metadata": {
        "id": "v-DoEqLKDmp6"
      },
      "execution_count": null,
      "outputs": []
    },
    {
      "cell_type": "code",
      "source": [
        "def 함수(x):\n",
        "    return x > 15\n",
        "\n",
        "# True인 것들만 반환해줌\n",
        "list(filter(함수, [10, 20, 30, 40]))\n",
        "list(filter(None, [True, True, False, False]))\n",
        "# filter에 None 주는 것이 어디에 유용할까요?\n",
        "# 여러가지 자료형이 섞여 있을 때 값이 들어있는 것만 찾을 경우\n",
        "list(filter(None, [[], 'abc', '', '']))"
      ],
      "metadata": {
        "id": "3onYigdPGcs_"
      },
      "execution_count": null,
      "outputs": []
    },
    {
      "cell_type": "code",
      "source": [
        "list(zip('abc', 'defaaaa', 'ght', [1, 2, 3], [4, 5, 6, 7]))"
      ],
      "metadata": {
        "id": "WTtA5AKnHRfe"
      },
      "execution_count": null,
      "outputs": []
    },
    {
      "cell_type": "code",
      "source": [
        "x = [5, 4, 6, 8, 2]\n",
        "list(zip('abcdefg', sorted(x)))"
      ],
      "metadata": {
        "id": "YGCGX5j6Hsle"
      },
      "execution_count": null,
      "outputs": []
    },
    {
      "cell_type": "code",
      "source": [
        "x = [5, 4, 6, 8, 2]\n",
        "y = [7, 6, 54, 4, 2, 3, 3]\n",
        "list(zip('abcdefg', zip(x, y)))"
      ],
      "metadata": {
        "id": "g95ZgQnqIB-S"
      },
      "execution_count": null,
      "outputs": []
    },
    {
      "cell_type": "markdown",
      "source": [
        "## args, kargs"
      ],
      "metadata": {
        "id": "oebOcsoLixmd"
      }
    },
    {
      "cell_type": "markdown",
      "source": [
        "* 가변 아규먼트, 가변 키워드 아규먼트"
      ],
      "metadata": {
        "id": "Ky8r14yyIryC"
      }
    },
    {
      "cell_type": "code",
      "source": [
        "def print_args(a, *args): # 꼭 args가 될 필요는 없습니다.\n",
        "    print(args)\n",
        "\n",
        "print_args(100, True, 'leehojun')"
      ],
      "metadata": {
        "id": "fU1hsunoIlWm"
      },
      "execution_count": null,
      "outputs": []
    },
    {
      "cell_type": "code",
      "source": [
        "def print_kwargs(a, **kwargs): # 꼭 kwargs가 될 필요는 없습니다.\n",
        "    print(a)\n",
        "    print(kwargs)\n",
        "\n",
        "print_kwargs(100, name='leehojun', age='10')"
      ],
      "metadata": {
        "id": "f4KvDtYvI81o"
      },
      "execution_count": null,
      "outputs": []
    },
    {
      "cell_type": "code",
      "source": [
        "#  왜 *가 2개일까요?\n",
        "#  key와 value 모두를 넘기기 위해\n",
        "def print_kwargs(*kwargs): # \n",
        "    print(kwargs)\n",
        "\n",
        "value = {'one':10, 'two':20}\n",
        "print_kwargs(*value)"
      ],
      "metadata": {
        "id": "3jITfAfGJOtA"
      },
      "execution_count": null,
      "outputs": []
    },
    {
      "cell_type": "code",
      "source": [
        "def print_args(*args, b): # error 입니다.\n",
        "    print(args)\n",
        "\n",
        "print_args(100, True, 'leehojun')"
      ],
      "metadata": {
        "id": "DS36KRbsJeib"
      },
      "execution_count": null,
      "outputs": []
    },
    {
      "cell_type": "code",
      "source": [
        "def print_args(b, *args): # error 입니다. args 앞에 순서대로 넣을 변수가 있어야 합니다.\n",
        "    print(args)\n",
        "\n",
        "print_args(100, True, b='leehojun')"
      ],
      "metadata": {
        "id": "30zYi_KPJmju"
      },
      "execution_count": null,
      "outputs": []
    },
    {
      "cell_type": "code",
      "source": [
        "one, two, *three = 1,2,3,4,5 # *가 하는 역할은? 남은 데이터의 패킹\n",
        "print(one, two, three)"
      ],
      "metadata": {
        "id": "oDvHAztqJ9FT"
      },
      "execution_count": null,
      "outputs": []
    },
    {
      "cell_type": "markdown",
      "source": [
        "## lambda"
      ],
      "metadata": {
        "id": "ATnywBwgBDxV"
      }
    },
    {
      "cell_type": "markdown",
      "source": [
        "* lambda는 익명함수라고 하며, 이름이 없는 함수"
      ],
      "metadata": {
        "id": "YmW3muSTKdyn"
      }
    },
    {
      "cell_type": "code",
      "source": [
        "leehojun = lambda x : x**2\n",
        "\n",
        "# def leehojun(x):\n",
        "#     return x ** 2"
      ],
      "metadata": {
        "id": "_srZWsWBKbD2"
      },
      "execution_count": null,
      "outputs": []
    },
    {
      "cell_type": "code",
      "source": [
        "print(type(leehojun))"
      ],
      "metadata": {
        "id": "cimnO2saKqYA"
      },
      "execution_count": null,
      "outputs": []
    },
    {
      "cell_type": "code",
      "source": [
        "print(type(lambda x : x ** 2))"
      ],
      "metadata": {
        "id": "T9_uHgq4KtdQ"
      },
      "execution_count": null,
      "outputs": []
    },
    {
      "cell_type": "code",
      "source": [
        "print(dir(lambda x : x ** 2))"
      ],
      "metadata": {
        "id": "tOClLcLDKxbo"
      },
      "execution_count": null,
      "outputs": []
    },
    {
      "cell_type": "code",
      "source": [
        "# 참조 카운팅이 있음\n",
        "# 변수가 가리키게 만들면 참조카운트가 증가한다. => 재사용이 가능하다\n",
        "def 함수(x):\n",
        "    return x ** 2\n",
        "\n",
        "print(dir(함수))"
      ],
      "metadata": {
        "id": "n9q6z_19Kz4U"
      },
      "execution_count": null,
      "outputs": []
    },
    {
      "cell_type": "code",
      "source": [
        "#참조 카운팅이 없음 -> lambda는 사용 후 소멸됨\n",
        "lambda x : x ** 2"
      ],
      "metadata": {
        "id": "W2gUu4NYLJZO"
      },
      "execution_count": null,
      "outputs": []
    },
    {
      "cell_type": "code",
      "source": [
        "def add(x, y):\n",
        "    return x + y\n",
        "def sub():\n",
        "    pass\n",
        "def div():\n",
        "    pass\n",
        "def mul():\n",
        "    pass\n",
        "\n",
        "\n",
        "caculator = [add, sub, div, mul]\n",
        "print(caculator[0](10, 20))#0번째 값은 add 입니다.\n",
        "\n",
        "caculator2 = [lambda x, y: x+y, \n",
        "              lambda x, y: x-y, \n",
        "              lambda x, y: x/y, \n",
        "              lambda x, y: x*y]\n",
        "\n",
        "print(caculator2[0](10, 20))#0번째 값은 add 입니다.\n"
      ],
      "metadata": {
        "id": "z9zoQALsLfA-"
      },
      "execution_count": null,
      "outputs": []
    },
    {
      "cell_type": "code",
      "source": [
        "def f():\n",
        "    return lambda x, y: x+y\n",
        "\n",
        "f()(10, 20)"
      ],
      "metadata": {
        "id": "rJaoj8DUMNHt"
      },
      "execution_count": null,
      "outputs": []
    },
    {
      "cell_type": "code",
      "source": [
        "def f():\n",
        "    return lambda x: lambda i: i ** 2\n",
        "\n",
        "f()(1)(10)"
      ],
      "metadata": {
        "id": "gLPQUCjcMZnX"
      },
      "execution_count": null,
      "outputs": []
    },
    {
      "cell_type": "code",
      "source": [
        "def f():\n",
        "    return lambda x: lambda i:x*i ** 2\n",
        "\n",
        "f()(2)(10)"
      ],
      "metadata": {
        "id": "HU0CTHsiMnr-"
      },
      "execution_count": null,
      "outputs": []
    },
    {
      "cell_type": "markdown",
      "source": [
        "### lambda 실무 응용"
      ],
      "metadata": {
        "id": "nG1OnXAbNdJ3"
      }
    },
    {
      "cell_type": "markdown",
      "source": [
        "* lambda가 응용되는 곳 : map, filter, max, min, sorted"
      ],
      "metadata": {
        "id": "LtH1RvCZN7OQ"
      }
    },
    {
      "cell_type": "code",
      "source": [
        "# 실무에서도 많이 사용됩니다.\n",
        "def 제곱(x):\n",
        "    return x ** 2\n",
        "\n",
        "# 재사용하는 경우에는 함수로 선언하는 경우도 있습니다.\n",
        "list(map(제곱, [1, 2, 3, 4]))\n",
        "list(map(제곱, [1, 2, 3, 4]))\n",
        "\n",
        "list(map(lambda x : x ** 2, [1, 2, 3, 4]))"
      ],
      "metadata": {
        "colab": {
          "base_uri": "https://localhost:8080/"
        },
        "id": "sFKyA0-4M8iF",
        "outputId": "c86a0428-2816-422f-f258-b66c2f48e336"
      },
      "execution_count": null,
      "outputs": [
        {
          "output_type": "execute_result",
          "data": {
            "text/plain": [
              "[1, 4, 9, 16]"
            ]
          },
          "metadata": {},
          "execution_count": 2
        }
      ]
    },
    {
      "cell_type": "code",
      "source": [
        "숫자 = [1, 2, 3, 4, 5]\n",
        "승수 = [2, 2, 2, 3, 3]\n",
        "\n"
      ],
      "metadata": {
        "colab": {
          "base_uri": "https://localhost:8080/"
        },
        "id": "0LTnCnJXRAPF",
        "outputId": "05e3c891-e49a-465b-9b1c-9c5b1fa4720d"
      },
      "execution_count": null,
      "outputs": [
        {
          "output_type": "stream",
          "name": "stdout",
          "text": [
            "[1, 4, 9, 64, 125]\n"
          ]
        }
      ]
    },
    {
      "cell_type": "code",
      "source": [
        "숫자 = [1, 2, 3, 4, 5]\n",
        "승수 = [2, 2, 2, 3, 3]\n",
        "\n",
        "# 1. zip으로 맵핑\n",
        "square_zip = list(zip(숫자, 승수))\n",
        "print(square_zip)\n",
        "\n",
        "# 2. 승수만큼 승수하여 결과값 표현\n",
        "square = list(map(lambda x :x[0] ** x[1], zip(숫자, 승수)))\n",
        "print(square)\n",
        "\n",
        "# 3. 승수한 값이 100 이상인 값을 출력\n",
        "# for i in square:\n",
        "#     if i > 100:\n",
        "#         print(i)\n",
        "\n",
        "square_large = list(filter(lambda x: x > 100, map(lambda x :x[0] ** x[1], zip(숫자, 승수))))\n",
        "print(square_large)\n",
        "\n",
        "\n",
        "# 4. 승수한 값을 모두 더하세요.\n",
        "square_sum = sum(list(map(lambda x :x[0] ** x[1], zip(숫자, 승수))))\n",
        "print(square_sum)"
      ],
      "metadata": {
        "colab": {
          "base_uri": "https://localhost:8080/"
        },
        "id": "ubvuHD6AOSxk",
        "outputId": "84215f23-7cd3-4e34-bcd2-28cf4634acc2"
      },
      "execution_count": null,
      "outputs": [
        {
          "output_type": "stream",
          "name": "stdout",
          "text": [
            "[(1, 2), (2, 2), (3, 2), (4, 3), (5, 3)]\n",
            "[1, 4, 9, 64, 125]\n",
            "[125]\n",
            "203\n"
          ]
        }
      ]
    },
    {
      "cell_type": "markdown",
      "source": [
        "## 데코레이터"
      ],
      "metadata": {
        "id": "WH7vqeBv34Pv"
      }
    },
    {
      "cell_type": "markdown",
      "source": [
        "## 클로저, 팩토리 함수"
      ],
      "metadata": {
        "id": "xgk9Hilb36bp"
      }
    },
    {
      "cell_type": "markdown",
      "source": [
        "## 제너레이터와 이터레이터"
      ],
      "metadata": {
        "id": "WUCiHq3GXIWS"
      }
    }
  ]
}